{
 "cells": [
  {
   "cell_type": "code",
   "execution_count": 10,
   "metadata": {
    "colab": {
     "base_uri": "https://localhost:8080/"
    },
    "executionInfo": {
     "elapsed": 247,
     "status": "ok",
     "timestamp": 1647405316022,
     "user": {
      "displayName": "생명과학과/조명재",
      "photoUrl": "https://lh3.googleusercontent.com/a-/AOh14Gi5jCEfnOJExQuMfcebjJXNDUAM_yfB2GG5RT1R=s64",
      "userId": "17829076087741631364"
     },
     "user_tz": -540
    },
    "id": "Kl0hMIrheU4q",
    "outputId": "7fbe9c0f-5bab-4d2f-971c-fef8eb4ae214"
   },
   "outputs": [
    {
     "name": "stdout",
     "output_type": "stream",
     "text": [
      "True\n",
      "False\n"
     ]
    }
   ],
   "source": [
    "#True 일 경우엔 if 문이 실행, False인 경우 else가 실행되는 구조\n",
    "bool_1 = True\n",
    "bool_2 = False\n",
    "\n",
    "if bool_1 :\n",
    "  print(\"True\")\n",
    "else : \n",
    "  print(\"False\")\n",
    "\n",
    "if bool_2 :\n",
    "  print(\"True\")\n",
    "else:\n",
    "  print(\"False\")"
   ]
  },
  {
   "cell_type": "code",
   "execution_count": 11,
   "metadata": {
    "colab": {
     "base_uri": "https://localhost:8080/"
    },
    "executionInfo": {
     "elapsed": 1,
     "status": "ok",
     "timestamp": 1647405316022,
     "user": {
      "displayName": "생명과학과/조명재",
      "photoUrl": "https://lh3.googleusercontent.com/a-/AOh14Gi5jCEfnOJExQuMfcebjJXNDUAM_yfB2GG5RT1R=s64",
      "userId": "17829076087741631364"
     },
     "user_tz": -540
    },
    "id": "bVBeuQMajZ8N",
    "outputId": "d7ece3c2-8373-4ac7-8c5e-364bde122f8b"
   },
   "outputs": [
    {
     "name": "stdout",
     "output_type": "stream",
     "text": [
      "failure\n"
     ]
    }
   ],
   "source": [
    "#조건부 표현식\n",
    "score= 80\n",
    "message= \"success\" if score > 80 else \"failure\"\n",
    "print(message)"
   ]
  },
  {
   "cell_type": "code",
   "execution_count": 13,
   "metadata": {
    "colab": {
     "base_uri": "https://localhost:8080/"
    },
    "executionInfo": {
     "elapsed": 2603,
     "status": "ok",
     "timestamp": 1647405324679,
     "user": {
      "displayName": "생명과학과/조명재",
      "photoUrl": "https://lh3.googleusercontent.com/a-/AOh14Gi5jCEfnOJExQuMfcebjJXNDUAM_yfB2GG5RT1R=s64",
      "userId": "17829076087741631364"
     },
     "user_tz": -540
    },
    "id": "KfU7SsUkdoot",
    "outputId": "2fb91d31-ed64-42dc-cbd6-062d73da8f50"
   },
   "outputs": [
    {
     "name": "stdout",
     "output_type": "stream",
     "text": [
      "점수를 입력하세요 : 100\n",
      "대기번호\n"
     ]
    }
   ],
   "source": [
    "score = int(input(\"점수를 입력하세요 : \"))\n",
    "if score > 100:\n",
    "  print(\"합격\")\n",
    "\n",
    "elif score == 100:\n",
    "  print(\"대기번호\")\n",
    "\n",
    "else:\n",
    "  print(\"불합격\")"
   ]
  },
  {
   "cell_type": "code",
   "execution_count": 14,
   "metadata": {
    "colab": {
     "base_uri": "https://localhost:8080/",
     "height": 281
    },
    "executionInfo": {
     "elapsed": 592,
     "status": "ok",
     "timestamp": 1647405326097,
     "user": {
      "displayName": "생명과학과/조명재",
      "photoUrl": "https://lh3.googleusercontent.com/a-/AOh14Gi5jCEfnOJExQuMfcebjJXNDUAM_yfB2GG5RT1R=s64",
      "userId": "17829076087741631364"
     },
     "user_tz": -540
    },
    "id": "xKrYdZ9weBex",
    "outputId": "c742fd05-f6d8-49e9-81d7-a3af9b1c3558"
   },
   "outputs": [
    {
     "data": {
      "image/png": "[encoded data removed]",
      "text/plain": [
       "<Figure size 432x288 with 1 Axes>"
      ]
     },
     "metadata": {
      "needs_background": "light"
     },
     "output_type": "display_data"
    }
   ],
   "source": [
    "#numpy와 matplotlib 의 간단한 활용\n",
    "import numpy as np\n",
    "from matplotlib import pyplot as plt\n",
    "\n",
    "ys  = 200 + np.random.randn(100) #가우시안 표준 분포에서 난수 matrix array 형성, 길이 100의 벡터값 형성 \n",
    "\n",
    "x = [ x for x in range(len(ys))] #0,1,2,3, ... 99까지 반복출력되도록 설정\n",
    "\n",
    "plt.plot(x, ys, '-')\n",
    "plt.fill_between(x, ys, 195, where=(ys > 195), facecolor='g', alpha=0.6) #195이상인 모든 값의 부분을 195부터 색칠,\n",
    "\n",
    "plt.title(\"Sample Visualization\")\n",
    "plt.show()"
   ]
  },
  {
   "cell_type": "code",
   "execution_count": 15,
   "metadata": {
    "colab": {
     "base_uri": "https://localhost:8080/"
    },
    "executionInfo": {
     "elapsed": 242,
     "status": "ok",
     "timestamp": 1647405327205,
     "user": {
      "displayName": "생명과학과/조명재",
      "photoUrl": "https://lh3.googleusercontent.com/a-/AOh14Gi5jCEfnOJExQuMfcebjJXNDUAM_yfB2GG5RT1R=s64",
      "userId": "17829076087741631364"
     },
     "user_tz": -540
    },
    "id": "eqRe11ffh5BK",
    "outputId": "1eed9340-306e-4689-d25d-6cb502b3b99f"
   },
   "outputs": [
    {
     "name": "stdout",
     "output_type": "stream",
     "text": [
      "7\n",
      "2\n",
      "3\n",
      "2\n",
      "3\n",
      "8\n",
      "7\n",
      "8\n",
      "3\n",
      "8\n",
      "[[0.60812514 0.2823705  0.37759413 0.44701111 0.12592408 0.93844378\n",
      "  0.81171093 0.12452279 0.02123381 0.00266288]\n",
      " [0.51265099 0.72802785 0.29724726 0.57399844 0.82590697 0.28831601\n",
      "  0.49854052 0.37972408 0.70739566 0.38575321]\n",
      " [0.73260797 0.24786849 0.5285329  0.14964814 0.64346407 0.34113615\n",
      "  0.33569954 0.31477906 0.52003714 0.20062944]\n",
      " [0.649707   0.47775042 0.51910694 0.16028016 0.1227528  0.95179479\n",
      "  0.35157051 0.46090594 0.69567709 0.24685033]\n",
      " [0.91456577 0.66867803 0.83051794 0.10885697 0.70910359 0.31149607\n",
      "  0.36865919 0.22316876 0.45725818 0.31259779]]\n",
      "[[ 1.22403469  1.19013957 -0.33352929 -1.18470881  0.21713411 -0.36633179\n",
      "  -0.11389417 -0.37521187  0.18702673  0.61095669]\n",
      " [-0.53729557  1.11281247 -0.01576645 -0.99434965 -0.53080809  1.4872553\n",
      "   0.78292079  0.31486423  0.64913799 -0.01767896]\n",
      " [ 0.48266683 -1.41202059 -2.13582994  0.34832046 -2.04567306  0.23931527\n",
      "   0.24586048 -0.40275416 -0.24817914 -0.75563992]\n",
      " [-0.68626802  0.71708181  2.60636648  0.49424191 -0.75941625  1.01772742\n",
      "  -0.64370951 -0.40545384 -0.66147019  0.42460172]\n",
      " [-0.81884638  2.20380673 -0.66121657 -0.86847675 -0.3738092  -0.81609649\n",
      "  -0.90800069 -1.13870812  0.64269772 -0.02186185]]\n"
     ]
    }
   ],
   "source": [
    "#numpy의 \n",
    "for i in range(0,10):\n",
    "  print(np.random.randint(1,10)) # n이상 m미만의 정수 랜덤값 출력\n",
    "print(np.random.rand(5,10)) #5,10크기의 표준정규분포 난수 출력\n",
    "print(np.random.randn(5,10)) #5,10크기의 가우시안 표준 정규분포 난수 출력"
   ]
  },
  {
   "cell_type": "code",
   "execution_count": 16,
   "metadata": {
    "colab": {
     "base_uri": "https://localhost:8080/"
    },
    "executionInfo": {
     "elapsed": 5,
     "status": "ok",
     "timestamp": 1647405328382,
     "user": {
      "displayName": "생명과학과/조명재",
      "photoUrl": "https://lh3.googleusercontent.com/a-/AOh14Gi5jCEfnOJExQuMfcebjJXNDUAM_yfB2GG5RT1R=s64",
      "userId": "17829076087741631364"
     },
     "user_tz": -540
    },
    "id": "2k3OIYwFiq5t",
    "outputId": "c4bd2aa5-c391-4d43-fb90-3eb189a5d36b"
   },
   "outputs": [
    {
     "name": "stdout",
     "output_type": "stream",
     "text": [
      "[10, 20, 30, 40, 50, 60, 70, 80, 90]\n",
      "[10, 20, 30, 40, 50, 60, 70, 80, 90]\n"
     ]
    }
   ],
   "source": [
    "#list comprehension : 원하는 리스트 형성을 훨씬 간결하게.\n",
    "list1 = [ 10*x for x in range(1,10)]\n",
    "print(list1)\n",
    "list2 = []\n",
    "\n",
    "for i in range(1,10):\n",
    "  list2.append(i*10)\n",
    "\n",
    "print(list2)"
   ]
  },
  {
   "cell_type": "code",
   "execution_count": 17,
   "metadata": {
    "colab": {
     "base_uri": "https://localhost:8080/"
    },
    "executionInfo": {
     "elapsed": 225,
     "status": "ok",
     "timestamp": 1647405330456,
     "user": {
      "displayName": "생명과학과/조명재",
      "photoUrl": "https://lh3.googleusercontent.com/a-/AOh14Gi5jCEfnOJExQuMfcebjJXNDUAM_yfB2GG5RT1R=s64",
      "userId": "17829076087741631364"
     },
     "user_tz": -540
    },
    "id": "n2yGRtvOkaJZ",
    "outputId": "77e9f076-dbf6-4626-dadf-460bd0bb7992"
   },
   "outputs": [
    {
     "name": "stdout",
     "output_type": "stream",
     "text": [
      "['10 아님', 2, '10 아님', 4, '10 아님', 6, '10 아님', 8, '10 아님', 10]\n"
     ]
    }
   ],
   "source": [
    "a = [1,2,3,4,5,6,7,8,9,10]\n",
    "\n",
    "b = [i if i%2==0 else '홀수' if i==10 else '10 아님' for i in a ]\n",
    "\n",
    "print(b)"
   ]
  },
  {
   "cell_type": "code",
   "execution_count": 18,
   "metadata": {
    "colab": {
     "base_uri": "https://localhost:8080/"
    },
    "executionInfo": {
     "elapsed": 7,
     "status": "ok",
     "timestamp": 1647405331484,
     "user": {
      "displayName": "생명과학과/조명재",
      "photoUrl": "https://lh3.googleusercontent.com/a-/AOh14Gi5jCEfnOJExQuMfcebjJXNDUAM_yfB2GG5RT1R=s64",
      "userId": "17829076087741631364"
     },
     "user_tz": -540
    },
    "id": "n48SDWY8kg-3",
    "outputId": "12bd0ab1-29ed-45cd-84c4-426f6ba70df6"
   },
   "outputs": [
    {
     "name": "stdout",
     "output_type": "stream",
     "text": [
      "['홀수', 2, '홀수', 4, '홀수', 6, '홀수', 8, '홀수', 10]\n"
     ]
    }
   ],
   "source": [
    "a = [1,2,3,4,5,6,7,8,9,10]\n",
    "\n",
    "b = [i if i%2==0 else '홀수' for i in a ]\n",
    "\n",
    "print(b)"
   ]
  },
  {
   "cell_type": "code",
   "execution_count": 19,
   "metadata": {
    "colab": {
     "base_uri": "https://localhost:8080/"
    },
    "executionInfo": {
     "elapsed": 6,
     "status": "ok",
     "timestamp": 1647405332424,
     "user": {
      "displayName": "생명과학과/조명재",
      "photoUrl": "https://lh3.googleusercontent.com/a-/AOh14Gi5jCEfnOJExQuMfcebjJXNDUAM_yfB2GG5RT1R=s64",
      "userId": "17829076087741631364"
     },
     "user_tz": -540
    },
    "id": "TcfRaxqcktg3",
    "outputId": "18b21204-51e3-4cad-a4d9-977d6e62104b"
   },
   "outputs": [
    {
     "name": "stdout",
     "output_type": "stream",
     "text": [
      "[10, 20, 30, 40, 50, 60, 70, 80, 90]\n",
      "[10, 20, 30, 40, 50, 60, 70, 80, 90]\n",
      "[10, 20, 30, 40, 50, 60, 70, 80, 90]\n",
      "[10, 20, 30, 40, 50, 60, 70, 80, 90]\n",
      "[10, 20, 30, 40, 50, 60, 70, 80, 90]\n",
      "[10, 20, 30, 40, 50, 60, 70, 80, 90]\n",
      "[10, 20, 30, 40, 50, 60, 70, 80, 90]\n",
      "[10, 20, 30, 40, 50, 60, 70, 80, 90]\n",
      "[10, 20, 30, 40, 50, 60, 70, 80, 90]\n"
     ]
    }
   ],
   "source": [
    "#주의할 점 : 반복문 안에서 comprehension 이 진행되면 매번 변수가 초기화되어 곤란해진다.\n",
    "list1 = []\n",
    "for i in range(1,10):\n",
    "  list1 = [ 10*x for x in range(1,10)]\n",
    "  print(list1)"
   ]
  },
  {
   "cell_type": "code",
   "execution_count": 20,
   "metadata": {
    "colab": {
     "base_uri": "https://localhost:8080/"
    },
    "executionInfo": {
     "elapsed": 4771,
     "status": "ok",
     "timestamp": 1647405338179,
     "user": {
      "displayName": "생명과학과/조명재",
      "photoUrl": "https://lh3.googleusercontent.com/a-/AOh14Gi5jCEfnOJExQuMfcebjJXNDUAM_yfB2GG5RT1R=s64",
      "userId": "17829076087741631364"
     },
     "user_tz": -540
    },
    "id": "Xkgu3RF2mlQz",
    "outputId": "0a506c18-a9f3-436b-a968-fdcb76745457"
   },
   "outputs": [
    {
     "name": "stdout",
     "output_type": "stream",
     "text": [
      "['[Marshall] Major4 BT [소비코정품]', '[Marshall] [블루투스스피커] STANMORE II 스탠모어 [소비코AV정품][화이트]', '[Marshall] [블루투스스피커] STANMORE II 스탠모어 [소비코AV정품][브라운]', '[Marshall] MINOR2 BT [소비코AV정품]', '[Marshall] MOTIF A.N.C [소비코정품]', '[정림전자] GMASTAR JE241L6711 IPS FHD HDR 75 광시야각 (16:10) [무결점]', '[삼성전자] 오디세이 게이밍 모니터 G3 S32AG320', '[알파스캔] 콘퀘스트 C32Q90G 게이밍 QHD 165 [무결점]', '[이지아이티시스템] APEX-240 BEZEL-LESS FHD 75 [무결점]', '[뷰소닉] VA2932-MHD IPS 프레임리스 리얼 75 울트라와이드 [무결점] (21:9)', '[크로스오버] 32GN165 IPS QHD 165 게이밍 평면', '[주연테크] 리오나인 X27QI-165M', '[ASUS] ZenScreen MB16ACV 포터블 USB', '[GIGABYTE] GIGABYTE 게이밍 M27Q-X 240 HDR KVM 제이씨현', '[크로스오버] 32GN165 IPS QHD 165 게이밍 평면 [무결점]', '[ASUS] ROG STRIX XG35VQ', '[크로스오버] 320P75 IPS FHD 리얼75 [무결점]', '[크로스오버] 오버파워 24GA75 IPS 리얼75 [무결점]', '[크로스오버] Q27V6 QHD IPS DCI-P3 95', '[알파스캔] AOC Q32G3S 게이밍 165 QHD 프리싱크 HDR [무결점]', '[ASUS] ROG SWIFT PG259QN 360 게이밍', '[ASUS] VZ24EHE 시력보호 Gaming 베젤리스', '[알파스캔] AOC Q24P2C QHD USB-C 75 프리싱크 높낮이 [무결점]', '[크로스오버] Q27V6 QHD IPS DCI-P3 95 [무결점]', '[크로스오버] 빅포터블 240FL75 IPS TYPE-C 터치 [무결점]', '[레노버] Lenovo L29W-30 WFHD (21:9)', '[주연테크] 리오나인 X32F-165 게이밍 [무결점]', '[레노버] Y25g-30 360 게이밍', '[필립스] 276E1 QHD 프리싱크 75 시력보호 화이트 높낮이 [무결점]', '[큐닉스그룹] 큐닉스 QX27BF REAL 75 [무결점]', '[GIGABYTE] GIGABYTE G24F FHD 165 게이밍 피씨디렉트', '[알파스캔] 콘퀘스트 27Q90G 게이밍 QHD 165 [무결점]', '[ASUS] ASUS ProArt PA248QV WUXGA 전문가용 (16:10)', '[엠텍코리아] ViewSys Q2720 IPS QHD 75 게이밍 HDR', '[주연테크] X27F-240A [무결점]', '[MSI] PRO MP271 IPS 아이세이버 [무결점]', '[ASUS] ASUS ProArt PA279CV 4K', '[엠텍코리아] ViewSys Q2720 IPS QHD 75 게이밍 HDR [무결점]', '[주연테크] 리오나인 X27FI-240 IPS 게이밍 [무결점]', '[라익미] 플레이 GL27QHD 나노 165 [무결점]']\n"
     ]
    }
   ],
   "source": [
    "from bs4 import BeautifulSoup as bs\n",
    "import requests\n",
    "\n",
    "for page_num in range(3):\n",
    "    url = f'https://smartstore.naver.com/compuzone/category/ALL?st=RECENT&free=false&dt=IMAGE&page={page_num+1}&size=40'\n",
    "    \n",
    "    response = requests.get(url)\n",
    "    soup = bs(response.text , 'html.parser')\n",
    "\n",
    "    # css selector로 페이지 내의 원하는 정보 가져오기\n",
    "    html_product = soup.select('strong.QNNliuiAk3')\n",
    "\n",
    "    # 텍스트만 추출\n",
    "    product_name = [i.get_text() for i in html_product]\n",
    "\n",
    "print(product_name) #매번 product name이 초기화되어 마지막 3번째 페이지에서 추출한 내용만 나온다, 따라서 for문 안에서의 리스트 comprehension은 신중하게 사용해야함"
   ]
  },
  {
   "cell_type": "code",
   "execution_count": 7,
   "metadata": {
    "colab": {
     "base_uri": "https://localhost:8080/"
    },
    "executionInfo": {
     "elapsed": 4558,
     "status": "ok",
     "timestamp": 1647405309156,
     "user": {
      "displayName": "생명과학과/조명재",
      "photoUrl": "https://lh3.googleusercontent.com/a-/AOh14Gi5jCEfnOJExQuMfcebjJXNDUAM_yfB2GG5RT1R=s64",
      "userId": "17829076087741631364"
     },
     "user_tz": -540
    },
    "id": "iHP3LbFolc9H",
    "outputId": "98a0d776-2eed-4555-abea-84ef54a031a4"
   },
   "outputs": [
    {
     "name": "stdout",
     "output_type": "stream",
     "text": [
      "[<strong class=\"QNNliuiAk3\">[Marshall] Major4 BT [소비코정품]</strong>, <strong class=\"QNNliuiAk3\">[Marshall] [블루투스스피커] STANMORE II 스탠모어 [소비코AV정품][화이트]</strong>, <strong class=\"QNNliuiAk3\">[Marshall] [블루투스스피커] STANMORE II 스탠모어 [소비코AV정품][브라운]</strong>, <strong class=\"QNNliuiAk3\">[Marshall] MINOR2 BT [소비코AV정품]</strong>, <strong class=\"QNNliuiAk3\">[Marshall] MOTIF A.N.C [소비코정품]</strong>, <strong class=\"QNNliuiAk3\">[정림전자] GMASTAR JE241L6711 IPS FHD HDR 75 광시야각 (16:10) [무결점]</strong>, <strong class=\"QNNliuiAk3\">[삼성전자] 오디세이 게이밍 모니터 G3 S32AG320</strong>, <strong class=\"QNNliuiAk3\">[알파스캔] 콘퀘스트 C32Q90G 게이밍 QHD 165 [무결점]</strong>, <strong class=\"QNNliuiAk3\">[이지아이티시스템] APEX-240 BEZEL-LESS FHD 75 [무결점]</strong>, <strong class=\"QNNliuiAk3\">[뷰소닉] VA2932-MHD IPS 프레임리스 리얼 75 울트라와이드 [무결점] (21:9)</strong>, <strong class=\"QNNliuiAk3\">[크로스오버] 32GN165 IPS QHD 165 게이밍 평면</strong>, <strong class=\"QNNliuiAk3\">[주연테크] 리오나인 X27QI-165M</strong>, <strong class=\"QNNliuiAk3\">[ASUS] ZenScreen MB16ACV 포터블 USB</strong>, <strong class=\"QNNliuiAk3\">[GIGABYTE] GIGABYTE 게이밍 M27Q-X 240 HDR KVM 제이씨현</strong>, <strong class=\"QNNliuiAk3\">[크로스오버] 32GN165 IPS QHD 165 게이밍 평면 [무결점]</strong>, <strong class=\"QNNliuiAk3\">[ASUS] ROG STRIX XG35VQ</strong>, <strong class=\"QNNliuiAk3\">[크로스오버] 320P75 IPS FHD 리얼75 [무결점]</strong>, <strong class=\"QNNliuiAk3\">[크로스오버] 오버파워 24GA75 IPS 리얼75 [무결점]</strong>, <strong class=\"QNNliuiAk3\">[크로스오버] Q27V6 QHD IPS DCI-P3 95</strong>, <strong class=\"QNNliuiAk3\">[알파스캔] AOC Q32G3S 게이밍 165 QHD 프리싱크 HDR [무결점]</strong>, <strong class=\"QNNliuiAk3\">[ASUS] ROG SWIFT PG259QN 360 게이밍</strong>, <strong class=\"QNNliuiAk3\">[ASUS] VZ24EHE 시력보호 Gaming 베젤리스</strong>, <strong class=\"QNNliuiAk3\">[알파스캔] AOC Q24P2C QHD USB-C 75 프리싱크 높낮이 [무결점]</strong>, <strong class=\"QNNliuiAk3\">[크로스오버] Q27V6 QHD IPS DCI-P3 95 [무결점]</strong>, <strong class=\"QNNliuiAk3\">[크로스오버] 빅포터블 240FL75 IPS TYPE-C 터치 [무결점]</strong>, <strong class=\"QNNliuiAk3\">[레노버] Lenovo L29W-30 WFHD (21:9)</strong>, <strong class=\"QNNliuiAk3\">[주연테크] 리오나인 X32F-165 게이밍 [무결점]</strong>, <strong class=\"QNNliuiAk3\">[레노버] Y25g-30 360 게이밍</strong>, <strong class=\"QNNliuiAk3\">[필립스] 276E1 QHD 프리싱크 75 시력보호 화이트 높낮이 [무결점]</strong>, <strong class=\"QNNliuiAk3\">[큐닉스그룹] 큐닉스 QX27BF REAL 75 [무결점]</strong>, <strong class=\"QNNliuiAk3\">[GIGABYTE] GIGABYTE G24F FHD 165 게이밍 피씨디렉트</strong>, <strong class=\"QNNliuiAk3\">[알파스캔] 콘퀘스트 27Q90G 게이밍 QHD 165 [무결점]</strong>, <strong class=\"QNNliuiAk3\">[ASUS] ASUS ProArt PA248QV WUXGA 전문가용 (16:10)</strong>, <strong class=\"QNNliuiAk3\">[엠텍코리아] ViewSys Q2720 IPS QHD 75 게이밍 HDR</strong>, <strong class=\"QNNliuiAk3\">[주연테크] X27F-240A [무결점]</strong>, <strong class=\"QNNliuiAk3\">[MSI] PRO MP271 IPS 아이세이버 [무결점]</strong>, <strong class=\"QNNliuiAk3\">[ASUS] ASUS ProArt PA279CV 4K</strong>, <strong class=\"QNNliuiAk3\">[엠텍코리아] ViewSys Q2720 IPS QHD 75 게이밍 HDR [무결점]</strong>, <strong class=\"QNNliuiAk3\">[주연테크] 리오나인 X27FI-240 IPS 게이밍 [무결점]</strong>, <strong class=\"QNNliuiAk3\">[라익미] 플레이 GL27QHD 나노 165 [무결점]</strong>]\n",
      "['[인바디] 체지방 측정 스마트 체중계 다이얼 H20B', '[에어메이드] 복합식 가습기, 바이오숨 AMH-9900UV 대용량 복합식 가열식 가습기 9L', '[ABKO] SUITMASTER MH-1 ARGB 메모리 방열판 (화이트)', '[ABKO] SUITMASTER MH-1 ARGB 메모리 방열판 (블랙)', '[쿨러텍] OW7015DFS-4P(PWM) [시스템쿨러/70mm]', '[PHANTEKS] PH-F120T30 3PACK [시스템쿨러/120mm]', '[에버쿨] EC3010L05C-2P [시스템쿨러/30mm]', '[얼티메이크] XIN 120 STORM Mesh FAN [시스템쿨러/120mm]', '[GALAX] EX-02 ARGB (블랙) [시스템쿨러/120mm]', '[GALAX] EX-01 ARGB (블랙) [시스템쿨러/120mm]', '[PHANTEKS] PH-F120T30 1PACK [시스템쿨러/120mm]', '[쿨러텍] CT-LC9225L12C-4P [시스템쿨러/92mm]', '[쿨러텍] CT-LC9225L12C-3P [시스템쿨러/92mm]', '[실버스톤] SST-AS120 ARGB STCOM [시스템쿨러/120mm]', '[실버스톤] SST-AS120 STCOM [시스템쿨러/120mm]', '[마이크로닉스] MA600 펭귄 [CPU쿨러]', '[MSI] MAG 코어리퀴드 C360 [CPU쿨러]', '[마이크로닉스] MA420 스웰로우 ARGB [CPU쿨러]', '[THERMOLAB] BADA 7.0 [CPU쿨러]', '[3RSYS] L300 코드 (화이트) (미니타워)', '[3RSYS] L300 코드 (블랙) (미니타워)', '[GALAX] 갤럭시 갤라즈 GALAX EX-01 ARGB 메쉬 강화유리 (블랙) (미들타워)', '[ABKO] NCORE T60 솔리드 화이트 (슬림타워)', '[JONSBO] D40 (WHITE) (미니타워)', '[JONSBO] D40 (SILVER) (미들타워)', '[ABKO] SUITMASTER 930Z 건틀렛 (미들타워)', '[GALAX] 갤럭시 갤라즈 GALAX EX-01 ARGB 메쉬 강화유리 (화이트) (미들타워)', '[COX] G200 시드 블랙 (미들타워)', '[HYTE] REVOLT 3 화이트 (미니ITX)', '[HYTE] REVOLT 3 블랙 (미니ITX)', '[마이크로닉스] Glory (미니타워)', '[COX] G200 시드 화이트 (미들타워)', '[JONSBO] T8 PLUS (SILVER) (미니ITX)', '[JONSBO] T8 PLUS (BLACK) (미니ITX)', '[JONSBO] V11 (SILVER) (미니ITX)', '[JONSBO] V11 (BLACK) (미니ITX)', '[JONSBO] VR3 (BLACK) (미니ITX)', '[NZXT] H1 v2 (Matte White) (미니ITX)', '[JONSBO] VR3 (WHITE) (미니ITX)', '[ASUS] Z11PR-D16 STCOM (인텔C621/EEB)', '[GIGABYTE] Z690 AERO G D4 피씨디렉트 (인텔Z690/ATX)', '[ASUS] TUF Gaming B660M-PLUS WIFI D4 STCOM (인텔B660/M-ATX)', '[PNY] PNY XLR8 DDR4-3600 Gaming 패키지 (16GB(8Gx2)) 마이크로닉스', '[하이크비젼] HIKVISION DDR4-2666 CL19 U1 (16GB)', '[하이크비젼] HIKVISION DDR4-2666 CL19 U1 (8GB)', '[OLOy ] DDR5 16GB PC5-41600 CL36 BLADE RGB MIRROR 패키지 (8Gx2)', '[하이크비젼] HIKVISION DDR4-3200 U10 Black (16GB)', '[하이크비젼] HIKVISION DDR4-3200 U10 Black (8GB)', '[G.SKILL] DDR5 32G PC5-44800 CL36 Trident Z5 RGB 블랙 (16Gx2)', '[G.SKILL] DDR5 32G PC5-44800 CL36 Trident Z5 RGB 실버 (16Gx2)', '[GIGABYTE] Radeon™ RX 6900 XT AORUS Xtreme 워터블럭 D6 16GB 제이씨현', '[GIGABYTE] GeForce RTX 3080 EAGLE D6X 12GB 제이씨현', '[ASUS] GeForce GTX1660 SUPER TUF O6G D6 6GB', '[INNO3D] iChiLL GeForce RTX 3080 D6X 10GB X3 LHR', '[GIGABYTE] GeForce RTX 3080 Gaming OC V2 D6X 10GB 워터블럭 제이씨현', '[ICYDOCK] ICYDOCK 하드랙 MB882SP-1S-1B (3.5형 변환 가이드 [2.5형 SATA SSD/HDD장착])', '[MAXTEK] 맥스텍 2.5형 외장하드 보호 케이스 상하 오픈형 블랙 [MT201]', '[MAXTEK] 맥스텍 2.5형 외장하드 보호 케이스 상하 오픈형 화이트 [MT200]', '[SEAGATE] EXOS HDD 3.5 SAS X20 20TB ST20000NM002D (3.5HDD/ SAS/ 7200rpm/ 256MB/ PMR)', '[SEAGATE] IRONWOLF PRO HDD 20TB ST20000NE000 멀티팩(3.5HDD/SATA3/7200rpm/256MB/PMR)[단일]', '[SEAGATE] FireCuda HDD 8TB ST8000DX001 (3.5HDD/ SATA3/ 7200rpm/ 256MB/ PMR)', '[Western Digital] PURPLE HDD 8TB WD84PURZ (3.5HDD/ SATA3/ 5640rpm/ 128MB/ PMR)', '[Western Digital] RED PRO HDD 14TB WD141KFGX (3.5HDD/ SATA3/ 7200rpm/ 512MB/ PMR) [단일]', '[SEAGATE] FireCuda HDD 4TB ST4000DX005 (3.5HDD/ SATA3/ 7200rpm/ 256MB/ PMR)', '[Western Digital] RED PRO HDD 18TB WD181KFGX (3.5HDD/ SATA3/ 7200rpm/ 512MB/ PMR) [단일]', '[INTEL] 코어12세대 팬티엄 골드 G7400 벌크 동쿨러 포함(엘더레이크/3.7GHz/6MB/병행수입/LGA1700 쿨러)', '[Marshall] MAJOR [색상선택][소비코 정품]', '[Marshall] MODE EQ [소비코AV정품]', '[Marshall] MODE [소비코AV정품]', '[Marshall] [블루투스스피커] ACTON II 액톤 [ACTON2BT] [소비코AV정품][화이트]', '[Marshall] [블루투스스피커] ACTON II 액톤 [ACTON2BT] [소비코AV정품][브라운]', '[Marshall] MINOR3 BT [소비코정품][오픈형]', '[Marshall] [블루투스스피커] TUFTON [소비코AV정품]', '[Marshall] [블루투스스피커] KILBURN II [KILBURN2BT][소비코AV정품][블랙]', '[Marshall] [블루투스스피커] EMBERTON [소비코AV정품][크림]', '[Marshall] [블루투스스피커] KILBURN II [KILBURN2BT][소비코AV정품][블랙브라스]', '[Marshall] [블루투스스피커] EMBERTON [소비코AV정품][블랙]', '[Marshall] [블루투스스피커] UXBRIDGE [소비코AV정품]', '[Marshall] [블루투스스피커] WOBURN II 워번 [WOBURN2BT] [소비코AV정품][블랙]', '[Marshall] [블루투스스피커] WOBURN II 워번 [WOBURN2BT] [소비코AV정품][화이트]', '[Marshall] Major4 BT [소비코정품]', '[Marshall] [블루투스스피커] STANMORE II 스탠모어 [소비코AV정품][화이트]', '[Marshall] [블루투스스피커] STANMORE II 스탠모어 [소비코AV정품][브라운]', '[Marshall] MINOR2 BT [소비코AV정품]', '[Marshall] MOTIF A.N.C [소비코정품]', '[정림전자] GMASTAR JE241L6711 IPS FHD HDR 75 광시야각 (16:10) [무결점]', '[삼성전자] 오디세이 게이밍 모니터 G3 S32AG320', '[알파스캔] 콘퀘스트 C32Q90G 게이밍 QHD 165 [무결점]', '[이지아이티시스템] APEX-240 BEZEL-LESS FHD 75 [무결점]', '[뷰소닉] VA2932-MHD IPS 프레임리스 리얼 75 울트라와이드 [무결점] (21:9)', '[크로스오버] 32GN165 IPS QHD 165 게이밍 평면', '[주연테크] 리오나인 X27QI-165M', '[ASUS] ZenScreen MB16ACV 포터블 USB', '[GIGABYTE] GIGABYTE 게이밍 M27Q-X 240 HDR KVM 제이씨현', '[크로스오버] 32GN165 IPS QHD 165 게이밍 평면 [무결점]', '[ASUS] ROG STRIX XG35VQ', '[크로스오버] 320P75 IPS FHD 리얼75 [무결점]', '[크로스오버] 오버파워 24GA75 IPS 리얼75 [무결점]', '[크로스오버] Q27V6 QHD IPS DCI-P3 95', '[알파스캔] AOC Q32G3S 게이밍 165 QHD 프리싱크 HDR [무결점]', '[ASUS] ROG SWIFT PG259QN 360 게이밍', '[ASUS] VZ24EHE 시력보호 Gaming 베젤리스', '[알파스캔] AOC Q24P2C QHD USB-C 75 프리싱크 높낮이 [무결점]', '[크로스오버] Q27V6 QHD IPS DCI-P3 95 [무결점]', '[크로스오버] 빅포터블 240FL75 IPS TYPE-C 터치 [무결점]', '[레노버] Lenovo L29W-30 WFHD (21:9)', '[주연테크] 리오나인 X32F-165 게이밍 [무결점]', '[레노버] Y25g-30 360 게이밍', '[필립스] 276E1 QHD 프리싱크 75 시력보호 화이트 높낮이 [무결점]', '[큐닉스그룹] 큐닉스 QX27BF REAL 75 [무결점]', '[GIGABYTE] GIGABYTE G24F FHD 165 게이밍 피씨디렉트', '[알파스캔] 콘퀘스트 27Q90G 게이밍 QHD 165 [무결점]', '[ASUS] ASUS ProArt PA248QV WUXGA 전문가용 (16:10)', '[엠텍코리아] ViewSys Q2720 IPS QHD 75 게이밍 HDR', '[주연테크] X27F-240A [무결점]', '[MSI] PRO MP271 IPS 아이세이버 [무결점]', '[ASUS] ASUS ProArt PA279CV 4K', '[엠텍코리아] ViewSys Q2720 IPS QHD 75 게이밍 HDR [무결점]', '[주연테크] 리오나인 X27FI-240 IPS 게이밍 [무결점]', '[라익미] 플레이 GL27QHD 나노 165 [무결점]']\n"
     ]
    }
   ],
   "source": [
    "product_name = []\n",
    "\n",
    "# for문을 이용해서 원하는 페이지에 접근, 정보 추출 후 리스트에 담기\n",
    "for page_num in range(3):\n",
    "    url = f'https://smartstore.naver.com/compuzone/category/ALL?st=RECENT&free=false&dt=IMAGE&page={page_num+1}&size=40'\n",
    "    \n",
    "    response = requests.get(url)\n",
    "    soup = bs(response.text , 'html.parser')\n",
    "\n",
    "    # css selector로 페이지 내의 원하는 정보 가져오기\n",
    "    html_product = soup.select('strong.QNNliuiAk3')\n",
    "\n",
    "    # 텍스트만 추출\n",
    "    for i in html_product:\n",
    "        product_name.append(i.get_text())\n",
    "\n",
    "print(html_product)\n",
    "print(product_name)\n",
    "#product name이 매번 초기화"
   ]
  },
  {
   "cell_type": "code",
   "execution_count": 23,
   "metadata": {
    "colab": {
     "base_uri": "https://localhost:8080/"
    },
    "executionInfo": {
     "elapsed": 6,
     "status": "ok",
     "timestamp": 1647405608836,
     "user": {
      "displayName": "생명과학과/조명재",
      "photoUrl": "https://lh3.googleusercontent.com/a-/AOh14Gi5jCEfnOJExQuMfcebjJXNDUAM_yfB2GG5RT1R=s64",
      "userId": "17829076087741631364"
     },
     "user_tz": -540
    },
    "id": "9aU-zFveAWNM",
    "outputId": "5fa668ae-a1d0-4a4a-c723-b760af7bcc8c"
   },
   "outputs": [
    {
     "name": "stdout",
     "output_type": "stream",
     "text": [
      "나무를 1번 찍었습니다\n",
      "나무를 2번 찍었습니다\n",
      "나무를 3번 찍었습니다\n",
      "나무를 4번 찍었습니다\n",
      "나무를 5번 찍었습니다\n",
      "나무를 6번 찍었습니다\n",
      "나무를 7번 찍었습니다\n",
      "나무를 8번 찍었습니다\n",
      "나무를 9번 찍었습니다\n",
      "나무를 10번 찍었습니다\n",
      "나무가 넘어갑니다\n"
     ]
    }
   ],
   "source": [
    "hit = 0\n",
    "while hit < 10:\n",
    "  hit= hit+1\n",
    "  print(\"나무를 %d번 찍었습니다\" %hit)\n",
    "  if hit == 10:\n",
    "    print(\"나무가 넘어갑니다\")"
   ]
  },
  {
   "cell_type": "code",
   "execution_count": 24,
   "metadata": {
    "colab": {
     "base_uri": "https://localhost:8080/"
    },
    "executionInfo": {
     "elapsed": 6,
     "status": "ok",
     "timestamp": 1647405690002,
     "user": {
      "displayName": "생명과학과/조명재",
      "photoUrl": "https://lh3.googleusercontent.com/a-/AOh14Gi5jCEfnOJExQuMfcebjJXNDUAM_yfB2GG5RT1R=s64",
      "userId": "17829076087741631364"
     },
     "user_tz": -540
    },
    "id": "1hIEQzI2Bmv-",
    "outputId": "09593141-1fb5-447e-9085-c999194e41c6"
   },
   "outputs": [
    {
     "name": "stdout",
     "output_type": "stream",
     "text": [
      "cake +1\n",
      "cake +1\n",
      "cake +1\n",
      "cake +1\n",
      "cake +1\n",
      "full\n"
     ]
    }
   ],
   "source": [
    "cake = []\n",
    "while True:\n",
    "  cake.append(\"cake\")\n",
    "  print(\"cake +1\")\n",
    "  if len(cake) == 5:\n",
    "    print(\"full\")\n",
    "    break"
   ]
  },
  {
   "cell_type": "code",
   "execution_count": 26,
   "metadata": {
    "colab": {
     "base_uri": "https://localhost:8080/"
    },
    "executionInfo": {
     "elapsed": 227,
     "status": "ok",
     "timestamp": 1647405776392,
     "user": {
      "displayName": "생명과학과/조명재",
      "photoUrl": "https://lh3.googleusercontent.com/a-/AOh14Gi5jCEfnOJExQuMfcebjJXNDUAM_yfB2GG5RT1R=s64",
      "userId": "17829076087741631364"
     },
     "user_tz": -540
    },
    "id": "AJMjIuzWB-kV",
    "outputId": "bf579909-feff-46d4-9678-7b4447b81c1d"
   },
   "outputs": [
    {
     "name": "stdout",
     "output_type": "stream",
     "text": [
      "1\n",
      "3\n",
      "5\n",
      "7\n",
      "9\n"
     ]
    }
   ],
   "source": [
    "i = 0\n",
    "while i < 10:\n",
    "    i= i+1                    # a가 1씩 증가 \n",
    "    if i % 2 ==0:\n",
    "      continue    # a가 짝수일 때 - 반복문의 처음으로 회귀\n",
    "    print(i)  "
   ]
  },
  {
   "cell_type": "code",
   "execution_count": 27,
   "metadata": {
    "colab": {
     "base_uri": "https://localhost:8080/"
    },
    "executionInfo": {
     "elapsed": 229,
     "status": "ok",
     "timestamp": 1647405949879,
     "user": {
      "displayName": "생명과학과/조명재",
      "photoUrl": "https://lh3.googleusercontent.com/a-/AOh14Gi5jCEfnOJExQuMfcebjJXNDUAM_yfB2GG5RT1R=s64",
      "userId": "17829076087741631364"
     },
     "user_tz": -540
    },
    "id": "OuKYyjBqCFMH",
    "outputId": "9734548a-7c87-48b7-8384-c5369b48c262"
   },
   "outputs": [
    {
     "name": "stdout",
     "output_type": "stream",
     "text": [
      "84\n"
     ]
    }
   ],
   "source": [
    "sum=0\n",
    "\n",
    "i= 1\n",
    "\n",
    "while i <= 20:\n",
    "  i += 1\n",
    "  if i % 3 == 0 :\n",
    "    sum += i\n",
    "\n",
    "print(sum)"
   ]
  }
 ],
 "metadata": {
  "colab": {
   "authorship_tag": "ABX9TyP5cAxCCm4t5t9fdgDA5rLi",
   "name": "0314-0316.ipynb",
   "provenance": []
  },
  "kernelspec": {
   "display_name": "Python 3 (ipykernel)",
   "language": "python",
   "name": "python3"
  },
  "language_info": {
   "codemirror_mode": {
    "name": "ipython",
    "version": 3
   },
   "file_extension": ".py",
   "mimetype": "text/x-python",
   "name": "python",
   "nbconvert_exporter": "python",
   "pygments_lexer": "ipython3",
   "version": "3.9.7"
  }
 },
 "nbformat": 4,
 "nbformat_minor": 1
}
