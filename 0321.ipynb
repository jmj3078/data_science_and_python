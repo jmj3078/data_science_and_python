{
 "cells": [
  {
   "cell_type": "code",
   "execution_count": null,
   "metadata": {
    "colab": {
     "base_uri": "https://localhost:8080/"
    },
    "executionInfo": {
     "elapsed": 6,
     "status": "ok",
     "timestamp": 1647832353355,
     "user": {
      "displayName": "생명과학과/조명재",
      "photoUrl": "https://lh3.googleusercontent.com/a-/AOh14Gi5jCEfnOJExQuMfcebjJXNDUAM_yfB2GG5RT1R=s64",
      "userId": "17829076087741631364"
     },
     "user_tz": -540
    },
    "id": "z_UBCp4EdQ-q",
    "outputId": "92990570-1896-4f51-94f3-42f81d0efc75"
   },
   "outputs": [
    {
     "name": "stdout",
     "output_type": "stream",
     "text": [
      "63\n"
     ]
    }
   ],
   "source": [
    "sum = 0\n",
    "i = 1\n",
    "while i <= 20:\n",
    "  if i % 3 == 0:\n",
    "    sum += i\n",
    "  i = i+1\n",
    "\n",
    "print(sum)"
   ]
  },
  {
   "cell_type": "code",
   "execution_count": null,
   "metadata": {
    "colab": {
     "base_uri": "https://localhost:8080/"
    },
    "executionInfo": {
     "elapsed": 6,
     "status": "ok",
     "timestamp": 1647832411330,
     "user": {
      "displayName": "생명과학과/조명재",
      "photoUrl": "https://lh3.googleusercontent.com/a-/AOh14Gi5jCEfnOJExQuMfcebjJXNDUAM_yfB2GG5RT1R=s64",
      "userId": "17829076087741631364"
     },
     "user_tz": -540
    },
    "id": "gij_NGSBdkaw",
    "outputId": "a0870c74-8f66-4044-cbe4-3944b42d042b"
   },
   "outputs": [
    {
     "name": "stdout",
     "output_type": "stream",
     "text": [
      "[11, 23]\n"
     ]
    }
   ],
   "source": [
    "#list comprehension\n",
    "result = []\n",
    "a = [2, 4, 6, 8, 10, 12, 14]\n",
    "for i in a :\n",
    "  if i % 3 == 1:\n",
    "    result.append(i*2+3)\n",
    "print(result)"
   ]
  },
  {
   "cell_type": "code",
   "execution_count": null,
   "metadata": {
    "colab": {
     "base_uri": "https://localhost:8080/"
    },
    "executionInfo": {
     "elapsed": 360,
     "status": "ok",
     "timestamp": 1647832475616,
     "user": {
      "displayName": "생명과학과/조명재",
      "photoUrl": "https://lh3.googleusercontent.com/a-/AOh14Gi5jCEfnOJExQuMfcebjJXNDUAM_yfB2GG5RT1R=s64",
      "userId": "17829076087741631364"
     },
     "user_tz": -540
    },
    "id": "vM8mnFDzdyjo",
    "outputId": "d026da49-9404-4b82-920e-ddc3d636e1f2"
   },
   "outputs": [
    {
     "name": "stdout",
     "output_type": "stream",
     "text": [
      "[11, 23]\n"
     ]
    }
   ],
   "source": [
    "result = [i*2+3 for i in a if i%3 == 1]\n",
    "print(result)"
   ]
  },
  {
   "cell_type": "code",
   "execution_count": null,
   "metadata": {
    "colab": {
     "base_uri": "https://localhost:8080/"
    },
    "executionInfo": {
     "elapsed": 7,
     "status": "ok",
     "timestamp": 1647832507094,
     "user": {
      "displayName": "생명과학과/조명재",
      "photoUrl": "https://lh3.googleusercontent.com/a-/AOh14Gi5jCEfnOJExQuMfcebjJXNDUAM_yfB2GG5RT1R=s64",
      "userId": "17829076087741631364"
     },
     "user_tz": -540
    },
    "id": "zMWY7n42eCQH",
    "outputId": "8473c937-dd61-4a14-f1cb-7da111b0a2bf"
   },
   "outputs": [
    {
     "name": "stdout",
     "output_type": "stream",
     "text": [
      "25\n"
     ]
    }
   ],
   "source": [
    "def add(x):\n",
    "  return x+10\n",
    "\n",
    "print(add(15))"
   ]
  },
  {
   "cell_type": "code",
   "execution_count": null,
   "metadata": {
    "colab": {
     "base_uri": "https://localhost:8080/"
    },
    "executionInfo": {
     "elapsed": 3,
     "status": "ok",
     "timestamp": 1647832526677,
     "user": {
      "displayName": "생명과학과/조명재",
      "photoUrl": "https://lh3.googleusercontent.com/a-/AOh14Gi5jCEfnOJExQuMfcebjJXNDUAM_yfB2GG5RT1R=s64",
      "userId": "17829076087741631364"
     },
     "user_tz": -540
    },
    "id": "Y4DMuOBOeJ9G",
    "outputId": "0d864a04-107c-49da-834f-3a17c1411e85"
   },
   "outputs": [
    {
     "name": "stdout",
     "output_type": "stream",
     "text": [
      "<function add at 0x7fad0ee67950>\n"
     ]
    }
   ],
   "source": [
    "print(add) #함수 객체의 주소값 반환"
   ]
  },
  {
   "cell_type": "code",
   "execution_count": null,
   "metadata": {
    "colab": {
     "base_uri": "https://localhost:8080/"
    },
    "executionInfo": {
     "elapsed": 4,
     "status": "ok",
     "timestamp": 1647832722734,
     "user": {
      "displayName": "생명과학과/조명재",
      "photoUrl": "https://lh3.googleusercontent.com/a-/AOh14Gi5jCEfnOJExQuMfcebjJXNDUAM_yfB2GG5RT1R=s64",
      "userId": "17829076087741631364"
     },
     "user_tz": -540
    },
    "id": "xg2l8xgSeK5C",
    "outputId": "924fde81-206b-4ca6-99bc-c7a387d63eab"
   },
   "outputs": [
    {
     "name": "stdout",
     "output_type": "stream",
     "text": [
      "16\n"
     ]
    }
   ],
   "source": [
    "a = 6\n",
    "b = 10\n",
    "def add(a,b): #함수의 입력인수 : 튜플 형태로 저장된 뒤 함수에서 불러오게 되는 것\n",
    "  return a+b #함수 안에서 사용되는 변수 : 지역변수, 함수 밖에서 호출 불가능하다\n",
    "\n",
    "print(add(a,b))"
   ]
  },
  {
   "cell_type": "code",
   "execution_count": null,
   "metadata": {
    "id": "5TR44pVQeVDz"
   },
   "outputs": [],
   "source": [
    "def circle(radius):\n",
    "  area = 3.14 * radius**2\n",
    "  return area"
   ]
  },
  {
   "cell_type": "code",
   "execution_count": null,
   "metadata": {
    "colab": {
     "base_uri": "https://localhost:8080/"
    },
    "executionInfo": {
     "elapsed": 4700,
     "status": "ok",
     "timestamp": 1647834194448,
     "user": {
      "displayName": "생명과학과/조명재",
      "photoUrl": "https://lh3.googleusercontent.com/a-/AOh14Gi5jCEfnOJExQuMfcebjJXNDUAM_yfB2GG5RT1R=s64",
      "userId": "17829076087741631364"
     },
     "user_tz": -540
    },
    "id": "4oOfQpG_ee4W",
    "outputId": "3d14f758-04f4-48cb-a831-2fc45283570f"
   },
   "outputs": [
    {
     "name": "stdout",
     "output_type": "stream",
     "text": [
      "반지름 입력 :15\n",
      "706.5\n"
     ]
    }
   ],
   "source": [
    "x = int(input(\"반지름 입력 :\"))\n",
    "print(circle(x))"
   ]
  },
  {
   "cell_type": "code",
   "execution_count": null,
   "metadata": {
    "colab": {
     "base_uri": "https://localhost:8080/"
    },
    "executionInfo": {
     "elapsed": 381,
     "status": "ok",
     "timestamp": 1647834286429,
     "user": {
      "displayName": "생명과학과/조명재",
      "photoUrl": "https://lh3.googleusercontent.com/a-/AOh14Gi5jCEfnOJExQuMfcebjJXNDUAM_yfB2GG5RT1R=s64",
      "userId": "17829076087741631364"
     },
     "user_tz": -540
    },
    "id": "2JIQ0NpJkk4c",
    "outputId": "9516b918-6fb7-4384-a7c9-ed5e5aada059"
   },
   "outputs": [
    {
     "name": "stdout",
     "output_type": "stream",
     "text": [
      "안녕!!\n",
      "망했는데..!!!\n"
     ]
    }
   ],
   "source": [
    "def s_replace(str):\n",
    "  return str.replace(\"ㅋ\",\"!\")\n",
    "\n",
    "a= \"안녕ㅋㅋ\"\n",
    "b= \"망했는데..ㅋㅋㅋ\"\n",
    "print(s_replace(a))\n",
    "print(s_replace(b))"
   ]
  },
  {
   "cell_type": "code",
   "execution_count": null,
   "metadata": {
    "colab": {
     "base_uri": "https://localhost:8080/"
    },
    "executionInfo": {
     "elapsed": 347,
     "status": "ok",
     "timestamp": 1647834370711,
     "user": {
      "displayName": "생명과학과/조명재",
      "photoUrl": "https://lh3.googleusercontent.com/a-/AOh14Gi5jCEfnOJExQuMfcebjJXNDUAM_yfB2GG5RT1R=s64",
      "userId": "17829076087741631364"
     },
     "user_tz": -540
    },
    "id": "1a93HxaIkxBL",
    "outputId": "8607caac-b167-4b61-9340-02657eded113"
   },
   "outputs": [
    {
     "name": "stdout",
     "output_type": "stream",
     "text": [
      "15\n",
      "360\n"
     ]
    }
   ],
   "source": [
    "def add_mul(choice, *args):\n",
    "    if choice==\"add\":   # 매개변수 choice에 \"add\"를 입력받았을때\n",
    "        result= 0\n",
    "        for i in args:\n",
    "            result= result+i    # args에 입력받은 모든 값을 더해서 좌변 result에 넣어라 \n",
    "    elif choice ==\"mul\":    # 매개변수 choice에 mul을 입력받았을 때 \n",
    "        result=1            # 첫 값을 1로 정해줌 \n",
    "        for i in args:\n",
    "            result= result*i      # args에 입력받은 모든 값을 곱해서 좌변 result에 넣어줘라 \n",
    "    return result                 # 좌변 result를 반환해라\n",
    "\n",
    "result= add_mul(\"add\", 1,2,3,4,5) \n",
    "print(result)               # 1+2+3+4+5\n",
    "\n",
    "result= add_mul(\"mul\", 3,4,5,6)\n",
    "print(result)   "
   ]
  },
  {
   "cell_type": "code",
   "execution_count": null,
   "metadata": {
    "colab": {
     "base_uri": "https://localhost:8080/"
    },
    "executionInfo": {
     "elapsed": 367,
     "status": "ok",
     "timestamp": 1647835080573,
     "user": {
      "displayName": "생명과학과/조명재",
      "photoUrl": "https://lh3.googleusercontent.com/a-/AOh14Gi5jCEfnOJExQuMfcebjJXNDUAM_yfB2GG5RT1R=s64",
      "userId": "17829076087741631364"
     },
     "user_tz": -540
    },
    "id": "LZallkgvlQ-z",
    "outputId": "538737fb-c591-4c36-ca63-917894d54743"
   },
   "outputs": [
    {
     "name": "stdout",
     "output_type": "stream",
     "text": [
      "조 명재 김 예은 유 채은 \n",
      "\n",
      "<class 'tuple'> ('조명재', '김예은', '유채은')\n"
     ]
    }
   ],
   "source": [
    "#asterisk : 여러 인수를 입력받는 것을 나타내는 인수, 여러 인수를 튜플형태로 저장한다.\n",
    "def Last_name_and_First_name(*names):\n",
    "  for name in names:\n",
    "    print(\"%s %s\"%(name[0], name[1:3]), end=\" \")\n",
    "  \n",
    "  print(\"\\n\")\n",
    "\n",
    "  print(type(names), names)\n",
    "\n",
    "  return #결과값이 없는 함수 : 호출해도 print할 경우 NONE이 출력된다\n",
    "\n",
    "Last_name_and_First_name(\"조명재\",\"김예은\",\"유채은\")"
   ]
  },
  {
   "cell_type": "code",
   "execution_count": null,
   "metadata": {
    "colab": {
     "base_uri": "https://localhost:8080/"
    },
    "executionInfo": {
     "elapsed": 269,
     "status": "ok",
     "timestamp": 1647835143596,
     "user": {
      "displayName": "생명과학과/조명재",
      "photoUrl": "https://lh3.googleusercontent.com/a-/AOh14Gi5jCEfnOJExQuMfcebjJXNDUAM_yfB2GG5RT1R=s64",
      "userId": "17829076087741631364"
     },
     "user_tz": -540
    },
    "id": "LT7hKZUgn-PD",
    "outputId": "a8c48670-d12b-4d6a-be04-fa59fb747247"
   },
   "outputs": [
    {
     "name": "stdout",
     "output_type": "stream",
     "text": [
      "내 이름은 윤석열 입니다\n",
      "나이는 62 살입니다\n",
      "남자입니다\n",
      "내 이름은 조명재 입니다\n",
      "나이는 24 살입니다\n",
      "남자입니다\n",
      "내 이름은 김예은 입니다\n",
      "나이는 24 살입니다\n",
      "여자입니다\n"
     ]
    }
   ],
   "source": [
    "# 매개변수에 초기값을 미리 설정하기\n",
    "def say_myself(name, age, man=True):        # 3가지 인수를 넣음, 성별에 기본값을 설정함 \n",
    "    print(\"내 이름은 %s 입니다\" % name)     # %s 문자가 와야함\n",
    "    print(\"나이는 %d 살입니다\" % age)       # %d 숫자가 와야함 \n",
    "    if man:                          # man= True 일때\n",
    "        print(\"남자입니다\")          \n",
    "    else:                            # man= False 일때 \n",
    "        print(\"여자입니다\")\n",
    "\n",
    "say_myself(\"윤석열\", 62, ) \n",
    "say_myself(\"조명재\", 24, ) #인수를 입력하지 않아도 기본값이 출력된다\n",
    "say_myself(\"김예은\", 24, False)"
   ]
  },
  {
   "cell_type": "code",
   "execution_count": null,
   "metadata": {
    "id": "mvgM_uLEn-oQ"
   },
   "outputs": [],
   "source": [
    "def English_name(**kwargs):\n",
    "  for key, value in kwargs.items():\n",
    "    print(\"{0} is {1}\".format(key,value))\n",
    "\n",
    "#**(인수) : (키워드 = 특정값)으로 입력하면 {키워드 : 특정값}의 딕셔너리 형태로 저장한다\n",
    "#dictionary.items(): 딕셔너리 키값, 밸류값 순으로 쌍을 만들어 반환\n",
    "#\"{0}, {1}\".format(key,value)\n",
    "#s = '구구단 {0} x {1} = {2}'.format(a, b, a * b)\n",
    "#문자열 포맷팅을 위한 기똥찬 파이썬의 기본 제공 함수\n",
    "\n"
   ]
  },
  {
   "cell_type": "code",
   "execution_count": null,
   "metadata": {
    "colab": {
     "base_uri": "https://localhost:8080/"
    },
    "executionInfo": {
     "elapsed": 422,
     "status": "ok",
     "timestamp": 1647835823073,
     "user": {
      "displayName": "생명과학과/조명재",
      "photoUrl": "https://lh3.googleusercontent.com/a-/AOh14Gi5jCEfnOJExQuMfcebjJXNDUAM_yfB2GG5RT1R=s64",
      "userId": "17829076087741631364"
     },
     "user_tz": -540
    },
    "id": "YP3j4mFqp72j",
    "outputId": "350f82a9-39dc-4444-a44b-bec7ae7fa2ab"
   },
   "outputs": [
    {
     "name": "stdout",
     "output_type": "stream",
     "text": [
      "my name is Antty, Hello ant world!\n",
      "my name is Jakee, Hello ant world!\n"
     ]
    }
   ],
   "source": [
    "def Hello_world(**kwargs):\n",
    "  for key, value in kwargs.items():\n",
    "    if key in kwargs.keys():\n",
    "      print(\"my name is {0}, Hello ant world!\".format(value))\n",
    "    else:\n",
    "      print(\"my name is {0}, Hello human world!\".format(value))\n",
    "  \n",
    "Hello_world(ant = \"Antty\")\n",
    "Hello_world(human = \"Jakee\")\n",
    "\n",
    "#kwargs를 활용해 key 값에 따른 조건을 부여하여 여러 형태의 함수를 만들 수도 있다"
   ]
  },
  {
   "cell_type": "code",
   "execution_count": null,
   "metadata": {
    "colab": {
     "base_uri": "https://localhost:8080/"
    },
    "executionInfo": {
     "elapsed": 320,
     "status": "ok",
     "timestamp": 1647835568228,
     "user": {
      "displayName": "생명과학과/조명재",
      "photoUrl": "https://lh3.googleusercontent.com/a-/AOh14Gi5jCEfnOJExQuMfcebjJXNDUAM_yfB2GG5RT1R=s64",
      "userId": "17829076087741631364"
     },
     "user_tz": -540
    },
    "id": "VkgI_UNvoaXA",
    "outputId": "6ad468d7-f344-40af-e3ed-af81a794dec3"
   },
   "outputs": [
    {
     "name": "stdout",
     "output_type": "stream",
     "text": [
      "11\n"
     ]
    }
   ],
   "source": [
    "a= 10\n",
    "def vartest(a):\n",
    "    a= a+1      # a+1 해서 a 에 넣어줘라 \n",
    "    return a    # 5+1 return을 써줘야 함 a 가 함수 내에서 통용될수있다\n",
    "a= vartest(a)\n",
    "print(a)"
   ]
  },
  {
   "cell_type": "code",
   "execution_count": null,
   "metadata": {
    "colab": {
     "base_uri": "https://localhost:8080/"
    },
    "executionInfo": {
     "elapsed": 267,
     "status": "ok",
     "timestamp": 1647835575488,
     "user": {
      "displayName": "생명과학과/조명재",
      "photoUrl": "https://lh3.googleusercontent.com/a-/AOh14Gi5jCEfnOJExQuMfcebjJXNDUAM_yfB2GG5RT1R=s64",
      "userId": "17829076087741631364"
     },
     "user_tz": -540
    },
    "id": "v63ESyVjp1WH",
    "outputId": "fcac1c95-f6dd-4bc5-c02c-3c3b9a9c8ff0"
   },
   "outputs": [
    {
     "name": "stdout",
     "output_type": "stream",
     "text": [
      "25\n"
     ]
    }
   ],
   "source": [
    "# 다른 방법으로 글로벌 변수(예약어 global) 를 쓸수 있다 \n",
    "a= 5\n",
    "def vartest():\n",
    "    global a       # a 가 전역변수임을 선언해줌. 전체 함수에 적용될 수 있는 a 변수를 생성  \n",
    "    a= a * 5\n",
    "vartest()\n",
    "print(a)"
   ]
  },
  {
   "cell_type": "code",
   "execution_count": null,
   "metadata": {
    "colab": {
     "base_uri": "https://localhost:8080/"
    },
    "executionInfo": {
     "elapsed": 298,
     "status": "ok",
     "timestamp": 1647835583314,
     "user": {
      "displayName": "생명과학과/조명재",
      "photoUrl": "https://lh3.googleusercontent.com/a-/AOh14Gi5jCEfnOJExQuMfcebjJXNDUAM_yfB2GG5RT1R=s64",
      "userId": "17829076087741631364"
     },
     "user_tz": -540
    },
    "id": "AHp8NgfJp3Iz",
    "outputId": "ae4186ac-faa6-4225-d911-d7d34fa02b48"
   },
   "outputs": [
    {
     "name": "stdout",
     "output_type": "stream",
     "text": [
      "101\n"
     ]
    }
   ],
   "source": [
    "# 람다를 사용하면 함수식을 간단하게 표현 가능함 \n",
    "def add(a,b):\n",
    "    return a+b    # a+ b 계산 결과를 출력해줘 \n",
    "result= add(33, 68)\n",
    "print(result)"
   ]
  },
  {
   "cell_type": "code",
   "execution_count": 4,
   "metadata": {
    "colab": {
     "base_uri": "https://localhost:8080/"
    },
    "executionInfo": {
     "elapsed": 310,
     "status": "ok",
     "timestamp": 1648013823918,
     "user": {
      "displayName": "생명과학과/조명재",
      "photoUrl": "https://lh3.googleusercontent.com/a-/AOh14Gi5jCEfnOJExQuMfcebjJXNDUAM_yfB2GG5RT1R=s64",
      "userId": "17829076087741631364"
     },
     "user_tz": -540
    },
    "id": "4fizwVmSp5Cj",
    "outputId": "55941988-4f85-4b01-a20b-4d9f75399003"
   },
   "outputs": [
    {
     "name": "stdout",
     "output_type": "stream",
     "text": [
      "113\n"
     ]
    }
   ],
   "source": [
    "# lambda 사용하기: 식을 간편하게 표현해줌  \n",
    "# 람다는 1회용으로 사용하는 이름없는 함수(이름을 붙일 수 있긴 하다)\n",
    "add= lambda a, b: a+b    # a+ b 계산 결과를 출력해줘 \n",
    "result= add(38, 75)\n",
    "print(result)\n"
   ]
  },
  {
   "cell_type": "code",
   "execution_count": 5,
   "metadata": {
    "colab": {
     "base_uri": "https://localhost:8080/",
     "height": 36
    },
    "executionInfo": {
     "elapsed": 429,
     "status": "ok",
     "timestamp": 1648013826522,
     "user": {
      "displayName": "생명과학과/조명재",
      "photoUrl": "https://lh3.googleusercontent.com/a-/AOh14Gi5jCEfnOJExQuMfcebjJXNDUAM_yfB2GG5RT1R=s64",
      "userId": "17829076087741631364"
     },
     "user_tz": -540
    },
    "id": "9Gawq8MMRw2u",
    "outputId": "78584428-382f-49df-d6f2-04bf75b2b59c"
   },
   "outputs": [
    {
     "data": {
      "application/vnd.google.colaboratory.intrinsic+json": {
       "type": "string"
      },
      "text/plain": [
       "'성대너무좋아요'"
      ]
     },
     "execution_count": 5,
     "metadata": {},
     "output_type": "execute_result"
    }
   ],
   "source": [
    "(lambda a, b, c: a+b+c)(\"성대\", \"너무\", \"좋아요\") "
   ]
  },
  {
   "cell_type": "code",
   "execution_count": 6,
   "metadata": {
    "colab": {
     "base_uri": "https://localhost:8080/"
    },
    "executionInfo": {
     "elapsed": 268,
     "status": "ok",
     "timestamp": 1648013830498,
     "user": {
      "displayName": "생명과학과/조명재",
      "photoUrl": "https://lh3.googleusercontent.com/a-/AOh14Gi5jCEfnOJExQuMfcebjJXNDUAM_yfB2GG5RT1R=s64",
      "userId": "17829076087741631364"
     },
     "user_tz": -540
    },
    "id": "e1zyjgC8RyXW",
    "outputId": "a582f40c-95d9-40e5-9b98-f2f192f13985"
   },
   "outputs": [
    {
     "data": {
      "text/plain": [
       "60"
      ]
     },
     "execution_count": 6,
     "metadata": {},
     "output_type": "execute_result"
    }
   ],
   "source": [
    "(lambda a, b: 2*a+ 2*b)(10, 20)"
   ]
  },
  {
   "cell_type": "code",
   "execution_count": 15,
   "metadata": {
    "colab": {
     "base_uri": "https://localhost:8080/"
    },
    "executionInfo": {
     "elapsed": 6,
     "status": "ok",
     "timestamp": 1648014076891,
     "user": {
      "displayName": "생명과학과/조명재",
      "photoUrl": "https://lh3.googleusercontent.com/a-/AOh14Gi5jCEfnOJExQuMfcebjJXNDUAM_yfB2GG5RT1R=s64",
      "userId": "17829076087741631364"
     },
     "user_tz": -540
    },
    "id": "B9IA3FwBRy07",
    "outputId": "cd1a54d4-3592-4b3e-d734-9716d03cbf7b"
   },
   "outputs": [
    {
     "name": "stdout",
     "output_type": "stream",
     "text": [
      "<filter object at 0x7fc58a110d10>\n"
     ]
    }
   ],
   "source": [
    "a = [-10,-8,-1,0,1,2,3,4] \n",
    "result = filter(lambda x : x < -5, a)\n",
    "print(result)"
   ]
  },
  {
   "cell_type": "code",
   "execution_count": null,
   "metadata": {
    "id": "j-m9BhpaR-ib"
   },
   "outputs": [],
   "source": []
  }
 ],
 "metadata": {
  "colab": {
   "authorship_tag": "ABX9TyMYIN99YouvSX/jmx79a550",
   "name": "0321.ipynb",
   "provenance": []
  },
  "kernelspec": {
   "display_name": "Python 3 (ipykernel)",
   "language": "python",
   "name": "python3"
  },
  "language_info": {
   "codemirror_mode": {
    "name": "ipython",
    "version": 3
   },
   "file_extension": ".py",
   "mimetype": "text/x-python",
   "name": "python",
   "nbconvert_exporter": "python",
   "pygments_lexer": "ipython3",
   "version": "3.9.7"
  }
 },
 "nbformat": 4,
 "nbformat_minor": 1
}
