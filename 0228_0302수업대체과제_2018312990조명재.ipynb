{
 "cells": [
  {
   "cell_type": "markdown",
   "id": "9f383306",
   "metadata": {},
   "source": [
    "# 2주차 파이썬 출석 대체 과제 : 2018312990조명재"
   ]
  },
  {
   "cell_type": "markdown",
   "id": "64965ec3",
   "metadata": {},
   "source": [
    "## 02/28 문자열 포매팅, 리스트"
   ]
  },
  {
   "cell_type": "code",
   "execution_count": 28,
   "id": "d52d0f2c",
   "metadata": {},
   "outputs": [
    {
     "data": {
      "text/plain": [
       "str"
      ]
     },
     "execution_count": 28,
     "metadata": {},
     "output_type": "execute_result"
    }
   ],
   "source": [
    "# 문자열 인덱싱, 슬라이싱, 연산\n",
    "a = \"pithon\"\n",
    "type(a)"
   ]
  },
  {
   "cell_type": "code",
   "execution_count": 29,
   "id": "a05f0176",
   "metadata": {},
   "outputs": [
    {
     "data": {
      "text/plain": [
       "'python'"
      ]
     },
     "execution_count": 29,
     "metadata": {},
     "output_type": "execute_result"
    }
   ],
   "source": [
    "#문자열이지만 리스트처럼 슬라이싱, 인덱싱 가능\n",
    "\n",
    "a[0]\n",
    "a[2:]\n",
    "a[0] + \"y\" + a[2:]"
   ]
  },
  {
   "cell_type": "code",
   "execution_count": 12,
   "id": "f234669c",
   "metadata": {},
   "outputs": [
    {
     "data": {
      "text/plain": [
       "'I eat 5 apples'"
      ]
     },
     "execution_count": 12,
     "metadata": {},
     "output_type": "execute_result"
    }
   ],
   "source": [
    "#문자열 포매팅\n",
    "#정수: %d\n",
    "\"I eat %d apples\" % 5"
   ]
  },
  {
   "cell_type": "code",
   "execution_count": 13,
   "id": "d179ad8d",
   "metadata": {},
   "outputs": [
    {
     "data": {
      "text/plain": [
       "'I eat 5 apples'"
      ]
     },
     "execution_count": 13,
     "metadata": {},
     "output_type": "execute_result"
    }
   ],
   "source": [
    "\"I eat %d apples\" % 5.13 #정수만 받기 때문에 변환이 이뤄진다"
   ]
  },
  {
   "cell_type": "code",
   "execution_count": 14,
   "id": "d988dae9",
   "metadata": {},
   "outputs": [
    {
     "data": {
      "text/plain": [
       "'I eat 5 apples'"
      ]
     },
     "execution_count": 14,
     "metadata": {},
     "output_type": "execute_result"
    }
   ],
   "source": [
    "number = 5\n",
    "\"I eat %d apples\" %number #%d 에 정수 형태의 변수를  포매팅 가능"
   ]
  },
  {
   "cell_type": "code",
   "execution_count": 5,
   "id": "4aa2d226",
   "metadata": {},
   "outputs": [
    {
     "data": {
      "text/plain": [
       "'I eat three apples'"
      ]
     },
     "execution_count": 5,
     "metadata": {},
     "output_type": "execute_result"
    }
   ],
   "source": [
    "#문자 : %s\n",
    "\"I eat %s apples\" %\"three\" "
   ]
  },
  {
   "cell_type": "code",
   "execution_count": 7,
   "id": "b0dabef2",
   "metadata": {},
   "outputs": [
    {
     "data": {
      "text/plain": [
       "'error is 98%'"
      ]
     },
     "execution_count": 7,
     "metadata": {},
     "output_type": "execute_result"
    }
   ],
   "source": [
    "\"error is %d%%\" %98 #%d% 또한 %d처럼 포매팅에 사용할 수 있다."
   ]
  },
  {
   "cell_type": "code",
   "execution_count": 15,
   "id": "3bc6f26c",
   "metadata": {},
   "outputs": [
    {
     "data": {
      "text/plain": [
       "'I ate 10 apples. and I was sick for three days'"
      ]
     },
     "execution_count": 15,
     "metadata": {},
     "output_type": "execute_result"
    }
   ],
   "source": [
    "number = 10   # 정수 %d\n",
    "day = \"three\"   # 문자열 %s\n",
    "\"I ate %d apples. and I was sick for %s days\"  %(number, day)\n",
    "#순서대로 삽입된다"
   ]
  },
  {
   "cell_type": "code",
   "execution_count": 16,
   "id": "6be12b0f",
   "metadata": {},
   "outputs": [
    {
     "data": {
      "text/plain": [
       "'I have 3 apples, discount rate is ten percent'"
      ]
     },
     "execution_count": 16,
     "metadata": {},
     "output_type": "execute_result"
    }
   ],
   "source": [
    "number = 3\n",
    "percent = \"ten\"\n",
    "\"I have %d apples, discount rate is %s percent\"  %(number, percent)\n",
    "#마찬가지로 순서대로 삽입된다"
   ]
  },
  {
   "cell_type": "code",
   "execution_count": 17,
   "id": "3334865a",
   "metadata": {},
   "outputs": [
    {
     "data": {
      "text/plain": [
       "'나의 이름은 홍길동이며 나이는 30입니다'"
      ]
     },
     "execution_count": 17,
     "metadata": {},
     "output_type": "execute_result"
    }
   ],
   "source": [
    "# f를 이용한 문자열 포맷팅, 정수나 문자열 변수를 그대로 새로운 문자열에 넣을 수 있다\n",
    "name = \"홍길동\"\n",
    "age = 30\n",
    "f\"나의 이름은 {name}이며 나이는 {age}입니다\"\n"
   ]
  },
  {
   "cell_type": "code",
   "execution_count": 19,
   "id": "6784e842",
   "metadata": {},
   "outputs": [
    {
     "name": "stdout",
     "output_type": "stream",
     "text": [
      "<class 'float'>\n"
     ]
    },
    {
     "data": {
      "text/plain": [
       "'이 물건의 길이는 30.245cm 입니다'"
      ]
     },
     "execution_count": 19,
     "metadata": {},
     "output_type": "execute_result"
    }
   ],
   "source": [
    "length = 30.245\n",
    "\n",
    "print(type(length))\n",
    "\n",
    "f\"이 물건의 길이는 {length}cm 입니다\"\n",
    "#포맷팅 연산자와 달리 정수 값이나 문자열 값에 국한되지 않는다."
   ]
  },
  {
   "cell_type": "code",
   "execution_count": 23,
   "id": "c7f59338",
   "metadata": {},
   "outputs": [
    {
     "name": "stdout",
     "output_type": "stream",
     "text": [
      "<class 'list'>\n"
     ]
    },
    {
     "data": {
      "text/plain": [
       "\"알파뱃 a 부터 g 까지 : ['a', 'b', 'c', 'd', 'e', 'f', 'g']\""
      ]
     },
     "execution_count": 23,
     "metadata": {},
     "output_type": "execute_result"
    }
   ],
   "source": [
    "list1 = [\"a\",\"b\",\"c\",\"d\",\"e\",\"f\",\"g\"]\n",
    "\n",
    "print(type(list1))\n",
    "\n",
    "f\"알파뱃 a 부터 g 까지 : {list1}\"\n",
    "#리스트 또한 받을 수 있다"
   ]
  },
  {
   "cell_type": "code",
   "execution_count": 25,
   "id": "52f938f1",
   "metadata": {},
   "outputs": [
    {
     "data": {
      "text/plain": [
       "'나는 내년에 31살이 된다'"
      ]
     },
     "execution_count": 25,
     "metadata": {},
     "output_type": "execute_result"
    }
   ],
   "source": [
    "f\"나는 내년에 {age+1}살이 된다\""
   ]
  },
  {
   "cell_type": "code",
   "execution_count": 27,
   "id": "e63a3e5f",
   "metadata": {},
   "outputs": [
    {
     "data": {
      "text/plain": [
       "'나의 아버지는 62살이다'"
      ]
     },
     "execution_count": 27,
     "metadata": {},
     "output_type": "execute_result"
    }
   ],
   "source": [
    "f\"나의 아버지는 {age+32}살이다\" #중괄호 안에서 연산이 가능하다"
   ]
  },
  {
   "cell_type": "code",
   "execution_count": 31,
   "id": "d9a15aaa",
   "metadata": {},
   "outputs": [
    {
     "name": "stdout",
     "output_type": "stream",
     "text": [
      "[1, 3, 5, 7, 9]\n"
     ]
    }
   ],
   "source": [
    "#리스트\n",
    "odd = [1,3,5,7,9]\n",
    "print(odd)"
   ]
  },
  {
   "cell_type": "code",
   "execution_count": 32,
   "id": "22b968e1",
   "metadata": {},
   "outputs": [
    {
     "name": "stdout",
     "output_type": "stream",
     "text": [
      "[2, 4, 6, 8, 10]\n"
     ]
    }
   ],
   "source": [
    "even = [2,4,6,8,10]\n",
    "print(even)"
   ]
  },
  {
   "cell_type": "code",
   "execution_count": null,
   "id": "ab8c044c",
   "metadata": {},
   "outputs": [],
   "source": [
    "#리스트의 여러 형태\n",
    "a = []\n",
    "b = [1,2,3]\n",
    "c = [\"life\", \"is\", \"short\"]\n",
    "d = [1, 2, \"life\", \"is\"]\n",
    "e = [1, 2, [\"apple\", \"juice\"]]"
   ]
  },
  {
   "cell_type": "code",
   "execution_count": 33,
   "id": "c7ae1188",
   "metadata": {},
   "outputs": [
    {
     "data": {
      "text/plain": [
       "2"
      ]
     },
     "execution_count": 33,
     "metadata": {},
     "output_type": "execute_result"
    }
   ],
   "source": [
    "#리스트 인덱싱\n",
    "a = [1,2,3]\n",
    "a[1]"
   ]
  },
  {
   "cell_type": "code",
   "execution_count": 34,
   "id": "c13f93f4",
   "metadata": {},
   "outputs": [
    {
     "data": {
      "text/plain": [
       "1"
      ]
     },
     "execution_count": 34,
     "metadata": {},
     "output_type": "execute_result"
    }
   ],
   "source": [
    "a[-3]"
   ]
  },
  {
   "cell_type": "code",
   "execution_count": 35,
   "id": "440ec211",
   "metadata": {},
   "outputs": [
    {
     "data": {
      "text/plain": [
       "'b'"
      ]
     },
     "execution_count": 35,
     "metadata": {},
     "output_type": "execute_result"
    }
   ],
   "source": [
    "b = [1,2,3, [\"a\",\"b\",\"c\"]]\n",
    "b[-1]\n",
    "b[-1][1] #리스트 속 리스트에 접근, 2차원 자료형"
   ]
  },
  {
   "cell_type": "code",
   "execution_count": 36,
   "id": "3b2df830",
   "metadata": {},
   "outputs": [
    {
     "data": {
      "text/plain": [
       "1"
      ]
     },
     "execution_count": 36,
     "metadata": {},
     "output_type": "execute_result"
    }
   ],
   "source": [
    "b[0]"
   ]
  },
  {
   "cell_type": "code",
   "execution_count": 38,
   "id": "9aaa591f",
   "metadata": {},
   "outputs": [
    {
     "data": {
      "text/plain": [
       "[2, 3]"
      ]
     },
     "execution_count": 38,
     "metadata": {},
     "output_type": "execute_result"
    }
   ],
   "source": [
    "#리스트 슬라이싱\n",
    "a = [1,2,3,4,5]\n",
    "a[1:3] #인덱스 1이상 3미만"
   ]
  },
  {
   "cell_type": "code",
   "execution_count": 42,
   "id": "69b305e4",
   "metadata": {},
   "outputs": [
    {
     "data": {
      "text/plain": [
       "[1, 2]"
      ]
     },
     "execution_count": 42,
     "metadata": {},
     "output_type": "execute_result"
    }
   ],
   "source": [
    "a[:2] #인덱스 2미만까지"
   ]
  },
  {
   "cell_type": "code",
   "execution_count": 41,
   "id": "fb709614",
   "metadata": {
    "scrolled": true
   },
   "outputs": [
    {
     "data": {
      "text/plain": [
       "[4, 5]"
      ]
     },
     "execution_count": 41,
     "metadata": {},
     "output_type": "execute_result"
    }
   ],
   "source": [
    "a[3:] #인덱스 3이상부터 끝까지"
   ]
  },
  {
   "cell_type": "code",
   "execution_count": 43,
   "id": "bbfd1652",
   "metadata": {},
   "outputs": [
    {
     "data": {
      "text/plain": [
       "[1, 2, 3, 4, 5, 6]"
      ]
     },
     "execution_count": 43,
     "metadata": {},
     "output_type": "execute_result"
    }
   ],
   "source": [
    "#리스트 연산하기\n",
    "#리스트 간의 덧셈 : 리스트가 이어붙어짐\n",
    "a = [1, 2, 3]\n",
    "b = [4, 5, 6]\n",
    "a + b"
   ]
  },
  {
   "cell_type": "code",
   "execution_count": 44,
   "id": "36facb72",
   "metadata": {},
   "outputs": [
    {
     "data": {
      "text/plain": [
       "[1, 2, 3, 1, 2, 3, 1, 2, 3]"
      ]
     },
     "execution_count": 44,
     "metadata": {},
     "output_type": "execute_result"
    }
   ],
   "source": [
    "a * 3 #리스트 3번 반복"
   ]
  },
  {
   "cell_type": "code",
   "execution_count": 45,
   "id": "8cfebe37",
   "metadata": {},
   "outputs": [
    {
     "data": {
      "text/plain": [
       "3"
      ]
     },
     "execution_count": 45,
     "metadata": {},
     "output_type": "execute_result"
    }
   ],
   "source": [
    "len(b) #리스트의 길이"
   ]
  },
  {
   "cell_type": "code",
   "execution_count": 54,
   "id": "4b349f01",
   "metadata": {},
   "outputs": [
    {
     "name": "stdout",
     "output_type": "stream",
     "text": [
      "[1, 2, 4, 4, 5]\n"
     ]
    }
   ],
   "source": [
    "#리스트의 수정과 삭제 : 리스트는 내용의 수정이 가능\n",
    "a = [1,2,3,4,5]\n",
    "a[2]\n",
    "a[2] = 4\n",
    "print(a)"
   ]
  },
  {
   "cell_type": "code",
   "execution_count": 55,
   "id": "3a5a555a",
   "metadata": {},
   "outputs": [
    {
     "data": {
      "text/plain": [
       "[1, 2, 4, 4, 10]"
      ]
     },
     "execution_count": 55,
     "metadata": {},
     "output_type": "execute_result"
    }
   ],
   "source": [
    "a[4] = 10 #4번째 값인 5를 10으로 대치\n",
    "a"
   ]
  },
  {
   "cell_type": "code",
   "execution_count": 52,
   "id": "98158220",
   "metadata": {},
   "outputs": [
    {
     "name": "stdout",
     "output_type": "stream",
     "text": [
      "[1, 2, 4]\n"
     ]
    }
   ],
   "source": [
    "del a[3]\n",
    "print(a)"
   ]
  },
  {
   "cell_type": "code",
   "execution_count": 56,
   "id": "d17311ea",
   "metadata": {},
   "outputs": [
    {
     "data": {
      "text/plain": [
       "[6, 8, 10]"
      ]
     },
     "execution_count": 56,
     "metadata": {},
     "output_type": "execute_result"
    }
   ],
   "source": [
    "#리스트 슬라이싱해서 요소 삭제하기\n",
    "a = [2,4,6,8,10]\n",
    "a[2:]"
   ]
  },
  {
   "cell_type": "code",
   "execution_count": 57,
   "id": "78885956",
   "metadata": {},
   "outputs": [
    {
     "name": "stdout",
     "output_type": "stream",
     "text": [
      "[2, 4]\n"
     ]
    }
   ],
   "source": [
    "del a[2:] #index 2이상부터 모두 삭제\n",
    "print(a)"
   ]
  },
  {
   "cell_type": "code",
   "execution_count": 59,
   "id": "9df6b549",
   "metadata": {},
   "outputs": [
    {
     "name": "stdout",
     "output_type": "stream",
     "text": [
      "[1, 2, 3, 4]\n"
     ]
    }
   ],
   "source": [
    "a = [1,2,3]\n",
    "a.append(4) \n",
    "#append : list의 메서드, 리스트의 마지막에 요소를 추가한다\n",
    "print(a)"
   ]
  },
  {
   "cell_type": "code",
   "execution_count": 60,
   "id": "291694ee",
   "metadata": {},
   "outputs": [
    {
     "name": "stdout",
     "output_type": "stream",
     "text": [
      "[1, 2, 3, 4, [5, 6]]\n"
     ]
    }
   ],
   "source": [
    "a = [1,2,3,4]\n",
    "a.append([5,6])\n",
    "print(a)\n",
    "#리스트 내부에 리스트를 원소로 추가"
   ]
  },
  {
   "cell_type": "code",
   "execution_count": 61,
   "id": "80026c35",
   "metadata": {},
   "outputs": [
    {
     "name": "stdout",
     "output_type": "stream",
     "text": [
      "[1, 2, 3, 4, 5, 6]\n"
     ]
    }
   ],
   "source": [
    "#sort : list의 메서드, 리스트 원소를 오름차순으로 정렬\n",
    "a = [1,4,3,6,5,2]\n",
    "a.sort()\n",
    "print(a) #리스트 요소를 오름차순 정렬"
   ]
  },
  {
   "cell_type": "code",
   "execution_count": 63,
   "id": "ee127271",
   "metadata": {},
   "outputs": [
    {
     "name": "stdout",
     "output_type": "stream",
     "text": [
      "['a', 'b', 'c', 'd']\n",
      "['A', 'B', 'C', 'a', 'b', 'c']\n"
     ]
    }
   ],
   "source": [
    "a = [\"a\", \"c\", \"b\", \"d\"]\n",
    "a.sort()\n",
    "print(a)\n",
    "\n",
    "#문자 리스트 : 배정된 값 순서대로 정렬해줌, ASCII 코드값순이므로 대문자가 소문자보다 앞선다\n",
    "\n",
    "b = [\"A\",\"B\",\"C\",\"c\",\"b\",\"a\"]\n",
    "b.sort()\n",
    "print(b)"
   ]
  },
  {
   "cell_type": "code",
   "execution_count": 64,
   "id": "b4a1f28f",
   "metadata": {},
   "outputs": [
    {
     "ename": "TypeError",
     "evalue": "'<' not supported between instances of 'str' and 'int'",
     "output_type": "error",
     "traceback": [
      "\u001b[0;31m---------------------------------------------------------------------------\u001b[0m",
      "\u001b[0;31mTypeError\u001b[0m                                 Traceback (most recent call last)",
      "\u001b[0;32m/var/folders/c2/hfgvv7gx5wn44rgqtk43khyw0000gn/T/ipykernel_19884/3359216554.py\u001b[0m in \u001b[0;36m<module>\u001b[0;34m\u001b[0m\n\u001b[1;32m      1\u001b[0m \u001b[0ma\u001b[0m \u001b[0;34m=\u001b[0m \u001b[0;34m[\u001b[0m\u001b[0;36m1\u001b[0m\u001b[0;34m,\u001b[0m\u001b[0;36m4\u001b[0m\u001b[0;34m,\u001b[0m\u001b[0;36m3\u001b[0m\u001b[0;34m,\u001b[0m\u001b[0;36m7\u001b[0m\u001b[0;34m,\u001b[0m\u001b[0;36m5\u001b[0m\u001b[0;34m,\u001b[0m \u001b[0;34m'x'\u001b[0m\u001b[0;34m,\u001b[0m \u001b[0;34m'a'\u001b[0m\u001b[0;34m]\u001b[0m\u001b[0;34m\u001b[0m\u001b[0;34m\u001b[0m\u001b[0m\n\u001b[0;32m----> 2\u001b[0;31m \u001b[0ma\u001b[0m\u001b[0;34m.\u001b[0m\u001b[0msort\u001b[0m\u001b[0;34m(\u001b[0m\u001b[0;34m)\u001b[0m\u001b[0;34m\u001b[0m\u001b[0;34m\u001b[0m\u001b[0m\n\u001b[0m\u001b[1;32m      3\u001b[0m \u001b[0ma\u001b[0m         \u001b[0;31m# 숫자와 문자가 섞여있을 경우 작동X\u001b[0m\u001b[0;34m\u001b[0m\u001b[0;34m\u001b[0m\u001b[0m\n",
      "\u001b[0;31mTypeError\u001b[0m: '<' not supported between instances of 'str' and 'int'"
     ]
    }
   ],
   "source": [
    "a = [1,4,3,7,5, 'x', 'a']\n",
    "a.sort()\n",
    "a         # 숫자와 문자가 섞여있을 경우 작동X "
   ]
  },
  {
   "cell_type": "code",
   "execution_count": 65,
   "id": "349ea0b3",
   "metadata": {},
   "outputs": [
    {
     "name": "stdout",
     "output_type": "stream",
     "text": [
      "[6, 5, 4, 3, 2, 1]\n"
     ]
    }
   ],
   "source": [
    "#내림차순 정렬 옵션 : reverse = True\n",
    "a = [1,4,3,6,5,2]\n",
    "a.sort(reverse = True)\n",
    "print(a)"
   ]
  },
  {
   "cell_type": "code",
   "execution_count": 66,
   "id": "2022cbe3",
   "metadata": {},
   "outputs": [
    {
     "data": {
      "text/plain": [
       "['am', 'car', 'bear', 'apple']"
      ]
     },
     "execution_count": 66,
     "metadata": {},
     "output_type": "execute_result"
    }
   ],
   "source": [
    "#reverse : list의 메서드, 리스트 원소를 역순으로 정렬\n",
    "a = ['apple', 'bear', 'car', 'am']\n",
    "a.reverse()\n",
    "a   "
   ]
  },
  {
   "cell_type": "code",
   "execution_count": 67,
   "id": "19f4deb6",
   "metadata": {},
   "outputs": [
    {
     "data": {
      "text/plain": [
       "[2, 7, 4, 3, 1]"
      ]
     },
     "execution_count": 67,
     "metadata": {},
     "output_type": "execute_result"
    }
   ],
   "source": [
    "a = [1,3,4,7,2]\n",
    "a.reverse()       # 원소의 역순으로 나열할 뿐임\n",
    "a  "
   ]
  },
  {
   "cell_type": "code",
   "execution_count": 68,
   "id": "33ebe9c4",
   "metadata": {},
   "outputs": [
    {
     "data": {
      "text/plain": [
       "2"
      ]
     },
     "execution_count": 68,
     "metadata": {},
     "output_type": "execute_result"
    }
   ],
   "source": [
    "#index : list의 메서드, 리스트 내부 원소의 index 값을 반환\n",
    "a = [\"a\",\"b\",\"c\",\"d\"]\n",
    "a.index(\"c\")"
   ]
  },
  {
   "cell_type": "code",
   "execution_count": 69,
   "id": "4b5194b6",
   "metadata": {},
   "outputs": [
    {
     "data": {
      "text/plain": [
       "0"
      ]
     },
     "execution_count": 69,
     "metadata": {},
     "output_type": "execute_result"
    }
   ],
   "source": [
    "a.index(\"a\")"
   ]
  },
  {
   "cell_type": "code",
   "execution_count": 70,
   "id": "59c6ddc2",
   "metadata": {},
   "outputs": [
    {
     "ename": "ValueError",
     "evalue": "'f' is not in list",
     "output_type": "error",
     "traceback": [
      "\u001b[0;31m---------------------------------------------------------------------------\u001b[0m",
      "\u001b[0;31mValueError\u001b[0m                                Traceback (most recent call last)",
      "\u001b[0;32m/var/folders/c2/hfgvv7gx5wn44rgqtk43khyw0000gn/T/ipykernel_19884/2021145489.py\u001b[0m in \u001b[0;36m<module>\u001b[0;34m\u001b[0m\n\u001b[0;32m----> 1\u001b[0;31m \u001b[0ma\u001b[0m\u001b[0;34m.\u001b[0m\u001b[0mindex\u001b[0m\u001b[0;34m(\u001b[0m\u001b[0;34m\"f\"\u001b[0m\u001b[0;34m)\u001b[0m \u001b[0;31m#없는 문자 호출시 에러\u001b[0m\u001b[0;34m\u001b[0m\u001b[0;34m\u001b[0m\u001b[0m\n\u001b[0m",
      "\u001b[0;31mValueError\u001b[0m: 'f' is not in list"
     ]
    }
   ],
   "source": [
    "a.index(\"f\") #없는 문자 호출시 에러"
   ]
  },
  {
   "cell_type": "code",
   "execution_count": 72,
   "id": "71e9e135",
   "metadata": {},
   "outputs": [
    {
     "data": {
      "text/plain": [
       "1"
      ]
     },
     "execution_count": 72,
     "metadata": {},
     "output_type": "execute_result"
    }
   ],
   "source": [
    "a = [1, 2, 3, 4, 2]\n",
    "a.index(2) #원소중 중복되는 값이 있다면, 인덱스가 0에 가까운 값 출력"
   ]
  },
  {
   "cell_type": "code",
   "execution_count": 74,
   "id": "0ad8c677",
   "metadata": {},
   "outputs": [
    {
     "data": {
      "text/plain": [
       "[4, 1, 2, 3]"
      ]
     },
     "execution_count": 74,
     "metadata": {},
     "output_type": "execute_result"
    }
   ],
   "source": [
    "#insert : list의 메서드, 리스트 특정 위치에 특정 요소 삽입\n",
    "a = [1, 2, 3]\n",
    "a.insert(0,4)\n",
    "a"
   ]
  },
  {
   "cell_type": "code",
   "execution_count": 75,
   "id": "fabd0f03",
   "metadata": {},
   "outputs": [
    {
     "data": {
      "text/plain": [
       "[4, 1, 2, 5, 3]"
      ]
     },
     "execution_count": 75,
     "metadata": {},
     "output_type": "execute_result"
    }
   ],
   "source": [
    "a.insert(3,5)\n",
    "a"
   ]
  },
  {
   "cell_type": "code",
   "execution_count": 84,
   "id": "bcb669b6",
   "metadata": {},
   "outputs": [
    {
     "name": "stdout",
     "output_type": "stream",
     "text": [
      "[1, 2, 3, 4, 3, 3, 5]\n"
     ]
    }
   ],
   "source": [
    "#remove : list의 메서드, 리스트에서 특정요소 제거\n",
    "a= [1, 2, 3, 4, 5, 3, 3, 5]\n",
    "a.remove(5)   # a에서 3을 제거해라 (모두 제거하지 않고, 처음 나오는 요소만 제거)\n",
    "print(a)"
   ]
  },
  {
   "cell_type": "code",
   "execution_count": 85,
   "id": "85ea9de2",
   "metadata": {},
   "outputs": [
    {
     "data": {
      "text/plain": [
       "[1, 2, 3, 3, 3, 5]"
      ]
     },
     "execution_count": 85,
     "metadata": {},
     "output_type": "execute_result"
    }
   ],
   "source": [
    "a.remove(4)\n",
    "a"
   ]
  },
  {
   "cell_type": "code",
   "execution_count": 87,
   "id": "6267bce2",
   "metadata": {},
   "outputs": [
    {
     "data": {
      "text/plain": [
       "[]"
      ]
     },
     "execution_count": 87,
     "metadata": {},
     "output_type": "execute_result"
    }
   ],
   "source": [
    "#clear : list의 메서드, 빈 리스트로 만듬\n",
    "a = [1, 2, 3, 4, 1, 2, 3, 4, 1, 2, 3, 4]\n",
    "a.clear()\n",
    "a"
   ]
  },
  {
   "cell_type": "code",
   "execution_count": 89,
   "id": "5ec0bd6e",
   "metadata": {},
   "outputs": [
    {
     "name": "stdout",
     "output_type": "stream",
     "text": [
      "[1, 2, 3, 4]\n"
     ]
    }
   ],
   "source": [
    "#pop : list의 메서드, 마지막 요소 꺼낸 뒤 리스트에서 삭제\n",
    "a = [1, 2, 3, 4, 5]\n",
    "a.pop() #5출력\n",
    "print(a) #기존 리스트에선 마지막 요소 5삭제"
   ]
  },
  {
   "cell_type": "code",
   "execution_count": 90,
   "id": "c5c403e8",
   "metadata": {},
   "outputs": [
    {
     "data": {
      "text/plain": [
       "2"
      ]
     },
     "execution_count": 90,
     "metadata": {},
     "output_type": "execute_result"
    }
   ],
   "source": [
    "#count : list의 메서드, 리스트 안에 특정 요소 수를 세어준다\n",
    "a = [1,2,3,1,2,3,4,3,4]\n",
    "a.count(4) #4는 2개 있다"
   ]
  },
  {
   "cell_type": "markdown",
   "id": "174326b8",
   "metadata": {},
   "source": [
    "## 03/02 튜플, 딕셔너리"
   ]
  },
  {
   "cell_type": "markdown",
   "id": "d8466c55",
   "metadata": {},
   "source": [
    "튜플 : 소괄호 안에 원소가 들어있는 형태, 원소값 변화 불가능, locked data"
   ]
  },
  {
   "cell_type": "code",
   "execution_count": 92,
   "id": "fe6eaaf3",
   "metadata": {},
   "outputs": [
    {
     "ename": "AttributeError",
     "evalue": "'tuple' object has no attribute 'remove'",
     "output_type": "error",
     "traceback": [
      "\u001b[0;31m---------------------------------------------------------------------------\u001b[0m",
      "\u001b[0;31mAttributeError\u001b[0m                            Traceback (most recent call last)",
      "\u001b[0;32m/var/folders/c2/hfgvv7gx5wn44rgqtk43khyw0000gn/T/ipykernel_19884/2824066884.py\u001b[0m in \u001b[0;36m<module>\u001b[0;34m\u001b[0m\n\u001b[1;32m      2\u001b[0m \u001b[0;34m\u001b[0m\u001b[0m\n\u001b[1;32m      3\u001b[0m \u001b[0mt1\u001b[0m \u001b[0;34m=\u001b[0m \u001b[0;34m(\u001b[0m\u001b[0;36m1\u001b[0m\u001b[0;34m,\u001b[0m\u001b[0;36m2\u001b[0m\u001b[0;34m,\u001b[0m\u001b[0;36m3\u001b[0m\u001b[0;34m,\u001b[0m\u001b[0;36m4\u001b[0m\u001b[0;34m)\u001b[0m\u001b[0;34m\u001b[0m\u001b[0;34m\u001b[0m\u001b[0m\n\u001b[0;32m----> 4\u001b[0;31m \u001b[0mt1\u001b[0m\u001b[0;34m.\u001b[0m\u001b[0mremove\u001b[0m\u001b[0;34m(\u001b[0m\u001b[0;36m4\u001b[0m\u001b[0;34m)\u001b[0m\u001b[0;34m\u001b[0m\u001b[0;34m\u001b[0m\u001b[0m\n\u001b[0m\u001b[1;32m      5\u001b[0m \u001b[0mt1\u001b[0m\u001b[0;34m.\u001b[0m\u001b[0mappend\u001b[0m\u001b[0;34m(\u001b[0m\u001b[0;36m5\u001b[0m\u001b[0;34m)\u001b[0m \u001b[0;31m#tuple class 이기 때문에 list class의 메서드는 동작하지 않음\u001b[0m\u001b[0;34m\u001b[0m\u001b[0;34m\u001b[0m\u001b[0m\n\u001b[1;32m      6\u001b[0m \u001b[0mprint\u001b[0m\u001b[0;34m(\u001b[0m\u001b[0mt1\u001b[0m\u001b[0;34m)\u001b[0m\u001b[0;34m\u001b[0m\u001b[0;34m\u001b[0m\u001b[0m\n",
      "\u001b[0;31mAttributeError\u001b[0m: 'tuple' object has no attribute 'remove'"
     ]
    }
   ],
   "source": [
    "t1 = (1,2,3,4)\n",
    "t1.remove(4)\n",
    "t1.append(5) #tuple class 이기 때문에 list class의 메서드는 동작하지 않음\n",
    "print(t1)"
   ]
  },
  {
   "cell_type": "code",
   "execution_count": 93,
   "id": "aae7c233",
   "metadata": {},
   "outputs": [],
   "source": [
    "#튜플의 형태\n",
    "t1 = () #비어있는 튜플\n",
    "t2 = (1, ) #원소가 1개일 경우 심표로 마무리 해야한다\n",
    "t3 = (1,2,3)\n",
    "t4 = 1,2,3 #괄호 생략 가능, 하지만 생략하지 않는게 좋다\n",
    "t5 = (1,2,('a','b')) #튜플 안에 튜플"
   ]
  },
  {
   "cell_type": "code",
   "execution_count": 94,
   "id": "a3c4ccb6",
   "metadata": {},
   "outputs": [
    {
     "name": "stdout",
     "output_type": "stream",
     "text": [
      "1\n"
     ]
    }
   ],
   "source": [
    "t1 = (1) #정수출력\n",
    "print(t1)"
   ]
  },
  {
   "cell_type": "code",
   "execution_count": 96,
   "id": "26deb5a4",
   "metadata": {},
   "outputs": [
    {
     "name": "stdout",
     "output_type": "stream",
     "text": [
      "(1,)\n"
     ]
    }
   ],
   "source": [
    "t1 = (1, ) #튜플출력\n",
    "print(t1)"
   ]
  },
  {
   "cell_type": "code",
   "execution_count": 97,
   "id": "4bf4440c",
   "metadata": {},
   "outputs": [
    {
     "name": "stdout",
     "output_type": "stream",
     "text": [
      "[1]\n"
     ]
    }
   ],
   "source": [
    "a = [1]\n",
    "print(a) #리스트는 쉼표 안써줘도 리스트 그대로 출력"
   ]
  },
  {
   "cell_type": "code",
   "execution_count": 100,
   "id": "7a9de77f",
   "metadata": {},
   "outputs": [
    {
     "data": {
      "text/plain": [
       "'a'"
      ]
     },
     "execution_count": 100,
     "metadata": {},
     "output_type": "execute_result"
    }
   ],
   "source": [
    "#튜플 인덱싱\n",
    "t1 = (1,2,3, 'a','b','c')\n",
    "t1[3] "
   ]
  },
  {
   "cell_type": "code",
   "execution_count": 101,
   "id": "ccb87a6e",
   "metadata": {},
   "outputs": [
    {
     "data": {
      "text/plain": [
       "'c'"
      ]
     },
     "execution_count": 101,
     "metadata": {},
     "output_type": "execute_result"
    }
   ],
   "source": [
    "t1[5]"
   ]
  },
  {
   "cell_type": "code",
   "execution_count": 102,
   "id": "bb52bd51",
   "metadata": {},
   "outputs": [
    {
     "data": {
      "text/plain": [
       "'a'"
      ]
     },
     "execution_count": 102,
     "metadata": {},
     "output_type": "execute_result"
    }
   ],
   "source": [
    "t1[-3]"
   ]
  },
  {
   "cell_type": "code",
   "execution_count": 103,
   "id": "aed0da31",
   "metadata": {},
   "outputs": [
    {
     "data": {
      "text/plain": [
       "(3, 'a', 'b')"
      ]
     },
     "execution_count": 103,
     "metadata": {},
     "output_type": "execute_result"
    }
   ],
   "source": [
    "#튜플 슬라이싱\n",
    "t1[2:5]"
   ]
  },
  {
   "cell_type": "code",
   "execution_count": 104,
   "id": "009692fd",
   "metadata": {},
   "outputs": [
    {
     "data": {
      "text/plain": [
       "(1, 2)"
      ]
     },
     "execution_count": 104,
     "metadata": {},
     "output_type": "execute_result"
    }
   ],
   "source": [
    "t1[:2]"
   ]
  },
  {
   "cell_type": "code",
   "execution_count": 105,
   "id": "8c4b4296",
   "metadata": {},
   "outputs": [
    {
     "data": {
      "text/plain": [
       "(3, 'a', 'b', 'c')"
      ]
     },
     "execution_count": 105,
     "metadata": {},
     "output_type": "execute_result"
    }
   ],
   "source": [
    "t1[2:] #리스트와 모두 같은 방법으로 인덱싱과 슬라이싱을 할 수 있음"
   ]
  },
  {
   "cell_type": "code",
   "execution_count": 106,
   "id": "9713953d",
   "metadata": {},
   "outputs": [
    {
     "name": "stdout",
     "output_type": "stream",
     "text": [
      "((1, 2, 3, 'a', 'b', 'c'), (1,))\n"
     ]
    }
   ],
   "source": [
    "#튜플 합하기 : 요소값 변경은 안되나 중첩은 가능함, 새로운 튜플 안에 기존 튜플 2개를 넣는것\n",
    "t3 = (t1, t2)\n",
    "print(t3)"
   ]
  },
  {
   "cell_type": "code",
   "execution_count": 110,
   "id": "4f761eb8",
   "metadata": {},
   "outputs": [
    {
     "name": "stdout",
     "output_type": "stream",
     "text": [
      "<class 'tuple'>\n",
      "(1, 2, 3, 'a', 'b', 'c', 5, 6, 7)\n"
     ]
    }
   ],
   "source": [
    "#튜플 덧셈 : 모든 원소를 이어붙이기, 새로운 튜플을 생성한다, 리스트 연산과 동일\n",
    "t2 = (5,6,7)\n",
    "t1 + t2\n",
    "t3 = t1 + t2\n",
    "print(type(t3))\n",
    "print(t3)"
   ]
  },
  {
   "cell_type": "code",
   "execution_count": 112,
   "id": "9c4d3653",
   "metadata": {},
   "outputs": [
    {
     "data": {
      "text/plain": [
       "(5, 6, 7, 5, 6, 7, 5, 6, 7)"
      ]
     },
     "execution_count": 112,
     "metadata": {},
     "output_type": "execute_result"
    }
   ],
   "source": [
    "t2*3 #리스트 연산과 동일"
   ]
  },
  {
   "cell_type": "code",
   "execution_count": 113,
   "id": "c779d74d",
   "metadata": {},
   "outputs": [
    {
     "data": {
      "text/plain": [
       "3"
      ]
     },
     "execution_count": 113,
     "metadata": {},
     "output_type": "execute_result"
    }
   ],
   "source": [
    "#튜플의 길이 구하기\n",
    "len(t2)"
   ]
  },
  {
   "cell_type": "code",
   "execution_count": 115,
   "id": "1d11401e",
   "metadata": {},
   "outputs": [
    {
     "name": "stdout",
     "output_type": "stream",
     "text": [
      "[1, 2, 3, 'a', 'b']\n",
      "(1, 2, 3, 'a', 'b')\n"
     ]
    }
   ],
   "source": [
    "#튜플 - 리스트 변환, 리스트 - 튜플 변환\n",
    "t1 = (1,2,3,'a','b')\n",
    "a = list(t1)\n",
    "print(a)\n",
    "t1 = tuple(a)\n",
    "print(t1)"
   ]
  },
  {
   "cell_type": "markdown",
   "id": "97c43f01",
   "metadata": {},
   "source": [
    "딕셔너리 : Key와 Value가 짝을 이룬 한 쌍,\n",
    "중괄호 안에 있음"
   ]
  },
  {
   "cell_type": "code",
   "execution_count": 117,
   "id": "c9108d68",
   "metadata": {},
   "outputs": [],
   "source": [
    "#딕셔너리의 형태\n",
    "a = {}\n",
    "a = {1 : \"hi\"}\n",
    "a = {\"a\": [1,2,3]}\n",
    "dic = {\"name\" : \"kim\", \"phone\":\"01012345678\", \"birth\":\"0923\"}\n",
    "#여러 쌍으로 이뤄진 딕셔너리"
   ]
  },
  {
   "cell_type": "code",
   "execution_count": 118,
   "id": "af00e526",
   "metadata": {},
   "outputs": [
    {
     "name": "stdout",
     "output_type": "stream",
     "text": [
      "{1: 'a', 2: 'b', 3: 'c'}\n"
     ]
    }
   ],
   "source": [
    "#딕셔너리에 쌍을 추가하는 법\n",
    "a = {1:\"a\"}\n",
    "a[2] = \"b\" #(2 : \"b\")추가\n",
    "a[3] = \"c\" #(3 : \"c\")추가\n",
    "print(a)"
   ]
  },
  {
   "cell_type": "code",
   "execution_count": 119,
   "id": "57d56cf0",
   "metadata": {},
   "outputs": [
    {
     "data": {
      "text/plain": [
       "{1: 'a', 2: 'b', 3: 'c', 4: [1, 2, 3], 'idol': 'BTS'}"
      ]
     },
     "execution_count": 119,
     "metadata": {},
     "output_type": "execute_result"
    }
   ],
   "source": [
    "#딕셔너리 쌍 추가\n",
    "a[4] = [1,2,3]\n",
    "a[\"idol\"] = \"BTS\"\n",
    "a"
   ]
  },
  {
   "cell_type": "code",
   "execution_count": 120,
   "id": "58da40a8",
   "metadata": {},
   "outputs": [
    {
     "name": "stdout",
     "output_type": "stream",
     "text": [
      "{2: 'b', 3: 'c', 4: [1, 2, 3], 'idol': 'BTS'}\n"
     ]
    }
   ],
   "source": [
    "del a[1] #del함수를 사용하여 쌍 제거 가능, key 값이 1인 쌍을 제거\n",
    "print(a)"
   ]
  },
  {
   "cell_type": "code",
   "execution_count": 121,
   "id": "f8cb0d80",
   "metadata": {},
   "outputs": [
    {
     "name": "stdout",
     "output_type": "stream",
     "text": [
      "{2: 'b', 4: [1, 2, 3], 'idol': 'BTS'}\n"
     ]
    }
   ],
   "source": [
    "del a[3] #key 값이 3인 쌍을 제거\n",
    "print(a)"
   ]
  },
  {
   "cell_type": "code",
   "execution_count": 122,
   "id": "cf67de15",
   "metadata": {},
   "outputs": [
    {
     "name": "stdout",
     "output_type": "stream",
     "text": [
      "{'phone': '01012345678', 'birth': '0923'}\n"
     ]
    }
   ],
   "source": [
    "del dic[\"name\"] #key 값이 \"name\"인 쌍을 제거\n",
    "print(dic)"
   ]
  },
  {
   "cell_type": "code",
   "execution_count": 123,
   "id": "5ef1c6ac",
   "metadata": {},
   "outputs": [
    {
     "data": {
      "text/plain": [
       "'apple'"
      ]
     },
     "execution_count": 123,
     "metadata": {},
     "output_type": "execute_result"
    }
   ],
   "source": [
    "# key 사용시 해당하는 value 반환\n",
    "a = {1 : \"apple\", 2 : \"samsung\"}\n",
    "a[1]  "
   ]
  },
  {
   "cell_type": "code",
   "execution_count": 124,
   "id": "6c50f6c6",
   "metadata": {},
   "outputs": [
    {
     "data": {
      "text/plain": [
       "'samsung'"
      ]
     },
     "execution_count": 124,
     "metadata": {},
     "output_type": "execute_result"
    }
   ],
   "source": [
    "a[2]"
   ]
  },
  {
   "cell_type": "code",
   "execution_count": 125,
   "id": "a028c330",
   "metadata": {},
   "outputs": [
    {
     "data": {
      "text/plain": [
       "'Hive'"
      ]
     },
     "execution_count": 125,
     "metadata": {},
     "output_type": "execute_result"
    }
   ],
   "source": [
    "# 딕셔너리의 사용\n",
    "idol = {'BTS' : 'Hive', 'blackpink' : 'yg', 'twice' : 'jyp'}\n",
    "idol['BTS']"
   ]
  },
  {
   "cell_type": "code",
   "execution_count": 126,
   "id": "2ebbff58",
   "metadata": {},
   "outputs": [
    {
     "data": {
      "text/plain": [
       "'kim'"
      ]
     },
     "execution_count": 126,
     "metadata": {},
     "output_type": "execute_result"
    }
   ],
   "source": [
    "dic = {\"name\" : \"kim\", \"phone\":\"01012345678\", \"birth\":\"0923\"}\n",
    "dic[\"name\"]"
   ]
  },
  {
   "cell_type": "code",
   "execution_count": 127,
   "id": "5559612f",
   "metadata": {},
   "outputs": [
    {
     "data": {
      "text/plain": [
       "'0923'"
      ]
     },
     "execution_count": 127,
     "metadata": {},
     "output_type": "execute_result"
    }
   ],
   "source": [
    "dic[\"birth\"]"
   ]
  },
  {
   "cell_type": "code",
   "execution_count": 128,
   "id": "b981ab8e",
   "metadata": {},
   "outputs": [
    {
     "data": {
      "text/plain": [
       "'01012345678'"
      ]
     },
     "execution_count": 128,
     "metadata": {},
     "output_type": "execute_result"
    }
   ],
   "source": [
    "dic[\"phone\"]"
   ]
  },
  {
   "cell_type": "code",
   "execution_count": 129,
   "id": "a83b7413",
   "metadata": {},
   "outputs": [
    {
     "data": {
      "text/plain": [
       "'c'"
      ]
     },
     "execution_count": 129,
     "metadata": {},
     "output_type": "execute_result"
    }
   ],
   "source": [
    "#딕셔너리 내의 key값은 중복되면 안됨, 오류는 나지 않지만 중복시 가장 최근에 만든 쌍으로 덮어씌워짐\n",
    "a = {1 : 'a', 2 : 'b', 2 : 'c'}   # 2 : b 가 2 : c 로 대체 \n",
    "a[2]"
   ]
  },
  {
   "cell_type": "code",
   "execution_count": 130,
   "id": "6464cdac",
   "metadata": {},
   "outputs": [
    {
     "ename": "TypeError",
     "evalue": "unhashable type: 'list'",
     "output_type": "error",
     "traceback": [
      "\u001b[0;31m---------------------------------------------------------------------------\u001b[0m",
      "\u001b[0;31mTypeError\u001b[0m                                 Traceback (most recent call last)",
      "\u001b[0;32m/var/folders/c2/hfgvv7gx5wn44rgqtk43khyw0000gn/T/ipykernel_19884/2730779764.py\u001b[0m in \u001b[0;36m<module>\u001b[0;34m\u001b[0m\n\u001b[1;32m      1\u001b[0m \u001b[0;31m# key: value, 값의 형태. key에 리스트, 튜플 등의 형태가 올 수 없음\u001b[0m\u001b[0;34m\u001b[0m\u001b[0;34m\u001b[0m\u001b[0m\n\u001b[0;32m----> 2\u001b[0;31m \u001b[0ma\u001b[0m\u001b[0;34m=\u001b[0m \u001b[0;34m{\u001b[0m\u001b[0;34m[\u001b[0m\u001b[0;36m1\u001b[0m\u001b[0;34m,\u001b[0m\u001b[0;36m2\u001b[0m\u001b[0;34m,\u001b[0m\u001b[0;36m3\u001b[0m\u001b[0;34m]\u001b[0m\u001b[0;34m:\u001b[0m \u001b[0;34m\"apple\"\u001b[0m\u001b[0;34m}\u001b[0m\u001b[0;34m\u001b[0m\u001b[0;34m\u001b[0m\u001b[0m\n\u001b[0m\u001b[1;32m      3\u001b[0m \u001b[0mprint\u001b[0m\u001b[0;34m(\u001b[0m\u001b[0ma\u001b[0m\u001b[0;34m)\u001b[0m\u001b[0;34m\u001b[0m\u001b[0;34m\u001b[0m\u001b[0m\n",
      "\u001b[0;31mTypeError\u001b[0m: unhashable type: 'list'"
     ]
    }
   ],
   "source": [
    "#key에 리스트, 튜플 등의 형태가 올 수 없음 \n",
    "a= {[1,2,3]: \"apple\"}\n",
    "print(a)"
   ]
  },
  {
   "cell_type": "code",
   "execution_count": 132,
   "id": "76b7e23b",
   "metadata": {},
   "outputs": [
    {
     "data": {
      "text/plain": [
       "[1, 2, 3]"
      ]
     },
     "execution_count": 132,
     "metadata": {},
     "output_type": "execute_result"
    }
   ],
   "source": [
    "#value 값에는 리스트가 올 수 있음\n",
    "b = {\"x\":[1,2,3]}\n",
    "b[\"x\"]\n",
    "b = {\"list\":[1,2,3]}\n",
    "b[\"list\"]"
   ]
  },
  {
   "cell_type": "code",
   "execution_count": 134,
   "id": "7da049a5",
   "metadata": {},
   "outputs": [
    {
     "name": "stdout",
     "output_type": "stream",
     "text": [
      "{(1, 2, 3): 'apple'}\n"
     ]
    },
    {
     "data": {
      "text/plain": [
       "'apple'"
      ]
     },
     "execution_count": 134,
     "metadata": {},
     "output_type": "execute_result"
    }
   ],
   "source": [
    "# Key값으로 리스트는 올 수 없으나 튜플은 가능, key는 변하지 않는 값이어야 함\n",
    "# 원소가 여러개인 데이터를 key 값으로 쓰고싶다면 튜플을 사용하면 된다\n",
    "a= {(1,2,3): 'apple'}\n",
    "print(a)\n",
    "a[(1,2,3)]"
   ]
  },
  {
   "cell_type": "code",
   "execution_count": 144,
   "id": "c854603c",
   "metadata": {},
   "outputs": [
    {
     "name": "stdout",
     "output_type": "stream",
     "text": [
      "dict_keys(['name', 'phone', 'birth'])\n",
      "<class 'dict_keys'>\n"
     ]
    }
   ],
   "source": [
    "#keys : 딕셔너리의 메서드, key값들을 반환하며 \"dict_key\"라는 객체로 반환된다.\n",
    "a= {'name': 'kim', 'phone': '01012345678', 'birth': '0923'}\n",
    "print(a.keys())\n",
    "print(type(a.keys()))"
   ]
  },
  {
   "cell_type": "code",
   "execution_count": 138,
   "id": "f3b34f43",
   "metadata": {},
   "outputs": [
    {
     "name": "stdout",
     "output_type": "stream",
     "text": [
      "name\n",
      "phone\n",
      "birth\n"
     ]
    }
   ],
   "source": [
    "#for문 활용 key값 객체 출력\n",
    "for k in a.keys():\n",
    "    print(k)"
   ]
  },
  {
   "cell_type": "code",
   "execution_count": 139,
   "id": "1e01dee7",
   "metadata": {},
   "outputs": [
    {
     "data": {
      "text/plain": [
       "['name', 'phone', 'birth']"
      ]
     },
     "execution_count": 139,
     "metadata": {},
     "output_type": "execute_result"
    }
   ],
   "source": [
    "#a.key의 객체를 리스트 형태로 변환\n",
    "list(a.keys())"
   ]
  },
  {
   "cell_type": "code",
   "execution_count": 141,
   "id": "de95d24d",
   "metadata": {},
   "outputs": [
    {
     "name": "stdout",
     "output_type": "stream",
     "text": [
      "dict_values(['kim', '01012345678', '0923'])\n",
      "<class 'dict_values'>\n"
     ]
    }
   ],
   "source": [
    "#values : 딕셔너리의 메서드, value값들을 반환하며 \"dict_values\"라는 객체로 반환된다.\n",
    "print(a.values())\n",
    "print(type(a.values()))"
   ]
  },
  {
   "cell_type": "code",
   "execution_count": 145,
   "id": "26ac86a2",
   "metadata": {},
   "outputs": [
    {
     "name": "stdout",
     "output_type": "stream",
     "text": [
      "kim\n",
      "01012345678\n",
      "0923\n"
     ]
    }
   ],
   "source": [
    "for v in a.values():\n",
    "    print(v)"
   ]
  },
  {
   "cell_type": "code",
   "execution_count": 147,
   "id": "93122bcb",
   "metadata": {},
   "outputs": [
    {
     "data": {
      "text/plain": [
       "['kim', '01012345678', '0923']"
      ]
     },
     "execution_count": 147,
     "metadata": {},
     "output_type": "execute_result"
    }
   ],
   "source": [
    "list(a.values())"
   ]
  },
  {
   "cell_type": "code",
   "execution_count": 149,
   "id": "5dad9d2b",
   "metadata": {},
   "outputs": [
    {
     "name": "stdout",
     "output_type": "stream",
     "text": [
      "dict_items([('name', 'kim'), ('phone', '01012345678'), ('birth', '0923')])\n",
      "<class 'dict_items'>\n"
     ]
    }
   ],
   "source": [
    "#items : 딕셔너리의 메서드, key, value의 쌍을 튜플 형태로 묶은 뒤 반환,\n",
    "#\"dict_items\"라는 객체로 반환\n",
    "print(a.items())\n",
    "print(type(a.items()))"
   ]
  },
  {
   "cell_type": "code",
   "execution_count": 150,
   "id": "44c1c409",
   "metadata": {},
   "outputs": [
    {
     "data": {
      "text/plain": [
       "[('name', 'kim'), ('phone', '01012345678'), ('birth', '0923')]"
      ]
     },
     "execution_count": 150,
     "metadata": {},
     "output_type": "execute_result"
    }
   ],
   "source": [
    "list(a.items()) #튜플로 이뤄진 리스트로 반환 가능"
   ]
  },
  {
   "cell_type": "code",
   "execution_count": 151,
   "id": "b380dbdc",
   "metadata": {},
   "outputs": [
    {
     "data": {
      "text/plain": [
       "'kim'"
      ]
     },
     "execution_count": 151,
     "metadata": {},
     "output_type": "execute_result"
    }
   ],
   "source": [
    "#get : 딕셔너리의 메서드, key값을 입력받고 value값을 출력한다\n",
    "a.get(\"name\")"
   ]
  },
  {
   "cell_type": "code",
   "execution_count": 152,
   "id": "9bbc7e33",
   "metadata": {},
   "outputs": [
    {
     "data": {
      "text/plain": [
       "'01012345678'"
      ]
     },
     "execution_count": 152,
     "metadata": {},
     "output_type": "execute_result"
    }
   ],
   "source": [
    "a.get(\"phone\")"
   ]
  },
  {
   "cell_type": "code",
   "execution_count": 154,
   "id": "90536863",
   "metadata": {},
   "outputs": [
    {
     "data": {
      "text/plain": [
       "'0923'"
      ]
     },
     "execution_count": 154,
     "metadata": {},
     "output_type": "execute_result"
    }
   ],
   "source": [
    "a.get(\"birth\")"
   ]
  },
  {
   "cell_type": "code",
   "execution_count": 155,
   "id": "e116aa4c",
   "metadata": {},
   "outputs": [
    {
     "name": "stdout",
     "output_type": "stream",
     "text": [
      "None\n"
     ]
    }
   ],
   "source": [
    "print(a.get(\"job\")) # key값으로 없는걸 출력하면 none 반환"
   ]
  },
  {
   "cell_type": "code",
   "execution_count": 156,
   "id": "8a8c2ea2",
   "metadata": {},
   "outputs": [
    {
     "data": {
      "text/plain": [
       "True"
      ]
     },
     "execution_count": 156,
     "metadata": {},
     "output_type": "execute_result"
    }
   ],
   "source": [
    "#in 연산자의 활용 : key값의 존재 유무 조사\n",
    "\"name\" in a"
   ]
  },
  {
   "cell_type": "code",
   "execution_count": 157,
   "id": "69b86b7c",
   "metadata": {},
   "outputs": [
    {
     "data": {
      "text/plain": [
       "False"
      ]
     },
     "execution_count": 157,
     "metadata": {},
     "output_type": "execute_result"
    }
   ],
   "source": [
    "\"kim\" in a #value 값이 아니라 key값 기준으로 확인해준다."
   ]
  },
  {
   "cell_type": "markdown",
   "id": "f0a842df",
   "metadata": {},
   "source": [
    "## 연습문제"
   ]
  },
  {
   "cell_type": "code",
   "execution_count": 158,
   "id": "3b670a1a",
   "metadata": {},
   "outputs": [],
   "source": [
    "\"\"\"\n",
    "1.사과 apple, 바나나 banana, 당근 carrot을 원소로 하는 딕셔너리 fruit 를 만드세요\n",
    "2.fruit에서 당근을 삭제하세요\n",
    "3.fruit에 체리 cherry 를 추가하세요\n",
    "\"\"\"\n",
    "#1\n",
    "fruit = {\"사과\":\"apple\", \"바나나\":\"banana\", \"당근\":\"carrrot\"}"
   ]
  },
  {
   "cell_type": "code",
   "execution_count": 159,
   "id": "7d25cc31",
   "metadata": {},
   "outputs": [
    {
     "name": "stdout",
     "output_type": "stream",
     "text": [
      "{'사과': 'apple', '바나나': 'banana'}\n"
     ]
    }
   ],
   "source": [
    "#2\n",
    "del fruit[\"당근\"]\n",
    "print(fruit)"
   ]
  },
  {
   "cell_type": "code",
   "execution_count": 162,
   "id": "ac0f38b6",
   "metadata": {},
   "outputs": [
    {
     "name": "stdout",
     "output_type": "stream",
     "text": [
      "{'사과': 'apple', '바나나': 'banana', '체리': 'cherry'}\n"
     ]
    }
   ],
   "source": [
    "#3\n",
    "fruit[\"체리\"] = \"cherry\"\n",
    "print(fruit)"
   ]
  },
  {
   "cell_type": "code",
   "execution_count": 163,
   "id": "0cea8762",
   "metadata": {},
   "outputs": [
    {
     "name": "stdout",
     "output_type": "stream",
     "text": [
      "apple\n",
      "banana\n",
      "cherry\n"
     ]
    }
   ],
   "source": [
    "#fruit의 value 출력\n",
    "for i in fruit: #i가 각각 key값에 해당하므로\n",
    "    print(fruit[i]) #이렇게 하면 바로 확인할 수 있다"
   ]
  },
  {
   "cell_type": "code",
   "execution_count": 164,
   "id": "8427e58c",
   "metadata": {},
   "outputs": [
    {
     "name": "stdout",
     "output_type": "stream",
     "text": [
      "apple\n",
      "banana\n",
      "cherry\n"
     ]
    }
   ],
   "source": [
    "for i in fruit.values():\n",
    "    print(i)"
   ]
  }
 ],
 "metadata": {
  "kernelspec": {
   "display_name": "Python 3 (ipykernel)",
   "language": "python",
   "name": "python3"
  },
  "language_info": {
   "codemirror_mode": {
    "name": "ipython",
    "version": 3
   },
   "file_extension": ".py",
   "mimetype": "text/x-python",
   "name": "python",
   "nbconvert_exporter": "python",
   "pygments_lexer": "ipython3",
   "version": "3.9.7"
  }
 },
 "nbformat": 4,
 "nbformat_minor": 5
}
