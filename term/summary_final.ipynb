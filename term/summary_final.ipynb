{
 "cells": [
  {
   "cell_type": "markdown",
   "id": "3ecc3edc",
   "metadata": {},
   "source": [
    "# 1.dataframe 내부 데이터 전처리"
   ]
  },
  {
   "cell_type": "markdown",
   "id": "0333ac7b",
   "metadata": {},
   "source": [
    "## df iloc and loc indexing, groupby() "
   ]
  },
  {
   "cell_type": "code",
   "execution_count": null,
   "id": "be522df8",
   "metadata": {},
   "outputs": [],
   "source": [
    "import pandas as pd"
   ]
  },
  {
   "cell_type": "code",
   "execution_count": null,
   "id": "7f3daeda",
   "metadata": {},
   "outputs": [],
   "source": [
    "df = pd.read_csv('dataset_sample/gapminder.csv')"
   ]
  },
  {
   "cell_type": "code",
   "execution_count": null,
   "id": "70f15499",
   "metadata": {},
   "outputs": [],
   "source": [
    "#how to make dataframe : list의 연결, series의 연결\n",
    "name= [\"RM\", \"Jin\", \"Suga\", \"jhope\", \"jimin\", \"V\", \"JK\"]\n",
    "year = [1994,1992,1993,1994,1995,1995,1997]\n",
    "position = [\"rap\", \"vocal\", \"rap\", \"rap\", \"vocal\", \"vocal\", \"vocal\"]\n",
    "\n",
    "dataset= list(zip(name, year, position))\n",
    "bts = pd.DataFrame(data= dataset, columns = ['name','year','position'])"
   ]
  },
  {
   "cell_type": "code",
   "execution_count": null,
   "id": "c5832143",
   "metadata": {},
   "outputs": [],
   "source": [
    "scientists= pd.DataFrame({\n",
    "'Name': ['Franklin', 'Gosset'], \n",
    "'Occupation': ['chemist', 'statistician'], \n",
    "'Born': [1920, 1876],\n",
    "'Died': [1958, 1937],\n",
    "'Age': [37, 61]\n",
    "})\n",
    "print(scientists)\n",
    "#각 행을 지정해줌"
   ]
  },
  {
   "cell_type": "code",
   "execution_count": null,
   "id": "6f7322c1",
   "metadata": {},
   "outputs": [],
   "source": [
    "scientists= pd.DataFrame( data= {\n",
    "'Occupation': ['chemist', 'statistician'],\n",
    "'Born': [1920, 1876],\n",
    "'Died': [1958, 1937],\n",
    "'Age': [37, 61]},\n",
    "index= ['Franklin', 'Gosset'],\n",
    "columns= ['Occupation', 'Age','Born', 'Died']\n",
    ") \n",
    "print(scientists)\n",
    "# 인덱스와 컬럼 이름 지정"
   ]
  },
  {
   "cell_type": "code",
   "execution_count": null,
   "id": "74798b7c",
   "metadata": {},
   "outputs": [],
   "source": [
    "print(df.head()) #df앞에서부터\n",
    "print(df.tail()) #df뒤에서부터\n",
    "print(df.shape) #df의 형태\n",
    "print(type(df)) #df개체의 데이터 자료형\n",
    "print(df.dtypes) #열별 데이터 자료형\n",
    "print(df.columns) #열 이름\n",
    "print(df.index) #행 이름"
   ]
  },
  {
   "cell_type": "code",
   "execution_count": null,
   "id": "f417aa6a",
   "metadata": {},
   "outputs": [],
   "source": [
    "#dataframe 정제하기\n",
    "#특정 열만 따로 가져오기 : dataframe형태 유지\n",
    "subset1= df[['country','continent','year']]\n",
    "#특정 열만 Series형태로 가져오기\n",
    "subset2= df['country']\n",
    "print(type(subset1))\n",
    "print(type(subset2))"
   ]
  },
  {
   "cell_type": "code",
   "execution_count": null,
   "id": "50d8cdf5",
   "metadata": {},
   "outputs": [],
   "source": [
    "#dataframe indexing: loc, iloc\n",
    "#행단위 접근 : loc, iloc\n",
    "print(df.loc[0])\n",
    "print(type(df.loc[0])) #단일 행 : series형태로 반환된다\n",
    "print(df.loc[1:3])\n",
    "print(type(df.loc[1:3])) #여러 행을 slicing : Dataframe형태로 반환됨\n",
    "print(df.loc[[1,10,13]]) #array를 넣어 접근 가능\n",
    "print(df.loc[:, ['year','pop']])\n",
    "#print(df.loc[[1, 3, 10], [1, 2, 3]]) #열 인덱싱 : 숫자를 사용하면 오류 발생\n",
    "print(df.loc[[1,3,10],['year','pop']])"
   ]
  },
  {
   "cell_type": "code",
   "execution_count": null,
   "id": "3fe343e9",
   "metadata": {},
   "outputs": [],
   "source": [
    "print(df.iloc[1])\n",
    "print(df.iloc[-1]) #음수 인덱싱 가능\n",
    "print(df.iloc[:, [3, -2]]) #열 인덱싱 숫자로 접근 가능\n",
    "print(df.iloc[[1, 2, 3, 4], [3, 5, 1]]) #순서도 접근 가능\n",
    "#원하는 부분만 때어내서 subset화 하여 사용하기에 매우 유용함\n",
    "#df.loc의 여러모로 상위호환\n",
    "print(df.iloc[list(range(0,300,3)), :])\n",
    "#range함수를 활용한 index 접근"
   ]
  },
  {
   "cell_type": "code",
   "execution_count": null,
   "id": "bf46e573",
   "metadata": {},
   "outputs": [],
   "source": [
    "#groupby : x를 기준으로 y의 어떤것을 구하느것\n",
    "df_group = df.groupby('year')['lifeExp']\n",
    "print(df_group.size())\n",
    "print(df_group.mean())\n",
    "print(df_group.count()) \n",
    "\n",
    "df_group = df.groupby('year')['country']\n",
    "print(df_group.unique()) #연도에 따른 국가의 종류 리스트 반환\n",
    "print(df_group.nunique()) #연도에 따른 국가의 종류 개수 반환\n",
    "\n",
    "#groupby method로 반환되는 자료:모두 series\n",
    "type(df_group.unique())"
   ]
  },
  {
   "cell_type": "code",
   "execution_count": null,
   "id": "37fc465e",
   "metadata": {},
   "outputs": [],
   "source": [
    "#길이가 다른 벡터의 연산\n",
    "a= pd.Series([10, 20])\n",
    "b= pd.Series([10, 20, 30, 40])\n",
    "print(a+b)"
   ]
  },
  {
   "cell_type": "code",
   "execution_count": null,
   "id": "0eab53de",
   "metadata": {},
   "outputs": [],
   "source": [
    "rev_ages= ages.sort_index() \n",
    "print(rev_ages) #sort_index : 인덱스에 따라 오름차순 정렬\n",
    "rev_ages= ages.sort_values()\n",
    "print(rev_ages) #sort_values : 값에 따라 오름차순 정렬"
   ]
  },
  {
   "cell_type": "code",
   "execution_count": null,
   "id": "d86b576d",
   "metadata": {},
   "outputs": [],
   "source": [
    "#object형태로 저장되어있는 날짜 형식의 데이터 ex) year-month-day\n",
    "#pd.to_datetime사용하여 datetime형식으로 변환 가능\n",
    "born= scientists['Born']\n",
    "print(born)\n",
    "born= pd.to_datetime(born, format= \"%Y-%m-%d\")\n",
    "print(born) #datetime으로 변경완료"
   ]
  },
  {
   "cell_type": "code",
   "execution_count": null,
   "id": "87def3dd",
   "metadata": {},
   "outputs": [],
   "source": [
    "#split: 문자열의 분리\n",
    "#str.split(sep=\"구별문자\",\"최대 분리 횟수\") -> 리스트로 반환\n",
    "#조건을 통한 indexing: 그냥 index에 넣어도 bool형이기때문에 row반환\n",
    "#iloc, loc을 써서 indexing해도 같은 결과"
   ]
  },
  {
   "cell_type": "markdown",
   "id": "ab83bde8",
   "metadata": {},
   "source": [
    "#concat: data 연결\n",
    "#그냥 이건 직접 해봤으니 패스"
   ]
  },
  {
   "cell_type": "markdown",
   "id": "40c5fc20",
   "metadata": {},
   "source": [
    "## 결측값 제거"
   ]
  },
  {
   "cell_type": "code",
   "execution_count": null,
   "id": "f73d31f8",
   "metadata": {},
   "outputs": [],
   "source": [
    "#결측값 제거\n",
    "ebola= pd.read_csv(\"dataset_sample/country_timeseries.csv\")\n",
    "ebola.head(6)"
   ]
  },
  {
   "cell_type": "code",
   "execution_count": null,
   "id": "43ebce41",
   "metadata": {},
   "outputs": [],
   "source": [
    "ebola.count() #값이 존재하는 데이터의 개수"
   ]
  },
  {
   "cell_type": "code",
   "execution_count": null,
   "id": "ff069df8",
   "metadata": {},
   "outputs": [],
   "source": [
    "#nan: numpy에서 다뤄야함\n",
    "import numpy as np\n",
    "#zero나 NAN이 아닌값 측정 : np.count_nonzero\n",
    "print(np.count_nonzero(ebola))\n",
    "#isnull method: NAN, null을 가진 bool데이터 생성\n",
    "print(ebola.isnull())\n",
    "#두 함수의 조합: null의 개수 측정\n",
    "print(np.count_nonzero(ebola.isnull()))\n",
    "\n",
    "#결측값 처리 1 : fillna사용, 0입력\n",
    "#주로 각 행의 평균값을 넣어주는 것이 일반적인 방법이다.\n",
    "print(ebola.fillna(0))\n",
    "\n",
    "#결측값 처리 2 : interpolate, 결측값 양쪽의 중간값으로 변경\n",
    "df= pd.DataFrame([['아이유', 30], ['김지희', np.nan], ['손흥민', 31]], columns= ['이름', '나이'])\n",
    "print(df.interpolate())\n",
    "\n",
    "#결측값이 포함된 행을 통쨰로 삭제하기 : .dropna()\n",
    "drop = df.dropna()\n",
    "print(drop)\n",
    "\n",
    "#결측값이 제외된 계산 : skipna= True (거의 모든 계산함수에 option으로 존재)\n",
    "print(ebola.Cases_Guinea.mean(skipna=True))"
   ]
  },
  {
   "cell_type": "code",
   "execution_count": null,
   "id": "7297b808",
   "metadata": {},
   "outputs": [],
   "source": [
    "#결측값 확인하기 - titanic dataset사용 실습\n",
    "titanic = sns.load_dataset('titanic')\n",
    "print(titanic.info()) #non_null count도 반환해준다\n",
    "\n",
    "#각 series별 결측값 개수 반환하는 함수\n",
    "def count_missing(vec) : \n",
    "    null_vec = pd.isnull(vec) \n",
    "    null_count = np.sum(null_vec) \n",
    "    return null_count\n",
    "\n",
    "#각 열에 들어있는 결측값 : apply(function, axis=0(default))\n",
    "missing_col = titanic.apply(count_missing)\n",
    "print(missing_col)\n",
    "\n",
    "#각 행에 들어있는 결측값: apply(function, axis=1) \n",
    "missing_row = titanic.apply(count_missing, axis=1)\n",
    "print(missing_row)"
   ]
  },
  {
   "cell_type": "code",
   "execution_count": null,
   "id": "bfe47234",
   "metadata": {},
   "outputs": [],
   "source": [
    "#피벗테이블 : 특정 열 변수만 고정시키고 나머지 변수들을 행으로 보내버리는 것\n",
    "#원하는 형태의 데이터셋을 만들기 위해 굉장히 유용한 방법이다! 꼭 기억하자\n",
    "guinea= ebola.iloc[:, [0,1,2,10]]\n",
    "guinea"
   ]
  },
  {
   "cell_type": "code",
   "execution_count": null,
   "id": "9c12c5eb",
   "metadata": {},
   "outputs": [],
   "source": [
    "guinea_long = pd.melt(guinea, id_vars=[\"Date\",\"Day\"],\n",
    "                     var_name = 'State', #피벗되는 열변수의 행 이름 결정\n",
    "                     value_name = 'Freq') #열 변수에 존재하던 value의 행 이름 결정\n",
    "#2개 이상의 열을 고정시킬때는 list형태로 입력\n",
    "guinea_long \n",
    "#총 122개의 데이터 > Cases_Guinea와 Deaths_Guinea로 나뉘어 저장, 244개로 늘어남"
   ]
  },
  {
   "cell_type": "markdown",
   "id": "72bca48c",
   "metadata": {},
   "source": [
    "# matplotlib, seaborn : data visualization"
   ]
  },
  {
   "cell_type": "code",
   "execution_count": null,
   "id": "68c9ce6d",
   "metadata": {},
   "outputs": [],
   "source": [
    "import matplotlib.pyplot as plt\n",
    "import seaborn as sns"
   ]
  },
  {
   "cell_type": "code",
   "execution_count": null,
   "id": "5eefa319",
   "metadata": {},
   "outputs": [],
   "source": [
    "global_lifeExp = df.groupby('year')['lifeExp'].mean()\n",
    "#연도별 생존률 평균 구하기\n",
    "global_pop = df.groupby('year')['pop'].sum()"
   ]
  },
  {
   "cell_type": "code",
   "execution_count": null,
   "id": "0f536177",
   "metadata": {},
   "outputs": [],
   "source": [
    "#1차원 Series에 대해 plot() method 사용\n",
    "#특정하게 주어진 figure나 subplot이 없을 시 자동으로 기본 figure생성\n",
    "#R처럼 plot을 추가하면 figure에 중복해서 추가되는 구조\n",
    "\n",
    "global_lifeExp.plot()"
   ]
  },
  {
   "cell_type": "code",
   "execution_count": null,
   "id": "7f8d37d1",
   "metadata": {},
   "outputs": [],
   "source": [
    "global_pop.plot()"
   ]
  },
  {
   "cell_type": "code",
   "execution_count": null,
   "id": "55906058",
   "metadata": {},
   "outputs": [],
   "source": [
    "anscombe = sns.load_dataset(\"anscombe\")\n",
    "dataset_1 = anscombe[anscombe['dataset']=='I']\n",
    "dataset_2 = anscombe[anscombe['dataset']=='II']\n",
    "dataset_3 = anscombe[anscombe['dataset']=='III']\n",
    "dataset_4 = anscombe[anscombe['dataset']=='VI']\n",
    "\n",
    "anscombe.info() #정보 불러오기"
   ]
  },
  {
   "cell_type": "code",
   "execution_count": null,
   "id": "249e3d43",
   "metadata": {},
   "outputs": [],
   "source": [
    "a= plt.subplots() #subplots: figure의 생성\n",
    "a= plt.plot(dataset_1['x'], dataset_1['y'], 'o')\n",
    "#https://bcho.tistory.com/1201 : plt.plot도움말 정리"
   ]
  },
  {
   "cell_type": "code",
   "execution_count": null,
   "id": "1996c6c8",
   "metadata": {},
   "outputs": [],
   "source": [
    "fig= plt.figure(figsize=[20,20]) \n",
    "#figsize = [x, y]\n",
    "#\n",
    "#plt.figure() : 그래프나 사진을 올려둘 figure을 먼저 생성\n",
    "#fig.add_subplot() : figure에 subplot들을 추가, (행, 열, n번째 순으로 추가)\n",
    "fig.suptitle(\"anscombe data\") #figure에 이름추가\n",
    "ax1= fig.add_subplot(2,2,1)\n",
    "ax2= fig.add_subplot(2,2,2)\n",
    "ax3= fig.add_subplot(2,2,3)\n",
    "ax4= fig.add_subplot(2,2,4)\n",
    "\n",
    "ax1.plot(dataset_1['x'], dataset_1['y'], 'o')\n",
    "ax2.plot(dataset_2['x'], dataset_2['y'], 'o')\n",
    "ax3.plot(dataset_3['x'], dataset_3['y'], 'o')\n",
    "ax4.plot(dataset_4['x'], dataset_4['y'], 'o')"
   ]
  },
  {
   "cell_type": "code",
   "execution_count": null,
   "id": "a68fd90a",
   "metadata": {},
   "outputs": [],
   "source": [
    "fig.tight_layout #깔끔한 레이아웃"
   ]
  },
  {
   "cell_type": "code",
   "execution_count": null,
   "id": "0bd540e5",
   "metadata": {},
   "outputs": [],
   "source": [
    "fig.savefig('graph1.png') #figure 저장"
   ]
  },
  {
   "cell_type": "code",
   "execution_count": null,
   "id": "f2c35389",
   "metadata": {},
   "outputs": [],
   "source": [
    "#histogram : seaborn library의 사용, seaborn: 다양한 종류의 plot제공\n",
    "tips= sns.load_dataset(\"tips\")\n",
    "tips.info #sns.load_dataset : pd.read_csv 등과 같은 역할"
   ]
  },
  {
   "cell_type": "code",
   "execution_count": null,
   "id": "95ecbaf4",
   "metadata": {},
   "outputs": [],
   "source": [
    "fig = plt.figure() "
   ]
  },
  {
   "cell_type": "code",
   "execution_count": null,
   "id": "7f1eb38c",
   "metadata": {},
   "outputs": [],
   "source": [
    "ax1 = fig.add_subplot(1,1,1) #figure에 subplot 1개 추가\n",
    "ax1.hist(tips['total_bill'], bins= 10, facecolor = 'yellow')\n",
    "#hist(y, bins = (막대개수), facecolor= (색지정))\n",
    "ax1.set_title('histogram of total bill')\n",
    "ax1.set_xlabel('total bill')\n",
    "ax1.set_ylabel('freq')\n",
    "fig"
   ]
  },
  {
   "cell_type": "code",
   "execution_count": null,
   "id": "0cee1bb4",
   "metadata": {},
   "outputs": [],
   "source": [
    "fig= plt.figure()\n",
    "ax1= fig.add_subplot(1,1,1)\n",
    "ax1= sns.histplot(tips['total_bill'], binwidth= 5)\n",
    "#ax1.hist : matplotlib의 hist method사용\n",
    "#ax1 = sns.histplot : seaborn의 histplot사용"
   ]
  },
  {
   "cell_type": "code",
   "execution_count": null,
   "id": "11e9c599",
   "metadata": {},
   "outputs": [],
   "source": [
    "fig= plt.figure()\n",
    "ax1= fig.add_subplot(1,1,1) \n",
    "ax1= sns.distplot(tips['total_bill'])\n",
    "\n",
    "#plt.subplots(): fig= plt.figure()한 후 fig.add_subplot(1,1,1)을 한 것과 동일\n",
    "#figure과 subplot을 한꺼번에 생성한 것과 같기 때문에 바로 subplot에 대해\n",
    "#plot 함수나 method사용 가능, title, xlabel, ylabel 등 설정 가능\n",
    "ax = plt.subplots()\n",
    "ax = sns.distplot(tips['total_bill'])"
   ]
  },
  {
   "cell_type": "code",
   "execution_count": null,
   "id": "10922f91",
   "metadata": {},
   "outputs": [],
   "source": [
    "ax= plt.subplots()\n",
    "ax= sns.distplot(tips['total_bill'], hist= False) \n",
    "#distplot에서 hist =False입력시 분포 함수 그래프만 출력"
   ]
  },
  {
   "cell_type": "code",
   "execution_count": null,
   "id": "23945419",
   "metadata": {},
   "outputs": [],
   "source": [
    "#산점도 plot: scatterplot\n",
    "fig= plt.figure()\n",
    "scat = fig.add_subplot(1,1,1)\n",
    "scat.scatter(tips['total_bill'],tips['tip']) \n",
    "#matplotlib : scatter method 사용, x, y축 설정\n",
    "#set_title, set_xlabel, set_ylabel사용가능"
   ]
  },
  {
   "cell_type": "code",
   "execution_count": null,
   "id": "27ec37ae",
   "metadata": {},
   "outputs": [],
   "source": [
    "#Categorization\n",
    "#산점도 그래프에 성별 추가하기..!\n",
    "def recode_sex(sex):\n",
    "    if sex == \"Female\":\n",
    "        return 0\n",
    "    else:\n",
    "        return 1\n",
    "tips['sex_col']= tips['sex'].apply(recode_sex) \n",
    "#apply : 주어진 Series에 대해 함수를 모두 적용\n",
    "tips.head(4)"
   ]
  },
  {
   "cell_type": "code",
   "execution_count": null,
   "id": "d91c15f2",
   "metadata": {},
   "outputs": [],
   "source": [
    "fig= plt.figure()\n",
    "scat = fig.add_subplot(1,1,1)\n",
    "scat.scatter(\n",
    "            x=tips['total_bill'], #x\n",
    "            y=tips['tip'], #y\n",
    "            s=tips['size']*20, #size에 따른 점 크기 설정, size데이터 활용\n",
    "            c=tips['sex_col'], #color: sex_col에 있는 데이터 기반으로 설정\n",
    "            alpha=0.5) #투명도 alpha"
   ]
  },
  {
   "cell_type": "code",
   "execution_count": null,
   "id": "80ce9615",
   "metadata": {},
   "outputs": [],
   "source": [
    "#regplot: 추세선과 산점도를 한번에\n",
    "#scatter= False/True 산점도 없음/있음\n",
    "#fit_reg= False/True 추세선 없음/있음\n",
    "\n",
    "fig= plt.figure()\n",
    "ax= fig.add_subplot(1,1,1)\n",
    "ax= sns.regplot(x= 'total_bill', y= 'tip', data= tips) \n",
    "#regplot: 추세선과 산점도를 한번에 보여주는 그래프\n",
    "ax.set_title('regplot')"
   ]
  },
  {
   "cell_type": "code",
   "execution_count": null,
   "id": "2c752037",
   "metadata": {},
   "outputs": [],
   "source": [
    "#boxplot \n",
    "fig= plt.figure()\n",
    "box= fig.add_subplot(1,1,1)\n",
    "box.boxplot([tips[tips['sex']== 'Female']['tip'],\n",
    "             tips[tips['sex']== 'Male']['tip']],\n",
    "            labels= ['Female', 'Male'])\n",
    "box.set_title('male, female tip')"
   ]
  },
  {
   "cell_type": "markdown",
   "id": "ff81176e",
   "metadata": {},
   "source": [
    "# 빈도분석/평균구하기/교차분석"
   ]
  },
  {
   "cell_type": "code",
   "execution_count": null,
   "id": "4d444d72",
   "metadata": {},
   "outputs": [],
   "source": [
    "#단순 빈도분석: groupby와 size()활용, SIZE: 단순 frequency 반환\n",
    "#만약에 내부에 frequency나 value가 적혀있는 데이터 형태라면 sum을 해주는게 맞다.\n",
    "print(titanic.groupby('survived').size())\n",
    "print(titanic.groupby('pclass').size())\n",
    "print(titanic.groupby('sex').size())\n",
    "\n",
    "#빈도분석 + 내림차순 정렬\n",
    "print(titanic['embark_town'].value_counts())\n",
    "\n",
    "#평균 연령, 평균 운임\n",
    "print(titanic['age'].mean(skipna= True))\n",
    "print(titanic['fare'].mean(skipna= True))"
   ]
  },
  {
   "cell_type": "code",
   "execution_count": null,
   "id": "2bdc2be8",
   "metadata": {},
   "outputs": [],
   "source": [
    "#교차분석: 범주형 변수 2개의 분포의 독립성 유무 확인\n",
    "import scipy.stats as stats\n",
    "pd.crosstab(titanic['class'], titanic['alive'], margins= True)"
   ]
  },
  {
   "cell_type": "code",
   "execution_count": null,
   "id": "a41e01d7",
   "metadata": {},
   "outputs": [],
   "source": [
    "pd.crosstab(titanic['class'], titanic['alive'],\n",
    "            margins=True, normalize = True) \n",
    "#normalize : 확률로 나타내기, \"정규화\"\n",
    "#총 인물 수 891을 1.00으로 잡고 나머지를 확률로 표현"
   ]
  },
  {
   "cell_type": "code",
   "execution_count": null,
   "id": "21976f5e",
   "metadata": {},
   "outputs": [],
   "source": [
    "#변수 3개에 대한 교차분석, 조금 이해하기 어려워짐\n",
    "#각 확률변수에 대한 확률 측정/독립성 측정\n",
    "pd.crosstab([titanic['class'], titanic['sex']], titanic['alive'],\n",
    "            margins= True, normalize = True)"
   ]
  },
  {
   "cell_type": "code",
   "execution_count": null,
   "id": "cc1224f5",
   "metadata": {},
   "outputs": [],
   "source": [
    "crosstab1= pd.crosstab(titanic['sex'], titanic['alive'])\n",
    "stats.chi2_contingency(crosstab1)\n",
    "#카이제곱 값, 유의확률 p-value의 확인\n",
    "#카이제곱(x^2) = 260\n",
    "#p = 0.00 < 0.05(두 변수들의 분포가 독립적이지 않음, 상관관계 존재)\n",
    "#자유도 = 1\n",
    "#array = 기댓값(평균) (여성, 사망/생존, 남성, 사망/생존)"
   ]
  },
  {
   "cell_type": "code",
   "execution_count": null,
   "id": "4b90feeb",
   "metadata": {},
   "outputs": [],
   "source": [
    "crosstab2 = pd.crosstab(titanic['class'], titanic['alive'])\n",
    "stats.chi2_contingency(crosstab2)\n",
    "#카이제곱 : 102\n",
    "#p-value <0.05\n",
    "#자유도 : 2\n",
    "#array = 기댓값(class 1, 사망, 생존/class2, 사망, 생존/class3, 사망, 생존)\n"
   ]
  },
  {
   "cell_type": "code",
   "execution_count": null,
   "id": "0693e77f",
   "metadata": {},
   "outputs": [],
   "source": [
    "#집단별 비교: 점주형변수/숫자형 변수 계산\n",
    "print(titanic.groupby('class')['fare'].mean())\n",
    "print(titanic.groupby('sex')['age'].mean())"
   ]
  },
  {
   "cell_type": "code",
   "execution_count": null,
   "id": "2f1052b6",
   "metadata": {},
   "outputs": [],
   "source": [
    "#단순빈도분석 : sns - countplot, histplot, hist사용가능\n",
    "#집단별 비교를 위해선 countplot을 사용하는것이 정신건강에 이롭다\n",
    "#범주형 변수의 개수를 새는 plot : countplot! 기억해두자\n",
    "ax= plt.subplots()\n",
    "#자동으로 group화, 범주형 변수의 빈도를 분석해줌\n",
    "ax= sns.countplot('class', data= titanic)"
   ]
  },
  {
   "cell_type": "code",
   "execution_count": null,
   "id": "3127751d",
   "metadata": {},
   "outputs": [],
   "source": [
    "ax = plt.subplots()\n",
    "ax = sns.countplot(x='alive', hue='pclass', hue_order=[1,2,3],\n",
    "                  data=titanic)\n",
    "#x축의 설정"
   ]
  },
  {
   "cell_type": "code",
   "execution_count": null,
   "id": "167ca67c",
   "metadata": {},
   "outputs": [],
   "source": [
    "ax = plt.subplots()\n",
    "ax = sns.countplot(x= \"pclass\", hue=\"alive\", data= titanic)"
   ]
  },
  {
   "cell_type": "code",
   "execution_count": null,
   "id": "bdb7a452",
   "metadata": {},
   "outputs": [],
   "source": [
    "#단순 히스토그램 : x값에 대한 숫자형 변수값을 시각화, \n",
    "#sns.histplot사용  \n",
    "hist1 = plt.subplots()\n",
    "hist1 = sns.histplot(titanic['age'], bins=10)"
   ]
  },
  {
   "cell_type": "code",
   "execution_count": null,
   "id": "5875215b",
   "metadata": {},
   "outputs": [],
   "source": [
    "#matplotlib method사용\n",
    "fig= plt.figure()\n",
    "hist2 = fig.add_subplot(1,1,1)\n",
    "hist2.hist(titanic['age'], bins=10)"
   ]
  },
  {
   "cell_type": "code",
   "execution_count": null,
   "id": "5006cc15",
   "metadata": {},
   "outputs": [],
   "source": [
    "# 연령에 따른 생존여부\n",
    "fig = plt.figure()  \n",
    "axes1= fig.add_subplot(1,1,1)    # 1행 1열 1개의 그래프를 그리겠다. \n",
    "\n",
    "data_1= titanic[titanic['survived']==0]['age'].tolist()   # 사망자의 연령\n",
    "data_2= titanic[titanic['survived']==1]['age'].tolist()   # 생존자의 연령\n",
    "plt.hist(data_1, bins=10, color= 'grey', alpha= 0.5)   # 생존자 회색\n",
    "plt.hist(data_2, bins=10, color= 'cyan', alpha= 0.5)   # 생존자 연청녹"
   ]
  },
  {
   "cell_type": "markdown",
   "id": "0af2adeb",
   "metadata": {},
   "source": [
    "# 상관관계 분석(p value, 상관계수, 시각화)"
   ]
  },
  {
   "cell_type": "code",
   "execution_count": null,
   "id": "86a4e2b5",
   "metadata": {},
   "outputs": [],
   "source": [
    "#두 변수간의 상관관계 분석,\n",
    "import scipy.stats as stats\n",
    "mar_bir= pd.read_csv(\"dataset_sample/data.csv\")"
   ]
  },
  {
   "cell_type": "code",
   "execution_count": null,
   "id": "9b169907",
   "metadata": {},
   "outputs": [],
   "source": [
    "stats.pearsonr(mar_bir.sq11.values, mar_bir.q1_6.values)\n",
    "#pearsonr: 상관계수, p-value 출력\n",
    "#p-value < 0.05일 경우 상관관계가 존재한다고 볼 수 있음, 이 경우에는 X"
   ]
  },
  {
   "cell_type": "code",
   "execution_count": null,
   "id": "ffed11f0",
   "metadata": {},
   "outputs": [],
   "source": [
    "stats.pearsonr(mar_bir.sq11.values, mar_bir.q3_2.values)\n",
    "#p-value < 0.05 상관관게 존재"
   ]
  },
  {
   "cell_type": "code",
   "execution_count": null,
   "id": "7b07670a",
   "metadata": {},
   "outputs": [],
   "source": [
    "#추세선 시각화\n",
    "sns.regplot(mar_bir.sq11.values, mar_bir.q3_2.values, fit_reg= True)"
   ]
  },
  {
   "cell_type": "code",
   "execution_count": null,
   "id": "f7440c86",
   "metadata": {},
   "outputs": [],
   "source": [
    "#pairplot: 여러 변수 각각의 상관관계\n",
    "sns.pairplot(mar_bir[['sq11', 'sq12', 'q1_6', 'q1_10', 'q3_2']],\n",
    "kind= 'reg')"
   ]
  },
  {
   "cell_type": "code",
   "execution_count": null,
   "id": "59f4688a",
   "metadata": {},
   "outputs": [],
   "source": [
    "#상관계수와 상관계수 행렬\n",
    "df1= mar_bir[['sq11', 'sq12', 'q1_6', 'q1_10', 'q3_2']]\n",
    "df1.corr().round(2)"
   ]
  },
  {
   "cell_type": "code",
   "execution_count": null,
   "id": "c6eaff4a",
   "metadata": {},
   "outputs": [],
   "source": [
    "#상관계수 행렬의 시각화: heatmap을 주로 활용\n",
    "fig = plt.figure()\n",
    "heatmap = fig.add_subplot(1,1,1)\n",
    "heatmap = sns.heatmap(df1.corr(), annot=True, \n",
    "                      cmap = 'RdYlBu_r', vmin=-1, vmax=1)"
   ]
  },
  {
   "cell_type": "markdown",
   "id": "9ffd70df",
   "metadata": {},
   "source": [
    "# 회귀분석 - 단순회귀, 다중회귀분석"
   ]
  },
  {
   "cell_type": "code",
   "execution_count": null,
   "id": "3088137a",
   "metadata": {},
   "outputs": [],
   "source": [
    "from statsmodels.formula.api import ols"
   ]
  },
  {
   "cell_type": "code",
   "execution_count": null,
   "id": "613c05fe",
   "metadata": {},
   "outputs": [],
   "source": [
    "#단순회귀분석\n",
    "reg1 = ols('sq11 ~ sq4', mar_bir).fit()\n",
    "# 모형 유의미함 p= 0.00 R^= 0.039 (3.9% 설명력 가진 모형) \n",
    "# 학력수준이 높을수록 소득수준 높아진다\n",
    "# 회귀식 Y= 3.65+ 0.46X + error\n",
    "reg1.summary()"
   ]
  },
  {
   "cell_type": "code",
   "execution_count": null,
   "id": "aca09f74",
   "metadata": {},
   "outputs": [],
   "source": [
    "m_reg1 = ols('q1_6 ~ sq11+ sq12+ q2_5', data= mar_bir).fit()\n",
    "m_reg1.summary()\n",
    "# 모형은 유의미함 p= 0.004 R^= 0.02 (2% 설명력 가진 모형)\n",
    "# 부모님의 경제수준이 낮을수록 결혼만족도 낮아진다\n",
    "# 육아병행하기 좋은직장일수록 결혼만족도 높아진다\n",
    "# 본인의 소득수준은 유의미한 예측변수가 아니다\n",
    "# 회귀방정식 Y= 4.03+ 0.00X1 = 0.09X2 + 0.04X3 +error"
   ]
  },
  {
   "cell_type": "code",
   "execution_count": null,
   "id": "0528cdf6",
   "metadata": {},
   "outputs": [],
   "source": [
    "#3가지 변수에 대한 scatterplot의 시각화(x, y, z)\n",
    "\n",
    "import matplotlib.pyplot as plt\n",
    "from mpl_toolkits.mplot3d import axes3d\n",
    "fig = plt.figure()\n",
    "fig.suptitle('Regression: Factors Affecting the Number of Desired Children', fontsize=20)\n",
    "ax = axes3d.Axes3D(fig)\n",
    "ax.scatter3D(mar_bir.q1_13_7, mar_bir.q3_2, mar_bir.q1_10, c='r')"
   ]
  },
  {
   "cell_type": "markdown",
   "id": "9bec7ec9",
   "metadata": {},
   "source": [
    "# 지도시각화\n"
   ]
  },
  {
   "cell_type": "code",
   "execution_count": null,
   "id": "e3b4757d",
   "metadata": {},
   "outputs": [],
   "source": [
    "import geopy\n",
    "from selenium import webdriver\n",
    "import time\n",
    "import folium\n",
    "import pandas as pd"
   ]
  },
  {
   "cell_type": "code",
   "execution_count": null,
   "id": "c4be0a87",
   "metadata": {},
   "outputs": [],
   "source": [
    "sb = pd.read_csv('dataset_sample/sb_1.csv', encoding = 'cp949')"
   ]
  },
  {
   "cell_type": "code",
   "execution_count": null,
   "id": "40d7cd1d",
   "metadata": {},
   "outputs": [],
   "source": [
    "address= sb['address']"
   ]
  },
  {
   "cell_type": "code",
   "execution_count": null,
   "id": "9d237a35",
   "metadata": {},
   "outputs": [],
   "source": [
    "for i in range(len(address)):\n",
    "    a = address[i].split(' ')\n",
    "    address[i] = \" \".join(a[0:4])\n",
    "print(address)"
   ]
  },
  {
   "cell_type": "code",
   "execution_count": null,
   "id": "c3622bd5",
   "metadata": {},
   "outputs": [],
   "source": [
    "sb['add'] = address\n",
    "print(sb['add'])"
   ]
  },
  {
   "cell_type": "code",
   "execution_count": null,
   "id": "b3e9c4f5",
   "metadata": {},
   "outputs": [],
   "source": [
    "jongro = sb[sb['add'].str.contains('종로구')]\n",
    "reserve = sb[sb['name'].str.contains('R')]\n",
    "print(\"종로구 매장개수:\", len(jongro))\n",
    "print(\"리저브 매장개수:\", len(reserve))"
   ]
  },
  {
   "cell_type": "code",
   "execution_count": null,
   "id": "83187b9d",
   "metadata": {},
   "outputs": [],
   "source": [
    "r_add= reserve['add']\n",
    "r_add"
   ]
  },
  {
   "cell_type": "code",
   "execution_count": null,
   "id": "f06b6404",
   "metadata": {},
   "outputs": [],
   "source": [
    "from geopy.geocoders import Nominatim\n",
    "geo_local = Nominatim(user_agent='South Korea')"
   ]
  },
  {
   "cell_type": "code",
   "execution_count": null,
   "id": "0eb09278",
   "metadata": {},
   "outputs": [],
   "source": [
    "def geocoding(r_add):\n",
    "    geo = geo_local.geocode(r_add)\n",
    "    x_y = [geo.latitude, geo.longitude] \n",
    "    return x_y\n",
    "    # 주소에 맞는 위도 경도를 [x, y] 형태의 리스트로 반환해라 return x_y"
   ]
  },
  {
   "cell_type": "code",
   "execution_count": null,
   "id": "ff51c9bd",
   "metadata": {},
   "outputs": [],
   "source": [
    "latitude = [] \n",
    "longitude= []\n",
    "for i in r_add: \n",
    "    latitude.append(geocoding(i)[0]) \n",
    "    longitude.append(geocoding(i)[1])"
   ]
  },
  {
   "cell_type": "code",
   "execution_count": null,
   "id": "5fa24e7c",
   "metadata": {},
   "outputs": [],
   "source": [
    "sb_R= pd.DataFrame({'스벅R': reserve['name'], \n",
    "                    '주소': reserve['address'],\n",
    "                    '위도': latitude, \n",
    "                    '경도': longitude})\n",
    "print(sb_R)"
   ]
  },
  {
   "cell_type": "code",
   "execution_count": null,
   "id": "8582fb74",
   "metadata": {},
   "outputs": [],
   "source": [
    "sb_R.to_csv('sb_reserve.csv', encoding= 'cp949')"
   ]
  },
  {
   "cell_type": "code",
   "execution_count": null,
   "id": "37e25c61",
   "metadata": {},
   "outputs": [],
   "source": [
    "sb_R[[\"스벅R\", \"위도\", \"경도\"]].head()"
   ]
  },
  {
   "cell_type": "code",
   "execution_count": null,
   "id": "b1efcd7e",
   "metadata": {},
   "outputs": [],
   "source": [
    "lat = sb_R['위도'].mean()\n",
    "long = sb_R['경도'].mean()\n",
    "m = folium.Map([lat, long], zoom_start=12)\n",
    "# 지도위에 마커로 표시\n",
    "# zoom 으로 축척 설정\n",
    "for i in sb_R.index:\n",
    "lat2 = sb_R.loc[i, '위도']\n",
    "long2 = sb_R.loc[i, '경도']\n",
    "title = sb_R.loc[i, '스벅R']\n",
    "folium.Marker([lat2, long2], tooltip = title).add_to(m)\n",
    "m"
   ]
  }
 ],
 "metadata": {
  "kernelspec": {
   "display_name": "Python 3 (ipykernel)",
   "language": "python",
   "name": "python3"
  },
  "language_info": {
   "codemirror_mode": {
    "name": "ipython",
    "version": 3
   },
   "file_extension": ".py",
   "mimetype": "text/x-python",
   "name": "python",
   "nbconvert_exporter": "python",
   "pygments_lexer": "ipython3",
   "version": "3.9.7"
  }
 },
 "nbformat": 4,
 "nbformat_minor": 5
}
