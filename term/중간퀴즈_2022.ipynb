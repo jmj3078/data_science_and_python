{
 "cells": [
  {
   "cell_type": "markdown",
   "id": "4b2841a1",
   "metadata": {},
   "source": [
    "# 파이썬 중간퀴즈 2018312990 조명재"
   ]
  },
  {
   "cell_type": "code",
   "execution_count": 8,
   "id": "bbd25075",
   "metadata": {},
   "outputs": [
    {
     "name": "stdout",
     "output_type": "stream",
     "text": [
      "01011112222\n"
     ]
    }
   ],
   "source": [
    "phone = \"010-1111-2222\"\n",
    "phone1 = phone.replace(\"-\",\"\",2)\n",
    "print(phone1)"
   ]
  },
  {
   "cell_type": "code",
   "execution_count": 5,
   "id": "629784fb",
   "metadata": {},
   "outputs": [
    {
     "name": "stdout",
     "output_type": "stream",
     "text": [
      "이름: 유재석 생년: 1972\n",
      "이름: 조세호 생년: 1982\n"
     ]
    }
   ],
   "source": [
    "name1 = \"유재석\"\n",
    "age1 = 1972\n",
    "name2 = \"조세호\"\n",
    "age2 = 1982\n",
    "\n",
    "print(f\"이름: {name1} 생년: {age1}\")\n",
    "print(f\"이름: {name2} 생년: {age2}\")"
   ]
  },
  {
   "cell_type": "code",
   "execution_count": 9,
   "id": "d4da0212",
   "metadata": {},
   "outputs": [
    {
     "name": "stdout",
     "output_type": "stream",
     "text": [
      "['오징어게임', '지옥', '파친코', '서른 아홉', '나의 아저씨']\n"
     ]
    }
   ],
   "source": [
    "drama = [\"오징어게임\",\"지옥\",\"서른 아홉\",\"나의 아저씨\"]\n",
    "drama.insert(2, \"파친코\")\n",
    "print(drama)"
   ]
  },
  {
   "cell_type": "code",
   "execution_count": 15,
   "id": "ebef8a42",
   "metadata": {},
   "outputs": [
    {
     "name": "stdout",
     "output_type": "stream",
     "text": [
      "(2022, 2026, 2030, 2034, 2038, 2042, 2046, 2050)\n"
     ]
    }
   ],
   "source": [
    "worldcup = tuple(range(2022,2051,4))\n",
    "print(worldcup)"
   ]
  },
  {
   "cell_type": "code",
   "execution_count": 20,
   "id": "5cc6022f",
   "metadata": {},
   "outputs": [
    {
     "name": "stdout",
     "output_type": "stream",
     "text": [
      "{'체리쥬빌레': 2000, '아몬드봉봉': 1800, '그린티': 1500}\n",
      "{'체리쥬빌레': 1300, '아몬드봉봉': 1800, '그린티': 1500}\n"
     ]
    }
   ],
   "source": [
    "baskin = {\"체리쥬빌레\":2000, \"아몬드봉봉\":1800, \"그린티\":1500}\n",
    "print(baskin)\n",
    "baskin[\"체리쥬빌레\"] = 1300\n",
    "print(baskin)"
   ]
  },
  {
   "cell_type": "code",
   "execution_count": null,
   "id": "cc01541f",
   "metadata": {},
   "outputs": [],
   "source": [
    "kg = {\"온스\":0.028,\n",
    "     \"파운드\":0.45,\n",
    "     \"근\":0.6}\n",
    "\n",
    "meat = input(\"입력: \")\n",
    "unit = meat[2:]\n",
    "num = int(meat[0])\n",
    "print(kg[unit]*num, \"kg\")\n",
    "\n",
    "#re API를 사용하면 문자열에서 숫자만 추출 가능"
   ]
  },
  {
   "cell_type": "code",
   "execution_count": 41,
   "id": "64624bc9",
   "metadata": {},
   "outputs": [
    {
     "name": "stdout",
     "output_type": "stream",
     "text": [
      "영화 제작비를 입력하세요: 20000000\n",
      "마케팅비를 입력하세요: 30000000\n",
      "관객수를 입력하세요: 2000\n",
      "흥행 실패입니다\n"
     ]
    }
   ],
   "source": [
    "production= int(input(\"영화 제작비를 입력하세요: \"))\n",
    "marketing= int(input(\"마케팅비를 입력하세요: \"))\n",
    "audience= int(input(\"관객수를 입력하세요: \")) \n",
    "\n",
    "total_interest= audience * 10000\n",
    "\n",
    "if (production + marketing) < total_interest:\n",
    "    print(\"흥행 성공입니다\")\n",
    "elif (production + marketing) == total_interest:\n",
    "    print(\"손익분기점입니다\")\n",
    "else:\n",
    "    print(\"흥행 실패입니다\")"
   ]
  },
  {
   "cell_type": "code",
   "execution_count": 44,
   "id": "ea201c08",
   "metadata": {},
   "outputs": [
    {
     "name": "stdout",
     "output_type": "stream",
     "text": [
      "400000.0\n",
      "1100000.0\n"
     ]
    }
   ],
   "source": [
    "def donation(salary):\n",
    "    if salary >= 50000000:\n",
    "        return salary*0.02\n",
    "    \n",
    "    else:\n",
    "        return salary*0.01\n",
    "\n",
    "print(donation(40000000))\n",
    "print(donation(55000000))"
   ]
  },
  {
   "cell_type": "code",
   "execution_count": 48,
   "id": "3bc59549",
   "metadata": {},
   "outputs": [
    {
     "name": "stdout",
     "output_type": "stream",
     "text": [
      "다음 21대 대선은 2027년입니다\n"
     ]
    }
   ],
   "source": [
    "class President:\n",
    "    def __init__(self, order, year):\n",
    "        self.order = order\n",
    "        self.year = year\n",
    "    def nextelection(self):\n",
    "        nextorder = self.order + 1\n",
    "        nextyear = self.year + 5\n",
    "        print(\"다음 {0}대 대선은 {1}년입니다\".format(nextorder, nextyear))\n",
    "\n",
    "election = President(20, 2022)\n",
    "election.nextelection()"
   ]
  },
  {
   "cell_type": "code",
   "execution_count": 53,
   "id": "e80810e1",
   "metadata": {},
   "outputs": [
    {
     "name": "stdout",
     "output_type": "stream",
     "text": [
      "   종목  인원수 경기장\n",
      "0  배구    6  실내\n",
      "1  축구   11  실외\n",
      "2  농구   12  실내\n",
      "3  야구    9  실외\n"
     ]
    }
   ],
   "source": [
    "import pandas as pd\n",
    "\n",
    "종목 = [\"배구\",\"축구\",\"농구\",\"야구\"]\n",
    "인원수 = [6,11,12,9]\n",
    "경기장 = [\"실내\",\"실외\",\"실내\",\"실외\"]\n",
    "\n",
    "dataset = list(zip(종목, 인원수, 경기장))\n",
    "\n",
    "sports = pd.DataFrame(data = dataset, columns = [\"종목\",\"인원수\",\"경기장\"])\n",
    "print(sports)"
   ]
  }
 ],
 "metadata": {
  "kernelspec": {
   "display_name": "Python 3 (ipykernel)",
   "language": "python",
   "name": "python3"
  },
  "language_info": {
   "codemirror_mode": {
    "name": "ipython",
    "version": 3
   },
   "file_extension": ".py",
   "mimetype": "text/x-python",
   "name": "python",
   "nbconvert_exporter": "python",
   "pygments_lexer": "ipython3",
   "version": "3.9.7"
  }
 },
 "nbformat": 4,
 "nbformat_minor": 5
}
