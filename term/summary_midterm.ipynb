{
 "cells": [
  {
   "cell_type": "code",
   "execution_count": 108,
   "id": "4ad0255e",
   "metadata": {},
   "outputs": [
    {
     "name": "stdout",
     "output_type": "stream",
     "text": [
      "ell\n",
      "hexxo world!\n",
      "<class 'int'>\n",
      "<class 'str'>\n",
      "<class 'float'>\n",
      "pythonpython\n",
      "python is fun\n",
      "6\n",
      "y\n",
      "h\n",
      "True\n",
      "True\n",
      "True\n",
      "False\n",
      "True\n"
     ]
    }
   ],
   "source": [
    "###20220406 중간퀴즈대비###\n",
    "#문자열\n",
    "arr = (\"hello world!\")\n",
    "print(arr[1:4])\n",
    "print(arr.replace(\"l\",\"x\",2))\n",
    "\n",
    "print(type(3+3)) #type 함수를 통해 객체의 자료형 / 또는 클래스를 출력한다\n",
    "print(type(\"string\"))\n",
    "print(type(1.234))\n",
    "type(\"string\") == str #True 출력\n",
    "\n",
    "head = \"python\"\n",
    "tail = \" is fun\"\n",
    "print(head*2)\n",
    "print(head + tail)\n",
    "\n",
    "print(len(head)) #길이반환\n",
    "print(max(head)) #문자열도 max, min과 같은 내장함수를 모두 적용할 수 있다. ASCII코드 순으로 출력\n",
    "print(min(head))\n",
    "\n",
    "1+1\n",
    "10-5\n",
    "10*4\n",
    "100/8\n",
    "\n",
    "abs(-3)   # 절대값 돌려주기\n",
    "abs(3.3)\n",
    "abs(-4.5)\n",
    "\n",
    "int(3.5)\n",
    "int(-5.7)\n",
    "int(4.8)\n",
    "#float > int자료형 변환되면서 소수점이 버려진다\n",
    "\n",
    "round(3.8) #반올림\n",
    "round(5.125124, 3) #소수점자리 설정\n",
    "\n",
    "print(all([1,2,3]))\n",
    "print(all((1,2,3)))\n",
    "print(all({1,2,3}))\n",
    "print(all([1,2,0])) \n",
    "print(all(\"1230456\"))\n",
    "#all 함수: 리스트, 튜플, 집합 등에만 적용되며, 하나라도 0인 값이 있으면 False를 반환한다\n",
    "#요소 중 하나라도 거짓인 값이 있으면 false반환\n"
   ]
  },
  {
   "cell_type": "code",
   "execution_count": 18,
   "id": "6bc60fe9",
   "metadata": {
    "scrolled": true
   },
   "outputs": [
    {
     "name": "stdout",
     "output_type": "stream",
     "text": [
      "I have 5 apples, discount rate is ten percent\n",
      "I have 5 apples, discount rate is ten percent\n",
      "I have 5 apples, discount rate is ten percent\n",
      "I have 5 apples, discount rate is ten percent\n"
     ]
    }
   ],
   "source": [
    "#문자열 인덱싱\n",
    "#정수 : %d\n",
    "#문자 : %s\n",
    "#f\"~{}~\"형태 : 바로 변수를 집어젛을 수 있다\n",
    "#format 함수 : {0}, {1}, {2}.. 이렇게 쓰고 .format(a,b,c)사용\n",
    "n = 5\n",
    "percent = \"ten\"\n",
    "print(\"I have %d apples, discount rate is %s percent\" %(5, \"ten\"))\n",
    "print(\"I have %d apples, discount rate is %s percent\" %(n, percent))\n",
    "print(f\"I have {n} apples, discount rate is {percent} percent\")\n",
    "print(\"I have {0} apples, discount rate is {1} percent\".format(n,percent))"
   ]
  },
  {
   "cell_type": "markdown",
   "id": "53f3cbcf",
   "metadata": {},
   "source": [
    "# 리스트, 튜플, 딕셔너리, 집합, BOOL자료형"
   ]
  },
  {
   "cell_type": "code",
   "execution_count": 20,
   "id": "a0579287",
   "metadata": {},
   "outputs": [
    {
     "name": "stdout",
     "output_type": "stream",
     "text": [
      "[1, 2, 3, 4, 5, 6]\n",
      "[1, 2, 3, 1, 2, 3, 1, 2, 3]\n",
      "[1, 2, 4, 4, 5]\n"
     ]
    }
   ],
   "source": [
    "#리스트 연산하기\n",
    "#리스트 간의 덧셈 : 리스트가 이어붙어짐\n",
    "a = [1, 2, 3]\n",
    "b = [4, 5, 6]\n",
    "print(a + b)\n",
    "\n",
    "print(a * 3)#리스트 3번 반복\n",
    "\n",
    "len(b) #리스트의 길이\n",
    "\n",
    "#리스트의 수정과 삭제 : 리스트는 내용의 수정이 가능\n",
    "a = [1,2,3,4,5]\n",
    "a[2]\n",
    "a[2] = 4\n",
    "print(a)"
   ]
  },
  {
   "cell_type": "code",
   "execution_count": 41,
   "id": "05c0f01e",
   "metadata": {},
   "outputs": [
    {
     "name": "stdout",
     "output_type": "stream",
     "text": [
      "[1, 2, 3, 4, 5, [1, 2]]\n",
      "[1, 2, 3, 4, 5]\n",
      "[5, 4, 3, 2, 1]\n",
      "0\n",
      "[1, 1, 2, 5, 3, 4]\n",
      "[1, 2, 5, 3, 4]\n",
      "[1, 2, 3, 4]\n",
      "2\n"
     ]
    }
   ],
   "source": [
    "#list에 사용가능한 메서드 정리\n",
    "a = [1, 2, 3, 4, 5]\n",
    "a.append([1,2])\n",
    "print(a)\n",
    "\n",
    "del a[5:]\n",
    "print(a)\n",
    "\n",
    "a.sort()\n",
    "a.sort(reverse = True) #역순정렬후 저장\n",
    "print(a)\n",
    "\n",
    "a = [1, 1, 2, 3, 4]\n",
    "print(a.index(1)) #원소 중 인덱스가 0에 가까운 값 출력\n",
    "\n",
    "a.insert(3,5) #index가 3인 곳에 5 삽입\n",
    "print(a)\n",
    "\n",
    "a.remove(1) #a에서 1 제거, 단, 처음에 나오는 요소만 제거한다\n",
    "print(a)\n",
    "\n",
    "#pop : list의 메서드, 마지막 요소 꺼낸 뒤 리스트에서 삭제\n",
    "a = [1, 2, 3, 4, 5]\n",
    "a.pop() #5출력\n",
    "print(a) #기존 리스트에선 마지막 요소 5삭제\n",
    "\n",
    "#count : list의 메서드, 리스트 안에 특정 요소 수를 세어준다\n",
    "a = [1,2,3,1,2,3,4,3,4]\n",
    "print(a.count(4)) #4는 2개 있다"
   ]
  },
  {
   "cell_type": "code",
   "execution_count": 42,
   "id": "eddf9e09",
   "metadata": {},
   "outputs": [
    {
     "ename": "AttributeError",
     "evalue": "'tuple' object has no attribute 'remove'",
     "output_type": "error",
     "traceback": [
      "\u001b[0;31m---------------------------------------------------------------------------\u001b[0m",
      "\u001b[0;31mAttributeError\u001b[0m                            Traceback (most recent call last)",
      "\u001b[0;32m/var/folders/c2/hfgvv7gx5wn44rgqtk43khyw0000gn/T/ipykernel_57073/1498485687.py\u001b[0m in \u001b[0;36m<module>\u001b[0;34m\u001b[0m\n\u001b[1;32m      1\u001b[0m \u001b[0mt1\u001b[0m \u001b[0;34m=\u001b[0m \u001b[0;34m(\u001b[0m\u001b[0;36m1\u001b[0m\u001b[0;34m,\u001b[0m\u001b[0;36m2\u001b[0m\u001b[0;34m,\u001b[0m\u001b[0;36m3\u001b[0m\u001b[0;34m,\u001b[0m\u001b[0;36m4\u001b[0m\u001b[0;34m)\u001b[0m\u001b[0;34m\u001b[0m\u001b[0;34m\u001b[0m\u001b[0m\n\u001b[0;32m----> 2\u001b[0;31m \u001b[0mt1\u001b[0m\u001b[0;34m.\u001b[0m\u001b[0mremove\u001b[0m\u001b[0;34m(\u001b[0m\u001b[0;36m4\u001b[0m\u001b[0;34m)\u001b[0m\u001b[0;34m\u001b[0m\u001b[0;34m\u001b[0m\u001b[0m\n\u001b[0m\u001b[1;32m      3\u001b[0m \u001b[0mt1\u001b[0m\u001b[0;34m.\u001b[0m\u001b[0mappend\u001b[0m\u001b[0;34m(\u001b[0m\u001b[0;36m5\u001b[0m\u001b[0;34m)\u001b[0m \u001b[0;31m#tuple class 이기 때문에 list class의 메서드는 동작하지 않음\u001b[0m\u001b[0;34m\u001b[0m\u001b[0;34m\u001b[0m\u001b[0m\n\u001b[1;32m      4\u001b[0m \u001b[0mprint\u001b[0m\u001b[0;34m(\u001b[0m\u001b[0mt1\u001b[0m\u001b[0;34m)\u001b[0m\u001b[0;34m\u001b[0m\u001b[0;34m\u001b[0m\u001b[0m\n",
      "\u001b[0;31mAttributeError\u001b[0m: 'tuple' object has no attribute 'remove'"
     ]
    }
   ],
   "source": [
    "t1 = (1,2,3,4)\n",
    "t1.remove(4)\n",
    "t1.append(5) #tuple class 이기 때문에 list class의 메서드는 동작하지 않음\n",
    "print(t1)"
   ]
  },
  {
   "cell_type": "code",
   "execution_count": 44,
   "id": "8ad60426",
   "metadata": {
    "scrolled": true
   },
   "outputs": [
    {
     "name": "stdout",
     "output_type": "stream",
     "text": [
      "1\n",
      "(1,)\n",
      "a\n",
      "(3, 'a', 'b')\n",
      "((1, 2, 3, 'a', 'b', 'c'), (1,))\n",
      "<class 'tuple'>\n",
      "(1, 2, 3, 'a', 'b', 'c', 5, 6, 7)\n",
      "(5, 6, 7, 5, 6, 7, 5, 6, 7)\n"
     ]
    }
   ],
   "source": [
    "#튜플의 형태\n",
    "t1 = () #비어있는 튜플\n",
    "t2 = (1, ) #원소가 1개일 경우 심표로 마무리 해야한다\n",
    "t3 = (1,2,3)\n",
    "t4 = 1,2,3 #괄호 생략 가능, 하지만 생략하지 않는게 좋다\n",
    "t5 = (1,2,('a','b')) #튜플 안에 튜플\n",
    "\n",
    "t1 = (1) #정수출력\n",
    "print(t1)\n",
    "t1 = (1, ) #튜플출력\n",
    "print(t1)\n",
    "\n",
    "#튜플 인덱싱\n",
    "t1 = (1,2,3, 'a','b','c')\n",
    "print(t1[3])\n",
    "\n",
    "#튜플 슬라이싱\n",
    "print(t1[2:5])\n",
    "\n",
    "#튜플 합하기 : 요소값 변경은 안되나 중첩은 가능함, 새로운 튜플 안에 기존 튜플 2개를 넣는것\n",
    "t3 = (t1, t2)\n",
    "print(t3)\n",
    "\n",
    "#튜플 덧셈 : 모든 원소를 이어붙이기, 새로운 튜플을 생성한다, 리스트 연산과 동일\n",
    "t2 = (5,6,7)\n",
    "t1 + t2\n",
    "t3 = t1 + t2\n",
    "print(type(t3))\n",
    "print(t3)\n",
    "\n",
    "#튜플 곱셈 : 리스트와 동일~ 반복\n",
    "print(3*t2)"
   ]
  },
  {
   "cell_type": "code",
   "execution_count": 53,
   "id": "5f46cf52",
   "metadata": {},
   "outputs": [
    {
     "name": "stdout",
     "output_type": "stream",
     "text": [
      "apple\n",
      "{'name': 'kim', 'phone': '01012345678', 'birth': '0923'}\n",
      "{'name': 'kim', 'phone': '01012345678', 'birth': '0923', 'class': 'warrior'}\n",
      "{'phone': '01012345678', 'birth': '0923', 'class': 'warrior'}\n"
     ]
    }
   ],
   "source": [
    "#딕셔너리\n",
    "#딕셔너리의 형태: \"key\":\"value\"\n",
    "a = {}\n",
    "a = {1 : \"hi\"}\n",
    "a = {\"a\": [1,2,3]}\n",
    "dic = {\"name\" : \"kim\", \"phone\":\"01012345678\", \"birth\":\"0923\"}\n",
    "\n",
    "# key 사용시 해당하는 value 반환\n",
    "a = {1 : \"apple\", 2 : \"samsung\"}\n",
    "\n",
    "print(a[1])  \n",
    "#여러 쌍으로 이뤄진 딕셔너리\n",
    "print(dic)\n",
    "\n",
    "#요소추가\n",
    "dic[\"class\"] = \"warrior\" #key값과 value값을 넣어서 추가해줌\n",
    "print(dic)\n",
    "\n",
    "del dic[\"name\"] #key 값이 \"name\"인 쌍을 제거\n",
    "print(dic)"
   ]
  },
  {
   "cell_type": "code",
   "execution_count": 54,
   "id": "f9578565",
   "metadata": {},
   "outputs": [
    {
     "data": {
      "text/plain": [
       "'c'"
      ]
     },
     "execution_count": 54,
     "metadata": {},
     "output_type": "execute_result"
    }
   ],
   "source": [
    "#딕셔너리 내의 key값은 중복되면 안됨, 오류는 나지 않지만\n",
    "#중복시 가장 최근에 만든 쌍으로 덮어씌워짐\n",
    "a = {1 : 'a', 2 : 'b', 2 : 'c'}   # 2 : b 가 2 : c 로 대체 \n",
    "a[2]"
   ]
  },
  {
   "cell_type": "code",
   "execution_count": 55,
   "id": "d90ba399",
   "metadata": {},
   "outputs": [
    {
     "name": "stdout",
     "output_type": "stream",
     "text": [
      "{(1, 2, 3): 'apple'}\n"
     ]
    },
    {
     "data": {
      "text/plain": [
       "'apple'"
      ]
     },
     "execution_count": 55,
     "metadata": {},
     "output_type": "execute_result"
    }
   ],
   "source": [
    "# Key값으로 리스트는 올 수 없으나 튜플은 가능, key는 변하지 않는 값이어야 함\n",
    "# 원소가 여러개인 데이터를 key 값으로 쓰고싶다면 튜플을 사용하면 된다\n",
    "a= {(1,2,3): 'apple'}\n",
    "print(a)\n",
    "a[(1,2,3)]"
   ]
  },
  {
   "cell_type": "code",
   "execution_count": 63,
   "id": "9c0804a6",
   "metadata": {},
   "outputs": [
    {
     "name": "stdout",
     "output_type": "stream",
     "text": [
      "dict_keys(['name', 'phone', 'birth'])\n",
      "<class 'dict_keys'>\n",
      "name\n",
      "phone\n",
      "birth\n"
     ]
    },
    {
     "data": {
      "text/plain": [
       "['name', 'phone', 'birth']"
      ]
     },
     "execution_count": 63,
     "metadata": {},
     "output_type": "execute_result"
    }
   ],
   "source": [
    "#keys : 딕셔너리의 메서드, key값들을 반환하며 \"dict_key\"라는 객체로 반환된다.\n",
    "a= {'name': 'kim', 'phone': '01012345678', 'birth': '0923'}\n",
    "print(a.keys())\n",
    "print(type(a.keys()))\n",
    "for k in a.keys():\n",
    "    print(k)\n",
    "\n",
    "    \n",
    "#a.key의 객체를 리스트 형태로 변환\n",
    "list(a.keys())"
   ]
  },
  {
   "cell_type": "code",
   "execution_count": 65,
   "id": "912a89a3",
   "metadata": {},
   "outputs": [
    {
     "name": "stdout",
     "output_type": "stream",
     "text": [
      "dict_values(['kim', '01012345678', '0923'])\n",
      "kim\n",
      "01012345678\n",
      "0923\n"
     ]
    },
    {
     "data": {
      "text/plain": [
       "['kim', '01012345678', '0923']"
      ]
     },
     "execution_count": 65,
     "metadata": {},
     "output_type": "execute_result"
    }
   ],
   "source": [
    "#values : value값을 반환하는 딕셔너리 메서드\n",
    "print(a.values())\n",
    "for v in a.values():\n",
    "    print(v)\n",
    "\n",
    "list(a.values())"
   ]
  },
  {
   "cell_type": "code",
   "execution_count": 70,
   "id": "322a868e",
   "metadata": {},
   "outputs": [
    {
     "name": "stdout",
     "output_type": "stream",
     "text": [
      "kim\n",
      "01012345678\n",
      "0923\n",
      "['kim', '01012345678', '0923']\n"
     ]
    }
   ],
   "source": [
    "#get메서드 : key값으로 value찾기\n",
    "#나름 번거로운 방법이지만 자주 사용된다. 인덱스로 접근하는것보다 자주 쓰이는듯..?\n",
    "\n",
    "value = []\n",
    "a.get(\"name\")\n",
    "for k in a.keys():\n",
    "    print(a.get(k))\n",
    "    value.append(a.get(k))\n",
    "    \n",
    "print(value)"
   ]
  },
  {
   "cell_type": "code",
   "execution_count": 77,
   "id": "62997c96",
   "metadata": {},
   "outputs": [
    {
     "name": "stdout",
     "output_type": "stream",
     "text": [
      "[('name', 'kim'), ('phone', '01012345678'), ('birth', '0923')]\n"
     ]
    },
    {
     "ename": "TypeError",
     "evalue": "list indices must be integers or slices, not list",
     "output_type": "error",
     "traceback": [
      "\u001b[0;31m---------------------------------------------------------------------------\u001b[0m",
      "\u001b[0;31mTypeError\u001b[0m                                 Traceback (most recent call last)",
      "\u001b[0;32m/var/folders/c2/hfgvv7gx5wn44rgqtk43khyw0000gn/T/ipykernel_57073/2576460990.py\u001b[0m in \u001b[0;36m<module>\u001b[0;34m\u001b[0m\n\u001b[1;32m      4\u001b[0m \u001b[0mprint\u001b[0m\u001b[0;34m(\u001b[0m\u001b[0mitems\u001b[0m\u001b[0;34m)\u001b[0m\u001b[0;34m\u001b[0m\u001b[0;34m\u001b[0m\u001b[0m\n\u001b[1;32m      5\u001b[0m \u001b[0mitems\u001b[0m\u001b[0;34m[\u001b[0m\u001b[0;36m0\u001b[0m\u001b[0;34m]\u001b[0m\u001b[0;34m\u001b[0m\u001b[0;34m\u001b[0m\u001b[0m\n\u001b[0;32m----> 6\u001b[0;31m \u001b[0mitems\u001b[0m\u001b[0;34m[\u001b[0m\u001b[0;34m[\u001b[0m\u001b[0;36m0\u001b[0m\u001b[0;34m]\u001b[0m\u001b[0;34m]\u001b[0m\u001b[0;34m\u001b[0m\u001b[0;34m\u001b[0m\u001b[0m\n\u001b[0m",
      "\u001b[0;31mTypeError\u001b[0m: list indices must be integers or slices, not list"
     ]
    }
   ],
   "source": [
    "#items : 딕셔너리의 메서드, key, value의 쌍을 튜플 형태로 묶은 뒤 반환,\n",
    "#\"dict_items\"라는 객체로 반환\n",
    "items = list(a.items())\n",
    "print(items)\n",
    "items[0]\n",
    "items[[0]] #오류반환"
   ]
  },
  {
   "cell_type": "code",
   "execution_count": 80,
   "id": "a1af8fcf",
   "metadata": {},
   "outputs": [
    {
     "data": {
      "text/plain": [
       "True"
      ]
     },
     "execution_count": 80,
     "metadata": {},
     "output_type": "execute_result"
    }
   ],
   "source": [
    "\"name\" in a #key값만 확인한다. 메모리할당된 변수는 key이기 때문이다."
   ]
  },
  {
   "cell_type": "code",
   "execution_count": 81,
   "id": "db089ebb",
   "metadata": {},
   "outputs": [
    {
     "data": {
      "text/plain": [
       "False"
      ]
     },
     "execution_count": 81,
     "metadata": {},
     "output_type": "execute_result"
    }
   ],
   "source": [
    "\"kim\" in a #value값으론 접근할 수 없다."
   ]
  },
  {
   "cell_type": "code",
   "execution_count": 86,
   "id": "6b1e0fb9",
   "metadata": {},
   "outputs": [
    {
     "name": "stdout",
     "output_type": "stream",
     "text": [
      "{1, 2, 3, 4, 5}\n"
     ]
    },
    {
     "ename": "TypeError",
     "evalue": "'set' object is not subscriptable",
     "output_type": "error",
     "traceback": [
      "\u001b[0;31m---------------------------------------------------------------------------\u001b[0m",
      "\u001b[0;31mTypeError\u001b[0m                                 Traceback (most recent call last)",
      "\u001b[0;32m/var/folders/c2/hfgvv7gx5wn44rgqtk43khyw0000gn/T/ipykernel_57073/2574825335.py\u001b[0m in \u001b[0;36m<module>\u001b[0;34m\u001b[0m\n\u001b[1;32m      5\u001b[0m \u001b[0;34m\u001b[0m\u001b[0m\n\u001b[1;32m      6\u001b[0m \u001b[0ma\u001b[0m \u001b[0;34m=\u001b[0m \u001b[0;34m{\u001b[0m\u001b[0;36m1\u001b[0m\u001b[0;34m,\u001b[0m \u001b[0;36m2\u001b[0m\u001b[0;34m,\u001b[0m \u001b[0;36m3\u001b[0m\u001b[0;34m,\u001b[0m \u001b[0;36m4\u001b[0m\u001b[0;34m,\u001b[0m \u001b[0;36m5\u001b[0m\u001b[0;34m}\u001b[0m\u001b[0;34m\u001b[0m\u001b[0;34m\u001b[0m\u001b[0m\n\u001b[0;32m----> 7\u001b[0;31m \u001b[0ma\u001b[0m\u001b[0;34m[\u001b[0m\u001b[0;36m0\u001b[0m\u001b[0;34m]\u001b[0m\u001b[0;34m\u001b[0m\u001b[0;34m\u001b[0m\u001b[0m\n\u001b[0m",
      "\u001b[0;31mTypeError\u001b[0m: 'set' object is not subscriptable"
     ]
    }
   ],
   "source": [
    "#집합\n",
    "#집합특징 : 인덱스 없음, 중복값 없음. 따라서 중복을 없에고 싶으면 집합으로 변환만 해주면 된다\n",
    "a = [1, 1, 2, 2, 3, 3, 4, 4, 4, 5]\n",
    "print(set(a))\n",
    "\n",
    "a = {1, 2, 3, 4, 5}\n",
    "a[0] #인덱스 없음. 접근불가"
   ]
  },
  {
   "cell_type": "code",
   "execution_count": 88,
   "id": "ff8f7a8a",
   "metadata": {},
   "outputs": [
    {
     "name": "stdout",
     "output_type": "stream",
     "text": [
      "1\n",
      "2\n",
      "3\n",
      "4\n",
      "5\n"
     ]
    }
   ],
   "source": [
    "for i in a:\n",
    "  print(i) #for문을 통한 요소 접근"
   ]
  },
  {
   "cell_type": "code",
   "execution_count": 89,
   "id": "fb171d67",
   "metadata": {},
   "outputs": [
    {
     "ename": "TypeError",
     "evalue": "unhashable type: 'set'",
     "output_type": "error",
     "traceback": [
      "\u001b[0;31m---------------------------------------------------------------------------\u001b[0m",
      "\u001b[0;31mTypeError\u001b[0m                                 Traceback (most recent call last)",
      "\u001b[0;32m/var/folders/c2/hfgvv7gx5wn44rgqtk43khyw0000gn/T/ipykernel_57073/487931105.py\u001b[0m in \u001b[0;36m<module>\u001b[0;34m\u001b[0m\n\u001b[0;32m----> 1\u001b[0;31m \u001b[0mseta\u001b[0m \u001b[0;34m=\u001b[0m \u001b[0;34m{\u001b[0m\u001b[0;34m{\u001b[0m\u001b[0;36m1\u001b[0m\u001b[0;34m,\u001b[0m\u001b[0;36m2\u001b[0m\u001b[0;34m}\u001b[0m\u001b[0;34m,\u001b[0m\u001b[0;34m{\u001b[0m\u001b[0;36m3\u001b[0m\u001b[0;34m,\u001b[0m\u001b[0;36m4\u001b[0m\u001b[0;34m}\u001b[0m\u001b[0;34m,\u001b[0m\u001b[0;36m5\u001b[0m\u001b[0;34m,\u001b[0m\u001b[0;36m6\u001b[0m\u001b[0;34m}\u001b[0m \u001b[0;31m#set 안에 set 불가능\u001b[0m\u001b[0;34m\u001b[0m\u001b[0;34m\u001b[0m\u001b[0m\n\u001b[0m",
      "\u001b[0;31mTypeError\u001b[0m: unhashable type: 'set'"
     ]
    }
   ],
   "source": [
    "seta = {{1,2},{3,4},5,6} #set 안에 set 불가능"
   ]
  },
  {
   "cell_type": "code",
   "execution_count": 91,
   "id": "2ae2b7d4",
   "metadata": {},
   "outputs": [
    {
     "data": {
      "text/plain": [
       "{'1', '2', '3', 'e', 'h', 'l', 'o'}"
      ]
     },
     "execution_count": 91,
     "metadata": {},
     "output_type": "execute_result"
    }
   ],
   "source": [
    "s2 = set(\"123hello\")\n",
    "s2 ##순서가 없다, 자동으로 오름차순 정렬(숫자/문자 ASCII코드순)"
   ]
  },
  {
   "cell_type": "code",
   "execution_count": 93,
   "id": "47fc1eea",
   "metadata": {},
   "outputs": [
    {
     "name": "stdout",
     "output_type": "stream",
     "text": [
      "[1, 2, 3, 4, 5]\n",
      "(1, 2, 3, 4, 5)\n",
      "{1, 2, 3, 4, 5}\n"
     ]
    }
   ],
   "source": [
    "fruits = {\"grape\", \"orange\", \"banana\",\"banana\"}\n",
    "fruits #중복되는 원소는 제거된다. set만의 특징.\n",
    "\n",
    "s1 = set([5,2,3,4,1])\n",
    "l1 = list(s1)\n",
    "t1 = tuple(s1)\n",
    "\n",
    "print(l1) #자동정렬되어 1 2 3 4 5 순으로 출력된다\n",
    "print(t1)\n",
    "print(s1)"
   ]
  },
  {
   "cell_type": "code",
   "execution_count": 94,
   "id": "dca9a9b7",
   "metadata": {},
   "outputs": [
    {
     "name": "stdout",
     "output_type": "stream",
     "text": [
      "{4, 5, 6}\n",
      "{4, 5, 6}\n",
      "{1, 2, 3, 4, 5, 6, 7, 8, 9}\n",
      "{1, 2, 3, 4, 5, 6, 7, 8, 9}\n",
      "{1, 2, 3}\n",
      "{1, 2, 3}\n",
      "{1, 2, 3, 7, 8, 9}\n",
      "{1, 2, 3, 7, 8, 9}\n",
      "{1, 2, 3, 4, 5, 6}\n"
     ]
    },
    {
     "data": {
      "text/plain": [
       "{1, 2, 3, 4, 5, 6}"
      ]
     },
     "execution_count": 94,
     "metadata": {},
     "output_type": "execute_result"
    }
   ],
   "source": [
    "s1 = {1,2,3,4,5,6}\n",
    "s2 = {4,5,6,7,8,9}\n",
    "print(s1&s2) #교집합 : &\n",
    "print(s1.intersection(s2)) #intersection method\n",
    "\n",
    "print(s1|s2) #합집합 : |\n",
    "print(s1.union(s2)) #union method\n",
    "\n",
    "print(s1-s2) #차집합 \n",
    "print(s1.difference(s2)) #차집합 s1 - s2\n",
    "\n",
    "#대칭차집합 : 합집합에서 교집합을 뺀 나머지 (AUB - AB)\n",
    "print(s1 ^ s2)\n",
    "print((s1|s2) - (s1&s2))\n",
    "\n",
    "#한번에 여러 값 추가 : update함수\n",
    "s1 = set([1,3,5])\n",
    "s1.update([2,4,6])\n",
    "print(s1)\n",
    "\n",
    "#한번에 한 값 제거 : remove\n",
    "s1.remove(3)\n",
    "s1\n",
    "\n",
    "#한번에 한 값 더하기 : add\n",
    "s1.add(3)\n",
    "s1"
   ]
  },
  {
   "cell_type": "code",
   "execution_count": 96,
   "id": "aa29eb1d",
   "metadata": {},
   "outputs": [
    {
     "name": "stdout",
     "output_type": "stream",
     "text": [
      "True\n",
      "False\n",
      "True\n",
      "True\n",
      "True\n",
      "True\n",
      "False\n",
      "False\n",
      "False\n",
      "False\n"
     ]
    }
   ],
   "source": [
    "#bool 자료형\n",
    "\n",
    "print(bool(1)) #0이 아닌 숫자 값 : True반환\n",
    "print(bool(0)) #0은 False반환\n",
    "print(bool([1,2,3]))\n",
    "print(bool({1,2,3})) #요소가 포함된 집합, 리스트, 튜플 : True로 반환\n",
    "print(bool((1,2,3)))\n",
    "print(bool(\"letter\")) #요소가 있는 문자열도 마찬가지\n",
    "print(bool([]))\n",
    "print(bool({})) #요소가 없는 집합, 리스트, 튜플 : False로 반환\n",
    "print(bool(()))\n",
    "print(bool(\"\")) #요소가 없는 문자열도 마찬가지"
   ]
  },
  {
   "cell_type": "markdown",
   "id": "2bba2c85",
   "metadata": {},
   "source": [
    "# 변수의 이해 : 객체지향 프로그래밍"
   ]
  },
  {
   "cell_type": "code",
   "execution_count": 97,
   "id": "1ec93e34",
   "metadata": {},
   "outputs": [
    {
     "data": {
      "text/plain": [
       "140192430199872"
      ]
     },
     "execution_count": 97,
     "metadata": {},
     "output_type": "execute_result"
    }
   ],
   "source": [
    "#변수 : 객체 / 자료형\n",
    "#객체 = class\n",
    "a = [1,2,3]\n",
    "id(a)\n",
    "#변수 a는 [1,2,3]이라는 리스트가 저장된 메모리의 주소를 가리킴\n",
    "#id함수는 변수가 가리키고 있는 객체의 주소값을 돌려주는 파이썬 내장함수"
   ]
  },
  {
   "cell_type": "code",
   "execution_count": 99,
   "id": "95a48477",
   "metadata": {},
   "outputs": [
    {
     "name": "stdout",
     "output_type": "stream",
     "text": [
      "140192430199872\n",
      "140192430199872\n",
      "True\n"
     ]
    }
   ],
   "source": [
    "#리스트의 복사 / 복사는 새로운 메모리에 할당하는 것이 아닌 가리키는 방향을 복사하는것\n",
    "b = a\n",
    "print(id(a))\n",
    "print(id(b))\n",
    "\n",
    "print(a is b)\n",
    "#두 객체가 완전히 같은 것을 가리키기 때문에 True로 출력, 여기서 is 명령문의 원리를 알 수 있음"
   ]
  },
  {
   "cell_type": "code",
   "execution_count": 100,
   "id": "136da724",
   "metadata": {},
   "outputs": [
    {
     "name": "stdout",
     "output_type": "stream",
     "text": [
      "[1, 4, 3]\n",
      "[1, 4, 3]\n"
     ]
    }
   ],
   "source": [
    "a = [1,2,3]\n",
    "a = b #여기서 선언해도\n",
    "a[1] = 4\n",
    "print(a)\n",
    "print(b) #b는 a와 같은 것을 가리키기 때문에, 이런 식으로 같은 것을 가리키게 된다\n",
    "#이는 매우 중요하다."
   ]
  },
  {
   "cell_type": "code",
   "execution_count": 101,
   "id": "f19eac50",
   "metadata": {},
   "outputs": [
    {
     "data": {
      "text/plain": [
       "False"
      ]
     },
     "execution_count": 101,
     "metadata": {},
     "output_type": "execute_result"
    }
   ],
   "source": [
    "x = [1,2]\n",
    "y = [1,2]\n",
    "x is y\n",
    "#같은 값을 지니고 있지만, 각각 다른 객체를 선언했고 그 결과 각자 다른 메모리 위치를 가지고 있기 떄문에\n",
    "#FALSE가 출력된다"
   ]
  },
  {
   "cell_type": "code",
   "execution_count": 103,
   "id": "fd014c56",
   "metadata": {},
   "outputs": [
    {
     "name": "stdout",
     "output_type": "stream",
     "text": [
      "[1, 'dog']\n",
      "[1, 2]\n"
     ]
    }
   ],
   "source": [
    "x[1] = \"dog\"\n",
    "print(x)\n",
    "print(y) #y는 다른 객체이기 때문에 변하지 않는다"
   ]
  },
  {
   "cell_type": "code",
   "execution_count": 105,
   "id": "2f1ddde8",
   "metadata": {},
   "outputs": [
    {
     "name": "stdout",
     "output_type": "stream",
     "text": [
      "[1, 2, 3]\n",
      "False\n",
      "True\n"
     ]
    }
   ],
   "source": [
    "a = [1,2,3]\n",
    "b = a[:] #a의 내용을 복사해와도 b는 다른 곳에 선언된다. 다른 객체다\n",
    "print(b)\n",
    "print(a is b) #메모리 주소값을 비교하기에 is는 False 를 반환한다 \n",
    "print(a == b) #요소의 같음과 다름을 비교하기에 ==는 True를 반환한다!! (이거 꼭 기억)"
   ]
  },
  {
   "cell_type": "code",
   "execution_count": 107,
   "id": "e53ace98",
   "metadata": {
    "scrolled": true
   },
   "outputs": [
    {
     "name": "stdout",
     "output_type": "stream",
     "text": [
      "[1, 2, 3, 4, 5]\n",
      "False\n",
      "True\n"
     ]
    }
   ],
   "source": [
    "#copy모듈 사용한 원소 복사 : 마찬가지로 요소만 복사해오기떄문에 같은 결과\n",
    "from copy import copy\n",
    "a = [1,2,3,4,5]\n",
    "b = copy(a)\n",
    "print(b)\n",
    "print(a is b)\n",
    "print(a == b)"
   ]
  },
  {
   "cell_type": "markdown",
   "id": "f5710f72",
   "metadata": {},
   "source": [
    "# for, while, if elif else, list comprehension"
   ]
  },
  {
   "cell_type": "code",
   "execution_count": 115,
   "id": "6d7ba76a",
   "metadata": {},
   "outputs": [
    {
     "name": "stdout",
     "output_type": "stream",
     "text": [
      "3\n",
      "[11, 23]\n"
     ]
    }
   ],
   "source": [
    "#for문, if elif else, while\n",
    "#...\n",
    "\n",
    "#함수 설정\n",
    "def mysum(x,y):\n",
    "    return x+y\n",
    "\n",
    "print(mysum(1,2))\n",
    "#lambda샤용\n",
    "\n",
    "\n",
    "#class\n"
   ]
  },
  {
   "cell_type": "code",
   "execution_count": null,
   "id": "6bd1f195",
   "metadata": {},
   "outputs": [],
   "source": [
    "#리스트 comprehension\n",
    "result = []\n",
    "a = [2, 4, 6, 8, 10, 12, 14]\n",
    "for i in a :\n",
    "    if i % 3 == 1:\n",
    "        result.append(i*2+3)\n",
    "        \n",
    "print(result)\n",
    "\n",
    "#list comprehension : 리스트에 for 문과 if 문을 사용할 수 있다.\n",
    "#[최종출력요소/ for문 + 조건문 + .... 순서대로 삽입]\n",
    "result_cph = [i*2+3 for i in a if i%3 == 1]\n",
    "result1 = [i for i in range(1,10)]\n",
    "result2 = [i*2 for i in range(1,100) if i%3 == 0 and i%7 ==0]\n",
    "print(result_cph)\n",
    "print(result1)\n",
    "print(result2)"
   ]
  },
  {
   "cell_type": "markdown",
   "id": "a20de5a2",
   "metadata": {},
   "source": [
    "# Function, lambda, filter, map"
   ]
  },
  {
   "cell_type": "code",
   "execution_count": 124,
   "id": "8f10f83b",
   "metadata": {},
   "outputs": [
    {
     "name": "stdout",
     "output_type": "stream",
     "text": [
      "조 명재 김 예은 유 채은 \n",
      "\n",
      "<class 'tuple'> ('조명재', '김예은', '유채은')\n"
     ]
    }
   ],
   "source": [
    "#asterisk : 여러 인수를 입력받는 것을 나타내는 인수, 여러 인수를 튜플형태로 저장한다.\n",
    "def Last_name_and_First_name(*names):\n",
    "  for name in names:\n",
    "    print(\"%s %s\"%(name[0], name[1:3]), end=\" \")\n",
    "  \n",
    "  print(\"\\n\")\n",
    "\n",
    "  print(type(names), names)\n",
    "\n",
    "  return #결과값이 없는 함수 : 호출해도 print할 경우 NONE이 출력된다\n",
    "\n",
    "Last_name_and_First_name(\"조명재\",\"김예은\",\"유채은\")"
   ]
  },
  {
   "cell_type": "code",
   "execution_count": 126,
   "id": "b7d70969",
   "metadata": {},
   "outputs": [
    {
     "name": "stdout",
     "output_type": "stream",
     "text": [
      "15\n",
      "360\n"
     ]
    }
   ],
   "source": [
    "def add_mul(choice, *args):\n",
    "    if choice==\"add\":   # 매개변수 choice에 \"add\"를 입력받았을때\n",
    "        result= 0\n",
    "        for i in args:\n",
    "            result= result+i    # args에 입력받은 모든 값을 더해서 좌변 result에 넣어라 \n",
    "    elif choice ==\"mul\":    # 매개변수 choice에 mul을 입력받았을 때 \n",
    "        result=1            # 첫 값을 1로 정해줌 \n",
    "        for i in args:\n",
    "            result= result*i      # args에 입력받은 모든 값을 곱해서 좌변 result에 넣어줘라 \n",
    "    return result                 # 좌변 result를 반환해라\n",
    "\n",
    "result= add_mul(\"add\", 1,2,3,4,5) \n",
    "print(result)               # 1+2+3+4+5\n",
    "\n",
    "result= add_mul(\"mul\", 3,4,5,6)\n",
    "print(result)   "
   ]
  },
  {
   "cell_type": "code",
   "execution_count": 128,
   "id": "88f048af",
   "metadata": {},
   "outputs": [
    {
     "name": "stdout",
     "output_type": "stream",
     "text": [
      "내 이름은 윤석열 입니다\n",
      "나이는 62 살입니다\n",
      "남자입니다\n",
      "내 이름은 조명재 입니다\n",
      "나이는 24 살입니다\n",
      "남자입니다\n",
      "내 이름은 김예은 입니다\n",
      "나이는 24 살입니다\n",
      "여자입니다\n"
     ]
    }
   ],
   "source": [
    "# 매개변수에 초기값을 미리 설정하기\n",
    "def say_myself(name, age, man=True):        # 3가지 인수를 넣음, 성별에 기본값을 설정함 \n",
    "    print(\"내 이름은 %s 입니다\" % name)     # %s 문자가 와야함\n",
    "    print(\"나이는 %d 살입니다\" % age)       # %d 숫자가 와야함 \n",
    "    if man:                          # man= True 일때\n",
    "        print(\"남자입니다\")          \n",
    "    else:                            # man= False 일때 \n",
    "        print(\"여자입니다\")\n",
    "\n",
    "say_myself(\"윤석열\", 62, ) \n",
    "say_myself(\"조명재\", 24, ) #인수를 입력하지 않아도 기본값이 출력된다\n",
    "say_myself(\"김예은\", 24, False)"
   ]
  },
  {
   "cell_type": "code",
   "execution_count": 133,
   "id": "9cabcca4",
   "metadata": {},
   "outputs": [
    {
     "name": "stdout",
     "output_type": "stream",
     "text": [
      "my name is Antty, Hello ant world!\n",
      "my name is Jakee, Hello ant world!\n"
     ]
    },
    {
     "ename": "NameError",
     "evalue": "name 'Hell0_world' is not defined",
     "output_type": "error",
     "traceback": [
      "\u001b[0;31m---------------------------------------------------------------------------\u001b[0m",
      "\u001b[0;31mNameError\u001b[0m                                 Traceback (most recent call last)",
      "\u001b[0;32m/var/folders/c2/hfgvv7gx5wn44rgqtk43khyw0000gn/T/ipykernel_57073/72975456.py\u001b[0m in \u001b[0;36m<module>\u001b[0;34m\u001b[0m\n\u001b[1;32m     14\u001b[0m \u001b[0;34m\u001b[0m\u001b[0m\n\u001b[1;32m     15\u001b[0m \u001b[0;31m#오류발생, key나 value를 제대로 입력하지 않을 경우\u001b[0m\u001b[0;34m\u001b[0m\u001b[0;34m\u001b[0m\u001b[0m\n\u001b[0;32m---> 16\u001b[0;31m \u001b[0mHell0_world\u001b[0m\u001b[0;34m(\u001b[0m\u001b[0;34m\"jakee\"\u001b[0m\u001b[0;34m)\u001b[0m\u001b[0;34m\u001b[0m\u001b[0;34m\u001b[0m\u001b[0m\n\u001b[0m",
      "\u001b[0;31mNameError\u001b[0m: name 'Hell0_world' is not defined"
     ]
    }
   ],
   "source": [
    "#**(인수) : (키워드 = 특정값)으로 입력하면\n",
    "#{키워드 : 특정값}의 딕셔너리 형태로 저장한다\n",
    "#우리가 함수에서 사용하는 option이라고 생각하면 된다. reverse = True 같은..\n",
    "\n",
    "def Hello_world(**kwargs):\n",
    "  for key, value in kwargs.items():\n",
    "    if key in kwargs.keys():\n",
    "      print(\"my name is {0}, Hello ant world!\".format(value))\n",
    "    else:\n",
    "      print(\"my name is {0}, Hello human world!\".format(value))\n",
    "  \n",
    "Hello_world(ant = \"Antty\")\n",
    "Hello_world(human = \"Jakee\")\n",
    "\n",
    "#오류발생, key나 value를 제대로 입력하지 않을 경우\n",
    "Hell0_world(\"jakee\")\n"
   ]
  },
  {
   "cell_type": "code",
   "execution_count": 146,
   "id": "8bb01ab5",
   "metadata": {},
   "outputs": [
    {
     "ename": "TypeError",
     "evalue": "'<' not supported between instances of 'list' and 'int'",
     "output_type": "error",
     "traceback": [
      "\u001b[0;31m---------------------------------------------------------------------------\u001b[0m",
      "\u001b[0;31mTypeError\u001b[0m                                 Traceback (most recent call last)",
      "\u001b[0;32m/var/folders/c2/hfgvv7gx5wn44rgqtk43khyw0000gn/T/ipykernel_57073/1260454554.py\u001b[0m in \u001b[0;36m<module>\u001b[0;34m\u001b[0m\n\u001b[1;32m      8\u001b[0m \u001b[0;31m#filter함수와의 혼용\u001b[0m\u001b[0;34m\u001b[0m\u001b[0;34m\u001b[0m\u001b[0m\n\u001b[1;32m      9\u001b[0m \u001b[0ma\u001b[0m \u001b[0;34m=\u001b[0m \u001b[0;34m[\u001b[0m\u001b[0;34m-\u001b[0m\u001b[0;36m10\u001b[0m\u001b[0;34m,\u001b[0m \u001b[0;34m-\u001b[0m\u001b[0;36m8\u001b[0m\u001b[0;34m,\u001b[0m \u001b[0;34m-\u001b[0m\u001b[0;36m1\u001b[0m\u001b[0;34m,\u001b[0m \u001b[0;36m0\u001b[0m\u001b[0;34m,\u001b[0m \u001b[0;36m2\u001b[0m\u001b[0;34m,\u001b[0m \u001b[0;36m3\u001b[0m\u001b[0;34m,\u001b[0m \u001b[0;36m4\u001b[0m\u001b[0;34m,\u001b[0m \u001b[0;36m5\u001b[0m\u001b[0;34m]\u001b[0m\u001b[0;34m\u001b[0m\u001b[0;34m\u001b[0m\u001b[0m\n\u001b[0;32m---> 10\u001b[0;31m \u001b[0mprint\u001b[0m\u001b[0;34m(\u001b[0m\u001b[0ma\u001b[0m\u001b[0;34m<\u001b[0m\u001b[0;34m-\u001b[0m\u001b[0;36m5\u001b[0m\u001b[0;34m)\u001b[0m \u001b[0;31m#다른 언어처럼 이렇게는 표현 불가능\u001b[0m\u001b[0;34m\u001b[0m\u001b[0;34m\u001b[0m\u001b[0m\n\u001b[0m",
      "\u001b[0;31mTypeError\u001b[0m: '<' not supported between instances of 'list' and 'int'"
     ]
    }
   ],
   "source": [
    "#def를 사용하지 않는 일회용 함수.\n",
    "(lambda a, b, c: a+b+c)(\"sk\",\"t1\",\"forever\")\n",
    "\n",
    "#변수에 저장해서 그냥 함수처럼 활용할 수도 있음.\n",
    "sum_abc = lambda a, b, c : a+b+c\n",
    "sum_abc(\"sk\",\"t1\",\"forever\")\n",
    "\n",
    "#filter함수와의 혼용\n",
    "a = [-10, -8, -1, 0, 2, 3, 4, 5]\n",
    "print(a<-5) #다른 언어처럼 이렇게는 표현 불가능"
   ]
  },
  {
   "cell_type": "code",
   "execution_count": 153,
   "id": "1b5abe29",
   "metadata": {},
   "outputs": [
    {
     "name": "stdout",
     "output_type": "stream",
     "text": [
      "[-10, -8]\n"
     ]
    }
   ],
   "source": [
    "a = [-10, -8, -1, 0, 2, 3, 4, 5]\n",
    "\n",
    "#filter함수: filter(함수, 리스트 등의 자료형)\n",
    "#return되는 값을 한번에 반환\n",
    "result = filter(lambda x : x<-5, a)\n",
    "print(list(result))"
   ]
  },
  {
   "cell_type": "code",
   "execution_count": 167,
   "id": "977af8c4",
   "metadata": {},
   "outputs": [
    {
     "name": "stdout",
     "output_type": "stream",
     "text": [
      "[3, 9, 15, 21, 27] [5, 15, 25]\n",
      "[-1, -1, -1, -1, -1, -1, -1, -1, -1, -1, -1, -1, -1, -1]\n"
     ]
    }
   ],
   "source": [
    "a = list(range(1,30,2))\n",
    "b = list(range(2,30,2))\n",
    "#3의 배수\n",
    "ans3 = list(filter(lambda x : x%3 == 0, a))\n",
    "#5의 배수\n",
    "ans5 = list(filter(lambda x : x%5 == 0, a))\n",
    "print(ans3, ans5)\n",
    "\n",
    "#MAP함수: 각 요소에 대해 function을 실행한 결과 반환, 단 길이가 같아야함\n",
    "ans_ab = list(map(lambda x,y : x-y, a, b))\n",
    "print(ans_ab)"
   ]
  },
  {
   "cell_type": "markdown",
   "id": "8edd3035",
   "metadata": {},
   "source": [
    "# 클래스, 클래스 상속"
   ]
  },
  {
   "cell_type": "code",
   "execution_count": 172,
   "id": "e987a6ef",
   "metadata": {},
   "outputs": [
    {
     "name": "stdout",
     "output_type": "stream",
     "text": [
      "30 -10 200 0.5\n",
      "28\n",
      "100010\n"
     ]
    }
   ],
   "source": [
    "class Fourcal:\n",
    "    def __init__(self, x, y):\n",
    "        self.x = x\n",
    "        self.y = y\n",
    "    \n",
    "    def sum(self):\n",
    "        return self.x + self.y\n",
    "    \n",
    "    def min(self):\n",
    "        return self.x - self.y\n",
    "    \n",
    "    def mul(self):\n",
    "        return self.x * self.y\n",
    "    \n",
    "    def div(self):\n",
    "        return self.x / self.y\n",
    "\n",
    "a = Fourcal(10, 20)\n",
    "print(a.sum(), a.min(), a.mul(), a.div())\n",
    "\n",
    "class Bank:\n",
    "    def __init__(self):            # 초기값 27살, 10만원의 잔고가 있다. \n",
    "        self.age= 27               # 좌변은 Bank 클래스 안의 변수/ 우변은 argument\n",
    "        self.balance= 100000\n",
    "    def nextyear(self):\n",
    "        self.age += 1              # age가 1 늘어남\n",
    "    def deposit(self, x):\n",
    "        self.balance += x          # 잔고가 x원 증가\n",
    "    def withdraw(self, y):\n",
    "        self.balance -= y          # 잔고가 y원 감소\n",
    "        \n",
    "#클래스 선언\n",
    "a = Bank()\n",
    "\n",
    "#메서드 선언\n",
    "a.nextyear()\n",
    "a.deposit(20)\n",
    "a.withdraw(10)\n",
    "\n",
    "#인스턴스 변수 접근\n",
    "print(a.age)\n",
    "print(a.balance)\n"
   ]
  },
  {
   "cell_type": "code",
   "execution_count": 198,
   "id": "b34ff81f",
   "metadata": {},
   "outputs": [
    {
     "name": "stdout",
     "output_type": "stream",
     "text": [
      "모델은 genesis 입니다\n",
      "차의 색상은 red 입니다\n",
      "차 번호는 1234 입니다\n"
     ]
    }
   ],
   "source": [
    "class Car:                           # car 라는 이름의 클래스 \n",
    "    def __init__(self, model, color, number):\n",
    "        self.model= model\n",
    "        self.color= color\n",
    "        self.number= number\n",
    "    def modelname(self):             \n",
    "        print(\"모델은\", self.model, \"입니다\")\n",
    "    def setcolor(self):\n",
    "        print(\"차의 색상은\", self.color, \"입니다\")\n",
    "    def carnumber(self):\n",
    "        print(\"차 번호는\", self.number, \"입니다\")\n",
    "        \n",
    "mycar= Car(\"genesis\", \"red\", \"1234\")    # mycar 객체를 만들어 Car 클래스를 사용한다\n",
    "mycar.modelname()\n",
    "mycar.setcolor()\n",
    "mycar.carnumber()"
   ]
  },
  {
   "cell_type": "code",
   "execution_count": 199,
   "id": "3c861554",
   "metadata": {},
   "outputs": [
    {
     "name": "stdout",
     "output_type": "stream",
     "text": [
      "차 번호는 3012 입니다\n",
      "모델은 hyundai 입니다\n",
      "제조국가는korea입니다\n",
      "차의 색상은 olivegreen 입니다\n"
     ]
    }
   ],
   "source": [
    "# class 클래스이름(상속할 클래스이름)  --> 위에서 정의해놓은 클래스를 그대로 이어받을 수 있다.\n",
    "# 상속하는 이유: 부모 클래스를 사용하되, 새로운 내용을 추가하여 기능을 추가하고자 할때\n",
    "# 자식 클래스를 만들어 클래스를 계속 확장 재사용 할 수 있음\n",
    "# 기본클래스 base class --> 파생클래스 derived class \n",
    "# super(): 상속받는 부모 클래스를 그대로 호출해라\n",
    "\n",
    "class Car1(Car):\n",
    "    def __init__(self, model, color, number, madein):\n",
    "        super().__init__(model, color, number)\n",
    "        self.madein = madein\n",
    "    def country(self):\n",
    "        print(f\"제조국가는{self.madein}입니다\")\n",
    "\n",
    "mycar = Car1(\"hyundai\", \"olivegreen\", \"3012\",\"korea\")\n",
    "mycar.carnumber()\n",
    "mycar.modelname()\n",
    "mycar.country()\n",
    "mycar.setcolor()"
   ]
  },
  {
   "cell_type": "code",
   "execution_count": 208,
   "id": "e6380b62",
   "metadata": {},
   "outputs": [
    {
     "ename": "TypeError",
     "evalue": "Car_Eng() takes 1 positional argument but 4 were given",
     "output_type": "error",
     "traceback": [
      "\u001b[0;31m---------------------------------------------------------------------------\u001b[0m",
      "\u001b[0;31mTypeError\u001b[0m                                 Traceback (most recent call last)",
      "\u001b[0;32m/var/folders/c2/hfgvv7gx5wn44rgqtk43khyw0000gn/T/ipykernel_57073/1231608091.py\u001b[0m in \u001b[0;36m<module>\u001b[0;34m\u001b[0m\n\u001b[1;32m     19\u001b[0m         \u001b[0mprint\u001b[0m\u001b[0;34m(\u001b[0m\u001b[0;34mf\"This car is made in {self.madein}\"\u001b[0m\u001b[0;34m)\u001b[0m\u001b[0;34m\u001b[0m\u001b[0;34m\u001b[0m\u001b[0m\n\u001b[1;32m     20\u001b[0m \u001b[0;34m\u001b[0m\u001b[0m\n\u001b[0;32m---> 21\u001b[0;31m \u001b[0mmycar\u001b[0m \u001b[0;34m=\u001b[0m \u001b[0mCar_Eng\u001b[0m\u001b[0;34m(\u001b[0m\u001b[0;34m\"hyundai\"\u001b[0m\u001b[0;34m,\u001b[0m \u001b[0;34m\"olivegreen\"\u001b[0m\u001b[0;34m,\u001b[0m \u001b[0;34m\"3012\"\u001b[0m\u001b[0;34m,\u001b[0m\u001b[0;34m\"korea\"\u001b[0m\u001b[0;34m)\u001b[0m\u001b[0;34m\u001b[0m\u001b[0;34m\u001b[0m\u001b[0m\n\u001b[0m\u001b[1;32m     22\u001b[0m \u001b[0mmycar\u001b[0m\u001b[0;34m.\u001b[0m\u001b[0mcarnumber\u001b[0m\u001b[0;34m(\u001b[0m\u001b[0;34m)\u001b[0m\u001b[0;34m\u001b[0m\u001b[0;34m\u001b[0m\u001b[0m\n\u001b[1;32m     23\u001b[0m \u001b[0mmycar\u001b[0m\u001b[0;34m.\u001b[0m\u001b[0mcountry\u001b[0m\u001b[0;34m(\u001b[0m\u001b[0;34m)\u001b[0m\u001b[0;34m\u001b[0m\u001b[0;34m\u001b[0m\u001b[0m\n",
      "\u001b[0;31mTypeError\u001b[0m: Car_Eng() takes 1 positional argument but 4 were given"
     ]
    }
   ],
   "source": [
    "# 메서드 오버라이딩 overriding  기존 클래스 복사+ 덮어쓰기\n",
    "# 기존의 클래스에서 정의했던 div 의 내용을 수정한 후 덮어쓰기 (메소드는 바뀌지 않음)\n",
    "\n",
    "def Car_Eng(Car):\n",
    "    def __init__(self, model, color, number, madein):\n",
    "        super().__init__(model, color, number)\n",
    "        self.madein = madein\n",
    "     \n",
    "    def modelname(self):             \n",
    "        print(\"The model of this car is \", self.model)\n",
    "        \n",
    "    def setcolor(self):\n",
    "        print(\"The color of this car is \", self.color)\n",
    "        \n",
    "    def carnumber(self):\n",
    "        print(\"The numer of this car is \", self.number)    \n",
    "        \n",
    "    def country(self):\n",
    "        print(f\"This car is made in {self.madein}\")\n",
    "\n",
    "mycar = Car_Eng(\"hyundai\", \"olivegreen\", \"3012\",\"korea\")\n",
    "mycar.carnumber()\n",
    "mycar.country()\n",
    "mycar.modelname()\n",
    "mycar.setcolor()"
   ]
  },
  {
   "cell_type": "markdown",
   "id": "8add2660",
   "metadata": {},
   "source": [
    "# module\n",
    "## datetime, calender, request, math, random..."
   ]
  },
  {
   "cell_type": "code",
   "execution_count": 212,
   "id": "8217c508",
   "metadata": {},
   "outputs": [
    {
     "name": "stdout",
     "output_type": "stream",
     "text": [
      "2022-04-05 20:53:53.423080\n"
     ]
    }
   ],
   "source": [
    "import datetime as dt\n",
    "now = dt.datetime.now()\n",
    "print(now)"
   ]
  },
  {
   "cell_type": "code",
   "execution_count": 215,
   "id": "7de4bdb6",
   "metadata": {},
   "outputs": [
    {
     "name": "stdout",
     "output_type": "stream",
     "text": [
      "2022-04-05 20:54:14.036864\n",
      "263 days, 3:05:45.962891\n"
     ]
    }
   ],
   "source": [
    "today = dt.datetime.today()\n",
    "print(today)\n",
    "\n",
    "xmas = dt.datetime(2022, 12, 25)\n",
    "lefttime = xmas - dt.datetime.today() #실시간으로 변하기때문에 이렇게 써야함\n",
    "print(lefttime)"
   ]
  },
  {
   "cell_type": "code",
   "execution_count": 216,
   "id": "75a583ef",
   "metadata": {},
   "outputs": [],
   "source": [
    "#모듈의 생성 : 모듈이름.py로 저장한 다음 main에서\n",
    "#import 모듈 \n",
    "#from 모듈 import (함수, 클래스)\n",
    "#불러올 때는 (모듈이름).function()\n",
    "# a = (모듈이름).(클래스이름)() 이런식으로 사용가능하다\n",
    "#from (모듈이름) import * :모두 불러오기"
   ]
  },
  {
   "cell_type": "code",
   "execution_count": 217,
   "id": "405d6e91",
   "metadata": {},
   "outputs": [
    {
     "name": "stdout",
     "output_type": "stream",
     "text": [
      "                                  2022\n",
      "\n",
      "      January                   February                   March\n",
      "Mo Tu We Th Fr Sa Su      Mo Tu We Th Fr Sa Su      Mo Tu We Th Fr Sa Su\n",
      "                1  2          1  2  3  4  5  6          1  2  3  4  5  6\n",
      " 3  4  5  6  7  8  9       7  8  9 10 11 12 13       7  8  9 10 11 12 13\n",
      "10 11 12 13 14 15 16      14 15 16 17 18 19 20      14 15 16 17 18 19 20\n",
      "17 18 19 20 21 22 23      21 22 23 24 25 26 27      21 22 23 24 25 26 27\n",
      "24 25 26 27 28 29 30      28                        28 29 30 31\n",
      "31\n",
      "\n",
      "       April                      May                       June\n",
      "Mo Tu We Th Fr Sa Su      Mo Tu We Th Fr Sa Su      Mo Tu We Th Fr Sa Su\n",
      "             1  2  3                         1             1  2  3  4  5\n",
      " 4  5  6  7  8  9 10       2  3  4  5  6  7  8       6  7  8  9 10 11 12\n",
      "11 12 13 14 15 16 17       9 10 11 12 13 14 15      13 14 15 16 17 18 19\n",
      "18 19 20 21 22 23 24      16 17 18 19 20 21 22      20 21 22 23 24 25 26\n",
      "25 26 27 28 29 30         23 24 25 26 27 28 29      27 28 29 30\n",
      "                          30 31\n",
      "\n",
      "        July                     August                  September\n",
      "Mo Tu We Th Fr Sa Su      Mo Tu We Th Fr Sa Su      Mo Tu We Th Fr Sa Su\n",
      "             1  2  3       1  2  3  4  5  6  7                1  2  3  4\n",
      " 4  5  6  7  8  9 10       8  9 10 11 12 13 14       5  6  7  8  9 10 11\n",
      "11 12 13 14 15 16 17      15 16 17 18 19 20 21      12 13 14 15 16 17 18\n",
      "18 19 20 21 22 23 24      22 23 24 25 26 27 28      19 20 21 22 23 24 25\n",
      "25 26 27 28 29 30 31      29 30 31                  26 27 28 29 30\n",
      "\n",
      "      October                   November                  December\n",
      "Mo Tu We Th Fr Sa Su      Mo Tu We Th Fr Sa Su      Mo Tu We Th Fr Sa Su\n",
      "                1  2          1  2  3  4  5  6                1  2  3  4\n",
      " 3  4  5  6  7  8  9       7  8  9 10 11 12 13       5  6  7  8  9 10 11\n",
      "10 11 12 13 14 15 16      14 15 16 17 18 19 20      12 13 14 15 16 17 18\n",
      "17 18 19 20 21 22 23      21 22 23 24 25 26 27      19 20 21 22 23 24 25\n",
      "24 25 26 27 28 29 30      28 29 30                  26 27 28 29 30 31\n",
      "31\n",
      "\n"
     ]
    }
   ],
   "source": [
    "import calendar\n",
    "print(calendar.calendar(2022))"
   ]
  },
  {
   "cell_type": "code",
   "execution_count": 218,
   "id": "333882d5",
   "metadata": {},
   "outputs": [
    {
     "name": "stdout",
     "output_type": "stream",
     "text": [
      "    January 2020\n",
      "Mo Tu We Th Fr Sa Su\n",
      "       1  2  3  4  5\n",
      " 6  7  8  9 10 11 12\n",
      "13 14 15 16 17 18 19\n",
      "20 21 22 23 24 25 26\n",
      "27 28 29 30 31\n",
      "None\n"
     ]
    }
   ],
   "source": [
    "print(calendar.prmonth(2020, 1))   # 년도, 월 "
   ]
  },
  {
   "cell_type": "code",
   "execution_count": 219,
   "id": "5f98de1d",
   "metadata": {},
   "outputs": [
    {
     "name": "stdout",
     "output_type": "stream",
     "text": [
      "2\n"
     ]
    }
   ],
   "source": [
    "print(calendar.weekday(2021,12, 8))    # 요일출력: 월 0, 화 1, 수 2 .....일 6"
   ]
  },
  {
   "cell_type": "code",
   "execution_count": 220,
   "id": "ff9b3a51",
   "metadata": {},
   "outputs": [
    {
     "name": "stdout",
     "output_type": "stream",
     "text": [
      "b'\\n\\n\\n<!doctype html>\\n<html lang=\"ko\">\\n<head>\\n<title>\\xec\\x84\\xb1\\xea\\xb7\\xa0\\xea\\xb4\\x80\\xeb\\x8c\\x80\\xed\\x95\\x99\\xea\\xb5\\x90</title>\\n<link rel=\"shortcut ico'\n"
     ]
    }
   ],
   "source": [
    "from urllib import request\n",
    "#html을 불러온다. Request는 굉장히 자주 쓰인다(크롤링)\n",
    "\n",
    "target= request.urlopen(\"https://www.skku.edu/skku/index.do\")\n",
    "content= target.read()\n",
    "print(content[:100])"
   ]
  },
  {
   "cell_type": "code",
   "execution_count": 221,
   "id": "57b6d067",
   "metadata": {},
   "outputs": [
    {
     "name": "stdout",
     "output_type": "stream",
     "text": [
      "3.141592653589793\n",
      "-0.5440211108893699\n",
      "-0.8390715290764524\n"
     ]
    }
   ],
   "source": [
    "import math   # math 모듈이 가지고 있는 여러가지 변수와 함수를 사용할 수 있다\n",
    "print(math.pi)\n",
    "print(math.sin(10))\n",
    "print(math.cos(10))"
   ]
  },
  {
   "cell_type": "code",
   "execution_count": 222,
   "id": "2db53f03",
   "metadata": {},
   "outputs": [
    {
     "name": "stdout",
     "output_type": "stream",
     "text": [
      "['banana']\n"
     ]
    }
   ],
   "source": [
    "import random\n",
    "a= ['apple', 'orange','kiwi', 'banana']\n",
    "ans=[]\n",
    "ans.append(random.choice(a))\n",
    "print(ans)\n",
    "# 리스트에 있는 원소들 중 랜덤하게 추출하여 return해준다 "
   ]
  },
  {
   "cell_type": "markdown",
   "id": "ec49dd2b",
   "metadata": {},
   "source": [
    "# Pandas, Numpy ~ Dataframe"
   ]
  },
  {
   "cell_type": "code",
   "execution_count": 224,
   "id": "003180f6",
   "metadata": {},
   "outputs": [],
   "source": [
    "import pandas as pd\n",
    "import numpy as np"
   ]
  },
  {
   "cell_type": "code",
   "execution_count": 225,
   "id": "08b01fff",
   "metadata": {},
   "outputs": [],
   "source": [
    "name = [\"RM\", \"Jin\", \"Sugar\", \"Jhope\", \"jimin\", \"V\", \"JK\"]\n",
    "year = [1994, 1992, 1993, 1994, 1995, 1995, 1997]\n",
    "position = [\"rap\", \"vocal\", \"rap\", \"rap\",\"vocal\", \"vocal\", \"vocal\"]"
   ]
  },
  {
   "cell_type": "code",
   "execution_count": 226,
   "id": "f2032c52",
   "metadata": {},
   "outputs": [
    {
     "name": "stdout",
     "output_type": "stream",
     "text": [
      "[('RM', 1994, 'rap'), ('Jin', 1992, 'vocal'), ('Sugar', 1993, 'rap'), ('Jhope', 1994, 'rap'), ('jimin', 1995, 'vocal'), ('V', 1995, 'vocal'), ('JK', 1997, 'vocal')]\n"
     ]
    }
   ],
   "source": [
    "dataset = list(zip(name, year, position))\n",
    "print(dataset)"
   ]
  },
  {
   "cell_type": "code",
   "execution_count": 227,
   "id": "a4b3906e",
   "metadata": {},
   "outputs": [
    {
     "data": {
      "text/plain": [
       "('Jin', 1992, 'vocal')"
      ]
     },
     "execution_count": 227,
     "metadata": {},
     "output_type": "execute_result"
    }
   ],
   "source": [
    "dataset[1] #튜플 형태로 묶음 : zip 함수"
   ]
  },
  {
   "cell_type": "code",
   "execution_count": 229,
   "id": "002f09ae",
   "metadata": {},
   "outputs": [],
   "source": [
    "bts = pd.DataFrame(data = dataset, columns = [\"name\",\"year\",\"position\"])"
   ]
  },
  {
   "cell_type": "code",
   "execution_count": 230,
   "id": "1431a6ec",
   "metadata": {},
   "outputs": [
    {
     "data": {
      "text/html": [
       "<div>\n",
       "<style scoped>\n",
       "    .dataframe tbody tr th:only-of-type {\n",
       "        vertical-align: middle;\n",
       "    }\n",
       "\n",
       "    .dataframe tbody tr th {\n",
       "        vertical-align: top;\n",
       "    }\n",
       "\n",
       "    .dataframe thead th {\n",
       "        text-align: right;\n",
       "    }\n",
       "</style>\n",
       "<table border=\"1\" class=\"dataframe\">\n",
       "  <thead>\n",
       "    <tr style=\"text-align: right;\">\n",
       "      <th></th>\n",
       "      <th>name</th>\n",
       "      <th>year</th>\n",
       "      <th>position</th>\n",
       "    </tr>\n",
       "  </thead>\n",
       "  <tbody>\n",
       "    <tr>\n",
       "      <th>0</th>\n",
       "      <td>RM</td>\n",
       "      <td>1994</td>\n",
       "      <td>rap</td>\n",
       "    </tr>\n",
       "    <tr>\n",
       "      <th>1</th>\n",
       "      <td>Jin</td>\n",
       "      <td>1992</td>\n",
       "      <td>vocal</td>\n",
       "    </tr>\n",
       "    <tr>\n",
       "      <th>2</th>\n",
       "      <td>Sugar</td>\n",
       "      <td>1993</td>\n",
       "      <td>rap</td>\n",
       "    </tr>\n",
       "    <tr>\n",
       "      <th>3</th>\n",
       "      <td>Jhope</td>\n",
       "      <td>1994</td>\n",
       "      <td>rap</td>\n",
       "    </tr>\n",
       "    <tr>\n",
       "      <th>4</th>\n",
       "      <td>jimin</td>\n",
       "      <td>1995</td>\n",
       "      <td>vocal</td>\n",
       "    </tr>\n",
       "    <tr>\n",
       "      <th>5</th>\n",
       "      <td>V</td>\n",
       "      <td>1995</td>\n",
       "      <td>vocal</td>\n",
       "    </tr>\n",
       "    <tr>\n",
       "      <th>6</th>\n",
       "      <td>JK</td>\n",
       "      <td>1997</td>\n",
       "      <td>vocal</td>\n",
       "    </tr>\n",
       "  </tbody>\n",
       "</table>\n",
       "</div>"
      ],
      "text/plain": [
       "    name  year position\n",
       "0     RM  1994      rap\n",
       "1    Jin  1992    vocal\n",
       "2  Sugar  1993      rap\n",
       "3  Jhope  1994      rap\n",
       "4  jimin  1995    vocal\n",
       "5      V  1995    vocal\n",
       "6     JK  1997    vocal"
      ]
     },
     "execution_count": 230,
     "metadata": {},
     "output_type": "execute_result"
    }
   ],
   "source": [
    "bts"
   ]
  },
  {
   "cell_type": "code",
   "execution_count": 231,
   "id": "5a96c7f6",
   "metadata": {},
   "outputs": [
    {
     "name": "stdout",
     "output_type": "stream",
     "text": [
      "    name  year position\n",
      "0     RM  1994      rap\n",
      "1    Jin  1992    vocal\n",
      "2  Sugar  1993      rap\n",
      "3  Jhope  1994      rap\n",
      "4  jimin  1995    vocal\n"
     ]
    }
   ],
   "source": [
    "print(bts.head()) #head 함수 : 위에 있는 5개 목록 출력"
   ]
  },
  {
   "cell_type": "code",
   "execution_count": 232,
   "id": "c8901baf",
   "metadata": {},
   "outputs": [],
   "source": [
    "#numpy배열을 사용한 dataframe생성\n",
    "dataset_np = [['RM', 1994, 'rap'], ['Jin', 1992, 'vocal'], ['Sugar', 1993, 'rap'], ['Jhope', 1994, 'rap'], ['jimin', 1995, 'vocal'], ['V', 1995, 'vocal'], ['JK', 1997, 'vocal']]"
   ]
  },
  {
   "cell_type": "code",
   "execution_count": 233,
   "id": "55a22e44",
   "metadata": {},
   "outputs": [
    {
     "name": "stdout",
     "output_type": "stream",
     "text": [
      "[['RM', 1994, 'rap'], ['Jin', 1992, 'vocal'], ['Sugar', 1993, 'rap'], ['Jhope', 1994, 'rap'], ['jimin', 1995, 'vocal'], ['V', 1995, 'vocal'], ['JK', 1997, 'vocal']]\n"
     ]
    }
   ],
   "source": [
    "print(dataset_np) #이차원 데이터 생성"
   ]
  },
  {
   "cell_type": "code",
   "execution_count": 234,
   "id": "9e9d84a3",
   "metadata": {},
   "outputs": [],
   "source": [
    "bts_np = pd.DataFrame(dataset_np, columns = [\"name\",\"year\",\"position\"])"
   ]
  },
  {
   "cell_type": "code",
   "execution_count": 235,
   "id": "18789ef2",
   "metadata": {},
   "outputs": [
    {
     "data": {
      "text/html": [
       "<div>\n",
       "<style scoped>\n",
       "    .dataframe tbody tr th:only-of-type {\n",
       "        vertical-align: middle;\n",
       "    }\n",
       "\n",
       "    .dataframe tbody tr th {\n",
       "        vertical-align: top;\n",
       "    }\n",
       "\n",
       "    .dataframe thead th {\n",
       "        text-align: right;\n",
       "    }\n",
       "</style>\n",
       "<table border=\"1\" class=\"dataframe\">\n",
       "  <thead>\n",
       "    <tr style=\"text-align: right;\">\n",
       "      <th></th>\n",
       "      <th>name</th>\n",
       "      <th>year</th>\n",
       "      <th>position</th>\n",
       "    </tr>\n",
       "  </thead>\n",
       "  <tbody>\n",
       "    <tr>\n",
       "      <th>0</th>\n",
       "      <td>RM</td>\n",
       "      <td>1994</td>\n",
       "      <td>rap</td>\n",
       "    </tr>\n",
       "    <tr>\n",
       "      <th>1</th>\n",
       "      <td>Jin</td>\n",
       "      <td>1992</td>\n",
       "      <td>vocal</td>\n",
       "    </tr>\n",
       "    <tr>\n",
       "      <th>2</th>\n",
       "      <td>Sugar</td>\n",
       "      <td>1993</td>\n",
       "      <td>rap</td>\n",
       "    </tr>\n",
       "    <tr>\n",
       "      <th>3</th>\n",
       "      <td>Jhope</td>\n",
       "      <td>1994</td>\n",
       "      <td>rap</td>\n",
       "    </tr>\n",
       "    <tr>\n",
       "      <th>4</th>\n",
       "      <td>jimin</td>\n",
       "      <td>1995</td>\n",
       "      <td>vocal</td>\n",
       "    </tr>\n",
       "    <tr>\n",
       "      <th>5</th>\n",
       "      <td>V</td>\n",
       "      <td>1995</td>\n",
       "      <td>vocal</td>\n",
       "    </tr>\n",
       "    <tr>\n",
       "      <th>6</th>\n",
       "      <td>JK</td>\n",
       "      <td>1997</td>\n",
       "      <td>vocal</td>\n",
       "    </tr>\n",
       "  </tbody>\n",
       "</table>\n",
       "</div>"
      ],
      "text/plain": [
       "    name  year position\n",
       "0     RM  1994      rap\n",
       "1    Jin  1992    vocal\n",
       "2  Sugar  1993      rap\n",
       "3  Jhope  1994      rap\n",
       "4  jimin  1995    vocal\n",
       "5      V  1995    vocal\n",
       "6     JK  1997    vocal"
      ]
     },
     "execution_count": 235,
     "metadata": {},
     "output_type": "execute_result"
    }
   ],
   "source": [
    "bts_np"
   ]
  },
  {
   "cell_type": "code",
   "execution_count": 242,
   "id": "f2c93a55",
   "metadata": {},
   "outputs": [
    {
     "name": "stdout",
     "output_type": "stream",
     "text": [
      "Index(['name', 'year', 'position'], dtype='object')\n",
      "name        object\n",
      "year         int64\n",
      "position    object\n",
      "dtype: object\n",
      "0       RM\n",
      "1      Jin\n",
      "2    Sugar\n",
      "3    Jhope\n",
      "4    jimin\n",
      "5        V\n",
      "6       JK\n",
      "Name: name, dtype: object\n",
      "    name  year position\n",
      "2  Sugar  1993      rap\n",
      "3  Jhope  1994      rap\n",
      "4  jimin  1995    vocal\n",
      "name          Jin\n",
      "year         1992\n",
      "position    vocal\n",
      "Name: 1, dtype: object\n",
      "    name  year position\n",
      "2  Sugar  1993      rap\n",
      "3  Jhope  1994      rap\n",
      "4  jimin  1995    vocal\n",
      "5      V  1995    vocal\n",
      "    name  year position\n",
      "0     RM  1994      rap\n",
      "2  Sugar  1993      rap\n",
      "3  Jhope  1994      rap\n"
     ]
    }
   ],
   "source": [
    "print(bts.columns)\n",
    "print(bts.dtypes) #각 열에 해당하는 데이터타입 반환\n",
    "print(bts[\"name\"]) #name 열만 반환\n",
    "print(bts[2:5]) #행 : slicing으로만 접근할 수 있다, 숫자 인덱스 사용 불가능\n",
    "print(bts.loc[1])\n",
    "\n",
    "#dataframe 형태 유지\n",
    "print(bts.loc[[2,3,4,5]])\n",
    "\n",
    "#조건문의 활용\n",
    "print(bts[bts[\"position\"] == \"rap\"])\n"
   ]
  },
  {
   "cell_type": "code",
   "execution_count": null,
   "id": "09e1a0cd",
   "metadata": {},
   "outputs": [],
   "source": []
  },
  {
   "cell_type": "code",
   "execution_count": null,
   "id": "91c76b77",
   "metadata": {},
   "outputs": [],
   "source": []
  }
 ],
 "metadata": {
  "kernelspec": {
   "display_name": "Python 3 (ipykernel)",
   "language": "python",
   "name": "python3"
  },
  "language_info": {
   "codemirror_mode": {
    "name": "ipython",
    "version": 3
   },
   "file_extension": ".py",
   "mimetype": "text/x-python",
   "name": "python",
   "nbconvert_exporter": "python",
   "pygments_lexer": "ipython3",
   "version": "3.9.7"
  }
 },
 "nbformat": 4,
 "nbformat_minor": 5
}
