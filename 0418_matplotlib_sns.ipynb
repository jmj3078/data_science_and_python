{
 "cells": [
  {
   "cell_type": "code",
   "execution_count": 7,
   "id": "0c8b3bf2",
   "metadata": {},
   "outputs": [
    {
     "name": "stdout",
     "output_type": "stream",
     "text": [
      "   dataset     x      y\n",
      "0        I  10.0   8.04\n",
      "1        I   8.0   6.95\n",
      "2        I  13.0   7.58\n",
      "3        I   9.0   8.81\n",
      "4        I  11.0   8.33\n",
      "5        I  14.0   9.96\n",
      "6        I   6.0   7.24\n",
      "7        I   4.0   4.26\n",
      "8        I  12.0  10.84\n",
      "9        I   7.0   4.82\n",
      "10       I   5.0   5.68\n",
      "11      II  10.0   9.14\n",
      "12      II   8.0   8.14\n",
      "13      II  13.0   8.74\n",
      "14      II   9.0   8.77\n",
      "15      II  11.0   9.26\n",
      "16      II  14.0   8.10\n",
      "17      II   6.0   6.13\n",
      "18      II   4.0   3.10\n",
      "19      II  12.0   9.13\n",
      "20      II   7.0   7.26\n",
      "21      II   5.0   4.74\n",
      "22     III  10.0   7.46\n",
      "23     III   8.0   6.77\n",
      "24     III  13.0  12.74\n",
      "25     III   9.0   7.11\n",
      "26     III  11.0   7.81\n",
      "27     III  14.0   8.84\n",
      "28     III   6.0   6.08\n",
      "29     III   4.0   5.39\n",
      "30     III  12.0   8.15\n",
      "31     III   7.0   6.42\n",
      "32     III   5.0   5.73\n",
      "33      IV   8.0   6.58\n",
      "34      IV   8.0   5.76\n",
      "35      IV   8.0   7.71\n",
      "36      IV   8.0   8.84\n",
      "37      IV   8.0   8.47\n",
      "38      IV   8.0   7.04\n",
      "39      IV   8.0   5.25\n",
      "40      IV  19.0  12.50\n",
      "41      IV   8.0   5.56\n",
      "42      IV   8.0   7.91\n",
      "43      IV   8.0   6.89\n"
     ]
    }
   ],
   "source": [
    "import pandas as pd\n",
    "import seaborn as sns\n",
    "anscombe = sns.load_dataset(\"anscombe\")\n",
    "print(anscombe)"
   ]
  },
  {
   "cell_type": "code",
   "execution_count": 5,
   "id": "455f6d51",
   "metadata": {},
   "outputs": [
    {
     "data": {
      "text/plain": [
       "pandas.core.frame.DataFrame"
      ]
     },
     "execution_count": 5,
     "metadata": {},
     "output_type": "execute_result"
    }
   ],
   "source": [
    "type(anscombe)"
   ]
  },
  {
   "cell_type": "code",
   "execution_count": 9,
   "id": "feabcf0e",
   "metadata": {},
   "outputs": [],
   "source": [
    "import matplotlib.pyplot as plt"
   ]
  },
  {
   "cell_type": "code",
   "execution_count": 11,
   "id": "7c102a4c",
   "metadata": {},
   "outputs": [
    {
     "name": "stdout",
     "output_type": "stream",
     "text": [
      "   dataset     x      y\n",
      "0        I  10.0   8.04\n",
      "1        I   8.0   6.95\n",
      "2        I  13.0   7.58\n",
      "3        I   9.0   8.81\n",
      "4        I  11.0   8.33\n",
      "5        I  14.0   9.96\n",
      "6        I   6.0   7.24\n",
      "7        I   4.0   4.26\n",
      "8        I  12.0  10.84\n",
      "9        I   7.0   4.82\n",
      "10       I   5.0   5.68\n"
     ]
    }
   ],
   "source": [
    "dataset_1 = anscombe[anscombe[\"dataset\"]==\"I\"]\n",
    "print(dataset_1)"
   ]
  },
  {
   "cell_type": "code",
   "execution_count": 12,
   "id": "92ad0e5f",
   "metadata": {},
   "outputs": [
    {
     "data": {
      "image/png": "[encoded data removed]",
      "text/plain": [
       "<Figure size 432x288 with 1 Axes>"
      ]
     },
     "metadata": {
      "needs_background": "light"
     },
     "output_type": "display_data"
    }
   ],
   "source": [
    "a= plt.subplots()"
   ]
  },
  {
   "cell_type": "code",
   "execution_count": 15,
   "id": "f1bbca10",
   "metadata": {},
   "outputs": [
    {
     "data": {
      "image/png": "[encoded data removed]",
      "text/plain": [
       "<Figure size 432x288 with 1 Axes>"
      ]
     },
     "metadata": {
      "needs_background": "light"
     },
     "output_type": "display_data"
    }
   ],
   "source": [
    "a= plt.plot(dataset_1['x'], dataset_1['y'], 'o')"
   ]
  },
  {
   "cell_type": "code",
   "execution_count": 16,
   "id": "73e790f6",
   "metadata": {},
   "outputs": [],
   "source": [
    "dataset2 = anscombe[anscombe[\"dataset\"]== \"II\"]\n",
    "dataset3 = anscombe[anscombe[\"dataset\"]== \"III\"]\n",
    "dataset4 = anscombe[anscombe[\"dataset\"]== \"IV\"]"
   ]
  },
  {
   "cell_type": "code",
   "execution_count": 17,
   "id": "cf75e372",
   "metadata": {},
   "outputs": [
    {
     "name": "stdout",
     "output_type": "stream",
     "text": [
      "   dataset     x     y\n",
      "11      II  10.0  9.14\n",
      "12      II   8.0  8.14\n",
      "13      II  13.0  8.74\n",
      "14      II   9.0  8.77\n",
      "15      II  11.0  9.26\n",
      "16      II  14.0  8.10\n",
      "17      II   6.0  6.13\n",
      "18      II   4.0  3.10\n",
      "19      II  12.0  9.13\n",
      "20      II   7.0  7.26\n",
      "21      II   5.0  4.74\n"
     ]
    }
   ],
   "source": [
    "print(dataset2)"
   ]
  },
  {
   "cell_type": "code",
   "execution_count": 44,
   "id": "0cf8613d",
   "metadata": {},
   "outputs": [
    {
     "data": {
      "text/plain": [
       "<Figure size 432x288 with 0 Axes>"
      ]
     },
     "metadata": {},
     "output_type": "display_data"
    }
   ],
   "source": [
    "fig = plt.figure()"
   ]
  },
  {
   "cell_type": "code",
   "execution_count": 45,
   "id": "509bc037",
   "metadata": {},
   "outputs": [],
   "source": [
    "axis1= fig.add_subplot(2, 2, 1) # 맨 위, 왼 쪽\n",
    "axis2= fig.add_subplot(2, 2, 2) # 맨 위, 오른 쪽\n",
    "axis3= fig.add_subplot(2, 2, 3) # 아래, 왼 쪽\n",
    "axis4= fig.add_subplot(2, 2, 4) # 아래, 오른 쪽 #fig에 대해 subplot추가"
   ]
  },
  {
   "cell_type": "code",
   "execution_count": 46,
   "id": "1ee93310",
   "metadata": {},
   "outputs": [
    {
     "data": {
      "text/plain": [
       "[<matplotlib.lines.Line2D at 0x7fc20bc2c580>]"
      ]
     },
     "execution_count": 46,
     "metadata": {},
     "output_type": "execute_result"
    }
   ],
   "source": [
    "axis1.plot(dataset_1['x'], dataset_1['y'], 'o')\n",
    "axis2.plot(dataset2['x'], dataset2['y'], 'o')\n",
    "axis3.plot(dataset3['x'], dataset3['y'], 'o')\n",
    "axis4.plot(dataset4['x'], dataset4['y'], 'o') #subplot에 대해 plot추가"
   ]
  },
  {
   "cell_type": "code",
   "execution_count": 47,
   "id": "eb5ca246",
   "metadata": {},
   "outputs": [
    {
     "data": {
      "text/plain": [
       "Text(0.5, 1.0, 'dataset_4')"
      ]
     },
     "execution_count": 47,
     "metadata": {},
     "output_type": "execute_result"
    }
   ],
   "source": [
    "axis1.set_title(\"dataset_1\")\n",
    "axis2.set_title(\"dataset_2\")\n",
    "axis3.set_title(\"dataset_3\")\n",
    "axis4.set_title(\"dataset_4\") #그래프 타이틀 지정 : set_title"
   ]
  },
  {
   "cell_type": "code",
   "execution_count": 48,
   "id": "e467f646",
   "metadata": {},
   "outputs": [
    {
     "data": {
      "text/plain": [
       "Text(0.5, 0.98, 'Anscombe data')"
      ]
     },
     "execution_count": 48,
     "metadata": {},
     "output_type": "execute_result"
    }
   ],
   "source": [
    "fig.suptitle(\"Anscombe data\") #fig에 대해 타이틀 지정"
   ]
  },
  {
   "cell_type": "code",
   "execution_count": 49,
   "id": "023644b2",
   "metadata": {},
   "outputs": [
    {
     "data": {
      "image/png": "[encoded data removed]",
      "text/plain": [
       "<Figure size 432x288 with 4 Axes>"
      ]
     },
     "execution_count": 49,
     "metadata": {},
     "output_type": "execute_result"
    }
   ],
   "source": [
    "fig"
   ]
  },
  {
   "cell_type": "code",
   "execution_count": 25,
   "id": "56e9bfa7",
   "metadata": {},
   "outputs": [],
   "source": [
    "fig.savefig(\"graph2.jpg\") #이미지 파일 저장 : savefig"
   ]
  },
  {
   "cell_type": "markdown",
   "id": "4a441cd2",
   "metadata": {},
   "source": [
    "# HISTOGRAM\n"
   ]
  },
  {
   "cell_type": "code",
   "execution_count": 26,
   "id": "bd3a6415",
   "metadata": {},
   "outputs": [
    {
     "name": "stdout",
     "output_type": "stream",
     "text": [
      "   total_bill   tip     sex smoker  day    time  size\n",
      "0       16.99  1.01  Female     No  Sun  Dinner     2\n",
      "1       10.34  1.66    Male     No  Sun  Dinner     3\n",
      "2       21.01  3.50    Male     No  Sun  Dinner     3\n",
      "3       23.68  3.31    Male     No  Sun  Dinner     2\n",
      "4       24.59  3.61  Female     No  Sun  Dinner     4\n"
     ]
    }
   ],
   "source": [
    "tips = sns.load_dataset(\"tips\")\n",
    "print(tips.head())"
   ]
  },
  {
   "cell_type": "code",
   "execution_count": 30,
   "id": "750228e8",
   "metadata": {},
   "outputs": [
    {
     "data": {
      "text/plain": [
       "(244, 7)"
      ]
     },
     "execution_count": 30,
     "metadata": {},
     "output_type": "execute_result"
    }
   ],
   "source": [
    "tips.shape"
   ]
  },
  {
   "cell_type": "code",
   "execution_count": 31,
   "id": "7530da03",
   "metadata": {},
   "outputs": [
    {
     "data": {
      "text/html": [
       "<div>\n",
       "<style scoped>\n",
       "    .dataframe tbody tr th:only-of-type {\n",
       "        vertical-align: middle;\n",
       "    }\n",
       "\n",
       "    .dataframe tbody tr th {\n",
       "        vertical-align: top;\n",
       "    }\n",
       "\n",
       "    .dataframe thead th {\n",
       "        text-align: right;\n",
       "    }\n",
       "</style>\n",
       "<table border=\"1\" class=\"dataframe\">\n",
       "  <thead>\n",
       "    <tr style=\"text-align: right;\">\n",
       "      <th></th>\n",
       "      <th>total_bill</th>\n",
       "      <th>tip</th>\n",
       "      <th>sex</th>\n",
       "      <th>smoker</th>\n",
       "      <th>day</th>\n",
       "      <th>time</th>\n",
       "      <th>size</th>\n",
       "    </tr>\n",
       "  </thead>\n",
       "  <tbody>\n",
       "    <tr>\n",
       "      <th>0</th>\n",
       "      <td>16.99</td>\n",
       "      <td>1.01</td>\n",
       "      <td>Female</td>\n",
       "      <td>No</td>\n",
       "      <td>Sun</td>\n",
       "      <td>Dinner</td>\n",
       "      <td>2</td>\n",
       "    </tr>\n",
       "    <tr>\n",
       "      <th>1</th>\n",
       "      <td>10.34</td>\n",
       "      <td>1.66</td>\n",
       "      <td>Male</td>\n",
       "      <td>No</td>\n",
       "      <td>Sun</td>\n",
       "      <td>Dinner</td>\n",
       "      <td>3</td>\n",
       "    </tr>\n",
       "    <tr>\n",
       "      <th>2</th>\n",
       "      <td>21.01</td>\n",
       "      <td>3.50</td>\n",
       "      <td>Male</td>\n",
       "      <td>No</td>\n",
       "      <td>Sun</td>\n",
       "      <td>Dinner</td>\n",
       "      <td>3</td>\n",
       "    </tr>\n",
       "    <tr>\n",
       "      <th>3</th>\n",
       "      <td>23.68</td>\n",
       "      <td>3.31</td>\n",
       "      <td>Male</td>\n",
       "      <td>No</td>\n",
       "      <td>Sun</td>\n",
       "      <td>Dinner</td>\n",
       "      <td>2</td>\n",
       "    </tr>\n",
       "    <tr>\n",
       "      <th>4</th>\n",
       "      <td>24.59</td>\n",
       "      <td>3.61</td>\n",
       "      <td>Female</td>\n",
       "      <td>No</td>\n",
       "      <td>Sun</td>\n",
       "      <td>Dinner</td>\n",
       "      <td>4</td>\n",
       "    </tr>\n",
       "  </tbody>\n",
       "</table>\n",
       "</div>"
      ],
      "text/plain": [
       "   total_bill   tip     sex smoker  day    time  size\n",
       "0       16.99  1.01  Female     No  Sun  Dinner     2\n",
       "1       10.34  1.66    Male     No  Sun  Dinner     3\n",
       "2       21.01  3.50    Male     No  Sun  Dinner     3\n",
       "3       23.68  3.31    Male     No  Sun  Dinner     2\n",
       "4       24.59  3.61  Female     No  Sun  Dinner     4"
      ]
     },
     "execution_count": 31,
     "metadata": {},
     "output_type": "execute_result"
    }
   ],
   "source": [
    "tips.head()"
   ]
  },
  {
   "cell_type": "code",
   "execution_count": 40,
   "id": "c10fb963",
   "metadata": {},
   "outputs": [
    {
     "data": {
      "text/plain": [
       "<Figure size 432x288 with 0 Axes>"
      ]
     },
     "metadata": {},
     "output_type": "display_data"
    }
   ],
   "source": [
    "fig_2 = plt.figure()"
   ]
  },
  {
   "cell_type": "code",
   "execution_count": 41,
   "id": "195559fe",
   "metadata": {},
   "outputs": [],
   "source": [
    "axes_tips = fig_2.add_subplot(1,1,1)"
   ]
  },
  {
   "cell_type": "code",
   "execution_count": 42,
   "id": "75552d1f",
   "metadata": {},
   "outputs": [
    {
     "data": {
      "text/plain": [
       "Text(0, 0.5, 'Freq')"
      ]
     },
     "execution_count": 42,
     "metadata": {},
     "output_type": "execute_result"
    }
   ],
   "source": [
    "#히스토그램 : 자동으로 빈도수측정해서 출력\n",
    "#frequency값이 따로 없는 경우 자동으로 항목의 수를 반환\n",
    "axes_tips.hist(tips[\"total_bill\"], bins = 10,\n",
    "         facecolor = \"yellow\")\n",
    "axes_tips.set_title(\"histogram of total bill\")\n",
    "axes_tips.set_xlabel(\"Total bill\")\n",
    "axes_tips.set_ylabel(\"Freq\")\n",
    "\n",
    "#옵션 - matplotlib 도움말에서 확인할것!!"
   ]
  },
  {
   "cell_type": "code",
   "execution_count": 43,
   "id": "c5a375e4",
   "metadata": {},
   "outputs": [
    {
     "data": {
      "image/png": "[encoded data removed]",
      "text/plain": [
       "<Figure size 432x288 with 1 Axes>"
      ]
     },
     "execution_count": 43,
     "metadata": {},
     "output_type": "execute_result"
    }
   ],
   "source": [
    "fig_2"
   ]
  },
  {
   "cell_type": "code",
   "execution_count": 50,
   "id": "0760db1c",
   "metadata": {},
   "outputs": [
    {
     "data": {
      "image/png": "[encoded data removed]",
      "text/plain": [
       "<Figure size 432x288 with 1 Axes>"
      ]
     },
     "metadata": {
      "needs_background": "light"
     },
     "output_type": "display_data"
    }
   ],
   "source": [
    "fig3 = plt.figure()\n",
    "fig3 = fig3.add_subplot(1,1,1)\n",
    "fig3 = sns.histplot(tips[\"total_bill\"], binwidth = 5)"
   ]
  },
  {
   "cell_type": "code",
   "execution_count": 51,
   "id": "1961d43e",
   "metadata": {},
   "outputs": [
    {
     "data": {
      "image/png": "[encoded data removed]",
      "text/plain": [
       "<Figure size 432x288 with 1 Axes>"
      ]
     },
     "metadata": {
      "needs_background": "light"
     },
     "output_type": "display_data"
    }
   ],
   "source": [
    "#graph하나만 그릴꺼면 굳이 figure 만들고 subplot추가할 필요 없음\n",
    "ax = plt.subplots()"
   ]
  },
  {
   "cell_type": "code",
   "execution_count": 54,
   "id": "2be527c6",
   "metadata": {},
   "outputs": [
    {
     "name": "stderr",
     "output_type": "stream",
     "text": [
      "/Users/j-max/opt/anaconda3/lib/python3.9/site-packages/seaborn/distributions.py:2619: FutureWarning: `distplot` is a deprecated function and will be removed in a future version. Please adapt your code to use either `displot` (a figure-level function with similar flexibility) or `histplot` (an axes-level function for histograms).\n",
      "  warnings.warn(msg, FutureWarning)\n"
     ]
    },
    {
     "data": {
      "text/plain": [
       "Text(0.5, 1.0, 'total bill histogram')"
      ]
     },
     "execution_count": 54,
     "metadata": {},
     "output_type": "execute_result"
    },
    {
     "data": {
      "image/png": "[encoded data removed]",
      "text/plain": [
       "<Figure size 432x288 with 1 Axes>"
      ]
     },
     "metadata": {
      "needs_background": "light"
     },
     "output_type": "display_data"
    }
   ],
   "source": [
    "ax = sns.distplot(tips[\"total_bill\"])\n",
    "ax.set_title(\"total bill histogram\")\n",
    "#displot : 미래에 없어질 함수래..."
   ]
  },
  {
   "cell_type": "code",
   "execution_count": 57,
   "id": "c1db238e",
   "metadata": {},
   "outputs": [
    {
     "data": {
      "image/png": "[encoded data removed]",
      "text/plain": [
       "<Figure size 432x288 with 1 Axes>"
      ]
     },
     "metadata": {
      "needs_background": "light"
     },
     "output_type": "display_data"
    }
   ],
   "source": [
    "ax = plt.hist(tips[\"total_bill\"])"
   ]
  },
  {
   "cell_type": "code",
   "execution_count": 58,
   "id": "06f8c2fc",
   "metadata": {},
   "outputs": [
    {
     "data": {
      "image/png": "[encoded data removed]",
      "text/plain": [
       "<Figure size 432x288 with 1 Axes>"
      ]
     },
     "metadata": {
      "needs_background": "light"
     },
     "output_type": "display_data"
    }
   ],
   "source": [
    "ax = sns.kdeplot(tips[\"total_bill\"])"
   ]
  },
  {
   "cell_type": "markdown",
   "id": "e7ac583e",
   "metadata": {},
   "source": [
    "# Scattered plot"
   ]
  },
  {
   "cell_type": "code",
   "execution_count": 67,
   "id": "9874ddec",
   "metadata": {},
   "outputs": [
    {
     "data": {
      "image/png": "[encoded data removed]",
      "text/plain": [
       "<Figure size 432x288 with 1 Axes>"
      ]
     },
     "metadata": {
      "needs_background": "light"
     },
     "output_type": "display_data"
    }
   ],
   "source": [
    "sct_fig = plt.figure()\n",
    "sct_plot = sct_fig.add_subplot(1,1,1)"
   ]
  },
  {
   "cell_type": "code",
   "execution_count": 69,
   "id": "44f6384e",
   "metadata": {},
   "outputs": [
    {
     "data": {
      "text/plain": [
       "Text(3.200000000000003, 0.5, 'tips')"
      ]
     },
     "execution_count": 69,
     "metadata": {},
     "output_type": "execute_result"
    }
   ],
   "source": [
    "sct_plot.scatter(tips[\"total_bill\"],tips[\"tip\"])\n",
    "sct_plot.set_title(\"Scatter plot\")\n",
    "sct_plot.set_xlabel(\"total bill\")\n",
    "sct_plot.set_ylabel(\"tips\")"
   ]
  },
  {
   "cell_type": "code",
   "execution_count": 70,
   "id": "eeb886d9",
   "metadata": {},
   "outputs": [
    {
     "data": {
      "image/png": "[encoded data removed]",
      "text/plain": [
       "<Figure size 432x288 with 1 Axes>"
      ]
     },
     "execution_count": 70,
     "metadata": {},
     "output_type": "execute_result"
    }
   ],
   "source": [
    "sct_fig"
   ]
  },
  {
   "cell_type": "code",
   "execution_count": 71,
   "id": "8b7b1a50",
   "metadata": {},
   "outputs": [],
   "source": [
    "sct_fig.savefig(\"graph4.jpg\")"
   ]
  },
  {
   "cell_type": "markdown",
   "id": "dc5419c9",
   "metadata": {},
   "source": [
    "# Box plot"
   ]
  },
  {
   "cell_type": "code",
   "execution_count": 73,
   "id": "4f5c25f1",
   "metadata": {},
   "outputs": [
    {
     "data": {
      "text/plain": [
       "<Figure size 432x288 with 0 Axes>"
      ]
     },
     "metadata": {},
     "output_type": "display_data"
    }
   ],
   "source": [
    "boxfig = plt.figure()"
   ]
  },
  {
   "cell_type": "code",
   "execution_count": 74,
   "id": "93953fd7",
   "metadata": {},
   "outputs": [],
   "source": [
    "boxplot = boxfig.add_subplot(1,1,1)"
   ]
  },
  {
   "cell_type": "code",
   "execution_count": 75,
   "id": "b206e090",
   "metadata": {},
   "outputs": [
    {
     "data": {
      "text/plain": [
       "{'whiskers': [<matplotlib.lines.Line2D at 0x7fc23a0045b0>,\n",
       "  <matplotlib.lines.Line2D at 0x7fc23a004940>,\n",
       "  <matplotlib.lines.Line2D at 0x7fc23a00ee80>,\n",
       "  <matplotlib.lines.Line2D at 0x7fc23a018250>],\n",
       " 'caps': [<matplotlib.lines.Line2D at 0x7fc23a004cd0>,\n",
       "  <matplotlib.lines.Line2D at 0x7fc23a00e0a0>,\n",
       "  <matplotlib.lines.Line2D at 0x7fc23a0185e0>,\n",
       "  <matplotlib.lines.Line2D at 0x7fc23a018970>],\n",
       " 'boxes': [<matplotlib.lines.Line2D at 0x7fc23a004250>,\n",
       "  <matplotlib.lines.Line2D at 0x7fc23a00eb50>],\n",
       " 'medians': [<matplotlib.lines.Line2D at 0x7fc23a00e430>,\n",
       "  <matplotlib.lines.Line2D at 0x7fc23a018d00>],\n",
       " 'fliers': [<matplotlib.lines.Line2D at 0x7fc23a00e7c0>,\n",
       "  <matplotlib.lines.Line2D at 0x7fc23a01e0d0>],\n",
       " 'means': []}"
      ]
     },
     "execution_count": 75,
     "metadata": {},
     "output_type": "execute_result"
    }
   ],
   "source": [
    "boxplot.boxplot([tips[tips[\"sex\"]==\"Female\"][\"tip\"],\n",
    "                tips[tips[\"sex\"]== \"Male\"][\"tip\"]],\n",
    "               labels = [\"Female\", \"Male\"])"
   ]
  },
  {
   "cell_type": "code",
   "execution_count": 76,
   "id": "1986dc41",
   "metadata": {},
   "outputs": [
    {
     "data": {
      "image/png": "[encoded data removed]",
      "text/plain": [
       "<Figure size 432x288 with 1 Axes>"
      ]
     },
     "execution_count": 76,
     "metadata": {},
     "output_type": "execute_result"
    }
   ],
   "source": [
    "boxfig"
   ]
  },
  {
   "cell_type": "code",
   "execution_count": 77,
   "id": "299e936a",
   "metadata": {},
   "outputs": [],
   "source": [
    "boxfig.savefig(\"graph5.jpg\")"
   ]
  },
  {
   "cell_type": "markdown",
   "id": "f3581f71",
   "metadata": {},
   "source": [
    "# 산점도 그래프 + Categorization"
   ]
  },
  {
   "cell_type": "code",
   "execution_count": 86,
   "id": "3dc1c4b5",
   "metadata": {},
   "outputs": [],
   "source": [
    "def recode_sex(sex):\n",
    "    if sex == \"Female\":\n",
    "        return 0\n",
    "    else:\n",
    "        return 1"
   ]
  },
  {
   "cell_type": "code",
   "execution_count": 87,
   "id": "1c38dee7",
   "metadata": {},
   "outputs": [
    {
     "data": {
      "text/html": [
       "<div>\n",
       "<style scoped>\n",
       "    .dataframe tbody tr th:only-of-type {\n",
       "        vertical-align: middle;\n",
       "    }\n",
       "\n",
       "    .dataframe tbody tr th {\n",
       "        vertical-align: top;\n",
       "    }\n",
       "\n",
       "    .dataframe thead th {\n",
       "        text-align: right;\n",
       "    }\n",
       "</style>\n",
       "<table border=\"1\" class=\"dataframe\">\n",
       "  <thead>\n",
       "    <tr style=\"text-align: right;\">\n",
       "      <th></th>\n",
       "      <th>total_bill</th>\n",
       "      <th>tip</th>\n",
       "      <th>sex</th>\n",
       "      <th>smoker</th>\n",
       "      <th>day</th>\n",
       "      <th>time</th>\n",
       "      <th>size</th>\n",
       "      <th>sex_color</th>\n",
       "    </tr>\n",
       "  </thead>\n",
       "  <tbody>\n",
       "    <tr>\n",
       "      <th>0</th>\n",
       "      <td>16.99</td>\n",
       "      <td>1.01</td>\n",
       "      <td>Female</td>\n",
       "      <td>No</td>\n",
       "      <td>Sun</td>\n",
       "      <td>Dinner</td>\n",
       "      <td>2</td>\n",
       "      <td>0</td>\n",
       "    </tr>\n",
       "    <tr>\n",
       "      <th>1</th>\n",
       "      <td>10.34</td>\n",
       "      <td>1.66</td>\n",
       "      <td>Male</td>\n",
       "      <td>No</td>\n",
       "      <td>Sun</td>\n",
       "      <td>Dinner</td>\n",
       "      <td>3</td>\n",
       "      <td>1</td>\n",
       "    </tr>\n",
       "    <tr>\n",
       "      <th>2</th>\n",
       "      <td>21.01</td>\n",
       "      <td>3.50</td>\n",
       "      <td>Male</td>\n",
       "      <td>No</td>\n",
       "      <td>Sun</td>\n",
       "      <td>Dinner</td>\n",
       "      <td>3</td>\n",
       "      <td>1</td>\n",
       "    </tr>\n",
       "    <tr>\n",
       "      <th>3</th>\n",
       "      <td>23.68</td>\n",
       "      <td>3.31</td>\n",
       "      <td>Male</td>\n",
       "      <td>No</td>\n",
       "      <td>Sun</td>\n",
       "      <td>Dinner</td>\n",
       "      <td>2</td>\n",
       "      <td>1</td>\n",
       "    </tr>\n",
       "    <tr>\n",
       "      <th>4</th>\n",
       "      <td>24.59</td>\n",
       "      <td>3.61</td>\n",
       "      <td>Female</td>\n",
       "      <td>No</td>\n",
       "      <td>Sun</td>\n",
       "      <td>Dinner</td>\n",
       "      <td>4</td>\n",
       "      <td>0</td>\n",
       "    </tr>\n",
       "  </tbody>\n",
       "</table>\n",
       "</div>"
      ],
      "text/plain": [
       "   total_bill   tip     sex smoker  day    time  size sex_color\n",
       "0       16.99  1.01  Female     No  Sun  Dinner     2         0\n",
       "1       10.34  1.66    Male     No  Sun  Dinner     3         1\n",
       "2       21.01  3.50    Male     No  Sun  Dinner     3         1\n",
       "3       23.68  3.31    Male     No  Sun  Dinner     2         1\n",
       "4       24.59  3.61  Female     No  Sun  Dinner     4         0"
      ]
     },
     "execution_count": 87,
     "metadata": {},
     "output_type": "execute_result"
    }
   ],
   "source": [
    "tips[\"sex_color\"] = tips[\"sex\"].apply(recode_sex) #손쉽게 함수 적용하는법\n",
    "tips.head()"
   ]
  },
  {
   "cell_type": "code",
   "execution_count": 81,
   "id": "df285da5",
   "metadata": {},
   "outputs": [
    {
     "data": {
      "text/plain": [
       "<Figure size 432x288 with 0 Axes>"
      ]
     },
     "metadata": {},
     "output_type": "display_data"
    }
   ],
   "source": [
    "sct_fig_1 = plt.figure()"
   ]
  },
  {
   "cell_type": "code",
   "execution_count": 82,
   "id": "410afe8f",
   "metadata": {},
   "outputs": [],
   "source": [
    "sct_plot2 = sct_fig_1.add_subplot(1,1,1)"
   ]
  },
  {
   "cell_type": "code",
   "execution_count": 89,
   "id": "5f06a481",
   "metadata": {},
   "outputs": [
    {
     "data": {
      "text/plain": [
       "<matplotlib.collections.PathCollection at 0x7fc1f80f33d0>"
      ]
     },
     "execution_count": 89,
     "metadata": {},
     "output_type": "execute_result"
    }
   ],
   "source": [
    "sct_plot2.scatter(x = tips[\"total_bill\"],\n",
    "                 y= tips[\"tip\"],\n",
    "                 s= tips[\"size\"]*20,\n",
    "                 c= tips[\"sex_color\"],\n",
    "                 alpha= 0.5)"
   ]
  },
  {
   "cell_type": "code",
   "execution_count": 90,
   "id": "01503ba0",
   "metadata": {},
   "outputs": [
    {
     "data": {
      "image/png": "[encoded data removed]",
      "text/plain": [
       "<Figure size 432x288 with 1 Axes>"
      ]
     },
     "execution_count": 90,
     "metadata": {},
     "output_type": "execute_result"
    }
   ],
   "source": [
    "sct_fig_1"
   ]
  },
  {
   "cell_type": "code",
   "execution_count": 92,
   "id": "78a2daa8",
   "metadata": {},
   "outputs": [
    {
     "data": {
      "text/plain": [
       "Text(0, 0.5, 'tip $')"
      ]
     },
     "execution_count": 92,
     "metadata": {},
     "output_type": "execute_result"
    },
    {
     "data": {
      "image/png": "[encoded data removed]",
      "text/plain": [
       "<Figure size 432x288 with 1 Axes>"
      ]
     },
     "metadata": {
      "needs_background": "light"
     },
     "output_type": "display_data"
    }
   ],
   "source": [
    "ax= plt.subplots() # 기본 틀\n",
    "ax= sns.regplot(x= 'total_bill', y= 'tip', data= tips) # 회귀선 그어라\n",
    "ax.set_title('scatter plot') # 제목 붙여라\n",
    "ax.set_xlabel('total bill $') # x축 설정\n",
    "ax.set_ylabel('tip $')"
   ]
  },
  {
   "cell_type": "code",
   "execution_count": null,
   "id": "60075b98",
   "metadata": {},
   "outputs": [],
   "source": []
  }
 ],
 "metadata": {
  "kernelspec": {
   "display_name": "Python 3 (ipykernel)",
   "language": "python",
   "name": "python3"
  },
  "language_info": {
   "codemirror_mode": {
    "name": "ipython",
    "version": 3
   },
   "file_extension": ".py",
   "mimetype": "text/x-python",
   "name": "python",
   "nbconvert_exporter": "python",
   "pygments_lexer": "ipython3",
   "version": "3.9.7"
  }
 },
 "nbformat": 4,
 "nbformat_minor": 5
}
