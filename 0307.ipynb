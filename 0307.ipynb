{
 "cells": [
  {
   "cell_type": "markdown",
   "metadata": {
    "id": "lhThGqktc72Y"
   },
   "source": [
    "# **0307 : SET(집합)**"
   ]
  },
  {
   "cell_type": "code",
   "execution_count": 1,
   "metadata": {
    "id": "18UFYCaoWVRT"
   },
   "outputs": [],
   "source": [
    "A = {1,2,3,4,5}"
   ]
  },
  {
   "cell_type": "code",
   "execution_count": 2,
   "metadata": {
    "colab": {
     "base_uri": "https://localhost:8080/"
    },
    "id": "n0zD_dboWfDE",
    "outputId": "eaebc840-e9b1-4090-8ab2-32c8f639e9e7"
   },
   "outputs": [
    {
     "data": {
      "text/plain": [
       "set"
      ]
     },
     "execution_count": 2,
     "metadata": {},
     "output_type": "execute_result"
    }
   ],
   "source": [
    "type(A)"
   ]
  },
  {
   "cell_type": "code",
   "execution_count": 3,
   "metadata": {
    "colab": {
     "base_uri": "https://localhost:8080/"
    },
    "id": "yoxSc9YcWgig",
    "outputId": "cbced3af-04bd-4bc7-f782-b0fb6136690d"
   },
   "outputs": [
    {
     "name": "stdout",
     "output_type": "stream",
     "text": [
      "1\n",
      "2\n",
      "3\n",
      "4\n",
      "5\n"
     ]
    }
   ],
   "source": [
    "for i in A:\n",
    "  print(i)"
   ]
  },
  {
   "cell_type": "code",
   "execution_count": 4,
   "metadata": {
    "id": "ZsLd2UeVWrzU"
   },
   "outputs": [],
   "source": [
    "A = True"
   ]
  },
  {
   "cell_type": "code",
   "execution_count": 5,
   "metadata": {
    "colab": {
     "base_uri": "https://localhost:8080/"
    },
    "id": "XHL4pgqBWutA",
    "outputId": "93439e41-fe4d-4684-9c90-75475f4ae721"
   },
   "outputs": [
    {
     "data": {
      "text/plain": [
       "bool"
      ]
     },
     "execution_count": 5,
     "metadata": {},
     "output_type": "execute_result"
    }
   ],
   "source": [
    "type(A)"
   ]
  },
  {
   "cell_type": "code",
   "execution_count": 15,
   "metadata": {
    "colab": {
     "base_uri": "https://localhost:8080/"
    },
    "id": "XYnLSUbqXB_8",
    "outputId": "f5f28f51-57af-425b-f852-371ea966f32f"
   },
   "outputs": [
    {
     "name": "stdout",
     "output_type": "stream",
     "text": [
      "True and False\n",
      "{} and no order\n"
     ]
    }
   ],
   "source": [
    "dic= {\"bool\":\"True and False\", \"set\" : \"{} and no order\"}\n",
    "dic\n",
    "print(dic[\"bool\"])\n",
    "print(dic[\"set\"])"
   ]
  },
  {
   "cell_type": "code",
   "execution_count": 17,
   "metadata": {
    "colab": {
     "base_uri": "https://localhost:8080/"
    },
    "id": "VP4-K6JRXa61",
    "outputId": "7a9bfeac-44a4-4046-ed1e-eccd20530405"
   },
   "outputs": [
    {
     "name": "stdout",
     "output_type": "stream",
     "text": [
      "set()\n"
     ]
    }
   ],
   "source": [
    "s1= set()\n",
    "print(s1)"
   ]
  },
  {
   "cell_type": "code",
   "execution_count": 20,
   "metadata": {
    "colab": {
     "base_uri": "https://localhost:8080/"
    },
    "id": "7ujfLDr5XfaP",
    "outputId": "af4c5dc8-4e71-4115-d3ca-7f7042f47710"
   },
   "outputs": [
    {
     "data": {
      "text/plain": [
       "set"
      ]
     },
     "execution_count": 20,
     "metadata": {},
     "output_type": "execute_result"
    }
   ],
   "source": [
    "type(s1)"
   ]
  },
  {
   "cell_type": "code",
   "execution_count": 24,
   "metadata": {
    "colab": {
     "base_uri": "https://localhost:8080/"
    },
    "id": "hhwux76pXjCk",
    "outputId": "3c65900d-0010-4127-8b97-4c09560c7639"
   },
   "outputs": [
    {
     "name": "stdout",
     "output_type": "stream",
     "text": [
      "{1, 2, 3}\n"
     ]
    }
   ],
   "source": [
    "s1 = set([1,2,3])\n",
    "print(s1)"
   ]
  },
  {
   "cell_type": "code",
   "execution_count": 26,
   "metadata": {
    "id": "fpYSOuB7X6pA"
   },
   "outputs": [],
   "source": [
    "A = (1,2,3)"
   ]
  },
  {
   "cell_type": "code",
   "execution_count": 27,
   "metadata": {
    "colab": {
     "base_uri": "https://localhost:8080/"
    },
    "id": "opg45yowX9Kh",
    "outputId": "7c847db3-29e6-46f4-b5e1-970c5d5abc00"
   },
   "outputs": [
    {
     "data": {
      "text/plain": [
       "tuple"
      ]
     },
     "execution_count": 27,
     "metadata": {},
     "output_type": "execute_result"
    }
   ],
   "source": [
    "type(A)"
   ]
  },
  {
   "cell_type": "code",
   "execution_count": 50,
   "metadata": {
    "colab": {
     "base_uri": "https://localhost:8080/"
    },
    "id": "9OdGKM9yX91E",
    "outputId": "58e49ae3-8c9a-4981-ca5b-8b1150eb7c0f"
   },
   "outputs": [
    {
     "data": {
      "text/plain": [
       "['grape', 'orange', 'banana']"
      ]
     },
     "execution_count": 50,
     "metadata": {},
     "output_type": "execute_result"
    }
   ],
   "source": [
    "fruits = [\"grape\", \"orange\", \"banana\"]\n",
    "\"orange\" in fruits #True False\n",
    "fruits"
   ]
  },
  {
   "cell_type": "code",
   "execution_count": 32,
   "metadata": {
    "colab": {
     "base_uri": "https://localhost:8080/"
    },
    "id": "7b4BlOd3YE9J",
    "outputId": "794f7083-9de5-4909-d554-099c9c49310c"
   },
   "outputs": [
    {
     "data": {
      "text/plain": [
       "False"
      ]
     },
     "execution_count": 32,
     "metadata": {},
     "output_type": "execute_result"
    }
   ],
   "source": [
    "\"peach\" in fruits"
   ]
  },
  {
   "cell_type": "code",
   "execution_count": 33,
   "metadata": {
    "colab": {
     "base_uri": "https://localhost:8080/",
     "height": 205
    },
    "id": "MFs6cRGdYX-L",
    "outputId": "02a3bbdc-d5f9-429b-94f8-9c61bc39acf8"
   },
   "outputs": [
    {
     "ename": "TypeError",
     "evalue": "ignored",
     "output_type": "error",
     "traceback": [
      "\u001b[0;31m---------------------------------------------------------------------------\u001b[0m",
      "\u001b[0;31mTypeError\u001b[0m                                 Traceback (most recent call last)",
      "\u001b[0;32m<ipython-input-33-f761898f8c99>\u001b[0m in \u001b[0;36m<module>\u001b[0;34m()\u001b[0m\n\u001b[0;32m----> 1\u001b[0;31m \u001b[0mseta\u001b[0m \u001b[0;34m=\u001b[0m \u001b[0;34m{\u001b[0m\u001b[0;34m{\u001b[0m\u001b[0;36m1\u001b[0m\u001b[0;34m,\u001b[0m\u001b[0;36m2\u001b[0m\u001b[0;34m}\u001b[0m\u001b[0;34m,\u001b[0m\u001b[0;34m{\u001b[0m\u001b[0;36m3\u001b[0m\u001b[0;34m,\u001b[0m\u001b[0;36m4\u001b[0m\u001b[0;34m}\u001b[0m\u001b[0;34m,\u001b[0m\u001b[0;36m5\u001b[0m\u001b[0;34m,\u001b[0m\u001b[0;36m6\u001b[0m\u001b[0;34m}\u001b[0m\u001b[0;34m\u001b[0m\u001b[0;34m\u001b[0m\u001b[0m\n\u001b[0m",
      "\u001b[0;31mTypeError\u001b[0m: unhashable type: 'set'"
     ]
    }
   ],
   "source": [
    "seta = {{1,2},{3,4},5,6}"
   ]
  },
  {
   "cell_type": "code",
   "execution_count": 47,
   "metadata": {
    "id": "kYhTt1kMYcfU"
   },
   "outputs": [],
   "source": [
    "s2 = set(\"123hello\")"
   ]
  },
  {
   "cell_type": "code",
   "execution_count": 49,
   "metadata": {
    "colab": {
     "base_uri": "https://localhost:8080/"
    },
    "id": "5pW108FaYhIo",
    "outputId": "fa4991dc-e085-4096-ee98-c397c087a864"
   },
   "outputs": [
    {
     "data": {
      "text/plain": [
       "{'1', '2', '3', 'e', 'h', 'l', 'o'}"
      ]
     },
     "execution_count": 49,
     "metadata": {},
     "output_type": "execute_result"
    }
   ],
   "source": [
    "s2 ##순서가 없다, 자동으로 오름차순 정렬(숫자/문자 ASCII코드순)"
   ]
  },
  {
   "cell_type": "code",
   "execution_count": 52,
   "metadata": {
    "id": "2QKU2XK4YiKO"
   },
   "outputs": [],
   "source": [
    "fruits = {\"grape\", \"orange\", \"banana\",\"banana\"}"
   ]
  },
  {
   "cell_type": "code",
   "execution_count": 37,
   "metadata": {
    "colab": {
     "base_uri": "https://localhost:8080/"
    },
    "id": "YfcWE0rnYpiv",
    "outputId": "2cd31156-b3be-4cef-8b94-be5d71fe6c1f"
   },
   "outputs": [
    {
     "data": {
      "text/plain": [
       "{'banana', 'grape', 'orange'}"
      ]
     },
     "execution_count": 37,
     "metadata": {},
     "output_type": "execute_result"
    }
   ],
   "source": [
    "fruits #중복되는 원소는 제거된다. set만의 특징."
   ]
  },
  {
   "cell_type": "code",
   "execution_count": 44,
   "metadata": {
    "id": "YkVz6gcgYqKv"
   },
   "outputs": [],
   "source": [
    "s1 = set([5,2,3,4,1])\n",
    "l1 = list(s1)\n",
    "t1 = tuple(s1)"
   ]
  },
  {
   "cell_type": "code",
   "execution_count": 46,
   "metadata": {
    "colab": {
     "base_uri": "https://localhost:8080/"
    },
    "id": "zDeQ1vVhYwf4",
    "outputId": "fb8f6536-b12c-495f-c7c6-f0aeb81bc758"
   },
   "outputs": [
    {
     "name": "stdout",
     "output_type": "stream",
     "text": [
      "[1, 2, 3, 4, 5]\n",
      "(1, 2, 3, 4, 5)\n",
      "{1, 2, 3, 4, 5}\n"
     ]
    }
   ],
   "source": [
    "print(l1) #자동정렬되어 1 2 3 4 5 순으로 출력된다\n",
    "print(t1)\n",
    "print(s1)"
   ]
  },
  {
   "cell_type": "code",
   "execution_count": 53,
   "metadata": {
    "colab": {
     "base_uri": "https://localhost:8080/",
     "height": 241
    },
    "id": "GHSaA827Y9Fr",
    "outputId": "8ce103e6-5146-489a-a65c-0eeab5029896"
   },
   "outputs": [
    {
     "ename": "TypeError",
     "evalue": "ignored",
     "output_type": "error",
     "traceback": [
      "\u001b[0;31m---------------------------------------------------------------------------\u001b[0m",
      "\u001b[0;31mTypeError\u001b[0m                                 Traceback (most recent call last)",
      "\u001b[0;32m<ipython-input-53-0232f18d63db>\u001b[0m in \u001b[0;36m<module>\u001b[0;34m()\u001b[0m\n\u001b[1;32m      1\u001b[0m \u001b[0ml1\u001b[0m\u001b[0;34m[\u001b[0m\u001b[0;36m0\u001b[0m\u001b[0;34m]\u001b[0m\u001b[0;34m\u001b[0m\u001b[0;34m\u001b[0m\u001b[0m\n\u001b[1;32m      2\u001b[0m \u001b[0mt1\u001b[0m\u001b[0;34m[\u001b[0m\u001b[0;36m0\u001b[0m\u001b[0;34m]\u001b[0m\u001b[0;34m\u001b[0m\u001b[0;34m\u001b[0m\u001b[0m\n\u001b[0;32m----> 3\u001b[0;31m \u001b[0ms1\u001b[0m\u001b[0;34m[\u001b[0m\u001b[0;36m0\u001b[0m\u001b[0;34m]\u001b[0m\u001b[0;34m\u001b[0m\u001b[0;34m\u001b[0m\u001b[0m\n\u001b[0m",
      "\u001b[0;31mTypeError\u001b[0m: 'set' object is not subscriptable"
     ]
    }
   ],
   "source": [
    "s1[0] #set는 indexing 불가, index자체가 요소에 존재하지 않음"
   ]
  },
  {
   "cell_type": "code",
   "execution_count": 55,
   "metadata": {
    "colab": {
     "base_uri": "https://localhost:8080/"
    },
    "id": "AKuzCM43aWNp",
    "outputId": "3efe04bc-a5c2-4563-a814-78fd0e9926f4"
   },
   "outputs": [
    {
     "name": "stdout",
     "output_type": "stream",
     "text": [
      "1\n",
      "1\n"
     ]
    }
   ],
   "source": [
    "print(l1[0])\n",
    "print(t1[0])"
   ]
  },
  {
   "cell_type": "code",
   "execution_count": 57,
   "metadata": {
    "colab": {
     "base_uri": "https://localhost:8080/"
    },
    "id": "LiO4b9K3ac0n",
    "outputId": "4379c7c0-95ca-4e90-d66f-aea708a571a6"
   },
   "outputs": [
    {
     "name": "stdout",
     "output_type": "stream",
     "text": [
      "{4, 5, 6}\n",
      "{4, 5, 6}\n"
     ]
    }
   ],
   "source": [
    "s1 = {1,2,3,4,5,6}\n",
    "s2 = {4,5,6,7,8,9}\n",
    "print(s1&s2) #교집합 : &\n",
    "print(s1.intersection(s2)) #intersection method"
   ]
  },
  {
   "cell_type": "code",
   "execution_count": 58,
   "metadata": {
    "colab": {
     "base_uri": "https://localhost:8080/"
    },
    "id": "qep45FNga8QP",
    "outputId": "a6f2b5da-6af4-499c-d923-7e3c517d2cde"
   },
   "outputs": [
    {
     "name": "stdout",
     "output_type": "stream",
     "text": [
      "{1, 2, 3, 4, 5, 6, 7, 8, 9}\n",
      "{1, 2, 3, 4, 5, 6, 7, 8, 9}\n"
     ]
    }
   ],
   "source": [
    "print(s1|s2) #합집합 : |\n",
    "print(s1.union(s2)) #union method"
   ]
  },
  {
   "cell_type": "code",
   "execution_count": 61,
   "metadata": {
    "colab": {
     "base_uri": "https://localhost:8080/"
    },
    "id": "dMpXhnppbJid",
    "outputId": "46954a70-ca3f-43e5-c403-91610210e1b1"
   },
   "outputs": [
    {
     "name": "stdout",
     "output_type": "stream",
     "text": [
      "{1, 2, 3}\n",
      "{1, 2, 3}\n"
     ]
    }
   ],
   "source": [
    "print(s1-s2) #차집합 \n",
    "print(s1.difference(s2)) #차집합 s1 - s2"
   ]
  },
  {
   "cell_type": "code",
   "execution_count": 65,
   "metadata": {
    "colab": {
     "base_uri": "https://localhost:8080/"
    },
    "id": "-W8iP4rZbLe6",
    "outputId": "b95d4e49-568a-40aa-8cb6-088f4c9c492a"
   },
   "outputs": [
    {
     "name": "stdout",
     "output_type": "stream",
     "text": [
      "{1, 2, 3, 7, 8, 9}\n",
      "{1, 2, 3, 7, 8, 9}\n"
     ]
    }
   ],
   "source": [
    "#대칭차집합 : 합집합에서 교집합을 뺀 나머지 (AUB - AB)\n",
    "print(s1 ^ s2)\n",
    "print((s1|s2) - (s1&s2))"
   ]
  },
  {
   "cell_type": "code",
   "execution_count": 66,
   "metadata": {
    "colab": {
     "base_uri": "https://localhost:8080/"
    },
    "id": "htcZR4WgbcPg",
    "outputId": "a914cfd9-494c-416e-f096-b5891e66e800"
   },
   "outputs": [
    {
     "name": "stdout",
     "output_type": "stream",
     "text": [
      "{1, 2, 3, 4, 5, 6}\n"
     ]
    }
   ],
   "source": [
    "#한번에 여러 값 추가 : update함수\n",
    "s1 = set([1,3,5])\n",
    "s1.update([2,4,6])\n",
    "print(s1)"
   ]
  },
  {
   "cell_type": "code",
   "execution_count": 67,
   "metadata": {
    "colab": {
     "base_uri": "https://localhost:8080/"
    },
    "id": "l8KfQ5ofbs5D",
    "outputId": "8cd5d529-af79-48b4-dff1-16e9aafb2bd3"
   },
   "outputs": [
    {
     "data": {
      "text/plain": [
       "{1, 2, 4, 5, 6}"
      ]
     },
     "execution_count": 67,
     "metadata": {},
     "output_type": "execute_result"
    }
   ],
   "source": [
    "#한번에 한 값 제거 : remove\n",
    "s1.remove(3)\n",
    "s1"
   ]
  },
  {
   "cell_type": "code",
   "execution_count": 68,
   "metadata": {
    "colab": {
     "base_uri": "https://localhost:8080/"
    },
    "id": "8-izzn9UcTxU",
    "outputId": "d8147934-7fcf-427f-8fae-dc69b66b60e1"
   },
   "outputs": [
    {
     "data": {
      "text/plain": [
       "{1, 2, 3, 4, 5, 6}"
      ]
     },
     "execution_count": 68,
     "metadata": {},
     "output_type": "execute_result"
    }
   ],
   "source": [
    "#한번에 한 값 더하기 : add\n",
    "s1.add(3)\n",
    "s1"
   ]
  },
  {
   "cell_type": "markdown",
   "metadata": {
    "id": "uscySKwjdGVM"
   },
   "source": [
    "# **BOOL 자료형**"
   ]
  },
  {
   "cell_type": "code",
   "execution_count": 69,
   "metadata": {
    "colab": {
     "base_uri": "https://localhost:8080/"
    },
    "id": "0usofolBdM-t",
    "outputId": "8d341c67-60aa-4b73-8f25-e18e17b66fe8"
   },
   "outputs": [
    {
     "data": {
      "text/plain": [
       "bool"
      ]
     },
     "execution_count": 69,
     "metadata": {},
     "output_type": "execute_result"
    }
   ],
   "source": [
    "A = True\n",
    "B = False\n",
    "\n",
    "type(A)"
   ]
  },
  {
   "cell_type": "code",
   "execution_count": 70,
   "metadata": {
    "colab": {
     "base_uri": "https://localhost:8080/"
    },
    "id": "_MUKR-mQdSBh",
    "outputId": "22a163f0-fe4f-4166-c927-619db3590868"
   },
   "outputs": [
    {
     "data": {
      "text/plain": [
       "True"
      ]
     },
     "execution_count": 70,
     "metadata": {},
     "output_type": "execute_result"
    }
   ],
   "source": [
    "1==1"
   ]
  },
  {
   "cell_type": "code",
   "execution_count": 71,
   "metadata": {
    "colab": {
     "base_uri": "https://localhost:8080/"
    },
    "id": "R8fUpbH_dTuA",
    "outputId": "d79e5f4d-5b3a-454a-8282-497087fbe62d"
   },
   "outputs": [
    {
     "data": {
      "text/plain": [
       "True"
      ]
     },
     "execution_count": 71,
     "metadata": {},
     "output_type": "execute_result"
    }
   ],
   "source": [
    "1>0"
   ]
  },
  {
   "cell_type": "code",
   "execution_count": 72,
   "metadata": {
    "colab": {
     "base_uri": "https://localhost:8080/"
    },
    "id": "3Yisvt50dUSE",
    "outputId": "4de9f46d-363c-4475-d6d9-44575abeb921"
   },
   "outputs": [
    {
     "data": {
      "text/plain": [
       "True"
      ]
     },
     "execution_count": 72,
     "metadata": {},
     "output_type": "execute_result"
    }
   ],
   "source": [
    "1>=1"
   ]
  },
  {
   "cell_type": "code",
   "execution_count": 73,
   "metadata": {
    "colab": {
     "base_uri": "https://localhost:8080/"
    },
    "id": "5eeFQ43QdU_B",
    "outputId": "6bc6db6e-3194-4436-aef1-c4e69db50381"
   },
   "outputs": [
    {
     "data": {
      "text/plain": [
       "False"
      ]
     },
     "execution_count": 73,
     "metadata": {},
     "output_type": "execute_result"
    }
   ],
   "source": [
    "3<1"
   ]
  },
  {
   "cell_type": "code",
   "execution_count": 74,
   "metadata": {
    "colab": {
     "base_uri": "https://localhost:8080/"
    },
    "id": "-iMufZ3cdV8J",
    "outputId": "0de7e448-35d9-48eb-e10e-dffee5d10825"
   },
   "outputs": [
    {
     "data": {
      "text/plain": [
       "True"
      ]
     },
     "execution_count": 74,
     "metadata": {},
     "output_type": "execute_result"
    }
   ],
   "source": [
    "bool(1) #0이 아닌 숫자 값 : True반환"
   ]
  },
  {
   "cell_type": "code",
   "execution_count": 76,
   "metadata": {
    "colab": {
     "base_uri": "https://localhost:8080/"
    },
    "id": "CMKM-8mmdXyH",
    "outputId": "7918b633-2173-4d36-b91c-d314681795ab"
   },
   "outputs": [
    {
     "data": {
      "text/plain": [
       "False"
      ]
     },
     "execution_count": 76,
     "metadata": {},
     "output_type": "execute_result"
    }
   ],
   "source": [
    "bool(0) #0은 False반환"
   ]
  },
  {
   "cell_type": "code",
   "execution_count": 86,
   "metadata": {
    "colab": {
     "base_uri": "https://localhost:8080/"
    },
    "id": "nOHn0PJzdYoC",
    "outputId": "0459df97-8edb-4124-8022-ad78c650594f"
   },
   "outputs": [
    {
     "name": "stdout",
     "output_type": "stream",
     "text": [
      "True\n",
      "True\n",
      "True\n",
      "True\n"
     ]
    }
   ],
   "source": [
    "print(bool([1,2,3]))\n",
    "print(bool({1,2,3})) #요소가 포함된 집합, 리스트, 튜플 : True로 반환\n",
    "print(bool((1,2,3)))\n",
    "print(bool(\"letter\")) #요소가 있는 문자열도 마찬가지"
   ]
  },
  {
   "cell_type": "code",
   "execution_count": 87,
   "metadata": {
    "colab": {
     "base_uri": "https://localhost:8080/"
    },
    "id": "lb_ba2Uadf2j",
    "outputId": "77c805b3-ccf7-4260-f304-b530b8829690"
   },
   "outputs": [
    {
     "name": "stdout",
     "output_type": "stream",
     "text": [
      "False\n",
      "False\n",
      "False\n",
      "False\n"
     ]
    }
   ],
   "source": [
    "print(bool([]))\n",
    "print(bool({})) #요소가 없는 집합, 리스트, 튜플 : False로 반환\n",
    "print(bool(()))\n",
    "print(bool(\"\")) #요소가 없는 문자열도 마찬가지"
   ]
  },
  {
   "cell_type": "markdown",
   "metadata": {
    "id": "G-6_NnlxepsO"
   },
   "source": [
    "#**변수의 이해 : 객채지향 프로그래밍**"
   ]
  },
  {
   "cell_type": "code",
   "execution_count": 88,
   "metadata": {
    "colab": {
     "base_uri": "https://localhost:8080/"
    },
    "id": "8OhXHHqMd1I-",
    "outputId": "3e83d02c-33f7-46c5-875d-2882d0c5a880"
   },
   "outputs": [
    {
     "data": {
      "text/plain": [
       "139901009856704"
      ]
     },
     "execution_count": 88,
     "metadata": {},
     "output_type": "execute_result"
    }
   ],
   "source": [
    "#변수 : 객체 / 자료형\n",
    "#객체 = class\n",
    "a = [1,2,3]\n",
    "id(a)\n",
    "#변수 a는 [1,2,3]이라는 리스트가 저장된 메모리의 주소를 가리킴\n",
    "#id함수는 변수가 가리키고 있는 객체의 주소값을 돌려주는 파이썬 내장함수"
   ]
  },
  {
   "cell_type": "code",
   "execution_count": 89,
   "metadata": {
    "colab": {
     "base_uri": "https://localhost:8080/"
    },
    "id": "h4zaUbkRe7ww",
    "outputId": "6fd9b8e0-66c4-467f-dc76-2d6a59988e9b"
   },
   "outputs": [
    {
     "name": "stdout",
     "output_type": "stream",
     "text": [
      "139901009856704\n",
      "139901009856704\n"
     ]
    }
   ],
   "source": [
    "#리스트의 복사 / 복사는 새로운 메모리에 할당하는 것이 아닌 가리키는 방향을 복사하는것\n",
    "b = a\n",
    "print(id(a))\n",
    "print(id(b))"
   ]
  },
  {
   "cell_type": "code",
   "execution_count": 91,
   "metadata": {
    "colab": {
     "base_uri": "https://localhost:8080/"
    },
    "id": "5azdyJZkfNpz",
    "outputId": "6f7545aa-b5f1-4f84-f821-04b0c6cd1783"
   },
   "outputs": [
    {
     "data": {
      "text/plain": [
       "True"
      ]
     },
     "execution_count": 91,
     "metadata": {},
     "output_type": "execute_result"
    }
   ],
   "source": [
    "a is b \n",
    "#두 객체가 완전히 같은 것을 가리키기 때문에 True로 출력, 여기서 is 명령문의 원리를 알 수 있음"
   ]
  },
  {
   "cell_type": "code",
   "execution_count": 92,
   "metadata": {
    "colab": {
     "base_uri": "https://localhost:8080/"
    },
    "id": "WwqxjH-qfP9M",
    "outputId": "0fde0ef7-c2f5-4bc5-eaea-f9b473a5d14e"
   },
   "outputs": [
    {
     "name": "stdout",
     "output_type": "stream",
     "text": [
      "[1, 4, 3]\n"
     ]
    }
   ],
   "source": [
    "a = [1,2,3]\n",
    "a = b #여기서 선언해도\n",
    "a[1] = 4\n",
    "print(a)"
   ]
  },
  {
   "cell_type": "code",
   "execution_count": 95,
   "metadata": {
    "colab": {
     "base_uri": "https://localhost:8080/"
    },
    "id": "ELsvDjXrfa5X",
    "outputId": "b84dd9db-737a-413d-aa7f-c979a4c74eb1"
   },
   "outputs": [
    {
     "name": "stdout",
     "output_type": "stream",
     "text": [
      "[1, 4, 3]\n"
     ]
    }
   ],
   "source": [
    "print(b) #b는 a와 같은 것을 가리키기 때문에, 이런 식으로 같은 것을 가리키게 된다\n",
    "#이는 매우 중요하다."
   ]
  },
  {
   "cell_type": "code",
   "execution_count": 97,
   "metadata": {
    "colab": {
     "base_uri": "https://localhost:8080/"
    },
    "id": "mXwIjv-ffcYz",
    "outputId": "b26f1441-1814-4033-a7f2-ca2ab7cb9e23"
   },
   "outputs": [
    {
     "data": {
      "text/plain": [
       "False"
      ]
     },
     "execution_count": 97,
     "metadata": {},
     "output_type": "execute_result"
    }
   ],
   "source": [
    "x = [1,2]\n",
    "y = [1,2]\n",
    "x is y\n",
    "#같은 값을 지니고 있지만, 각각 다른 객체를 선언했고 그 결과 각자 다른 메모리 위치를 가지고 있기 떄문에\n",
    "#FALSE가 출력된다"
   ]
  },
  {
   "cell_type": "code",
   "execution_count": 98,
   "metadata": {
    "colab": {
     "base_uri": "https://localhost:8080/"
    },
    "id": "G8fJ62p5fpRv",
    "outputId": "29a7d181-71b0-4243-aaab-90cb3adfda28"
   },
   "outputs": [
    {
     "name": "stdout",
     "output_type": "stream",
     "text": [
      "[1, 'dog']\n"
     ]
    }
   ],
   "source": [
    "x[1] = \"dog\"\n",
    "print(x)"
   ]
  },
  {
   "cell_type": "code",
   "execution_count": 100,
   "metadata": {
    "colab": {
     "base_uri": "https://localhost:8080/"
    },
    "id": "yGoJmF09f1on",
    "outputId": "9a75aceb-22eb-4c47-a5f6-f9ad47421ce3"
   },
   "outputs": [
    {
     "name": "stdout",
     "output_type": "stream",
     "text": [
      "[1, 2]\n"
     ]
    }
   ],
   "source": [
    "print(y) #y는 다른 객체이기 때문에 변하지 않는다"
   ]
  },
  {
   "cell_type": "code",
   "execution_count": 106,
   "metadata": {
    "colab": {
     "base_uri": "https://localhost:8080/"
    },
    "id": "PNUlBHcVf3eq",
    "outputId": "dca10ae9-a55d-4a65-c6ec-e5dc2c016aa3"
   },
   "outputs": [
    {
     "name": "stdout",
     "output_type": "stream",
     "text": [
      "[1, 2, 3]\n",
      "False\n",
      "True\n"
     ]
    }
   ],
   "source": [
    "a = [1,2,3]\n",
    "b = a[:] #a의 내용을 복사해와도 b는 다른 곳에 선언된다. 다른 객체다\n",
    "print(b)\n",
    "print(a is b) #메모리 주소값을 비교하기에 is는 False 를 반환한다 \n",
    "print(a == b) #요소의 같음과 다름을 비교하기에 ==는 True를 반환한다!! (이거 꼭 기억)"
   ]
  },
  {
   "cell_type": "code",
   "execution_count": 108,
   "metadata": {
    "colab": {
     "base_uri": "https://localhost:8080/"
    },
    "id": "yd324S_Cf_Tx",
    "outputId": "d2f4e409-d355-4508-a103-1144cef0bd78"
   },
   "outputs": [
    {
     "name": "stdout",
     "output_type": "stream",
     "text": [
      "[1, 2, 3, 4, 5]\n",
      "False\n",
      "True\n"
     ]
    }
   ],
   "source": [
    "#copy모듈 사용한 원소 복사 : 마찬가지로 요소만 복사해오기떄문에 같은 결과\n",
    "from copy import copy\n",
    "a = [1,2,3,4,5]\n",
    "b = copy(a)\n",
    "print(b)\n",
    "print(a is b)\n",
    "print(a == b)"
   ]
  },
  {
   "cell_type": "code",
   "execution_count": 112,
   "metadata": {
    "id": "qRLvwZC8hHdl"
   },
   "outputs": [],
   "source": [
    "#변수 선언 방법\n",
    "a, b = (\"python\", \"life\")"
   ]
  },
  {
   "cell_type": "code",
   "execution_count": 113,
   "metadata": {
    "colab": {
     "base_uri": "https://localhost:8080/"
    },
    "id": "PrW9t8yPhYDp",
    "outputId": "033c6ee4-dfec-4b7c-be73-8ef52064fdc2"
   },
   "outputs": [
    {
     "name": "stdout",
     "output_type": "stream",
     "text": [
      "python life\n"
     ]
    }
   ],
   "source": [
    "print(a,b)"
   ]
  },
  {
   "cell_type": "code",
   "execution_count": 122,
   "metadata": {
    "colab": {
     "base_uri": "https://localhost:8080/"
    },
    "id": "HeVuETlIhYw3",
    "outputId": "2c306cc8-750e-4bfd-95dc-783d3217bcae"
   },
   "outputs": [
    {
     "name": "stdout",
     "output_type": "stream",
     "text": [
      "python life\n",
      "python\n",
      "life\n"
     ]
    }
   ],
   "source": [
    "(a, b) = (\"python\", \"life\")\n",
    "print(a, b)\n",
    "print(a)\n",
    "print(b)"
   ]
  },
  {
   "cell_type": "code",
   "execution_count": 126,
   "metadata": {
    "colab": {
     "base_uri": "https://localhost:8080/"
    },
    "id": "PVnY9FW5hau2",
    "outputId": "0acd115b-13a1-4422-a3af-e92183384407"
   },
   "outputs": [
    {
     "name": "stdout",
     "output_type": "stream",
     "text": [
      "['python', 'life']\n",
      "python\n",
      "life\n"
     ]
    }
   ],
   "source": [
    "[a, b] = [\"python\", \"life\"]\n",
    "print([a, b])\n",
    "print(a)\n",
    "print(b)\n",
    "#위와같이 다양하게 사용할 수 있음. 코드가 좀 깔끔해지는 경향 있음"
   ]
  },
  {
   "cell_type": "code",
   "execution_count": 127,
   "metadata": {
    "colab": {
     "base_uri": "https://localhost:8080/"
    },
    "id": "bQanoBlShoVs",
    "outputId": "65a37a39-a4f2-441b-ce36-042592449284"
   },
   "outputs": [
    {
     "name": "stdout",
     "output_type": "stream",
     "text": [
      "python python\n"
     ]
    }
   ],
   "source": [
    "a = b = \"python\"\n",
    "print (a, b)\n",
    "#서로 다른 두 변수(객체)에 같은 내용 선언할때"
   ]
  },
  {
   "cell_type": "code",
   "execution_count": 125,
   "metadata": {
    "colab": {
     "base_uri": "https://localhost:8080/"
    },
    "id": "sFAStGFjh95o",
    "outputId": "30518505-1cfc-4729-96df-330aa5420ea3"
   },
   "outputs": [
    {
     "name": "stdout",
     "output_type": "stream",
     "text": [
      "20\n",
      "30\n"
     ]
    }
   ],
   "source": [
    "a = 30\n",
    "b = 20\n",
    "a, b = b, a #변수값 서로 바꿔주기\n",
    "print(a)\n",
    "print(b)"
   ]
  },
  {
   "cell_type": "code",
   "execution_count": 130,
   "metadata": {
    "colab": {
     "base_uri": "https://localhost:8080/"
    },
    "id": "oGkyIlIZh8S3",
    "outputId": "8390765a-a525-4cb7-9b38-218cfa804c2e"
   },
   "outputs": [
    {
     "name": "stdout",
     "output_type": "stream",
     "text": [
      "32.22222222222222\n"
     ]
    }
   ],
   "source": [
    "ftemp= 90\n",
    "ctemp= (ftemp-32)*5/9\n",
    "print(ctemp)"
   ]
  },
  {
   "cell_type": "code",
   "execution_count": 132,
   "metadata": {
    "colab": {
     "base_uri": "https://localhost:8080/"
    },
    "id": "d8jSlG43iLYv",
    "outputId": "18d6a922-a635-40ad-e508-ee51393970ce"
   },
   "outputs": [
    {
     "name": "stdout",
     "output_type": "stream",
     "text": [
      "화씨온도 :24\n",
      "섭씨온도 :  -4.44\n"
     ]
    }
   ],
   "source": [
    "ftemp = float(input(\"화씨온도 :\"))\n",
    "ctemp = (ftemp-32)*5/9\n",
    "print(\"섭씨온도 : \", round(ctemp,2))"
   ]
  },
  {
   "cell_type": "code",
   "execution_count": 133,
   "metadata": {
    "colab": {
     "base_uri": "https://localhost:8080/"
    },
    "id": "QWlrqtbvimKB",
    "outputId": "261e0c7f-6476-41cc-b42f-aefe98bd2086"
   },
   "outputs": [
    {
     "name": "stdout",
     "output_type": "stream",
     "text": [
      "[1, 2, 3, 4, 5, 6, 7]\n"
     ]
    }
   ],
   "source": [
    "#연습문제 : 중복숫자제거\n",
    "a = [1,1,1,2,2,3,4,4,5,6,6,7,7,7]\n",
    "aSet = set(a)\n",
    "b = list(aSet)\n",
    "print(b)"
   ]
  },
  {
   "cell_type": "markdown",
   "metadata": {
    "id": "vrx9pNlhjI5Y"
   },
   "source": [
    "# **파이썬 내장함수**"
   ]
  },
  {
   "cell_type": "code",
   "execution_count": 134,
   "metadata": {
    "colab": {
     "base_uri": "https://localhost:8080/"
    },
    "id": "_g8bmLxgjN7o",
    "outputId": "3688c115-ece3-4dc7-9c9d-d285b242e2e6"
   },
   "outputs": [
    {
     "data": {
      "text/plain": [
       "12.5"
      ]
     },
     "execution_count": 134,
     "metadata": {},
     "output_type": "execute_result"
    }
   ],
   "source": [
    "1+1\n",
    "10-5\n",
    "10*4\n",
    "100/8"
   ]
  },
  {
   "cell_type": "code",
   "execution_count": 135,
   "metadata": {
    "colab": {
     "base_uri": "https://localhost:8080/"
    },
    "id": "MXjRh2IqjRaQ",
    "outputId": "68c4e1c6-abd3-453d-e072-8dd01e779f26"
   },
   "outputs": [
    {
     "data": {
      "text/plain": [
       "4.5"
      ]
     },
     "execution_count": 135,
     "metadata": {},
     "output_type": "execute_result"
    }
   ],
   "source": [
    "abs(-3)   # 절대값 돌려주기\n",
    "abs(3.3)\n",
    "abs(-4.5)"
   ]
  },
  {
   "cell_type": "code",
   "execution_count": 136,
   "metadata": {
    "colab": {
     "base_uri": "https://localhost:8080/"
    },
    "id": "jHkvhInLjS5o",
    "outputId": "dff482ae-1091-488f-f647-72caabe95531"
   },
   "outputs": [
    {
     "data": {
      "text/plain": [
       "4"
      ]
     },
     "execution_count": 136,
     "metadata": {},
     "output_type": "execute_result"
    }
   ],
   "source": [
    "int(3.5)\n",
    "int(-5.7)\n",
    "int(4.8)\n",
    "#float > int자료형 변환되면서 소수점이 버려진다"
   ]
  },
  {
   "cell_type": "code",
   "execution_count": 138,
   "metadata": {
    "colab": {
     "base_uri": "https://localhost:8080/"
    },
    "id": "5AsDZ3ZajYOC",
    "outputId": "1c1a3f9c-77ca-4b3e-b240-1c2c80e51da8"
   },
   "outputs": [
    {
     "data": {
      "text/plain": [
       "5.125"
      ]
     },
     "execution_count": 138,
     "metadata": {},
     "output_type": "execute_result"
    }
   ],
   "source": [
    "round(3.8) #반올림\n",
    "round(5.125124, 3) #소수점자리 설정"
   ]
  },
  {
   "cell_type": "code",
   "execution_count": 150,
   "metadata": {
    "colab": {
     "base_uri": "https://localhost:8080/"
    },
    "id": "KfUsch_Fjb6v",
    "outputId": "a54bb844-9794-4377-8f88-a2af2341beee"
   },
   "outputs": [
    {
     "name": "stdout",
     "output_type": "stream",
     "text": [
      "True\n",
      "True\n",
      "True\n",
      "False\n",
      "True\n"
     ]
    }
   ],
   "source": [
    "print(all([1,2,3]))\n",
    "print(all((1,2,3)))\n",
    "print(all({1,2,3}))\n",
    "print(all([1,2,0])) \n",
    "print(all(\"1230456\"))\n",
    "#all 함수: 리스트, 튜플, 집합 등에만 적용되며, 하나라도 0인 값이 있으면 False를 반환한다\n",
    "#요소 중 하나라도 거짓인 값이 있으면 false반환"
   ]
  },
  {
   "cell_type": "code",
   "execution_count": null,
   "metadata": {
    "id": "lBrnF-sKjmhO"
   },
   "outputs": [],
   "source": []
  }
 ],
 "metadata": {
  "colab": {
   "name": "0307.ipynb",
   "provenance": []
  },
  "kernelspec": {
   "display_name": "Python 3 (ipykernel)",
   "language": "python",
   "name": "python3"
  },
  "language_info": {
   "codemirror_mode": {
    "name": "ipython",
    "version": 3
   },
   "file_extension": ".py",
   "mimetype": "text/x-python",
   "name": "python",
   "nbconvert_exporter": "python",
   "pygments_lexer": "ipython3",
   "version": "3.9.7"
  }
 },
 "nbformat": 4,
 "nbformat_minor": 1
}
