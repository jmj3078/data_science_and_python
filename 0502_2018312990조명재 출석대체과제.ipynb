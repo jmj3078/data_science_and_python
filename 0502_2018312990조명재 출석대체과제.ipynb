{
 "cells": [
  {
   "cell_type": "markdown",
   "id": "ae65b9c4",
   "metadata": {},
   "source": [
    "# 2018312990 조명재 5/2 출석대체과제"
   ]
  },
  {
   "cell_type": "code",
   "execution_count": 45,
   "id": "260580ee",
   "metadata": {},
   "outputs": [],
   "source": [
    "import seaborn as sns\n",
    "import pandas as pd\n",
    "titanic = sns.load_dataset('titanic')"
   ]
  },
  {
   "cell_type": "code",
   "execution_count": 46,
   "id": "9157388f",
   "metadata": {},
   "outputs": [
    {
     "name": "stdout",
     "output_type": "stream",
     "text": [
      "   survived  pclass     sex   age  sibsp  parch     fare embarked  class  \\\n",
      "0         0       3    male  22.0      1      0   7.2500        S  Third   \n",
      "1         1       1  female  38.0      1      0  71.2833        C  First   \n",
      "2         1       3  female  26.0      0      0   7.9250        S  Third   \n",
      "3         1       1  female  35.0      1      0  53.1000        S  First   \n",
      "4         0       3    male  35.0      0      0   8.0500        S  Third   \n",
      "\n",
      "     who  adult_male deck  embark_town alive  alone  \n",
      "0    man        True  NaN  Southampton    no  False  \n",
      "1  woman       False    C    Cherbourg   yes  False  \n",
      "2  woman       False  NaN  Southampton   yes   True  \n",
      "3  woman       False    C  Southampton   yes  False  \n",
      "4    man        True  NaN  Southampton    no   True  \n"
     ]
    }
   ],
   "source": [
    "print(titanic.head())"
   ]
  },
  {
   "cell_type": "code",
   "execution_count": 47,
   "id": "2e1bcb65",
   "metadata": {},
   "outputs": [
    {
     "name": "stdout",
     "output_type": "stream",
     "text": [
      "<class 'pandas.core.frame.DataFrame'>\n",
      "RangeIndex: 891 entries, 0 to 890\n",
      "Data columns (total 15 columns):\n",
      " #   Column       Non-Null Count  Dtype   \n",
      "---  ------       --------------  -----   \n",
      " 0   survived     891 non-null    int64   \n",
      " 1   pclass       891 non-null    int64   \n",
      " 2   sex          891 non-null    object  \n",
      " 3   age          714 non-null    float64 \n",
      " 4   sibsp        891 non-null    int64   \n",
      " 5   parch        891 non-null    int64   \n",
      " 6   fare         891 non-null    float64 \n",
      " 7   embarked     889 non-null    object  \n",
      " 8   class        891 non-null    category\n",
      " 9   who          891 non-null    object  \n",
      " 10  adult_male   891 non-null    bool    \n",
      " 11  deck         203 non-null    category\n",
      " 12  embark_town  889 non-null    object  \n",
      " 13  alive        891 non-null    object  \n",
      " 14  alone        891 non-null    bool    \n",
      "dtypes: bool(2), category(2), float64(2), int64(4), object(5)\n",
      "memory usage: 80.7+ KB\n",
      "None\n"
     ]
    }
   ],
   "source": [
    "print(titanic.info())"
   ]
  },
  {
   "cell_type": "code",
   "execution_count": 48,
   "id": "b48d2aec",
   "metadata": {},
   "outputs": [],
   "source": [
    "import numpy as np\n",
    "def count_missing(vec) :\n",
    "    null_vec = pd.isnull(vec)\n",
    "    null_count = np.sum(null_vec)\n",
    "    return null_count"
   ]
  },
  {
   "cell_type": "code",
   "execution_count": 49,
   "id": "657afec7",
   "metadata": {},
   "outputs": [
    {
     "name": "stdout",
     "output_type": "stream",
     "text": [
      "survived         0\n",
      "pclass           0\n",
      "sex              0\n",
      "age            177\n",
      "sibsp            0\n",
      "parch            0\n",
      "fare             0\n",
      "embarked         2\n",
      "class            0\n",
      "who              0\n",
      "adult_male       0\n",
      "deck           688\n",
      "embark_town      2\n",
      "alive            0\n",
      "alone            0\n",
      "dtype: int64\n"
     ]
    }
   ],
   "source": [
    "missing = titanic.apply(count_missing)\n",
    "print(missing)"
   ]
  },
  {
   "cell_type": "code",
   "execution_count": 50,
   "id": "c89e7326",
   "metadata": {},
   "outputs": [
    {
     "name": "stdout",
     "output_type": "stream",
     "text": [
      "0      1\n",
      "1      0\n",
      "2      1\n",
      "3      0\n",
      "4      1\n",
      "      ..\n",
      "886    1\n",
      "887    0\n",
      "888    2\n",
      "889    0\n",
      "890    1\n",
      "Length: 891, dtype: int64\n"
     ]
    }
   ],
   "source": [
    "missing_row = titanic.apply(count_missing, axis = 1)\n",
    "print(missing_row)"
   ]
  },
  {
   "cell_type": "code",
   "execution_count": 51,
   "id": "03ba39d3",
   "metadata": {},
   "outputs": [
    {
     "data": {
      "text/plain": [
       "survived\n",
       "0    549\n",
       "1    342\n",
       "dtype: int64"
      ]
     },
     "execution_count": 51,
     "metadata": {},
     "output_type": "execute_result"
    }
   ],
   "source": [
    "titanic.groupby('survived').size()"
   ]
  },
  {
   "cell_type": "code",
   "execution_count": 52,
   "id": "4f187379",
   "metadata": {},
   "outputs": [
    {
     "data": {
      "text/plain": [
       "pclass\n",
       "1    216\n",
       "2    184\n",
       "3    491\n",
       "dtype: int64"
      ]
     },
     "execution_count": 52,
     "metadata": {},
     "output_type": "execute_result"
    }
   ],
   "source": [
    "titanic.groupby('pclass').size()"
   ]
  },
  {
   "cell_type": "code",
   "execution_count": 53,
   "id": "c544d9de",
   "metadata": {},
   "outputs": [
    {
     "data": {
      "text/plain": [
       "sex\n",
       "female    314\n",
       "male      577\n",
       "dtype: int64"
      ]
     },
     "execution_count": 53,
     "metadata": {},
     "output_type": "execute_result"
    }
   ],
   "source": [
    "titanic.groupby('sex').size()"
   ]
  },
  {
   "cell_type": "code",
   "execution_count": 54,
   "id": "97546004",
   "metadata": {},
   "outputs": [
    {
     "data": {
      "text/plain": [
       "Southampton    644\n",
       "Cherbourg      168\n",
       "Queenstown      77\n",
       "Name: embark_town, dtype: int64"
      ]
     },
     "execution_count": 54,
     "metadata": {},
     "output_type": "execute_result"
    }
   ],
   "source": [
    "titanic['embark_town'].value_counts()"
   ]
  },
  {
   "cell_type": "code",
   "execution_count": 55,
   "id": "feb108ac",
   "metadata": {},
   "outputs": [
    {
     "name": "stdout",
     "output_type": "stream",
     "text": [
      "29.7\n"
     ]
    }
   ],
   "source": [
    "mean = titanic['age'].mean(skipna=True)\n",
    "mean = round(mean, 1)\n",
    "print(mean)"
   ]
  },
  {
   "cell_type": "code",
   "execution_count": 56,
   "id": "ca52ea7b",
   "metadata": {},
   "outputs": [
    {
     "name": "stdout",
     "output_type": "stream",
     "text": [
      "32.2\n"
     ]
    }
   ],
   "source": [
    "mean = titanic['fare'].mean()\n",
    "mean = round(mean, 1)\n",
    "print(mean)"
   ]
  },
  {
   "cell_type": "markdown",
   "id": "ade83938",
   "metadata": {},
   "source": [
    "# 교차분석 - Crosstable, chi-square, p-value"
   ]
  },
  {
   "cell_type": "code",
   "execution_count": 57,
   "id": "b8190fa1",
   "metadata": {},
   "outputs": [],
   "source": [
    "import scipy.stats as stats"
   ]
  },
  {
   "cell_type": "code",
   "execution_count": 58,
   "id": "aa0a1600",
   "metadata": {},
   "outputs": [
    {
     "data": {
      "text/html": [
       "<div>\n",
       "<style scoped>\n",
       "    .dataframe tbody tr th:only-of-type {\n",
       "        vertical-align: middle;\n",
       "    }\n",
       "\n",
       "    .dataframe tbody tr th {\n",
       "        vertical-align: top;\n",
       "    }\n",
       "\n",
       "    .dataframe thead th {\n",
       "        text-align: right;\n",
       "    }\n",
       "</style>\n",
       "<table border=\"1\" class=\"dataframe\">\n",
       "  <thead>\n",
       "    <tr style=\"text-align: right;\">\n",
       "      <th>alive</th>\n",
       "      <th>no</th>\n",
       "      <th>yes</th>\n",
       "      <th>All</th>\n",
       "    </tr>\n",
       "    <tr>\n",
       "      <th>class</th>\n",
       "      <th></th>\n",
       "      <th></th>\n",
       "      <th></th>\n",
       "    </tr>\n",
       "  </thead>\n",
       "  <tbody>\n",
       "    <tr>\n",
       "      <th>First</th>\n",
       "      <td>80</td>\n",
       "      <td>136</td>\n",
       "      <td>216</td>\n",
       "    </tr>\n",
       "    <tr>\n",
       "      <th>Second</th>\n",
       "      <td>97</td>\n",
       "      <td>87</td>\n",
       "      <td>184</td>\n",
       "    </tr>\n",
       "    <tr>\n",
       "      <th>Third</th>\n",
       "      <td>372</td>\n",
       "      <td>119</td>\n",
       "      <td>491</td>\n",
       "    </tr>\n",
       "    <tr>\n",
       "      <th>All</th>\n",
       "      <td>549</td>\n",
       "      <td>342</td>\n",
       "      <td>891</td>\n",
       "    </tr>\n",
       "  </tbody>\n",
       "</table>\n",
       "</div>"
      ],
      "text/plain": [
       "alive    no  yes  All\n",
       "class                \n",
       "First    80  136  216\n",
       "Second   97   87  184\n",
       "Third   372  119  491\n",
       "All     549  342  891"
      ]
     },
     "execution_count": 58,
     "metadata": {},
     "output_type": "execute_result"
    }
   ],
   "source": [
    "pd.crosstab(titanic['class'], titanic['alive'], margins = True)"
   ]
  },
  {
   "cell_type": "code",
   "execution_count": 59,
   "id": "b37a83fe",
   "metadata": {},
   "outputs": [
    {
     "data": {
      "text/html": [
       "<div>\n",
       "<style scoped>\n",
       "    .dataframe tbody tr th:only-of-type {\n",
       "        vertical-align: middle;\n",
       "    }\n",
       "\n",
       "    .dataframe tbody tr th {\n",
       "        vertical-align: top;\n",
       "    }\n",
       "\n",
       "    .dataframe thead th {\n",
       "        text-align: right;\n",
       "    }\n",
       "</style>\n",
       "<table border=\"1\" class=\"dataframe\">\n",
       "  <thead>\n",
       "    <tr style=\"text-align: right;\">\n",
       "      <th>alive</th>\n",
       "      <th>no</th>\n",
       "      <th>yes</th>\n",
       "      <th>All</th>\n",
       "    </tr>\n",
       "    <tr>\n",
       "      <th>class</th>\n",
       "      <th></th>\n",
       "      <th></th>\n",
       "      <th></th>\n",
       "    </tr>\n",
       "  </thead>\n",
       "  <tbody>\n",
       "    <tr>\n",
       "      <th>First</th>\n",
       "      <td>0.089787</td>\n",
       "      <td>0.152637</td>\n",
       "      <td>0.242424</td>\n",
       "    </tr>\n",
       "    <tr>\n",
       "      <th>Second</th>\n",
       "      <td>0.108866</td>\n",
       "      <td>0.097643</td>\n",
       "      <td>0.206510</td>\n",
       "    </tr>\n",
       "    <tr>\n",
       "      <th>Third</th>\n",
       "      <td>0.417508</td>\n",
       "      <td>0.133558</td>\n",
       "      <td>0.551066</td>\n",
       "    </tr>\n",
       "    <tr>\n",
       "      <th>All</th>\n",
       "      <td>0.616162</td>\n",
       "      <td>0.383838</td>\n",
       "      <td>1.000000</td>\n",
       "    </tr>\n",
       "  </tbody>\n",
       "</table>\n",
       "</div>"
      ],
      "text/plain": [
       "alive         no       yes       All\n",
       "class                               \n",
       "First   0.089787  0.152637  0.242424\n",
       "Second  0.108866  0.097643  0.206510\n",
       "Third   0.417508  0.133558  0.551066\n",
       "All     0.616162  0.383838  1.000000"
      ]
     },
     "execution_count": 59,
     "metadata": {},
     "output_type": "execute_result"
    }
   ],
   "source": [
    "pd.crosstab(titanic['class'], titanic['alive'],\n",
    "            margins = True, normalize = True)"
   ]
  },
  {
   "cell_type": "code",
   "execution_count": 60,
   "id": "853c1b21",
   "metadata": {},
   "outputs": [
    {
     "data": {
      "text/html": [
       "<div>\n",
       "<style scoped>\n",
       "    .dataframe tbody tr th:only-of-type {\n",
       "        vertical-align: middle;\n",
       "    }\n",
       "\n",
       "    .dataframe tbody tr th {\n",
       "        vertical-align: top;\n",
       "    }\n",
       "\n",
       "    .dataframe thead th {\n",
       "        text-align: right;\n",
       "    }\n",
       "</style>\n",
       "<table border=\"1\" class=\"dataframe\">\n",
       "  <thead>\n",
       "    <tr style=\"text-align: right;\">\n",
       "      <th>alive</th>\n",
       "      <th>no</th>\n",
       "      <th>yes</th>\n",
       "      <th>All</th>\n",
       "    </tr>\n",
       "    <tr>\n",
       "      <th>sex</th>\n",
       "      <th></th>\n",
       "      <th></th>\n",
       "      <th></th>\n",
       "    </tr>\n",
       "  </thead>\n",
       "  <tbody>\n",
       "    <tr>\n",
       "      <th>female</th>\n",
       "      <td>81</td>\n",
       "      <td>233</td>\n",
       "      <td>314</td>\n",
       "    </tr>\n",
       "    <tr>\n",
       "      <th>male</th>\n",
       "      <td>468</td>\n",
       "      <td>109</td>\n",
       "      <td>577</td>\n",
       "    </tr>\n",
       "    <tr>\n",
       "      <th>All</th>\n",
       "      <td>549</td>\n",
       "      <td>342</td>\n",
       "      <td>891</td>\n",
       "    </tr>\n",
       "  </tbody>\n",
       "</table>\n",
       "</div>"
      ],
      "text/plain": [
       "alive    no  yes  All\n",
       "sex                  \n",
       "female   81  233  314\n",
       "male    468  109  577\n",
       "All     549  342  891"
      ]
     },
     "execution_count": 60,
     "metadata": {},
     "output_type": "execute_result"
    }
   ],
   "source": [
    "pd.crosstab(titanic['sex'],titanic['alive'], margins = True)"
   ]
  },
  {
   "cell_type": "code",
   "execution_count": 61,
   "id": "bbc04caf",
   "metadata": {},
   "outputs": [
    {
     "data": {
      "text/html": [
       "<div>\n",
       "<style scoped>\n",
       "    .dataframe tbody tr th:only-of-type {\n",
       "        vertical-align: middle;\n",
       "    }\n",
       "\n",
       "    .dataframe tbody tr th {\n",
       "        vertical-align: top;\n",
       "    }\n",
       "\n",
       "    .dataframe thead th {\n",
       "        text-align: right;\n",
       "    }\n",
       "</style>\n",
       "<table border=\"1\" class=\"dataframe\">\n",
       "  <thead>\n",
       "    <tr style=\"text-align: right;\">\n",
       "      <th></th>\n",
       "      <th>alive</th>\n",
       "      <th>no</th>\n",
       "      <th>yes</th>\n",
       "      <th>All</th>\n",
       "    </tr>\n",
       "    <tr>\n",
       "      <th>class</th>\n",
       "      <th>sex</th>\n",
       "      <th></th>\n",
       "      <th></th>\n",
       "      <th></th>\n",
       "    </tr>\n",
       "  </thead>\n",
       "  <tbody>\n",
       "    <tr>\n",
       "      <th rowspan=\"2\" valign=\"top\">First</th>\n",
       "      <th>female</th>\n",
       "      <td>3</td>\n",
       "      <td>91</td>\n",
       "      <td>94</td>\n",
       "    </tr>\n",
       "    <tr>\n",
       "      <th>male</th>\n",
       "      <td>77</td>\n",
       "      <td>45</td>\n",
       "      <td>122</td>\n",
       "    </tr>\n",
       "    <tr>\n",
       "      <th rowspan=\"2\" valign=\"top\">Second</th>\n",
       "      <th>female</th>\n",
       "      <td>6</td>\n",
       "      <td>70</td>\n",
       "      <td>76</td>\n",
       "    </tr>\n",
       "    <tr>\n",
       "      <th>male</th>\n",
       "      <td>91</td>\n",
       "      <td>17</td>\n",
       "      <td>108</td>\n",
       "    </tr>\n",
       "    <tr>\n",
       "      <th rowspan=\"2\" valign=\"top\">Third</th>\n",
       "      <th>female</th>\n",
       "      <td>72</td>\n",
       "      <td>72</td>\n",
       "      <td>144</td>\n",
       "    </tr>\n",
       "    <tr>\n",
       "      <th>male</th>\n",
       "      <td>300</td>\n",
       "      <td>47</td>\n",
       "      <td>347</td>\n",
       "    </tr>\n",
       "    <tr>\n",
       "      <th>All</th>\n",
       "      <th></th>\n",
       "      <td>549</td>\n",
       "      <td>342</td>\n",
       "      <td>891</td>\n",
       "    </tr>\n",
       "  </tbody>\n",
       "</table>\n",
       "</div>"
      ],
      "text/plain": [
       "alive           no  yes  All\n",
       "class  sex                  \n",
       "First  female    3   91   94\n",
       "       male     77   45  122\n",
       "Second female    6   70   76\n",
       "       male     91   17  108\n",
       "Third  female   72   72  144\n",
       "       male    300   47  347\n",
       "All            549  342  891"
      ]
     },
     "execution_count": 61,
     "metadata": {},
     "output_type": "execute_result"
    }
   ],
   "source": [
    "#sex와 class를 묶은 뒤 alive에 대해 교차분석\n",
    "pd.crosstab([titanic['class'], titanic['sex']], titanic['alive'],\n",
    "           margins = True)"
   ]
  },
  {
   "cell_type": "code",
   "execution_count": 62,
   "id": "724eae37",
   "metadata": {},
   "outputs": [
    {
     "data": {
      "text/plain": [
       "(260.71702016732104,\n",
       " 1.1973570627755645e-58,\n",
       " 1,\n",
       " array([[193.47474747, 120.52525253],\n",
       "        [355.52525253, 221.47474747]]))"
      ]
     },
     "execution_count": 62,
     "metadata": {},
     "output_type": "execute_result"
    }
   ],
   "source": [
    "chi2= pd.crosstab(titanic['sex'], titanic['alive'])\n",
    "stats.chi2_contingency(chi2)\n",
    "#chi square : 260\n",
    "#p = 0.00 < 0.05, 두 변수의 분포는 독립적이지 않다\n",
    "#자유도 = 1\n",
    "#array = 기댓값"
   ]
  },
  {
   "cell_type": "code",
   "execution_count": 63,
   "id": "c23bfddb",
   "metadata": {},
   "outputs": [
    {
     "data": {
      "text/plain": [
       "(102.88898875696056,\n",
       " 4.549251711298793e-23,\n",
       " 2,\n",
       " array([[133.09090909,  82.90909091],\n",
       "        [113.37373737,  70.62626263],\n",
       "        [302.53535354, 188.46464646]]))"
      ]
     },
     "execution_count": 63,
     "metadata": {},
     "output_type": "execute_result"
    }
   ],
   "source": [
    "chi2 = pd.crosstab(titanic['class'], titanic['alive'])\n",
    "stats.chi2_contingency(chi2)\n",
    "#chi square : 102\n",
    "#p = 0.00 < 0.05, 두 변수의 분포는 독립적이지 않다\n",
    "#자유도 = 2\n",
    "#array = 기댓값"
   ]
  },
  {
   "cell_type": "code",
   "execution_count": 64,
   "id": "c4f1f850",
   "metadata": {},
   "outputs": [
    {
     "data": {
      "text/plain": [
       "(102.88898875696056,\n",
       " 4.549251711298793e-23,\n",
       " 2,\n",
       " array([[133.09090909,  82.90909091],\n",
       "        [113.37373737,  70.62626263],\n",
       "        [302.53535354, 188.46464646]]))"
      ]
     },
     "execution_count": 64,
     "metadata": {},
     "output_type": "execute_result"
    }
   ],
   "source": [
    "chi2= pd.crosstab(titanic['class'], titanic['alive'])\n",
    "stats.chi2_contingency(chi2)\n",
    "#chi square : 102\n",
    "#p = 0.00 < 0.05, 두 변수의 분포는 독립적이지 않다\n",
    "#자유도 = 2\n",
    "#array = 기댓값"
   ]
  },
  {
   "cell_type": "code",
   "execution_count": 65,
   "id": "d419ced7",
   "metadata": {},
   "outputs": [
    {
     "name": "stdout",
     "output_type": "stream",
     "text": [
      "class\n",
      "First     84.154687\n",
      "Second    20.662183\n",
      "Third     13.675550\n",
      "Name: fare, dtype: float64\n"
     ]
    }
   ],
   "source": [
    "print(titanic.groupby('class')['fare'].mean()) \n",
    "#집단별 비교 (범주평변수/숫자형변수 계산)"
   ]
  },
  {
   "cell_type": "code",
   "execution_count": 66,
   "id": "af1ab63d",
   "metadata": {},
   "outputs": [
    {
     "name": "stdout",
     "output_type": "stream",
     "text": [
      "sex\n",
      "female    27.915709\n",
      "male      30.726645\n",
      "Name: age, dtype: float64\n"
     ]
    }
   ],
   "source": [
    "print(titanic.groupby('sex')['age'].mean()) \n",
    "#성별 비교"
   ]
  },
  {
   "cell_type": "code",
   "execution_count": 67,
   "id": "d0ad6d7e",
   "metadata": {},
   "outputs": [
    {
     "name": "stderr",
     "output_type": "stream",
     "text": [
      "/Users/j-max/opt/anaconda3/lib/python3.9/site-packages/seaborn/_decorators.py:36: FutureWarning: Pass the following variable as a keyword arg: x. From version 0.12, the only valid positional argument will be `data`, and passing other arguments without an explicit keyword will result in an error or misinterpretation.\n",
      "  warnings.warn(\n"
     ]
    },
    {
     "data": {
      "text/plain": [
       "Text(0, 0.5, 'Freq')"
      ]
     },
     "execution_count": 67,
     "metadata": {},
     "output_type": "execute_result"
    },
    {
     "data": {
      "image/png": "[encoded data removed]",
      "text/plain": [
       "<Figure size 432x288 with 1 Axes>"
      ]
     },
     "metadata": {
      "needs_background": "light"
     },
     "output_type": "display_data"
    }
   ],
   "source": [
    "import matplotlib.pyplot as plt\n",
    "\n",
    "ax= plt.subplots()  \n",
    "ax= sns.countplot('class', data= titanic)  \n",
    "ax.set_title('Passengers by Class')         \n",
    "ax.set_xlabel('Ferry Class')      \n",
    "ax.set_ylabel('Freq')   \n"
   ]
  },
  {
   "cell_type": "code",
   "execution_count": 68,
   "id": "7660e72d",
   "metadata": {},
   "outputs": [
    {
     "data": {
      "text/plain": [
       "Text(0.5, 0, 'survive')"
      ]
     },
     "execution_count": 68,
     "metadata": {},
     "output_type": "execute_result"
    },
    {
     "data": {
      "image/png": "[encoded data removed]",
      "text/plain": [
       "<Figure size 432x288 with 1 Axes>"
      ]
     },
     "metadata": {
      "needs_background": "light"
     },
     "output_type": "display_data"
    }
   ],
   "source": [
    "ax = plt.subplots()\n",
    "ax = sns.countplot(x = 'alive', hue = 'pclass', hue_order = [1,2,3],\n",
    "                  data = titanic)\n",
    "ax.set_xlabel(\"survive\")"
   ]
  },
  {
   "cell_type": "code",
   "execution_count": 69,
   "id": "487b9331",
   "metadata": {},
   "outputs": [
    {
     "data": {
      "text/plain": [
       "Text(0.5, 0, 'ferry class')"
      ]
     },
     "execution_count": 69,
     "metadata": {},
     "output_type": "execute_result"
    },
    {
     "data": {
      "image/png": "[encoded data removed]",
      "text/plain": [
       "<Figure size 432x288 with 1 Axes>"
      ]
     },
     "metadata": {
      "needs_background": "light"
     },
     "output_type": "display_data"
    }
   ],
   "source": [
    "ax = plt.subplots()\n",
    "ax = sns.countplot(x= 'pclass', hue = 'alive', data = titanic)\n",
    "ax.set_xlabel('ferry class')\n"
   ]
  },
  {
   "cell_type": "code",
   "execution_count": 70,
   "id": "4f3c52a9",
   "metadata": {},
   "outputs": [
    {
     "data": {
      "text/plain": [
       "Text(0.5, 0, 'sex of passengers')"
      ]
     },
     "execution_count": 70,
     "metadata": {},
     "output_type": "execute_result"
    },
    {
     "data": {
      "image/png": "[encoded data removed]",
      "text/plain": [
       "<Figure size 432x288 with 1 Axes>"
      ]
     },
     "metadata": {
      "needs_background": "light"
     },
     "output_type": "display_data"
    }
   ],
   "source": [
    "ax = plt.subplots()\n",
    "ax = sns.countplot(x= 'sex', hue= 'alive', data = titanic)\n",
    "ax.set_xlabel('sex of passengers')\n"
   ]
  },
  {
   "cell_type": "code",
   "execution_count": 71,
   "id": "4f687be7",
   "metadata": {},
   "outputs": [
    {
     "data": {
      "text/plain": [
       "<Figure size 432x288 with 0 Axes>"
      ]
     },
     "metadata": {},
     "output_type": "display_data"
    }
   ],
   "source": [
    "plt.savefig('graph_bar.jpg')\n"
   ]
  },
  {
   "cell_type": "code",
   "execution_count": 72,
   "id": "20c5cea6",
   "metadata": {},
   "outputs": [
    {
     "data": {
      "text/plain": [
       "Text(0.5, 1.0, 'Age of passengers')"
      ]
     },
     "execution_count": 72,
     "metadata": {},
     "output_type": "execute_result"
    },
    {
     "data": {
      "image/png": "[encoded data removed]",
      "text/plain": [
       "<Figure size 432x288 with 1 Axes>"
      ]
     },
     "metadata": {
      "needs_background": "light"
     },
     "output_type": "display_data"
    }
   ],
   "source": [
    "fig = plt.figure()\n",
    "axesl = fig.add_subplot(1,1,1)\n",
    "axesl.hist(titanic['age'], bins = 10)\n",
    "axesl.set_title('Age of passengers')\n"
   ]
  },
  {
   "cell_type": "code",
   "execution_count": 73,
   "id": "53c9c0f1",
   "metadata": {},
   "outputs": [
    {
     "data": {
      "text/plain": [
       "(array([36., 19., 63., 65., 52., 24., 21.,  9.,  0.,  1.]),\n",
       " array([ 0.42 ,  8.378, 16.336, 24.294, 32.252, 40.21 , 48.168, 56.126,\n",
       "        64.084, 72.042, 80.   ]),\n",
       " <BarContainer object of 10 artists>)"
      ]
     },
     "execution_count": 73,
     "metadata": {},
     "output_type": "execute_result"
    },
    {
     "data": {
      "image/png": "[encoded data removed]",
      "text/plain": [
       "<Figure size 432x288 with 1 Axes>"
      ]
     },
     "metadata": {
      "needs_background": "light"
     },
     "output_type": "display_data"
    }
   ],
   "source": [
    "fig = plt.figure()\n",
    "axesl = fig.add_subplot(1,1,1)\n",
    "data_1 = titanic[titanic['survived']==0]['age'].tolist()\n",
    "data_2 = titanic[titanic['survived']==1]['age'].tolist()\n",
    "plt.hist(data_1, bins=10, color= 'grey', alpha = 0.5)\n",
    "plt.hist(data_2, bins=10, color= 'pink', alpha = 0.5)\n"
   ]
  },
  {
   "cell_type": "code",
   "execution_count": 74,
   "id": "1f5333a9",
   "metadata": {},
   "outputs": [
    {
     "data": {
      "text/plain": [
       "(array([233.,  70.,  23.,   2.,   7.,   4.,   0.,   0.,   0.,   3.]),\n",
       " array([  0.     ,  51.23292, 102.46584, 153.69876, 204.93168, 256.1646 ,\n",
       "        307.39752, 358.63044, 409.86336, 461.09628, 512.3292 ]),\n",
       " <BarContainer object of 10 artists>)"
      ]
     },
     "execution_count": 74,
     "metadata": {},
     "output_type": "execute_result"
    },
    {
     "data": {
      "image/png": "[encoded data removed]",
      "text/plain": [
       "<Figure size 432x288 with 1 Axes>"
      ]
     },
     "metadata": {
      "needs_background": "light"
     },
     "output_type": "display_data"
    }
   ],
   "source": [
    "fig = plt.figure()  \n",
    "axes1= fig.add_subplot(1,1,1)    \n",
    "\n",
    "data_1= titanic[titanic['survived']==0]['fare'].tolist()\n",
    "data_2= titanic[titanic['survived']==1]['fare'].tolist()\n",
    "plt.hist(data_1, bins=10, color= 'grey', alpha= 0.5)     \n",
    "plt.hist(data_2, bins=10, color= 'green', alpha= 0.5)   \n"
   ]
  },
  {
   "cell_type": "code",
   "execution_count": 75,
   "id": "5ddcae2e",
   "metadata": {},
   "outputs": [
    {
     "data": {
      "text/plain": [
       "Text(0, 0.5, 'fare')"
      ]
     },
     "execution_count": 75,
     "metadata": {},
     "output_type": "execute_result"
    },
    {
     "data": {
      "image/png": "[encoded data removed]",
      "text/plain": [
       "<Figure size 432x288 with 1 Axes>"
      ]
     },
     "metadata": {
      "needs_background": "light"
     },
     "output_type": "display_data"
    }
   ],
   "source": [
    "boxplot= plt.figure()\n",
    "axes1= boxplot.add_subplot(1,1,1)  \n",
    "axes1.boxplot([titanic[titanic['class']== 'First']['fare'],\n",
    "               titanic[titanic['class']== 'Second']['fare'],\n",
    "               titanic[titanic['class']== 'Third']['fare']],\n",
    "               labels= ['first', 'second', 'third'])\n",
    "axes1.set_title('Fare of Titanic')        \n",
    "axes1.set_xlabel('Class')                  \n",
    "axes1.set_ylabel('fare')  \n"
   ]
  },
  {
   "cell_type": "code",
   "execution_count": 76,
   "id": "fcb69689",
   "metadata": {},
   "outputs": [
    {
     "data": {
      "text/plain": [
       "{'whiskers': [<matplotlib.lines.Line2D at 0x7ff4e03d3250>,\n",
       "  <matplotlib.lines.Line2D at 0x7ff4e03d35e0>,\n",
       "  <matplotlib.lines.Line2D at 0x7ff4e03ddbb0>,\n",
       "  <matplotlib.lines.Line2D at 0x7ff4e03ddf40>],\n",
       " 'caps': [<matplotlib.lines.Line2D at 0x7ff4e03d3970>,\n",
       "  <matplotlib.lines.Line2D at 0x7ff4e03d3d00>,\n",
       "  <matplotlib.lines.Line2D at 0x7ff4e03ec310>,\n",
       "  <matplotlib.lines.Line2D at 0x7ff4e03ec6a0>],\n",
       " 'boxes': [<matplotlib.lines.Line2D at 0x7ff4e03c5d60>,\n",
       "  <matplotlib.lines.Line2D at 0x7ff4e03dd820>],\n",
       " 'medians': [<matplotlib.lines.Line2D at 0x7ff4e03dd100>,\n",
       "  <matplotlib.lines.Line2D at 0x7ff4e03eca30>],\n",
       " 'fliers': [<matplotlib.lines.Line2D at 0x7ff4e03dd490>,\n",
       "  <matplotlib.lines.Line2D at 0x7ff4e03ecdc0>],\n",
       " 'means': []}"
      ]
     },
     "execution_count": 76,
     "metadata": {},
     "output_type": "execute_result"
    },
    {
     "data": {
      "image/png": "[encoded data removed]",
      "text/plain": [
       "<Figure size 432x288 with 1 Axes>"
      ]
     },
     "metadata": {
      "needs_background": "light"
     },
     "output_type": "display_data"
    }
   ],
   "source": [
    "boxplot= plt.figure()\n",
    "axes1= boxplot.add_subplot(1,1,1)  \n",
    "axes1.boxplot([titanic[titanic['class']== 'Second']['fare'],\n",
    "               titanic[titanic['class']== 'Third']['fare']],\n",
    "               labels= ['second', 'third'])\n"
   ]
  },
  {
   "cell_type": "code",
   "execution_count": 77,
   "id": "509e9bfd",
   "metadata": {},
   "outputs": [
    {
     "data": {
      "text/plain": [
       "<matplotlib.legend.Legend at 0x7ff5107ee640>"
      ]
     },
     "execution_count": 77,
     "metadata": {},
     "output_type": "execute_result"
    },
    {
     "data": {
      "image/png": "[encoded data removed]",
      "text/plain": [
       "<Figure size 432x288 with 1 Axes>"
      ]
     },
     "metadata": {},
     "output_type": "display_data"
    }
   ],
   "source": [
    "col = pd.Series(['gold', 'silver', 'pink'])    \n",
    "pclass= titanic.groupby('pclass').size()      \n",
    "#빈도표 제작 후 piegraph에 사용\n",
    "\n",
    "f, ax = plt.subplots(1,1)\n",
    "plt.pie(pclass, autopct='%.1f%%', labels=[1,2,3], colors= col)    # autopct='%.1f%%' 파이에 퍼센트표시\n",
    "plt.legend(loc = (1, 0.5))"
   ]
  },
  {
   "cell_type": "code",
   "execution_count": 78,
   "id": "8765849e",
   "metadata": {},
   "outputs": [
    {
     "data": {
      "text/plain": [
       "<matplotlib.legend.Legend at 0x7ff5028f6ee0>"
      ]
     },
     "execution_count": 78,
     "metadata": {},
     "output_type": "execute_result"
    },
    {
     "data": {
      "image/png": "[encoded data removed]",
      "text/plain": [
       "<Figure size 432x288 with 2 Axes>"
      ]
     },
     "metadata": {},
     "output_type": "display_data"
    }
   ],
   "source": [
    "a= pd.crosstab(titanic['sex'], titanic['alive'])\n",
    "\n",
    "fig, ax = plt.subplots(1,2)        \n",
    "a['no'].plot.pie(autopct='%.1f%%', ax=ax[0])    # 사망자 \n",
    "a['yes'].plot.pie(autopct='%.1f%%', ax=ax[1])   # 생존자 \n",
    "ax[0].set_title('Not Survived')   \n",
    "ax[1].set_title('Survived')       \n",
    "plt.legend(loc = (-1.5, 1.2))     \n"
   ]
  },
  {
   "cell_type": "code",
   "execution_count": 79,
   "id": "23155e4e",
   "metadata": {},
   "outputs": [
    {
     "data": {
      "text/plain": [
       "<matplotlib.legend.Legend at 0x7ff5109752e0>"
      ]
     },
     "execution_count": 79,
     "metadata": {},
     "output_type": "execute_result"
    },
    {
     "data": {
      "image/png": "[encoded data removed]",
      "text/plain": [
       "<Figure size 432x288 with 3 Axes>"
      ]
     },
     "metadata": {},
     "output_type": "display_data"
    }
   ],
   "source": [
    "col= pd.Series(['grey', 'skyblue'])\n",
    "b= pd.crosstab(titanic['alive'], titanic['class'])\n",
    "\n",
    "fig, ax = plt.subplots(1,3)           \n",
    "b['First'].plot.pie(autopct='%.1f%%', ax=ax[0], colors= col)\n",
    "b['Second'].plot.pie(autopct='%.1f%%', ax=ax[1], colors= col)\n",
    "b['Third'].plot.pie(autopct='%.1f%%', ax=ax[2], colors= col)\n",
    "ax[0].set_title('First Class')      \n",
    "ax[1].set_title('Second Class')     \n",
    "ax[2].set_title('Third Class')       \n",
    "plt.legend(loc = (-2.8, 1.2))\n"
   ]
  },
  {
   "cell_type": "code",
   "execution_count": 80,
   "id": "ede229d6",
   "metadata": {},
   "outputs": [],
   "source": [
    "fig.savefig('graph_pie3.jpg')\n"
   ]
  }
 ],
 "metadata": {
  "kernelspec": {
   "display_name": "Python 3 (ipykernel)",
   "language": "python",
   "name": "python3"
  },
  "language_info": {
   "codemirror_mode": {
    "name": "ipython",
    "version": 3
   },
   "file_extension": ".py",
   "mimetype": "text/x-python",
   "name": "python",
   "nbconvert_exporter": "python",
   "pygments_lexer": "ipython3",
   "version": "3.9.7"
  }
 },
 "nbformat": 4,
 "nbformat_minor": 5
}
