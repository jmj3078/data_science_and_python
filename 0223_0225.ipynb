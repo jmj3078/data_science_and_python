{
 "cells": [
  {
   "cell_type": "code",
   "execution_count": 10,
   "metadata": {
    "colab": {
     "base_uri": "https://localhost:8080/"
    },
    "executionInfo": {
     "elapsed": 261,
     "status": "ok",
     "timestamp": 1645593014852,
     "user": {
      "displayName": "생명과학과/조명재",
      "photoUrl": "https://lh3.googleusercontent.com/a/default-user=s64",
      "userId": "17829076087741631364"
     },
     "user_tz": -540
    },
    "id": "A3cFlvFF-w8B",
    "outputId": "0e55cab9-fdfe-44be-a2f2-aba9bb5bf5e1"
   },
   "outputs": [
    {
     "data": {
      "text/plain": [
       "2"
      ]
     },
     "execution_count": 10,
     "metadata": {},
     "output_type": "execute_result"
    }
   ],
   "source": [
    "#숫자 연산자\n",
    "1+1"
   ]
  },
  {
   "cell_type": "code",
   "execution_count": 11,
   "metadata": {
    "colab": {
     "base_uri": "https://localhost:8080/"
    },
    "executionInfo": {
     "elapsed": 251,
     "status": "ok",
     "timestamp": 1645593024280,
     "user": {
      "displayName": "생명과학과/조명재",
      "photoUrl": "https://lh3.googleusercontent.com/a/default-user=s64",
      "userId": "17829076087741631364"
     },
     "user_tz": -540
    },
    "id": "RbIvD3Yn_Lxs",
    "outputId": "c27c4a6c-1ad7-48d0-c0f3-ab9d90a9a408"
   },
   "outputs": [
    {
     "data": {
      "text/plain": [
       "3.8461538461538463"
      ]
     },
     "execution_count": 11,
     "metadata": {},
     "output_type": "execute_result"
    }
   ],
   "source": [
    "100/26 #나눗셈"
   ]
  },
  {
   "cell_type": "code",
   "execution_count": 13,
   "metadata": {
    "colab": {
     "base_uri": "https://localhost:8080/"
    },
    "executionInfo": {
     "elapsed": 299,
     "status": "ok",
     "timestamp": 1645593058236,
     "user": {
      "displayName": "생명과학과/조명재",
      "photoUrl": "https://lh3.googleusercontent.com/a/default-user=s64",
      "userId": "17829076087741631364"
     },
     "user_tz": -540
    },
    "id": "biUt0BGm_N3j",
    "outputId": "4d6be5fc-80b8-457e-fde5-80a77041caae"
   },
   "outputs": [
    {
     "data": {
      "text/plain": [
       "1"
      ]
     },
     "execution_count": 13,
     "metadata": {},
     "output_type": "execute_result"
    }
   ],
   "source": [
    "100%3 #나머지"
   ]
  },
  {
   "cell_type": "code",
   "execution_count": 16,
   "metadata": {
    "colab": {
     "base_uri": "https://localhost:8080/"
    },
    "executionInfo": {
     "elapsed": 275,
     "status": "ok",
     "timestamp": 1645593090374,
     "user": {
      "displayName": "생명과학과/조명재",
      "photoUrl": "https://lh3.googleusercontent.com/a/default-user=s64",
      "userId": "17829076087741631364"
     },
     "user_tz": -540
    },
    "id": "rlEqKdK1_WLI",
    "outputId": "d24e8c1d-6f3d-43f9-ee6b-ce2445d5d16f"
   },
   "outputs": [
    {
     "data": {
      "text/plain": [
       "5"
      ]
     },
     "execution_count": 16,
     "metadata": {},
     "output_type": "execute_result"
    }
   ],
   "source": [
    "a = 3\n",
    "b = 2\n",
    "a + b"
   ]
  },
  {
   "cell_type": "code",
   "execution_count": 15,
   "metadata": {
    "colab": {
     "base_uri": "https://localhost:8080/"
    },
    "executionInfo": {
     "elapsed": 5,
     "status": "ok",
     "timestamp": 1645593080785,
     "user": {
      "displayName": "생명과학과/조명재",
      "photoUrl": "https://lh3.googleusercontent.com/a/default-user=s64",
      "userId": "17829076087741631364"
     },
     "user_tz": -540
    },
    "id": "w_lcWB6A_aGQ",
    "outputId": "f9471c9c-f4b1-4eca-d092-d61d4a6e10fd"
   },
   "outputs": [
    {
     "data": {
      "text/plain": [
       "6"
      ]
     },
     "execution_count": 15,
     "metadata": {},
     "output_type": "execute_result"
    }
   ],
   "source": [
    "a * b #곱"
   ]
  },
  {
   "cell_type": "code",
   "execution_count": 19,
   "metadata": {
    "colab": {
     "base_uri": "https://localhost:8080/"
    },
    "executionInfo": {
     "elapsed": 5,
     "status": "ok",
     "timestamp": 1645593140339,
     "user": {
      "displayName": "생명과학과/조명재",
      "photoUrl": "https://lh3.googleusercontent.com/a/default-user=s64",
      "userId": "17829076087741631364"
     },
     "user_tz": -540
    },
    "id": "CFpq1Adj_bof",
    "outputId": "c7454218-b655-474c-8157-f9476554529a"
   },
   "outputs": [
    {
     "data": {
      "text/plain": [
       "1"
      ]
     },
     "execution_count": 19,
     "metadata": {},
     "output_type": "execute_result"
    }
   ],
   "source": [
    "a // b #몫"
   ]
  },
  {
   "cell_type": "code",
   "execution_count": 18,
   "metadata": {
    "colab": {
     "base_uri": "https://localhost:8080/"
    },
    "executionInfo": {
     "elapsed": 283,
     "status": "ok",
     "timestamp": 1645593106750,
     "user": {
      "displayName": "생명과학과/조명재",
      "photoUrl": "https://lh3.googleusercontent.com/a/default-user=s64",
      "userId": "17829076087741631364"
     },
     "user_tz": -540
    },
    "id": "77WUX3P6--Bj",
    "outputId": "912938bf-5a9b-43de-9338-51f33ad8e6b2"
   },
   "outputs": [
    {
     "data": {
      "text/plain": [
       "1"
      ]
     },
     "execution_count": 18,
     "metadata": {},
     "output_type": "execute_result"
    }
   ],
   "source": [
    "a % b #나머지"
   ]
  },
  {
   "cell_type": "code",
   "execution_count": 20,
   "metadata": {
    "colab": {
     "base_uri": "https://localhost:8080/"
    },
    "executionInfo": {
     "elapsed": 5,
     "status": "ok",
     "timestamp": 1645593224228,
     "user": {
      "displayName": "생명과학과/조명재",
      "photoUrl": "https://lh3.googleusercontent.com/a/default-user=s64",
      "userId": "17829076087741631364"
     },
     "user_tz": -540
    },
    "id": "Z5xK0dZX_8tc",
    "outputId": "b02d056f-82dc-43d5-bb1f-7fc72942f297"
   },
   "outputs": [
    {
     "name": "stdout",
     "output_type": "stream",
     "text": [
      "hello world!\n"
     ]
    }
   ],
   "source": [
    "print(\"hello world!\")"
   ]
  },
  {
   "cell_type": "code",
   "execution_count": 56,
   "metadata": {
    "colab": {
     "base_uri": "https://localhost:8080/"
    },
    "executionInfo": {
     "elapsed": 393,
     "status": "ok",
     "timestamp": 1645594067306,
     "user": {
      "displayName": "생명과학과/조명재",
      "photoUrl": "https://lh3.googleusercontent.com/a/default-user=s64",
      "userId": "17829076087741631364"
     },
     "user_tz": -540
    },
    "id": "RDbKs4gn_-9o",
    "outputId": "13fb33e7-27e0-46dc-d42b-41422a4deb27"
   },
   "outputs": [
    {
     "name": "stdout",
     "output_type": "stream",
     "text": [
      "h\n",
      "ell\n",
      "d\n",
      "ello world!\n",
      "hell\n",
      "!\n",
      "hello world!\n",
      "hexxo world!\n",
      "[1, 2, 3, 4, 4, 6, 7, 8, 9, 10]\n"
     ]
    }
   ],
   "source": [
    "arr = (\"hello world!\") #문자열도 하나의 배열\n",
    "print(arr[0]) #앞에서부터 인덱싱 할때는 0부터 시작\n",
    "print(arr[1:4]) #자르면 1이상 4이하\n",
    "print(arr[-2])\n",
    "print(arr[1:]) #1부터 끝까지\n",
    "print(arr[:4]) #0,1,2,3 까지만 출력됨, 4미만! 차이점을 기억하고 있자.\n",
    "print(arr[-1]) #뒤에서부터 인덱싱 할때는 -1부터 시작\n",
    "print(arr[0:13]) #파이썬은 동적 배열 시스템을 사용하기때문에, 더 큰 index를 적어도 오류가 나지 않는다.\n",
    "\n",
    "#arr[4] = 5 #에러 발생, 문자열은 대체가 되지 않는다, 대체 함수 replace를 사용하자.\n",
    "\n",
    "print(arr.replace(\"l\",\"x\",2)) #replace함수, x를 y로 z번 대체하여 return, 당연히 함수기때문에 원래 변수에 영향이 가지 않는다.\n",
    "\n",
    "list1 = [1,2,3,4,5,6,7,8,9,10]\n",
    "list1[4] = 4\n",
    "print(list1)"
   ]
  },
  {
   "cell_type": "code",
   "execution_count": 29,
   "metadata": {
    "colab": {
     "base_uri": "https://localhost:8080/"
    },
    "executionInfo": {
     "elapsed": 6,
     "status": "ok",
     "timestamp": 1645593506824,
     "user": {
      "displayName": "생명과학과/조명재",
      "photoUrl": "https://lh3.googleusercontent.com/a/default-user=s64",
      "userId": "17829076087741631364"
     },
     "user_tz": -540
    },
    "id": "M6ipTyPPAt5r",
    "outputId": "729361ef-5597-444d-e454-51d4a9159a2f"
   },
   "outputs": [
    {
     "name": "stdout",
     "output_type": "stream",
     "text": [
      "<class 'int'>\n",
      "<class 'str'>\n",
      "<class 'float'>\n"
     ]
    },
    {
     "data": {
      "text/plain": [
       "True"
      ]
     },
     "execution_count": 29,
     "metadata": {},
     "output_type": "execute_result"
    }
   ],
   "source": [
    "print(type(3+3)) #type 함수를 통해 객체의 자료형 / 또는 클래스를 출력한다\n",
    "print(type(\"string\"))\n",
    "print(type(1.234))\n",
    "type(\"string\") == str #True 출력"
   ]
  },
  {
   "cell_type": "code",
   "execution_count": 39,
   "metadata": {
    "colab": {
     "base_uri": "https://localhost:8080/"
    },
    "executionInfo": {
     "elapsed": 7,
     "status": "ok",
     "timestamp": 1645593709988,
     "user": {
      "displayName": "생명과학과/조명재",
      "photoUrl": "https://lh3.googleusercontent.com/a/default-user=s64",
      "userId": "17829076087741631364"
     },
     "user_tz": -540
    },
    "id": "82U-cF9jBUcw",
    "outputId": "69a53cbb-aec1-49b4-bbe5-6aa300ab8edb"
   },
   "outputs": [
    {
     "name": "stdout",
     "output_type": "stream",
     "text": [
      "pythonpython\n",
      "python is fun\n"
     ]
    }
   ],
   "source": [
    "head = \"python\"\n",
    "tail = \" is fun\"\n",
    "print(head*2)\n",
    "print(head + tail)"
   ]
  },
  {
   "cell_type": "code",
   "execution_count": 57,
   "metadata": {
    "colab": {
     "base_uri": "https://localhost:8080/"
    },
    "executionInfo": {
     "elapsed": 5,
     "status": "ok",
     "timestamp": 1645594169027,
     "user": {
      "displayName": "생명과학과/조명재",
      "photoUrl": "https://lh3.googleusercontent.com/a/default-user=s64",
      "userId": "17829076087741631364"
     },
     "user_tz": -540
    },
    "id": "pXWR1QIAA3oE",
    "outputId": "8726d13a-6e58-4461-c465-1d40737ba53e"
   },
   "outputs": [
    {
     "name": "stdout",
     "output_type": "stream",
     "text": [
      "6\n",
      "y\n",
      "h\n",
      "10\n",
      "10\n",
      "1\n"
     ]
    }
   ],
   "source": [
    "print(len(head)) #길이출력\n",
    "print(max(head)) #문자열도 하나의 배열이므로, max, min과 같은 list함수를 모두 적용할 수 있다. ASCII코드 순으로 출력\n",
    "print(min(head))\n",
    "\n",
    "print(len(list1))\n",
    "print(max(list1))\n",
    "print(min(list1))"
   ]
  }
 ],
 "metadata": {
  "colab": {
   "authorship_tag": "ABX9TyPNM3fFh9t4iuP8J/fbvtdu",
   "name": "datascience_and_python_week1_note",
   "provenance": []
  },
  "kernelspec": {
   "display_name": "Python 3 (ipykernel)",
   "language": "python",
   "name": "python3"
  },
  "language_info": {
   "codemirror_mode": {
    "name": "ipython",
    "version": 3
   },
   "file_extension": ".py",
   "mimetype": "text/x-python",
   "name": "python",
   "nbconvert_exporter": "python",
   "pygments_lexer": "ipython3",
   "version": "3.9.7"
  }
 },
 "nbformat": 4,
 "nbformat_minor": 1
}
