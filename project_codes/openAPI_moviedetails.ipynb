{
 "cells": [
  {
   "cell_type": "code",
   "execution_count": 9,
   "id": "a7c1d923",
   "metadata": {},
   "outputs": [],
   "source": [
    "import requests \n",
    "import json\n",
    "import pandas as pd\n",
    "import numpy as np"
   ]
  },
  {
   "cell_type": "code",
   "execution_count": 22,
   "id": "2c3d8a22",
   "metadata": {},
   "outputs": [
    {
     "data": {
      "text/plain": [
       "0      20081672\n",
       "1      20072152\n",
       "2      20080046\n",
       "3      20080736\n",
       "4      20070382\n",
       "         ...   \n",
       "204    20199541\n",
       "205    20193068\n",
       "206    20183003\n",
       "207    20203286\n",
       "208    20194501\n",
       "Name: 영화코드, Length: 209, dtype: object"
      ]
     },
     "execution_count": 22,
     "metadata": {},
     "output_type": "execute_result"
    }
   ],
   "source": [
    "#드라이브에 올린 파일에 제가 '영화코드' 열을 추가했습니다.\n",
    "#저는 일일이 영화코드를 찾아서 입력한다음, 엑셀파일을 다운로드하여 불러오기 했지만\n",
    "#여러분들은 좀 더 나은 방법이 있으면 찾아서 해보는걸 추천해요.. 노가다 ㅠㅠ\n",
    "movie = pd.read_csv(\"/Users/j-max/Documents/project_python/데이터 총합본.csv\")\n",
    "movie_code = movie[\"영화코드\"]\n",
    "\n",
    "#그대로 불러오면 float형태라 소숫점자리도 표기되고, \n",
    "#입력값으로 사용하려면 문자열로 바꿔야함\n",
    "code = pd.Series(movie_code[0:len(movie)]).apply(int).apply(str)\n",
    "code"
   ]
  },
  {
   "cell_type": "code",
   "execution_count": 23,
   "id": "ebadcfdb",
   "metadata": {},
   "outputs": [
    {
     "ename": "KeyError",
     "evalue": "'movieInfoResult'",
     "output_type": "error",
     "traceback": [
      "\u001b[0;31m---------------------------------------------------------------------------\u001b[0m",
      "\u001b[0;31mKeyError\u001b[0m                                  Traceback (most recent call last)",
      "\u001b[0;32m/var/folders/c2/hfgvv7gx5wn44rgqtk43khyw0000gn/T/ipykernel_65771/4025158975.py\u001b[0m in \u001b[0;36m<module>\u001b[0;34m\u001b[0m\n\u001b[1;32m     20\u001b[0m     \u001b[0;31m#json데이터는 계층별로 나뉘어져 있습니다, 아래에서 한번 확인해보세요\u001b[0m\u001b[0;34m\u001b[0m\u001b[0;34m\u001b[0m\u001b[0m\n\u001b[1;32m     21\u001b[0m     \u001b[0;31m#불러온 데이터 > movieInfoRsult > movieInfo\u001b[0m\u001b[0;34m\u001b[0m\u001b[0;34m\u001b[0m\u001b[0m\n\u001b[0;32m---> 22\u001b[0;31m     \u001b[0mx\u001b[0m \u001b[0;34m=\u001b[0m \u001b[0md\u001b[0m\u001b[0;34m[\u001b[0m\u001b[0;34m'movieInfoResult'\u001b[0m\u001b[0;34m]\u001b[0m\u001b[0;34m[\u001b[0m\u001b[0;34m'movieInfo'\u001b[0m\u001b[0;34m]\u001b[0m\u001b[0;34m\u001b[0m\u001b[0;34m\u001b[0m\u001b[0m\n\u001b[0m\u001b[1;32m     23\u001b[0m \u001b[0;34m\u001b[0m\u001b[0m\n\u001b[1;32m     24\u001b[0m     \u001b[0;31m#> movieCd\u001b[0m\u001b[0;34m\u001b[0m\u001b[0;34m\u001b[0m\u001b[0m\n",
      "\u001b[0;31mKeyError\u001b[0m: 'movieInfoResult'"
     ]
    }
   ],
   "source": [
    "#key값은 직접 발급받으신 값으로 변경해서 사용하셔야 합니다.\n",
    "#하나의 key로는 하루에 불러올 수 있는 데이터 수가 한정되어있어서 개인 key를 사용하는게 좋습니다.\n",
    "\n",
    "my_key = 'be95a18fd733d2992b2298a8c19cb765'\n",
    "url = ' http://www.kobis.or.kr/kobisopenapi/webservice/rest/movie/searchMovieInfo.json'\n",
    "\n",
    "#불러온 데이터를 저장할 빈 데이터프레임 생성\n",
    "act_df = pd.DataFrame(columns = ['영화코드', '영화제목','출연배우'])\n",
    "\n",
    "for ii in range(0, len(code)):\n",
    "    data= {\n",
    "        \"key\": my_key,\n",
    "    \"movieCd\": code[ii]\n",
    "    }\n",
    "    \n",
    "    res = requests.get(url, data)\n",
    "    text = res.text\n",
    "    \n",
    "    d = json.loads(text)\n",
    "    #json데이터는 계층별로 나뉘어져 있습니다, 아래에서 한번 확인해보세요\n",
    "    #불러온 데이터 > movieInfoRsult > movieInfo\n",
    "    x = d['movieInfoResult']['movieInfo']\n",
    "    \n",
    "    #> movieCd\n",
    "    #> movidNm\n",
    "    MvCd = x['movieCd']\n",
    "    MvNm = x['movieNm']\n",
    "    \n",
    "    #변수 초기화\n",
    "    actNm = ' ' \n",
    "    \n",
    "    #actors > 다수의 목록이 존재, 숫자로 인덱싱 > 'peopleNm'\n",
    "    for jj in range(0, len(x['actors'])):\n",
    "        #배우의 이름은 문자열이므로 데이터프레임으로 다루기 편하도록 이어붙인다.\n",
    "        actNm = actNm + \".\" + x['actors'][jj]['peopleNm']\n",
    "    \n",
    "    act_df.loc[ii] = [MvCd, MvNm, actNm]\n",
    "    \n",
    "act_df"
   ]
  },
  {
   "cell_type": "code",
   "execution_count": 7,
   "id": "ea49a583",
   "metadata": {},
   "outputs": [],
   "source": [
    "#csv파일로 저장, 이름 바꾸셔서 사용하면 되고, \n",
    "#저장경로는 이 ipynb파일이 있는 폴더입니다.\n",
    "\n",
    "act_df.to_csv(\"2008-2021actor.csv\", mode='a', encoding='utf-8', index=False)"
   ]
  }
 ],
 "metadata": {
  "kernelspec": {
   "display_name": "Python 3 (ipykernel)",
   "language": "python",
   "name": "python3"
  },
  "language_info": {
   "codemirror_mode": {
    "name": "ipython",
    "version": 3
   },
   "file_extension": ".py",
   "mimetype": "text/x-python",
   "name": "python",
   "nbconvert_exporter": "python",
   "pygments_lexer": "ipython3",
   "version": "3.9.7"
  }
 },
 "nbformat": 4,
 "nbformat_minor": 5
}
