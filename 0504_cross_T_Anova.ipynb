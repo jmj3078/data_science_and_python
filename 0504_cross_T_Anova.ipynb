{
 "cells": [
  {
   "cell_type": "code",
   "execution_count": 3,
   "id": "fb3c2212",
   "metadata": {},
   "outputs": [],
   "source": [
    "import pandas as pd\n",
    "import numpy as np"
   ]
  },
  {
   "cell_type": "code",
   "execution_count": 6,
   "id": "3512c82c",
   "metadata": {},
   "outputs": [],
   "source": [
    "mar_bir = pd.read_csv('dataset_sample/data.csv')"
   ]
  },
  {
   "cell_type": "code",
   "execution_count": 9,
   "id": "4b9070eb",
   "metadata": {},
   "outputs": [
    {
     "data": {
      "text/plain": [
       "(500, 123)"
      ]
     },
     "execution_count": 9,
     "metadata": {},
     "output_type": "execute_result"
    }
   ],
   "source": [
    "mar_bir.shape"
   ]
  },
  {
   "cell_type": "code",
   "execution_count": 11,
   "id": "8ecd0640",
   "metadata": {},
   "outputs": [
    {
     "data": {
      "text/html": [
       "<div>\n",
       "<style scoped>\n",
       "    .dataframe tbody tr th:only-of-type {\n",
       "        vertical-align: middle;\n",
       "    }\n",
       "\n",
       "    .dataframe tbody tr th {\n",
       "        vertical-align: top;\n",
       "    }\n",
       "\n",
       "    .dataframe thead th {\n",
       "        text-align: right;\n",
       "    }\n",
       "</style>\n",
       "<table border=\"1\" class=\"dataframe\">\n",
       "  <thead>\n",
       "    <tr style=\"text-align: right;\">\n",
       "      <th></th>\n",
       "      <th>id</th>\n",
       "      <th>sq1</th>\n",
       "      <th>sq2</th>\n",
       "      <th>sq3</th>\n",
       "      <th>q1_1</th>\n",
       "      <th>q1_2_1</th>\n",
       "      <th>q1_2_2</th>\n",
       "      <th>q1_3</th>\n",
       "      <th>q1_4</th>\n",
       "      <th>q1_5</th>\n",
       "      <th>...</th>\n",
       "      <th>sq4</th>\n",
       "      <th>sq5</th>\n",
       "      <th>sq6</th>\n",
       "      <th>sq6_a</th>\n",
       "      <th>sq7</th>\n",
       "      <th>sq8</th>\n",
       "      <th>sq9</th>\n",
       "      <th>sq10</th>\n",
       "      <th>sq11</th>\n",
       "      <th>sq12</th>\n",
       "    </tr>\n",
       "  </thead>\n",
       "  <tbody>\n",
       "    <tr>\n",
       "      <th>0</th>\n",
       "      <td>1</td>\n",
       "      <td>1</td>\n",
       "      <td>9</td>\n",
       "      <td>27</td>\n",
       "      <td>1</td>\n",
       "      <td>2018</td>\n",
       "      <td>10</td>\n",
       "      <td>3</td>\n",
       "      <td>2</td>\n",
       "      <td>2</td>\n",
       "      <td>...</td>\n",
       "      <td>4</td>\n",
       "      <td>2</td>\n",
       "      <td>5</td>\n",
       "      <td></td>\n",
       "      <td>5</td>\n",
       "      <td>6</td>\n",
       "      <td>2</td>\n",
       "      <td>3</td>\n",
       "      <td>5</td>\n",
       "      <td>5</td>\n",
       "    </tr>\n",
       "    <tr>\n",
       "      <th>1</th>\n",
       "      <td>2</td>\n",
       "      <td>1</td>\n",
       "      <td>9</td>\n",
       "      <td>44</td>\n",
       "      <td>1</td>\n",
       "      <td>2005</td>\n",
       "      <td>2</td>\n",
       "      <td>3</td>\n",
       "      <td>2</td>\n",
       "      <td>2</td>\n",
       "      <td>...</td>\n",
       "      <td>6</td>\n",
       "      <td>2</td>\n",
       "      <td>4</td>\n",
       "      <td></td>\n",
       "      <td>4</td>\n",
       "      <td>6</td>\n",
       "      <td>1</td>\n",
       "      <td>5</td>\n",
       "      <td>5</td>\n",
       "      <td>3</td>\n",
       "    </tr>\n",
       "    <tr>\n",
       "      <th>2</th>\n",
       "      <td>3</td>\n",
       "      <td>2</td>\n",
       "      <td>9</td>\n",
       "      <td>39</td>\n",
       "      <td>1</td>\n",
       "      <td>2004</td>\n",
       "      <td>10</td>\n",
       "      <td>3</td>\n",
       "      <td>2</td>\n",
       "      <td>2</td>\n",
       "      <td>...</td>\n",
       "      <td>5</td>\n",
       "      <td>2</td>\n",
       "      <td>3</td>\n",
       "      <td></td>\n",
       "      <td>4</td>\n",
       "      <td>5</td>\n",
       "      <td>1</td>\n",
       "      <td>4</td>\n",
       "      <td>6</td>\n",
       "      <td>3</td>\n",
       "    </tr>\n",
       "    <tr>\n",
       "      <th>3</th>\n",
       "      <td>4</td>\n",
       "      <td>2</td>\n",
       "      <td>9</td>\n",
       "      <td>44</td>\n",
       "      <td>1</td>\n",
       "      <td>2005</td>\n",
       "      <td>5</td>\n",
       "      <td>3</td>\n",
       "      <td>2</td>\n",
       "      <td>2</td>\n",
       "      <td>...</td>\n",
       "      <td>6</td>\n",
       "      <td>2</td>\n",
       "      <td>3</td>\n",
       "      <td></td>\n",
       "      <td>4</td>\n",
       "      <td>4</td>\n",
       "      <td>1</td>\n",
       "      <td>4</td>\n",
       "      <td>6</td>\n",
       "      <td>4</td>\n",
       "    </tr>\n",
       "    <tr>\n",
       "      <th>4</th>\n",
       "      <td>5</td>\n",
       "      <td>2</td>\n",
       "      <td>9</td>\n",
       "      <td>40</td>\n",
       "      <td>1</td>\n",
       "      <td>2010</td>\n",
       "      <td>5</td>\n",
       "      <td>3</td>\n",
       "      <td>2</td>\n",
       "      <td>2</td>\n",
       "      <td>...</td>\n",
       "      <td>5</td>\n",
       "      <td>2</td>\n",
       "      <td>-1</td>\n",
       "      <td></td>\n",
       "      <td>-1</td>\n",
       "      <td>-1</td>\n",
       "      <td>1</td>\n",
       "      <td>1</td>\n",
       "      <td>5</td>\n",
       "      <td>4</td>\n",
       "    </tr>\n",
       "  </tbody>\n",
       "</table>\n",
       "<p>5 rows × 123 columns</p>\n",
       "</div>"
      ],
      "text/plain": [
       "   id  sq1  sq2  sq3  q1_1  q1_2_1  q1_2_2  q1_3  q1_4  q1_5  ...  sq4  sq5  \\\n",
       "0   1    1    9   27     1    2018      10     3     2     2  ...    4    2   \n",
       "1   2    1    9   44     1    2005       2     3     2     2  ...    6    2   \n",
       "2   3    2    9   39     1    2004      10     3     2     2  ...    5    2   \n",
       "3   4    2    9   44     1    2005       5     3     2     2  ...    6    2   \n",
       "4   5    2    9   40     1    2010       5     3     2     2  ...    5    2   \n",
       "\n",
       "   sq6  sq6_a  sq7  sq8  sq9  sq10 sq11  sq12  \n",
       "0    5           5    6    2     3    5     5  \n",
       "1    4           4    6    1     5    5     3  \n",
       "2    3           4    5    1     4    6     3  \n",
       "3    3           4    4    1     4    6     4  \n",
       "4   -1          -1   -1    1     1    5     4  \n",
       "\n",
       "[5 rows x 123 columns]"
      ]
     },
     "execution_count": 11,
     "metadata": {},
     "output_type": "execute_result"
    }
   ],
   "source": [
    "mar_bir.head()"
   ]
  },
  {
   "cell_type": "code",
   "execution_count": 13,
   "id": "59fc64eb",
   "metadata": {},
   "outputs": [
    {
     "data": {
      "text/plain": [
       "sq1\n",
       "1    250\n",
       "2    250\n",
       "dtype: int64"
      ]
     },
     "execution_count": 13,
     "metadata": {},
     "output_type": "execute_result"
    }
   ],
   "source": [
    "mar_bir.groupby('sq1').size()"
   ]
  },
  {
   "cell_type": "code",
   "execution_count": 15,
   "id": "9ffb833d",
   "metadata": {},
   "outputs": [],
   "source": [
    "mar_bir['sq1'] = mar_bir['sq1'].replace(1, '남성')\n",
    "mar_bir['sq1'] = mar_bir['sq1'].replace(2, '여성')"
   ]
  },
  {
   "cell_type": "code",
   "execution_count": 16,
   "id": "9ea7d9e3",
   "metadata": {},
   "outputs": [
    {
     "data": {
      "text/plain": [
       "sq4\n",
       "2      1\n",
       "4     96\n",
       "5    149\n",
       "6    237\n",
       "7     16\n",
       "8      1\n",
       "dtype: int64"
      ]
     },
     "execution_count": 16,
     "metadata": {},
     "output_type": "execute_result"
    }
   ],
   "source": [
    "mar_bir.groupby('sq4').size()\n",
    "#4:고졸 / 5:2년재 / 6:4년재"
   ]
  },
  {
   "cell_type": "code",
   "execution_count": 17,
   "id": "8b72fc48",
   "metadata": {},
   "outputs": [],
   "source": [
    "mar_bir['sq4']= mar_bir['sq4'].replace(2, np.nan)\n",
    "mar_bir['sq4']= mar_bir['sq4'].replace(4, \"고졸\")\n",
    "mar_bir['sq4']= mar_bir['sq4'].replace(5, \"2년제졸\")\n",
    "mar_bir['sq4']= mar_bir['sq4'].replace(6, \"4년제졸\")\n",
    "mar_bir['sq4']= mar_bir['sq4'].replace(7, np.nan)\n",
    "mar_bir['sq4']= mar_bir['sq4'].replace(8, np.nan)\n",
    "#범주 리코딩"
   ]
  },
  {
   "cell_type": "code",
   "execution_count": 19,
   "id": "2ee61d97",
   "metadata": {},
   "outputs": [
    {
     "data": {
      "text/html": [
       "<div>\n",
       "<style scoped>\n",
       "    .dataframe tbody tr th:only-of-type {\n",
       "        vertical-align: middle;\n",
       "    }\n",
       "\n",
       "    .dataframe tbody tr th {\n",
       "        vertical-align: top;\n",
       "    }\n",
       "\n",
       "    .dataframe thead th {\n",
       "        text-align: right;\n",
       "    }\n",
       "</style>\n",
       "<table border=\"1\" class=\"dataframe\">\n",
       "  <thead>\n",
       "    <tr style=\"text-align: right;\">\n",
       "      <th>sq1</th>\n",
       "      <th>남성</th>\n",
       "      <th>여성</th>\n",
       "      <th>All</th>\n",
       "    </tr>\n",
       "    <tr>\n",
       "      <th>sq4</th>\n",
       "      <th></th>\n",
       "      <th></th>\n",
       "      <th></th>\n",
       "    </tr>\n",
       "  </thead>\n",
       "  <tbody>\n",
       "    <tr>\n",
       "      <th>2년제졸</th>\n",
       "      <td>68</td>\n",
       "      <td>81</td>\n",
       "      <td>149</td>\n",
       "    </tr>\n",
       "    <tr>\n",
       "      <th>4년제졸</th>\n",
       "      <td>119</td>\n",
       "      <td>118</td>\n",
       "      <td>237</td>\n",
       "    </tr>\n",
       "    <tr>\n",
       "      <th>고졸</th>\n",
       "      <td>55</td>\n",
       "      <td>41</td>\n",
       "      <td>96</td>\n",
       "    </tr>\n",
       "    <tr>\n",
       "      <th>All</th>\n",
       "      <td>242</td>\n",
       "      <td>240</td>\n",
       "      <td>482</td>\n",
       "    </tr>\n",
       "  </tbody>\n",
       "</table>\n",
       "</div>"
      ],
      "text/plain": [
       "sq1    남성   여성  All\n",
       "sq4                \n",
       "2년제졸   68   81  149\n",
       "4년제졸  119  118  237\n",
       "고졸     55   41   96\n",
       "All   242  240  482"
      ]
     },
     "execution_count": 19,
     "metadata": {},
     "output_type": "execute_result"
    }
   ],
   "source": [
    "#교차분석 : 범주형으로 측정된 두 변수의 빈도(성별*학력)\n",
    "pd.crosstab(mar_bir['sq4'], mar_bir['sq1'], margins = True)"
   ]
  },
  {
   "cell_type": "code",
   "execution_count": 22,
   "id": "1586c4dd",
   "metadata": {},
   "outputs": [
    {
     "data": {
      "text/plain": [
       "q1_6\n",
       "1      4\n",
       "2      9\n",
       "3    134\n",
       "4    274\n",
       "5     79\n",
       "dtype: int64"
      ]
     },
     "execution_count": 22,
     "metadata": {},
     "output_type": "execute_result"
    }
   ],
   "source": [
    "mar_bir.groupby('q1_6').size()\n",
    "#결혼에 대한 만족도 빈도 분석 / 매우 불만족 ~ 메우 만족"
   ]
  },
  {
   "cell_type": "code",
   "execution_count": 24,
   "id": "6327687d",
   "metadata": {},
   "outputs": [
    {
     "data": {
      "text/plain": [
       "q1_13_3\n",
       "1     22\n",
       "2     72\n",
       "3    126\n",
       "4    178\n",
       "5    102\n",
       "dtype: int64"
      ]
     },
     "execution_count": 24,
     "metadata": {},
     "output_type": "execute_result"
    }
   ],
   "source": [
    "mar_bir.groupby('q1_13_3').size()\n",
    "#자녀는 부부 관계를 더 굳건하게 해준다 / 전혀 아니다 ~ 매우 그렇다"
   ]
  },
  {
   "cell_type": "markdown",
   "id": "fa2de76b",
   "metadata": {},
   "source": [
    "# T-test : 두 집단의 평균 비교"
   ]
  },
  {
   "cell_type": "code",
   "execution_count": 25,
   "id": "936911e6",
   "metadata": {},
   "outputs": [
    {
     "name": "stdout",
     "output_type": "stream",
     "text": [
      "sq1\n",
      "남성    3.916\n",
      "여성    3.744\n",
      "Name: q1_6, dtype: float64\n"
     ]
    }
   ],
   "source": [
    "print(mar_bir.groupby('sq1')['q1_6'].mean())\n",
    "#남녀별 결혼만족도 평균 "
   ]
  },
  {
   "cell_type": "code",
   "execution_count": 26,
   "id": "8d4b71aa",
   "metadata": {},
   "outputs": [
    {
     "name": "stdout",
     "output_type": "stream",
     "text": [
      "남성격혼만족 :  3.916\n"
     ]
    }
   ],
   "source": [
    "male = mar_bir[mar_bir['sq1'] == '남성']\n",
    "print('남성결혼만족 : ', male.q1_6.mean())"
   ]
  },
  {
   "cell_type": "code",
   "execution_count": 27,
   "id": "51b30939",
   "metadata": {},
   "outputs": [
    {
     "name": "stdout",
     "output_type": "stream",
     "text": [
      "여성결혼만족 :  3.744\n"
     ]
    }
   ],
   "source": [
    "female = mar_bir[mar_bir['sq1'] == '여성']\n",
    "print('여성결혼만족 : ', female.q1_6.mean())"
   ]
  },
  {
   "cell_type": "code",
   "execution_count": 29,
   "id": "3eb37c09",
   "metadata": {},
   "outputs": [
    {
     "data": {
      "text/plain": [
       "Ttest_indResult(statistic=2.6270170637123993, pvalue=0.008879184469354508)"
      ]
     },
     "execution_count": 29,
     "metadata": {},
     "output_type": "execute_result"
    }
   ],
   "source": [
    "import scipy.stats as stats\n",
    "\n",
    "stats.ttest_ind(male.q1_6, female.q1_6, equal_var = True)"
   ]
  },
  {
   "cell_type": "code",
   "execution_count": 31,
   "id": "5e909c8c",
   "metadata": {},
   "outputs": [
    {
     "name": "stdout",
     "output_type": "stream",
     "text": [
      "sq1\n",
      "남성    3.656\n",
      "여성    3.408\n",
      "Name: q1_13_3, dtype: float64\n"
     ]
    }
   ],
   "source": [
    "print(mar_bir.groupby('sq1')['q1_13_3'].mean())"
   ]
  },
  {
   "cell_type": "code",
   "execution_count": 32,
   "id": "69ba54ad",
   "metadata": {},
   "outputs": [
    {
     "name": "stdout",
     "output_type": "stream",
     "text": [
      "sq1\n",
      "남성    3.656\n",
      "여성    3.408\n",
      "Name: q1_13_3, dtype: float64\n"
     ]
    }
   ],
   "source": [
    "# 남성/여성의 자녀인식 평균\n",
    "print(mar_bir.groupby('sq1')['q1_13_3'].mean()) # 1 전혀아니다 ~ 5 매우 그렇다"
   ]
  },
  {
   "cell_type": "code",
   "execution_count": 33,
   "id": "6a4139db",
   "metadata": {},
   "outputs": [
    {
     "name": "stdout",
     "output_type": "stream",
     "text": [
      "sq1\n",
      "남성    3.656\n",
      "여성    3.408\n",
      "Name: q1_13_3, dtype: float64\n"
     ]
    }
   ],
   "source": [
    "# 남성/여성의 자녀인식 평균\n",
    "print(mar_bir.groupby('sq1')['q1_13_3'].mean()) # 1 전혀아니다 ~ 5 매우 그렇다"
   ]
  },
  {
   "cell_type": "code",
   "execution_count": 36,
   "id": "e12c4115",
   "metadata": {},
   "outputs": [
    {
     "name": "stdout",
     "output_type": "stream",
     "text": [
      "남성자녀인식:  3.656\n"
     ]
    }
   ],
   "source": [
    "male = mar_bir[mar_bir['sq1'] == '남성'] \n",
    "print('남성자녀인식: ', male.q1_13_3.mean())"
   ]
  },
  {
   "cell_type": "code",
   "execution_count": 38,
   "id": "066b0d79",
   "metadata": {},
   "outputs": [
    {
     "name": "stdout",
     "output_type": "stream",
     "text": [
      "여성자녀인식:  3.408\n"
     ]
    }
   ],
   "source": [
    "female = mar_bir[mar_bir['sq1'] == '여성'] \n",
    "print('여성자녀인식: ', female.q1_13_3.mean())"
   ]
  },
  {
   "cell_type": "code",
   "execution_count": 40,
   "id": "1746b07b",
   "metadata": {},
   "outputs": [
    {
     "data": {
      "text/plain": [
       "Ttest_indResult(statistic=2.532835306862453, pvalue=0.011620332201662524)"
      ]
     },
     "execution_count": 40,
     "metadata": {},
     "output_type": "execute_result"
    }
   ],
   "source": [
    "# 두 집단의 평균에 차이가 있는지 없는지 t-test 수행\n",
    "import scipy.stats as stats\n",
    "stats.ttest_ind(male.q1_13_3, female.q1_13_3,\n",
    "equal_var= True) # 분산이 동일한가 검정\n",
    "# pvalue=0.011. 0.05보다 작다. 두 집단의 자녀인식에는 차이가 있다."
   ]
  },
  {
   "cell_type": "markdown",
   "id": "7e1c2642",
   "metadata": {},
   "source": [
    "# ANOVA : 세 집단의 평균 비교"
   ]
  },
  {
   "cell_type": "code",
   "execution_count": 41,
   "id": "36cba38c",
   "metadata": {},
   "outputs": [
    {
     "name": "stdout",
     "output_type": "stream",
     "text": [
      "sq4\n",
      "2년제졸    3.724832\n",
      "4년제졸    3.983122\n",
      "고졸      3.604167\n",
      "Name: q1_6, dtype: float64\n"
     ]
    }
   ],
   "source": [
    "print(mar_bir.groupby('sq4')['q1_6'].mean())"
   ]
  },
  {
   "cell_type": "code",
   "execution_count": 44,
   "id": "caabb753",
   "metadata": {},
   "outputs": [
    {
     "name": "stdout",
     "output_type": "stream",
     "text": [
      "3.6041666666666665\n"
     ]
    }
   ],
   "source": [
    "HS = mar_bir[mar_bir['sq4'] == '고졸']\n",
    "print(HS.q1_6.mean())"
   ]
  },
  {
   "cell_type": "code",
   "execution_count": 45,
   "id": "4bf09b95",
   "metadata": {},
   "outputs": [
    {
     "name": "stdout",
     "output_type": "stream",
     "text": [
      "3.7248322147651005\n"
     ]
    }
   ],
   "source": [
    "univ2 = mar_bir[mar_bir['sq4'] == '2년제졸']\n",
    "print(univ2.q1_6.mean())"
   ]
  },
  {
   "cell_type": "code",
   "execution_count": 47,
   "id": "70d4be74",
   "metadata": {},
   "outputs": [
    {
     "name": "stdout",
     "output_type": "stream",
     "text": [
      "3.9831223628691985\n"
     ]
    }
   ],
   "source": [
    "univ4 = mar_bir[mar_bir['sq4'] == '4년제졸'] \n",
    "print(univ4.q1_6.mean())"
   ]
  },
  {
   "cell_type": "code",
   "execution_count": 49,
   "id": "090d7626",
   "metadata": {},
   "outputs": [
    {
     "name": "stdout",
     "output_type": "stream",
     "text": [
      "12.042764344487303 7.891115151996855e-06\n"
     ]
    }
   ],
   "source": [
    "# 고졸 2년제 4년제 & 자녀인식 평균\n",
    "F_statistic, pVal = stats.f_oneway(HS.q1_6, univ2.q1_6, univ4.q1_6)\n",
    "print(F_statistic, pVal)\n",
    "# p<0.05 이므로 세 집단의 결혼만족도에는 차이가 있다."
   ]
  },
  {
   "cell_type": "code",
   "execution_count": 50,
   "id": "0884d47d",
   "metadata": {},
   "outputs": [
    {
     "name": "stdout",
     "output_type": "stream",
     "text": [
      "sq4\n",
      "2년제졸    3.536913\n",
      "4년제졸    3.502110\n",
      "고졸      3.625000\n",
      "Name: q1_13_3, dtype: float64\n"
     ]
    }
   ],
   "source": [
    "#학력에 따른 자녀출산인식\n",
    "print(mar_bir.groupby('sq4')['q1_13_3'].mean())"
   ]
  },
  {
   "cell_type": "code",
   "execution_count": 51,
   "id": "ddf5e5a0",
   "metadata": {},
   "outputs": [
    {
     "name": "stdout",
     "output_type": "stream",
     "text": [
      "3.625\n"
     ]
    }
   ],
   "source": [
    "HS = mar_bir[mar_bir['sq4'] == '고졸'] \n",
    "print(HS.q1_13_3.mean())"
   ]
  },
  {
   "cell_type": "code",
   "execution_count": 52,
   "id": "8d28dbc6",
   "metadata": {},
   "outputs": [
    {
     "name": "stdout",
     "output_type": "stream",
     "text": [
      "3.50210970464135\n"
     ]
    }
   ],
   "source": [
    "univ4 = mar_bir[mar_bir['sq4'] == '4년제졸']\n",
    "print(univ4.q1_13_3.mean())"
   ]
  },
  {
   "cell_type": "code",
   "execution_count": 54,
   "id": "df542e7d",
   "metadata": {},
   "outputs": [
    {
     "name": "stdout",
     "output_type": "stream",
     "text": [
      "0.425509628064136 0.653683439217962\n"
     ]
    }
   ],
   "source": [
    "# 고졸 2년제 4년제 & 자녀인식 평균\n",
    "F_statistic, pVal = stats.f_oneway(HS.q1_13_3, univ2.q1_13_3, univ4.q1_13_3) \n",
    "print(F_statistic, pVal)\n",
    "# p>0.05 이므로 세 집단의 자녀인식에는 차이가 없다."
   ]
  }
 ],
 "metadata": {
  "kernelspec": {
   "display_name": "Python 3 (ipykernel)",
   "language": "python",
   "name": "python3"
  },
  "language_info": {
   "codemirror_mode": {
    "name": "ipython",
    "version": 3
   },
   "file_extension": ".py",
   "mimetype": "text/x-python",
   "name": "python",
   "nbconvert_exporter": "python",
   "pygments_lexer": "ipython3",
   "version": "3.9.7"
  }
 },
 "nbformat": 4,
 "nbformat_minor": 5
}
