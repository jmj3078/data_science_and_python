{
 "cells": [
  {
   "cell_type": "markdown",
   "metadata": {
    "id": "InVrp92fQlbV"
   },
   "source": [
    "# 클래스\n",
    "\n"
   ]
  },
  {
   "cell_type": "code",
   "execution_count": null,
   "metadata": {
    "colab": {
     "base_uri": "https://localhost:8080/"
    },
    "executionInfo": {
     "elapsed": 528,
     "status": "ok",
     "timestamp": 1648439234914,
     "user": {
      "displayName": "생명과학과/조명재",
      "photoUrl": "https://lh3.googleusercontent.com/a-/AOh14Gi5jCEfnOJExQuMfcebjJXNDUAM_yfB2GG5RT1R=s64",
      "userId": "17829076087741631364"
     },
     "user_tz": -540
    },
    "id": "9sg7eSIHmG_Q",
    "outputId": "f84e42e7-672b-4c28-8fd7-8263b25d569e"
   },
   "outputs": [
    {
     "data": {
      "text/plain": [
       "[2, 4, 6, 8, 10, 12, 14, 16, 18, 23]"
      ]
     },
     "execution_count": 35,
     "metadata": {},
     "output_type": "execute_result"
    }
   ],
   "source": [
    "#lambda : 함수의 한줄 표현\n",
    "f = lambda x, y : x + y\n",
    "f(3,5) #변수에 저장하여 활용가능\n",
    "#filter : filter(function, iterable) \n",
    "#각 iterable 의 요소에 대해 function을 실행하고, True이면 출력이고 False 이면 출력 X\n",
    "\n",
    "l1 = [1, 2, 3, 4, 5, 6, 7, 8, 9, 10]\n",
    "l2 = [1, 2, 3, 4, 5, 6, 7, 8, 9, 13]\n",
    "\n",
    "list(filter(lambda x : x % 2 == 0, l1))\n",
    "\n",
    "#map : filter(function, iterable) \n",
    "#각 iterabe의 요소에 대해 function을 실행한 결과를 반환, filter와 같은 원리로 작동 \n",
    "\n",
    "list(map(lambda x,y : x+y, l1, l2))\n"
   ]
  },
  {
   "cell_type": "code",
   "execution_count": null,
   "metadata": {
    "id": "G4sqFa-0gfYM"
   },
   "outputs": [],
   "source": [
    "users = [{'mail': 'gregorythomas@gmail.com', 'name': 'Brett Holland', 'sex': 'M'},\n",
    "...  {'mail': 'hintoncynthia@hotmail.com', 'name': 'Madison Martinez', 'sex': 'F'},\n",
    "...  {'mail': 'wwagner@gmail.com', 'name': 'Michael Jenkins', 'sex': 'M'},\n",
    "...  {'mail': 'daniel79@gmail.com', 'name': 'Karen Rodriguez', 'sex': 'F'},\n",
    "...  {'mail': 'ujackson@gmail.com', 'name': 'Amber Rhodes', 'sex': 'F'}]"
   ]
  },
  {
   "cell_type": "code",
   "execution_count": null,
   "metadata": {
    "id": "EEj2WR8xg3z8"
   },
   "outputs": [],
   "source": [
    "def is_man(user):\n",
    "  return user[\"sex\"] == \"M\""
   ]
  },
  {
   "cell_type": "code",
   "execution_count": null,
   "metadata": {
    "colab": {
     "base_uri": "https://localhost:8080/"
    },
    "executionInfo": {
     "elapsed": 2,
     "status": "ok",
     "timestamp": 1648437316089,
     "user": {
      "displayName": "생명과학과/조명재",
      "photoUrl": "https://lh3.googleusercontent.com/a-/AOh14Gi5jCEfnOJExQuMfcebjJXNDUAM_yfB2GG5RT1R=s64",
      "userId": "17829076087741631364"
     },
     "user_tz": -540
    },
    "id": "ExCBCll_hDe1",
    "outputId": "3a96aad7-3e82-4203-8fde-ae97181a38c2"
   },
   "outputs": [
    {
     "name": "stdout",
     "output_type": "stream",
     "text": [
      "{'mail': 'gregorythomas@gmail.com', 'name': 'Brett Holland', 'sex': 'M'}\n",
      "{'mail': 'wwagner@gmail.com', 'name': 'Michael Jenkins', 'sex': 'M'}\n"
     ]
    }
   ],
   "source": [
    "for man in filter(is_man, users):\n",
    "  print(man)"
   ]
  },
  {
   "cell_type": "code",
   "execution_count": null,
   "metadata": {
    "colab": {
     "base_uri": "https://localhost:8080/"
    },
    "executionInfo": {
     "elapsed": 521,
     "status": "ok",
     "timestamp": 1648437878105,
     "user": {
      "displayName": "생명과학과/조명재",
      "photoUrl": "https://lh3.googleusercontent.com/a-/AOh14Gi5jCEfnOJExQuMfcebjJXNDUAM_yfB2GG5RT1R=s64",
      "userId": "17829076087741631364"
     },
     "user_tz": -540
    },
    "id": "xQ7IVI0HhUY4",
    "outputId": "aac5fc0f-f721-4f24-d49a-792ca5dd09a4"
   },
   "outputs": [
    {
     "name": "stdout",
     "output_type": "stream",
     "text": [
      "{'mail': 'hintoncynthia@hotmail.com', 'name': 'Madison Martinez', 'sex': 'F'}\n",
      "{'mail': 'daniel79@gmail.com', 'name': 'Karen Rodriguez', 'sex': 'F'}\n",
      "{'mail': 'ujackson@gmail.com', 'name': 'Amber Rhodes', 'sex': 'F'}\n"
     ]
    }
   ],
   "source": [
    " for woman in filter(lambda u: u[\"sex\"] != \"M\", users):\n",
    "...     print(woman)"
   ]
  },
  {
   "cell_type": "code",
   "execution_count": null,
   "metadata": {
    "colab": {
     "base_uri": "https://localhost:8080/"
    },
    "executionInfo": {
     "elapsed": 4,
     "status": "ok",
     "timestamp": 1648437910089,
     "user": {
      "displayName": "생명과학과/조명재",
      "photoUrl": "https://lh3.googleusercontent.com/a-/AOh14Gi5jCEfnOJExQuMfcebjJXNDUAM_yfB2GG5RT1R=s64",
      "userId": "17829076087741631364"
     },
     "user_tz": -540
    },
    "id": "HPS45tMJjdzh",
    "outputId": "46112d62-8012-44ef-9a6f-f0c9322b2627"
   },
   "outputs": [
    {
     "data": {
      "text/plain": [
       "<filter at 0x7f71818b4510>"
      ]
     },
     "execution_count": 11,
     "metadata": {},
     "output_type": "execute_result"
    }
   ],
   "source": [
    "filter(lambda u: u[\"mail\"].endswith(\"@gmail.com\"), users) #자료 위치 반환, 리스트, 튜플 등으로 사용할 수 있다."
   ]
  },
  {
   "cell_type": "code",
   "execution_count": null,
   "metadata": {
    "colab": {
     "base_uri": "https://localhost:8080/"
    },
    "executionInfo": {
     "elapsed": 4,
     "status": "ok",
     "timestamp": 1648437921623,
     "user": {
      "displayName": "생명과학과/조명재",
      "photoUrl": "https://lh3.googleusercontent.com/a-/AOh14Gi5jCEfnOJExQuMfcebjJXNDUAM_yfB2GG5RT1R=s64",
      "userId": "17829076087741631364"
     },
     "user_tz": -540
    },
    "id": "thJgMQfajkYC",
    "outputId": "44db1a43-c029-4455-db17-8d5b872d60e9"
   },
   "outputs": [
    {
     "data": {
      "text/plain": [
       "[{'mail': 'gregorythomas@gmail.com', 'name': 'Brett Holland', 'sex': 'M'},\n",
       " {'mail': 'wwagner@gmail.com', 'name': 'Michael Jenkins', 'sex': 'M'},\n",
       " {'mail': 'daniel79@gmail.com', 'name': 'Karen Rodriguez', 'sex': 'F'},\n",
       " {'mail': 'ujackson@gmail.com', 'name': 'Amber Rhodes', 'sex': 'F'}]"
      ]
     },
     "execution_count": 12,
     "metadata": {},
     "output_type": "execute_result"
    }
   ],
   "source": [
    "list(filter(lambda u: u[\"mail\"].endswith(\"@gmail.com\"), users))"
   ]
  },
  {
   "cell_type": "code",
   "execution_count": null,
   "metadata": {
    "colab": {
     "base_uri": "https://localhost:8080/"
    },
    "executionInfo": {
     "elapsed": 5,
     "status": "ok",
     "timestamp": 1648437985062,
     "user": {
      "displayName": "생명과학과/조명재",
      "photoUrl": "https://lh3.googleusercontent.com/a-/AOh14Gi5jCEfnOJExQuMfcebjJXNDUAM_yfB2GG5RT1R=s64",
      "userId": "17829076087741631364"
     },
     "user_tz": -540
    },
    "id": "JkLSWwf4joIf",
    "outputId": "f9a31e91-c20d-4cd4-a476-8f0ab023e8eb"
   },
   "outputs": [
    {
     "data": {
      "text/plain": [
       "[{'mail': 'gregorythomas@gmail.com', 'name': 'Brett Holland', 'sex': 'M'},\n",
       " {'mail': 'wwagner@gmail.com', 'name': 'Michael Jenkins', 'sex': 'M'}]"
      ]
     },
     "execution_count": 14,
     "metadata": {},
     "output_type": "execute_result"
    }
   ],
   "source": [
    "[user for user in users if user[\"sex\"] == 'M'] #list comprehension : 훨씬 파이썬 답게 데이터를 추릴 수 있다"
   ]
  },
  {
   "cell_type": "code",
   "execution_count": null,
   "metadata": {
    "colab": {
     "base_uri": "https://localhost:8080/"
    },
    "executionInfo": {
     "elapsed": 526,
     "status": "ok",
     "timestamp": 1648438043777,
     "user": {
      "displayName": "생명과학과/조명재",
      "photoUrl": "https://lh3.googleusercontent.com/a-/AOh14Gi5jCEfnOJExQuMfcebjJXNDUAM_yfB2GG5RT1R=s64",
      "userId": "17829076087741631364"
     },
     "user_tz": -540
    },
    "id": "JBv2TilAjxAd",
    "outputId": "28a24ad6-0fb2-4c9e-f5c4-1f30390d72f3"
   },
   "outputs": [
    {
     "data": {
      "text/plain": [
       "({'mail': 'hintoncynthia@hotmail.com', 'name': 'Madison Martinez', 'sex': 'F'},\n",
       " {'mail': 'daniel79@gmail.com', 'name': 'Karen Rodriguez', 'sex': 'F'},\n",
       " {'mail': 'ujackson@gmail.com', 'name': 'Amber Rhodes', 'sex': 'F'})"
      ]
     },
     "execution_count": 16,
     "metadata": {},
     "output_type": "execute_result"
    }
   ],
   "source": [
    "tuple(user for user in users if user[\"sex\"] == \"F\")"
   ]
  },
  {
   "cell_type": "code",
   "execution_count": null,
   "metadata": {
    "colab": {
     "base_uri": "https://localhost:8080/"
    },
    "executionInfo": {
     "elapsed": 520,
     "status": "ok",
     "timestamp": 1648438342613,
     "user": {
      "displayName": "생명과학과/조명재",
      "photoUrl": "https://lh3.googleusercontent.com/a-/AOh14Gi5jCEfnOJExQuMfcebjJXNDUAM_yfB2GG5RT1R=s64",
      "userId": "17829076087741631364"
     },
     "user_tz": -540
    },
    "id": "Egm1wJhUkD-P",
    "outputId": "1543560b-f665-465c-eafd-44cffbc5d457"
   },
   "outputs": [
    {
     "name": "stdout",
     "output_type": "stream",
     "text": [
      "아이유\n",
      "30\n"
     ]
    }
   ],
   "source": [
    "class Person:\n",
    "  def __init__(self, name, age):\n",
    "    self.name= name     \n",
    "    self.age= age\n",
    "  def nextyear(self):\n",
    "    self.age +=1 \n",
    "    print(\"내년에는 {} 살 입니다\". format(self.age))          \n",
    "\n",
    "a= Person('아이유', 30)     # a라는 instance를 만들어주고 Person이라는 class를 사용하기 \n",
    "print(a.name)\n",
    "print(a.age)"
   ]
  },
  {
   "cell_type": "code",
   "execution_count": null,
   "metadata": {
    "colab": {
     "base_uri": "https://localhost:8080/"
    },
    "executionInfo": {
     "elapsed": 526,
     "status": "ok",
     "timestamp": 1648440599059,
     "user": {
      "displayName": "생명과학과/조명재",
      "photoUrl": "https://lh3.googleusercontent.com/a-/AOh14Gi5jCEfnOJExQuMfcebjJXNDUAM_yfB2GG5RT1R=s64",
      "userId": "17829076087741631364"
     },
     "user_tz": -540
    },
    "id": "wyM58U5pk9JK",
    "outputId": "b458e63a-66d0-4712-8049-cf29cfa24a30"
   },
   "outputs": [
    {
     "name": "stdout",
     "output_type": "stream",
     "text": [
      "stu1의 주소:{0} 140125480968016\n",
      "stu2의 주소:{0} 140125480965968\n",
      "\n",
      "Student의 학교 :  Seoul\n",
      "stu1의 학교 :  Seoul\n",
      "stu2의 학교 :  Seoul\n"
     ]
    }
   ],
   "source": [
    "class Student:\n",
    "    schoolName = \"Korea\"\n",
    "\n",
    "stu1 = Student()\n",
    "stu2 = Student()\n",
    "\n",
    "print('stu1의 주소:{0}', format(id(stu1)))\n",
    "print('stu2의 주소:{0}', format(id(stu2)))\n",
    "\n",
    "#stu1 stu2는 각자 생성자를 호출해서 만들어진 것이므로 다른 영역 차지\n",
    "\n",
    "Student.schoolName='Seoul'\n",
    "#클래스 변수가 되는 경우, 모든 객체가 이 클래스 변수를 공유하여 사용한다.\n",
    "#따라서 아래의 3가지는 모두 같은 출력값을 가진다\n",
    "\n",
    "print(\"\\nStudent의 학교 : \", Student.schoolName)\n",
    "print(\"stu1의 학교 : \", stu1.schoolName) \n",
    "print(\"stu2의 학교 : \", stu2.schoolName)"
   ]
  },
  {
   "cell_type": "code",
   "execution_count": null,
   "metadata": {
    "colab": {
     "base_uri": "https://localhost:8080/"
    },
    "executionInfo": {
     "elapsed": 458,
     "status": "ok",
     "timestamp": 1648441459156,
     "user": {
      "displayName": "생명과학과/조명재",
      "photoUrl": "https://lh3.googleusercontent.com/a-/AOh14Gi5jCEfnOJExQuMfcebjJXNDUAM_yfB2GG5RT1R=s64",
      "userId": "17829076087741631364"
     },
     "user_tz": -540
    },
    "id": "Ce9VwTc4w19b",
    "outputId": "2d6d706f-f7e0-49b5-c96c-2ba1db267158"
   },
   "outputs": [
    {
     "name": "stdout",
     "output_type": "stream",
     "text": [
      "str : Iphone - {'color': 'White', 'price': 10000}\n",
      "{'_brand': 'Iphone', '_informations': {'color': 'White', 'price': 10000}}\n",
      "False\n",
      "False\n",
      "None\n"
     ]
    }
   ],
   "source": [
    "\n",
    "class Smartphone:\n",
    "\n",
    "    def __init__(self, brand, informations): #클래스 생성시 초기화되면서 실행되는 부분\n",
    "        self._brand = brand\n",
    "        self._informations = informations \n",
    "       \n",
    "    def __str__(self):\n",
    "        return f'str : {self._brand} - {self._informations}'\n",
    "    \n",
    "    #매직 메소드가 구현되어 있지 않은 상태에서 인스턴스를 print하면 object가 나온다 \n",
    "    #print() 또는 str() 함수가 호출될 때 사용하면 기본적으로 str 메소드가 먼저 실행되며, str 메소드가 없으면 repr 메소드를 실행함\n",
    "\n",
    "    def __repr__(self):\n",
    "        return f'repr : {self._brand} - {self._informations}'\n",
    "    #개발, 엔지니어 레벨에서 객체의 엄격한 타입을 표현시 사용, 객체 표현을 반환함, repr() 함수가 호출될 때 사용\n",
    "    \n",
    "Smartphone1 = Smartphone('Iphone', {'color' : 'White', 'price': 10000})\n",
    "Smartphone2 = Smartphone('Galaxy', {'color' : 'Black', 'price': 8000})\n",
    "\n",
    "print(Smartphone1) #클래스의 값을 출력, print함수 실행시 우선적으로 __str__ 메소드가 실행된다\n",
    "print(Smartphone1.__dict__) #클래스의 값을 보고싶다면 .__dict__사용하면 됨\n",
    "\n",
    "print(Smartphone1._brand == Smartphone2._brand)  \n",
    "print(Smartphone1 is Smartphone2) \n",
    "#아래 위 같은 표현\n",
    "\n",
    "print(Smartphone.__doc__) #docstring 출력\n"
   ]
  },
  {
   "cell_type": "code",
   "execution_count": null,
   "metadata": {
    "id": "5Y4htElftup4"
   },
   "outputs": [],
   "source": [
    "class FourCal:\n",
    "  def __init__(self, first, second):\n",
    "    self.first = first\n",
    "    self.second = second\n",
    "  def add(self):\n",
    "    return self.first + self.second\n",
    "  \n",
    "  def dim(self):\n",
    "    return self.first - self.second\n",
    "  \n",
    "  def mul(self):\n",
    "    return self.first * self.second\n",
    "\n",
    "  def div(self):\n",
    "    return self.first / self.second"
   ]
  },
  {
   "cell_type": "code",
   "execution_count": null,
   "metadata": {
    "id": "hKSSAsnbwTsU"
   },
   "outputs": [],
   "source": [
    "a = FourCal(10, 20)"
   ]
  },
  {
   "cell_type": "code",
   "execution_count": null,
   "metadata": {
    "colab": {
     "base_uri": "https://localhost:8080/"
    },
    "executionInfo": {
     "elapsed": 526,
     "status": "ok",
     "timestamp": 1648441419312,
     "user": {
      "displayName": "생명과학과/조명재",
      "photoUrl": "https://lh3.googleusercontent.com/a-/AOh14Gi5jCEfnOJExQuMfcebjJXNDUAM_yfB2GG5RT1R=s64",
      "userId": "17829076087741631364"
     },
     "user_tz": -540
    },
    "id": "vyXoLcmfw0tp",
    "outputId": "cca45ce3-6e9b-447b-f04c-8fb29213ecef"
   },
   "outputs": [
    {
     "name": "stdout",
     "output_type": "stream",
     "text": [
      "30 -10 200 0.5\n"
     ]
    }
   ],
   "source": [
    "print(a.add(),a.dim(),a.mul(),a.div())"
   ]
  },
  {
   "cell_type": "code",
   "execution_count": null,
   "metadata": {
    "colab": {
     "base_uri": "https://localhost:8080/"
    },
    "executionInfo": {
     "elapsed": 4,
     "status": "ok",
     "timestamp": 1648616184582,
     "user": {
      "displayName": "생명과학과/조명재",
      "userId": "17829076087741631364"
     },
     "user_tz": -540
    },
    "id": "lIduLiWPLo01",
    "outputId": "0f0ec873-c7bb-4509-d0b8-cb5309ad0fd4"
   },
   "outputs": [
    {
     "name": "stdout",
     "output_type": "stream",
     "text": [
      "27\n",
      "100000\n",
      "28\n",
      "110000\n",
      "80000\n"
     ]
    }
   ],
   "source": [
    "# 세부사항을 클래스 안에 감추고, 외부에서는 method만 사용하여 값을 알 수 있도록 \n",
    "\n",
    "class Bank:\n",
    "    def __init__(self):            # 초기값 27살, 10만원의 잔고가 있다. \n",
    "        self.age= 27               # 좌변은 Bank 클래스 안의 변수/ 우변은 argument\n",
    "        self.balance= 100000\n",
    "    def nextyear(self):\n",
    "        self.age += 1              # age가 1 늘어남\n",
    "    def deposit(self, x):\n",
    "        self.balance += x          # 잔고가 x원 증가\n",
    "    def withdraw(self, y):\n",
    "        self.balance -= y          # 잔고가 y원 감소\n",
    "\n",
    "b= Bank()\n",
    "print(b.age)            # 초기값 설정 \n",
    "print(b.balance)\n",
    "\n",
    "b.nextyear()            # b라는 instance에서 nextyear 메소드를 실행해라. \n",
    "print(b.age)\n",
    "\n",
    "b.deposit(10000)        # 기존 잔고에 10000원 더하기\n",
    "print(b.balance)\n",
    "\n",
    "b.withdraw(30000)       # 기존 잔고에서 30000원 빼기\n",
    "print(b.balance)"
   ]
  },
  {
   "cell_type": "code",
   "execution_count": null,
   "metadata": {
    "colab": {
     "base_uri": "https://localhost:8080/"
    },
    "executionInfo": {
     "elapsed": 2,
     "status": "ok",
     "timestamp": 1648616234388,
     "user": {
      "displayName": "생명과학과/조명재",
      "userId": "17829076087741631364"
     },
     "user_tz": -540
    },
    "id": "fMLwINk8LxGO",
    "outputId": "3678514a-dbd3-4296-ac87-d99ce4cd2e1e"
   },
   "outputs": [
    {
     "name": "stdout",
     "output_type": "stream",
     "text": [
      "모델은 genesis 입니다\n",
      "차의 색상은 red 입니다\n",
      "차 번호는 1234 입니다\n"
     ]
    }
   ],
   "source": [
    "# 자동차 클래스\n",
    "\n",
    "class Car:                           # car 라는 이름의 클래스 \n",
    "    def __init__(self, model, color, number):\n",
    "        self.model= model\n",
    "        self.color= color\n",
    "        self.number= number\n",
    "    def modelname(self):             \n",
    "        print(\"모델은\", self.model, \"입니다\")\n",
    "    def setcolor(self):\n",
    "        print(\"차의 색상은\", self.color, \"입니다\")\n",
    "    def carnumber(self):\n",
    "        print(\"차 번호는\", self.number, \"입니다\")\n",
    "        \n",
    "mycar= Car(\"genesis\", \"red\", \"1234\")    # mycar 객체를 만들어 Car 클래스를 사용한다\n",
    "mycar.modelname()\n",
    "mycar.setcolor()\n",
    "mycar.carnumber()"
   ]
  },
  {
   "cell_type": "code",
   "execution_count": null,
   "metadata": {
    "colab": {
     "base_uri": "https://localhost:8080/"
    },
    "executionInfo": {
     "elapsed": 543,
     "status": "ok",
     "timestamp": 1648616239124,
     "user": {
      "displayName": "생명과학과/조명재",
      "userId": "17829076087741631364"
     },
     "user_tz": -540
    },
    "id": "LqVF33elL2ZB",
    "outputId": "16bcf364-4b6e-4e6c-fa8f-d9be9703f276"
   },
   "outputs": [
    {
     "name": "stdout",
     "output_type": "stream",
     "text": [
      "모델은 Benz 입니다\n",
      "차의 색상은 silver 입니다\n",
      "차 번호는 4321 입니다\n",
      "제조국가는 German 입니다\n"
     ]
    }
   ],
   "source": [
    "# class 클래스이름(상속할 클래스이름)  --> 위에서 정의해놓은 클래스를 그대로 이어받을 수 있다.\n",
    "# 상속하는 이유: 부모 클래스를 사용하되, 새로운 내용을 추가하여 기능을 추가하고자 할때\n",
    "# 자식 클래스를 만들어 클래스를 계속 확장 재사용 할 수 있음\n",
    "# 기본클래스 base class --> 파생클래스 derived class \n",
    "# super(): 상속받는 부모 클래스를 그대로 호출해라\n",
    "\n",
    "class Car1(Car):\n",
    "    def __init__(self, model, color, number, madein): #새로운 argument madein 추가\n",
    "        super().__init__(model, color, number)    # 물려받는 내용. super()를 통해 물려받는 것이 가능하다 init에서 self.model, color, number지정했던걸 가져온다\n",
    "        self.madein= madein\n",
    "    def country(self):\n",
    "        print(\"제조국가는\", self.madein, \"입니다\")  \n",
    "\n",
    "car1= Car1(\"Benz\", \"silver\", \"4321\", \"German\")    # car1 객체를 새로 만들고 자식 클래스를 사용한다\n",
    "car1.modelname()\n",
    "car1.setcolor()\n",
    "car1.carnumber()\n",
    "car1.country()"
   ]
  },
  {
   "cell_type": "code",
   "execution_count": null,
   "metadata": {
    "colab": {
     "base_uri": "https://localhost:8080/"
    },
    "executionInfo": {
     "elapsed": 2,
     "status": "ok",
     "timestamp": 1648616449336,
     "user": {
      "displayName": "생명과학과/조명재",
      "userId": "17829076087741631364"
     },
     "user_tz": -540
    },
    "id": "22smd_zHMOnV",
    "outputId": "7eca5f0f-e9f6-4bd5-ca24-1822a69f57a6"
   },
   "outputs": [
    {
     "data": {
      "text/plain": [
       "17"
      ]
     },
     "execution_count": 40,
     "metadata": {},
     "output_type": "execute_result"
    }
   ],
   "source": [
    "class FourCal:\n",
    "    def setdata(self, first, second):    # 메서드(클래스 안에 구현된 함수)의 매개변수\n",
    "       self.first= first                 # __init__ 매직메서드 없이 만들어도 이렇게 내부 메서드로 값 지정 가능\n",
    "       self.second= second    \n",
    "    def add(self):\n",
    "        result= self.first+ self.second   # add 메서드를 추가해줌\n",
    "        return result\n",
    "    def mul(self):\n",
    "        result= self.first* self.second   # 곱셈 메서드를 추가해줌\n",
    "        return result \n",
    "    def sub(self):\n",
    "        result= self.first- self.second   # 뺄셈 메서드를 추가해줌\n",
    "        return result\n",
    "    def div(self):\n",
    "        result= self.first/ self.second   # 나누기 메서드를 추가해줌\n",
    "        return result\n",
    "\n",
    "a= FourCal()      # 객체 선언해줌: FourCal 클래스를 써서 a 에 적용하겠다. \n",
    "b= FourCal()\n",
    "a.setdata(8,9)    # a를 쓰되 first=8 second= 9 라는 인수를 대입하겠다 \n",
    "b.setdata(12, 15)\n",
    "\n",
    "a.add()   # 8+9 "
   ]
  },
  {
   "cell_type": "code",
   "execution_count": null,
   "metadata": {
    "colab": {
     "base_uri": "https://localhost:8080/"
    },
    "executionInfo": {
     "elapsed": 528,
     "status": "ok",
     "timestamp": 1648616460349,
     "user": {
      "displayName": "생명과학과/조명재",
      "userId": "17829076087741631364"
     },
     "user_tz": -540
    },
    "id": "gCdRLQkeMp8q",
    "outputId": "643077c3-3f94-4739-c371-58ab917d5190"
   },
   "outputs": [
    {
     "data": {
      "text/plain": [
       "49"
      ]
     },
     "execution_count": 41,
     "metadata": {},
     "output_type": "execute_result"
    }
   ],
   "source": [
    "# 사칙연산 FourCal 을 상속하여 FourCal2 만들어보자 \n",
    "\n",
    "class FourCal2(FourCal):   # FourCal을 그대로 가져와서 자식클래스 생성 \n",
    "    def pow(self):            # pow 메서드를 추가하여 기존 클래스의 기능을 더 확장함\n",
    "        result= self.first ** self.second\n",
    "        return result\n",
    "\n",
    "a= FourCal2()        # a 객체가 FourCal2 라는 클래스를 사용하겠다 \n",
    "a.setdata(7,2)          # a 객체에서 setdata 통해 7, 2를 인수로 주어라\n",
    "a.pow()                 # pow 메소드 실행하라"
   ]
  },
  {
   "cell_type": "code",
   "execution_count": null,
   "metadata": {
    "colab": {
     "base_uri": "https://localhost:8080/"
    },
    "executionInfo": {
     "elapsed": 7,
     "status": "ok",
     "timestamp": 1648616683160,
     "user": {
      "displayName": "생명과학과/조명재",
      "userId": "17829076087741631364"
     },
     "user_tz": -540
    },
    "id": "bkf491MHMssA",
    "outputId": "e06bcf1e-0e4d-4fd0-931c-6f098eb1696f"
   },
   "outputs": [
    {
     "data": {
      "text/plain": [
       "0"
      ]
     },
     "execution_count": 42,
     "metadata": {},
     "output_type": "execute_result"
    }
   ],
   "source": [
    "# 메서드 오버라이딩 overriding  기존 클래스 복사+ 덮어쓰기\n",
    "# 기존의 클래스에서 정의했던 div 의 내용을 수정한 후 덮어쓰기 (메소드는 바뀌지 않음)\n",
    "\n",
    "class FourCal3(FourCal):   # 앞의 클래스 Fourcal을 이어받아서 Fourcal3 라고 덮어써서 저장 \n",
    "    def div(self):         # 기존의 메서드 div 를 수정함 \n",
    "        if self.second ==0:   # 2번째 인수가 0일때 0을 반환해라 \n",
    "            return 0\n",
    "        else:\n",
    "            return self.first/self.second\n",
    "\n",
    "a= FourCal3()        # a 라는 객체선언, fourcal2라고 하는 클래스를 사용하겠다 \n",
    "a.setdata(11,0)      # 앞의 클래스에서는 11/0 하면 에러 나온다\n",
    "a.div()"
   ]
  },
  {
   "cell_type": "code",
   "execution_count": 50,
   "metadata": {
    "colab": {
     "base_uri": "https://localhost:8080/"
    },
    "executionInfo": {
     "elapsed": 6822,
     "status": "ok",
     "timestamp": 1648617377819,
     "user": {
      "displayName": "생명과학과/조명재",
      "userId": "17829076087741631364"
     },
     "user_tz": -540
    },
    "id": "xc8eCimQNjGk",
    "outputId": "052a4283-c873-46ef-f055-e7f21350a915"
   },
   "outputs": [
    {
     "name": "stdout",
     "output_type": "stream",
     "text": [
      "금액을 입력하세요: 15000\n",
      "음료를 입력하세요: 콜라\n",
      "콜라를 가져가세요, 잔돈은 14000입니다\n",
      "{'price': 1000, 'stock': 4}\n"
     ]
    }
   ],
   "source": [
    "class Vmachine:\n",
    "  def __init__(self):\n",
    "    self.coke = {\"price\":1000, \"stock\":5}\n",
    "  def buycoke(self, money):\n",
    "    price= self.coke.get(\"price\")\n",
    "    stock= self.coke.get(\"stock\")\n",
    "    if money >= price :\n",
    "      if stock > 0:\n",
    "        print(\"콜라를 가져가세요, 잔돈은 {}입니다\".format(money-price))\n",
    "        stock -= 1\n",
    "        self.coke[\"stock\"] = stock\n",
    "      \n",
    "      else:\n",
    "        print(\"콜라가 품절입니다, {}를 가져가세요\".format(money))\n",
    "      \n",
    "      print(self.coke)\n",
    "    else:\n",
    "      print(\"돈을 더 넣으셔야 합니다\")\n",
    "\n",
    "vm = Vmachine()\n",
    "while True:\n",
    "  money = int(input(\"금액을 입력하세요: \"))\n",
    "  drink = str(input(\"음료를 입력하세요: \"))\n",
    "  if drink == \"콜라\":\n",
    "    vm.buycoke(money)\n",
    "    break"
   ]
  },
  {
   "cell_type": "markdown",
   "metadata": {
    "id": "r_1sE3dUQgiC"
   },
   "source": [
    "# 모듈"
   ]
  },
  {
   "cell_type": "code",
   "execution_count": 57,
   "metadata": {
    "executionInfo": {
     "elapsed": 2,
     "status": "ok",
     "timestamp": 1648617726418,
     "user": {
      "displayName": "생명과학과/조명재",
      "userId": "17829076087741631364"
     },
     "user_tz": -540
    },
    "id": "pA_hghoNRaLZ"
   },
   "outputs": [],
   "source": [
    "import datetime as dt"
   ]
  },
  {
   "cell_type": "code",
   "execution_count": 58,
   "metadata": {
    "executionInfo": {
     "elapsed": 4,
     "status": "ok",
     "timestamp": 1648617732395,
     "user": {
      "displayName": "생명과학과/조명재",
      "userId": "17829076087741631364"
     },
     "user_tz": -540
    },
    "id": "5FtIhl1lRcHV"
   },
   "outputs": [],
   "source": [
    "now = dt.datetime.now()"
   ]
  },
  {
   "cell_type": "code",
   "execution_count": 59,
   "metadata": {
    "colab": {
     "base_uri": "https://localhost:8080/"
    },
    "executionInfo": {
     "elapsed": 254,
     "status": "ok",
     "timestamp": 1648617734601,
     "user": {
      "displayName": "생명과학과/조명재",
      "userId": "17829076087741631364"
     },
     "user_tz": -540
    },
    "id": "l1SRq3hNRdol",
    "outputId": "1e2ffd72-bb9d-431b-8f1d-3f0fd77971b4"
   },
   "outputs": [
    {
     "name": "stdout",
     "output_type": "stream",
     "text": [
      "2022-03-30 05:22:12.015228\n"
     ]
    }
   ],
   "source": [
    "print(now)"
   ]
  },
  {
   "cell_type": "code",
   "execution_count": 72,
   "metadata": {
    "colab": {
     "base_uri": "https://localhost:8080/"
    },
    "executionInfo": {
     "elapsed": 8,
     "status": "ok",
     "timestamp": 1648618107758,
     "user": {
      "displayName": "생명과학과/조명재",
      "userId": "17829076087741631364"
     },
     "user_tz": -540
    },
    "id": "TqlJHsKGReki",
    "outputId": "eff0992a-8a79-4309-f09c-0769d93ef731"
   },
   "outputs": [
    {
     "data": {
      "text/plain": [
       "['__class__',\n",
       " '__delattr__',\n",
       " '__dict__',\n",
       " '__dir__',\n",
       " '__doc__',\n",
       " '__eq__',\n",
       " '__format__',\n",
       " '__ge__',\n",
       " '__getattribute__',\n",
       " '__gt__',\n",
       " '__hash__',\n",
       " '__init__',\n",
       " '__init_subclass__',\n",
       " '__le__',\n",
       " '__lt__',\n",
       " '__module__',\n",
       " '__ne__',\n",
       " '__new__',\n",
       " '__reduce__',\n",
       " '__reduce_ex__',\n",
       " '__repr__',\n",
       " '__setattr__',\n",
       " '__sizeof__',\n",
       " '__str__',\n",
       " '__subclasshook__',\n",
       " '__weakref__',\n",
       " 'add',\n",
       " 'div',\n",
       " 'mul',\n",
       " 'setdata',\n",
       " 'sub']"
      ]
     },
     "execution_count": 72,
     "metadata": {},
     "output_type": "execute_result"
    }
   ],
   "source": [
    "dir(datetime) #모듈이름을 넣으면 사용할 수 있는 함수 반환\n",
    "#정확히는 내장되어있는 메서드들을 반환하는 것이다.\n",
    "\n",
    "dir(FourCal3) #이렇게 보면 빠르게 이해 된다."
   ]
  },
  {
   "cell_type": "code",
   "execution_count": 65,
   "metadata": {
    "colab": {
     "base_uri": "https://localhost:8080/"
    },
    "executionInfo": {
     "elapsed": 3,
     "status": "ok",
     "timestamp": 1648618021646,
     "user": {
      "displayName": "생명과학과/조명재",
      "userId": "17829076087741631364"
     },
     "user_tz": -540
    },
    "id": "ffgLZZYzRfoE",
    "outputId": "f73bad20-64aa-4928-f256-07cdcf4b7936"
   },
   "outputs": [
    {
     "name": "stdout",
     "output_type": "stream",
     "text": [
      "2022-03-30 05:27:01.392905\n",
      "269 days, 18:32:58.606496\n"
     ]
    }
   ],
   "source": [
    "today = dt.datetime.today()\n",
    "print(today)\n",
    "\n",
    "xmas = dt.datetime(2022, 12, 25)\n",
    "lefttime = xmas - dt.datetime.today() #실시간으로 변하기때문에 이렇게 써야함\n",
    "print(lefttime)"
   ]
  },
  {
   "cell_type": "code",
   "execution_count": 73,
   "metadata": {
    "executionInfo": {
     "elapsed": 302,
     "status": "ok",
     "timestamp": 1648618287510,
     "user": {
      "displayName": "생명과학과/조명재",
      "userId": "17829076087741631364"
     },
     "user_tz": -540
    },
    "id": "didtGmtTSE01"
   },
   "outputs": [],
   "source": [
    "#모듈의 생성 : 모듈이름.py로 저장한 다음 main에서\n",
    "#import 모듈 \n",
    "#from 모듈 import (함수, 클래스)\n",
    "#불러올 때는 (모듈이름).function()\n",
    "# a = (모듈이름).(클래스이름)() 이런식으로 사용가능하다\n",
    "#from (모듈이름) import * :모두 불러오기"
   ]
  },
  {
   "cell_type": "code",
   "execution_count": 80,
   "metadata": {
    "colab": {
     "base_uri": "https://localhost:8080/"
    },
    "executionInfo": {
     "elapsed": 312,
     "status": "ok",
     "timestamp": 1648618449863,
     "user": {
      "displayName": "생명과학과/조명재",
      "userId": "17829076087741631364"
     },
     "user_tz": -540
    },
    "id": "bF_81ttrTq1y",
    "outputId": "e30de5d2-f1db-4e07-da08-b6f0fbf6f30c"
   },
   "outputs": [
    {
     "name": "stdout",
     "output_type": "stream",
     "text": [
      "<class 'datetime.datetime'>\n",
      "2022\n",
      "3\n",
      "30\n",
      "5\n",
      "34\n",
      "2022-03-30 05:34:09.449558\n"
     ]
    }
   ],
   "source": [
    "from datetime import datetime\n",
    "now= datetime.now()\n",
    "print(type(now)) #클래스이기 때문에.으로 접근하면 된다\n",
    "print(now.year)\n",
    "print(now.month)\n",
    "print(now.day)\n",
    "print(now.hour)\n",
    "print(now.minute)\n",
    "print(now)"
   ]
  },
  {
   "cell_type": "code",
   "execution_count": 76,
   "metadata": {
    "colab": {
     "base_uri": "https://localhost:8080/"
    },
    "executionInfo": {
     "elapsed": 3,
     "status": "ok",
     "timestamp": 1648618313229,
     "user": {
      "displayName": "생명과학과/조명재",
      "userId": "17829076087741631364"
     },
     "user_tz": -540
    },
    "id": "Ffgw8rEWTswD",
    "outputId": "6eb32758-3243-4069-8f04-f39c58c48516"
   },
   "outputs": [
    {
     "name": "stdout",
     "output_type": "stream",
     "text": [
      "                                  2022\n",
      "\n",
      "      January                   February                   March\n",
      "Mo Tu We Th Fr Sa Su      Mo Tu We Th Fr Sa Su      Mo Tu We Th Fr Sa Su\n",
      "                1  2          1  2  3  4  5  6          1  2  3  4  5  6\n",
      " 3  4  5  6  7  8  9       7  8  9 10 11 12 13       7  8  9 10 11 12 13\n",
      "10 11 12 13 14 15 16      14 15 16 17 18 19 20      14 15 16 17 18 19 20\n",
      "17 18 19 20 21 22 23      21 22 23 24 25 26 27      21 22 23 24 25 26 27\n",
      "24 25 26 27 28 29 30      28                        28 29 30 31\n",
      "31\n",
      "\n",
      "       April                      May                       June\n",
      "Mo Tu We Th Fr Sa Su      Mo Tu We Th Fr Sa Su      Mo Tu We Th Fr Sa Su\n",
      "             1  2  3                         1             1  2  3  4  5\n",
      " 4  5  6  7  8  9 10       2  3  4  5  6  7  8       6  7  8  9 10 11 12\n",
      "11 12 13 14 15 16 17       9 10 11 12 13 14 15      13 14 15 16 17 18 19\n",
      "18 19 20 21 22 23 24      16 17 18 19 20 21 22      20 21 22 23 24 25 26\n",
      "25 26 27 28 29 30         23 24 25 26 27 28 29      27 28 29 30\n",
      "                          30 31\n",
      "\n",
      "        July                     August                  September\n",
      "Mo Tu We Th Fr Sa Su      Mo Tu We Th Fr Sa Su      Mo Tu We Th Fr Sa Su\n",
      "             1  2  3       1  2  3  4  5  6  7                1  2  3  4\n",
      " 4  5  6  7  8  9 10       8  9 10 11 12 13 14       5  6  7  8  9 10 11\n",
      "11 12 13 14 15 16 17      15 16 17 18 19 20 21      12 13 14 15 16 17 18\n",
      "18 19 20 21 22 23 24      22 23 24 25 26 27 28      19 20 21 22 23 24 25\n",
      "25 26 27 28 29 30 31      29 30 31                  26 27 28 29 30\n",
      "\n",
      "      October                   November                  December\n",
      "Mo Tu We Th Fr Sa Su      Mo Tu We Th Fr Sa Su      Mo Tu We Th Fr Sa Su\n",
      "                1  2          1  2  3  4  5  6                1  2  3  4\n",
      " 3  4  5  6  7  8  9       7  8  9 10 11 12 13       5  6  7  8  9 10 11\n",
      "10 11 12 13 14 15 16      14 15 16 17 18 19 20      12 13 14 15 16 17 18\n",
      "17 18 19 20 21 22 23      21 22 23 24 25 26 27      19 20 21 22 23 24 25\n",
      "24 25 26 27 28 29 30      28 29 30                  26 27 28 29 30 31\n",
      "31\n",
      "\n"
     ]
    }
   ],
   "source": [
    "import calendar\n",
    "print(calendar.calendar(2022))"
   ]
  },
  {
   "cell_type": "code",
   "execution_count": 81,
   "metadata": {
    "colab": {
     "base_uri": "https://localhost:8080/"
    },
    "executionInfo": {
     "elapsed": 247,
     "status": "ok",
     "timestamp": 1648618480583,
     "user": {
      "displayName": "생명과학과/조명재",
      "userId": "17829076087741631364"
     },
     "user_tz": -540
    },
    "id": "vtbaam7HTuFj",
    "outputId": "ac66805e-ec35-4dad-eabc-028fa7c60c89"
   },
   "outputs": [
    {
     "name": "stdout",
     "output_type": "stream",
     "text": [
      "    January 2020\n",
      "Mo Tu We Th Fr Sa Su\n",
      "       1  2  3  4  5\n",
      " 6  7  8  9 10 11 12\n",
      "13 14 15 16 17 18 19\n",
      "20 21 22 23 24 25 26\n",
      "27 28 29 30 31\n",
      "None\n"
     ]
    }
   ],
   "source": [
    "print(calendar.prmonth(2020, 1))   # 년도, 월 "
   ]
  },
  {
   "cell_type": "code",
   "execution_count": 82,
   "metadata": {
    "colab": {
     "base_uri": "https://localhost:8080/"
    },
    "executionInfo": {
     "elapsed": 2,
     "status": "ok",
     "timestamp": 1648618486309,
     "user": {
      "displayName": "생명과학과/조명재",
      "userId": "17829076087741631364"
     },
     "user_tz": -540
    },
    "id": "JEZ9I76hUaAv",
    "outputId": "a0bcfcfa-c337-4f01-cf80-2cb8e5a50f55"
   },
   "outputs": [
    {
     "name": "stdout",
     "output_type": "stream",
     "text": [
      "2\n"
     ]
    }
   ],
   "source": [
    "print(calendar.weekday(2021,12, 8))    # 요일출력: 월 0, 화 1, 수 2 .....일 6"
   ]
  },
  {
   "cell_type": "code",
   "execution_count": 83,
   "metadata": {
    "colab": {
     "base_uri": "https://localhost:8080/"
    },
    "executionInfo": {
     "elapsed": 2557,
     "status": "ok",
     "timestamp": 1648618498588,
     "user": {
      "displayName": "생명과학과/조명재",
      "userId": "17829076087741631364"
     },
     "user_tz": -540
    },
    "id": "kmGvtc-IUbgM",
    "outputId": "f6082c4c-176d-45e3-8329-67f2d7dcea02"
   },
   "outputs": [
    {
     "name": "stdout",
     "output_type": "stream",
     "text": [
      "b'\\n\\n\\n<!doctype html>\\n<html lang=\"ko\">\\n<head>\\n<title>\\xec\\x84\\xb1\\xea\\xb7\\xa0\\xea\\xb4\\x80\\xeb\\x8c\\x80\\xed\\x95\\x99\\xea\\xb5\\x90</title>\\n<link rel=\"shortcut ico'\n"
     ]
    }
   ],
   "source": [
    "from urllib import request\n",
    "#html을 불러온다. Request는 굉장히 자주 쓰인다(크롤링)\n",
    "\n",
    "target= request.urlopen(\"https://www.skku.edu/skku/index.do\")\n",
    "content= target.read()\n",
    "print(content[:100])"
   ]
  },
  {
   "cell_type": "code",
   "execution_count": 84,
   "metadata": {
    "colab": {
     "base_uri": "https://localhost:8080/"
    },
    "executionInfo": {
     "elapsed": 3,
     "status": "ok",
     "timestamp": 1648618530543,
     "user": {
      "displayName": "생명과학과/조명재",
      "userId": "17829076087741631364"
     },
     "user_tz": -540
    },
    "id": "QtsS6xDdUd2q",
    "outputId": "bc605439-9d25-49f8-c5f6-56f41044881a"
   },
   "outputs": [
    {
     "name": "stdout",
     "output_type": "stream",
     "text": [
      "3.141592653589793\n",
      "-0.5440211108893698\n",
      "-0.8390715290764524\n"
     ]
    }
   ],
   "source": [
    "import math   # math 모듈이 가지고 있는 여러가지 변수와 함수를 사용할 수 있다\n",
    "print(math.pi)\n",
    "print(math.sin(10))\n",
    "print(math.cos(10))"
   ]
  },
  {
   "cell_type": "code",
   "execution_count": 85,
   "metadata": {
    "colab": {
     "base_uri": "https://localhost:8080/"
    },
    "executionInfo": {
     "elapsed": 2,
     "status": "ok",
     "timestamp": 1648618537689,
     "user": {
      "displayName": "생명과학과/조명재",
      "userId": "17829076087741631364"
     },
     "user_tz": -540
    },
    "id": "ZDGU-O5NUkHN",
    "outputId": "ce72d9b8-bb17-4dbe-c9ca-710348d98c1d"
   },
   "outputs": [
    {
     "name": "stdout",
     "output_type": "stream",
     "text": [
      "['apple']\n"
     ]
    }
   ],
   "source": [
    "import random\n",
    "a= ['apple', 'orange','kiwi', 'banana']\n",
    "ans=[]\n",
    "ans.append(random.choice(a))\n",
    "print(ans)\n",
    "# 리스트에 있는 원소들 중 랜덤하게 추출하여 return해준다 "
   ]
  },
  {
   "cell_type": "code",
   "execution_count": null,
   "metadata": {
    "id": "OxuN5h5LUoAC"
   },
   "outputs": [],
   "source": []
  }
 ],
 "metadata": {
  "colab": {
   "authorship_tag": "ABX9TyN7y3VAg5XEf2Qin8dVfuPP",
   "collapsed_sections": [],
   "name": "0328-0330.ipynb",
   "provenance": []
  },
  "kernelspec": {
   "display_name": "Python 3 (ipykernel)",
   "language": "python",
   "name": "python3"
  },
  "language_info": {
   "codemirror_mode": {
    "name": "ipython",
    "version": 3
   },
   "file_extension": ".py",
   "mimetype": "text/x-python",
   "name": "python",
   "nbconvert_exporter": "python",
   "pygments_lexer": "ipython3",
   "version": "3.9.7"
  }
 },
 "nbformat": 4,
 "nbformat_minor": 1
}
