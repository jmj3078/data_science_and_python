{
 "cells": [
  {
   "cell_type": "code",
   "execution_count": 1,
   "id": "b079ba41",
   "metadata": {},
   "outputs": [],
   "source": [
    "from bs4 import BeautifulSoup\n",
    "from selenium import webdriver\n",
    "import time\n",
    "import lxml "
   ]
  },
  {
   "cell_type": "code",
   "execution_count": 2,
   "id": "8b652446",
   "metadata": {},
   "outputs": [],
   "source": [
    "driver = webdriver.Chrome('webcrawling/chromedriver')\n",
    "driver.get(\"https://www.starbucks.co.kr/store/store_map.do?disp=locale\")"
   ]
  },
  {
   "cell_type": "code",
   "execution_count": 3,
   "id": "5b72e5ea",
   "metadata": {},
   "outputs": [],
   "source": [
    "loca = driver.find_element_by_class_name('loca_search')\n",
    "loca.click()"
   ]
  },
  {
   "cell_type": "code",
   "execution_count": 4,
   "id": "7b1e9f21",
   "metadata": {},
   "outputs": [],
   "source": [
    "sido = driver.find_element_by_class_name('sido_arae_box')\n",
    "li = sido.find_elements_by_tag_name('li')\n",
    "li[0].click()"
   ]
  },
  {
   "cell_type": "code",
   "execution_count": 5,
   "id": "269c7e42",
   "metadata": {},
   "outputs": [
    {
     "ename": "IndexError",
     "evalue": "list index out of range",
     "output_type": "error",
     "traceback": [
      "\u001b[0;31m---------------------------------------------------------------------------\u001b[0m",
      "\u001b[0;31mIndexError\u001b[0m                                Traceback (most recent call last)",
      "\u001b[0;32m/var/folders/c2/hfgvv7gx5wn44rgqtk43khyw0000gn/T/ipykernel_99447/1014501271.py\u001b[0m in \u001b[0;36m<module>\u001b[0;34m\u001b[0m\n\u001b[1;32m      1\u001b[0m \u001b[0mgugun\u001b[0m \u001b[0;34m=\u001b[0m \u001b[0mdriver\u001b[0m\u001b[0;34m.\u001b[0m\u001b[0mfind_element_by_class_name\u001b[0m\u001b[0;34m(\u001b[0m\u001b[0;34m'gugun_arae_box'\u001b[0m\u001b[0;34m)\u001b[0m\u001b[0;34m\u001b[0m\u001b[0;34m\u001b[0m\u001b[0m\n\u001b[1;32m      2\u001b[0m \u001b[0mli\u001b[0m\u001b[0;34m=\u001b[0m \u001b[0mgugun\u001b[0m\u001b[0;34m.\u001b[0m\u001b[0mfind_elements_by_tag_name\u001b[0m\u001b[0;34m(\u001b[0m\u001b[0;34m'li'\u001b[0m\u001b[0;34m)\u001b[0m\u001b[0;34m\u001b[0m\u001b[0;34m\u001b[0m\u001b[0m\n\u001b[0;32m----> 3\u001b[0;31m \u001b[0mli\u001b[0m\u001b[0;34m[\u001b[0m\u001b[0;36m0\u001b[0m\u001b[0;34m]\u001b[0m\u001b[0;34m.\u001b[0m\u001b[0mclick\u001b[0m\u001b[0;34m(\u001b[0m\u001b[0;34m)\u001b[0m\u001b[0;34m\u001b[0m\u001b[0;34m\u001b[0m\u001b[0m\n\u001b[0m\u001b[1;32m      4\u001b[0m \u001b[0mtime\u001b[0m\u001b[0;34m.\u001b[0m\u001b[0msleep\u001b[0m\u001b[0;34m(\u001b[0m\u001b[0;36m20\u001b[0m\u001b[0;34m)\u001b[0m\u001b[0;34m\u001b[0m\u001b[0;34m\u001b[0m\u001b[0m\n",
      "\u001b[0;31mIndexError\u001b[0m: list index out of range"
     ]
    }
   ],
   "source": [
    "gugun = driver.find_element_by_class_name('gugun_arae_box')\n",
    "li= gugun.find_elements_by_tag_name('li')\n",
    "li[0].click()\n",
    "time.sleep(20)"
   ]
  },
  {
   "cell_type": "code",
   "execution_count": null,
   "id": "6cec2036",
   "metadata": {},
   "outputs": [],
   "source": [
    "source = driver.page_source\n",
    "bs = BeautifulSoup(source, 'lxml')\n",
    "entire = bs.find('ul', class_= 'quickSearchResultBoxSidoGugun')"
   ]
  },
  {
   "cell_type": "code",
   "execution_count": null,
   "id": "7b4b637e",
   "metadata": {},
   "outputs": [],
   "source": [
    "starbucks_list = entire.find_all('li')"
   ]
  },
  {
   "cell_type": "code",
   "execution_count": null,
   "id": "f486ccd8",
   "metadata": {},
   "outputs": [],
   "source": [
    "starbucks_list"
   ]
  },
  {
   "cell_type": "code",
   "execution_count": null,
   "id": "65280bef",
   "metadata": {},
   "outputs": [],
   "source": [
    "print(\"매장 수 :\", len(starbucks_list))\n",
    "for stores in starbucks_list:\n",
    "    print(\"매장명: \",stores.find('strong').text,\n",
    "         \"주소: \",stores.find('p').text)"
   ]
  },
  {
   "cell_type": "code",
   "execution_count": null,
   "id": "f483c00c",
   "metadata": {},
   "outputs": [],
   "source": [
    "sb_list=[]\n",
    "for stores in starbucks_list:\n",
    "    row = [stores.find('strong').text, stores.find('p').text]\n",
    "    sb_list.append(row)\n",
    "    \n",
    "print(sb_list)"
   ]
  },
  {
   "cell_type": "code",
   "execution_count": null,
   "id": "0561c32a",
   "metadata": {},
   "outputs": [],
   "source": [
    "import pandas as pd"
   ]
  },
  {
   "cell_type": "code",
   "execution_count": null,
   "id": "7ea34dd9",
   "metadata": {},
   "outputs": [],
   "source": [
    "sb=. pd.DataFrame(data= sb_list,\n",
    "                 columns = ['name', 'address'])"
   ]
  },
  {
   "cell_type": "code",
   "execution_count": null,
   "id": "8b9ae99d",
   "metadata": {},
   "outputs": [],
   "source": [
    "import pandas as pd\n",
    "import folium"
   ]
  },
  {
   "cell_type": "code",
   "execution_count": null,
   "id": "81449b80",
   "metadata": {},
   "outputs": [],
   "source": [
    "sb = pd.read_csv('webcrawling/sb_1.csv')"
   ]
  }
 ],
 "metadata": {
  "kernelspec": {
   "display_name": "Python 3 (ipykernel)",
   "language": "python",
   "name": "python3"
  },
  "language_info": {
   "codemirror_mode": {
    "name": "ipython",
    "version": 3
   },
   "file_extension": ".py",
   "mimetype": "text/x-python",
   "name": "python",
   "nbconvert_exporter": "python",
   "pygments_lexer": "ipython3",
   "version": "3.9.7"
  }
 },
 "nbformat": 4,
 "nbformat_minor": 5
}
